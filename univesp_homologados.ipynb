{
 "cells": [
  {
   "cell_type": "markdown",
   "metadata": {},
   "source": [
    "# Estudo sobre o Vestibular Univesp"
   ]
  },
  {
   "cell_type": "markdown",
   "metadata": {},
   "source": [
    "Olá amigos, tudo bem? \n",
    "\n",
    "Como falei há alguns dias atrás aqui, estou buscando cursos de formação na área de Ciência de Dados para me especializar no tema. Buscando na internet algumas opções, fiquei sabendo sobre a [**UNIVESP (Universidade Virtual do Estado de São Paulo).**](http://vestibular.univesp.br/)\n",
    "\n",
    "Nesse ano, casualmente, a universidade abriu processo seletivo para o vestibular em [***Bacharelado em Ciência de Dados***](https://univesp.br/cursos/bacharel-em-ciencia-de-dados). De acordo com a grade curricular, o curso inicia com conteúdos de cálculo básico e avança até a teoria estatística para o desenvolvimento de modelos.\n",
    "\n",
    "Fiquei muito curioso a respeito do curso. Embora a duração do curso seja quatro anos (tradicional de um curso de bacharelado), um pouco mais longo que havia me planejado, achei que poderia ser algo interessante para uma formação ainda mais solidificada. \n",
    "\n",
    "Por isso decidi me inscrever. [A prova ocorreu no dia 01/12/19](https://univesp.br/noticias/prova-do-vestibular-univesp-2020-acontece-neste-domingo-01-slash-12#.Xe-k7JNKh48), e como todo vestibular convencional, o exame será constituído de duas partes: redação e prova com 56 (cinquenta e seis) questões, cada uma com 5 (cinco) alternativas (A, B, C, D e E), das disciplinas de Matemática, Português e Literatura Brasileira, Inglês, História, Geografia, Química, Biologia e Física.\n",
    "\n",
    "Ainda que eu tenha dificuldades severas com conteúdos de química e biologia, decidi arriscar focando apenas em física e matemática (minhas paixões). Português foi aquela revisão geral básica, mas principalmente, decidi focar na redação.\n",
    "\n",
    "De acordo com o gabarito oficial, eu acertei aproximadamente 68% da prova. É, pois é, poderia ter ido melhor, mas considerando o tempo que tive para me preparar, confesso que fiquei até feliz com o resultado. Com base a algumas informações disponíveis no site  da UNIVESP e na minha porcentagem de acerto, vou tentar identificar a \"probabilidade\" de eu passar ou não no concurso. \n",
    "\n",
    "O estudo completo pode ser encontrado em: xyz"
   ]
  },
  {
   "cell_type": "markdown",
   "metadata": {},
   "source": [
    "Primeiro, vamos importar algumas bibliotecas."
   ]
  },
  {
   "cell_type": "code",
   "execution_count": 37,
   "metadata": {
    "ExecuteTime": {
     "end_time": "2019-12-12T18:42:32.321190Z",
     "start_time": "2019-12-12T18:42:32.314025Z"
    }
   },
   "outputs": [],
   "source": [
    "import requests\n",
    "import pandas as pd\n",
    "import matplotlib.pyplot as plt\n",
    "import googlemaps\n",
    "import mplleaflet"
   ]
  },
  {
   "cell_type": "markdown",
   "metadata": {},
   "source": [
    "No site oficial do vestibular é possível encontrar a [lista de inscrições homologadas.](http://vestibular.univesp.br/3nGhChKn3_Homologados/). Usando o json, vou trazer os dados como um DataFrame."
   ]
  },
  {
   "cell_type": "code",
   "execution_count": 38,
   "metadata": {
    "ExecuteTime": {
     "end_time": "2019-12-12T18:42:35.113930Z",
     "start_time": "2019-12-12T18:42:33.155755Z"
    },
    "scrolled": false
   },
   "outputs": [
    {
     "data": {
      "text/html": [
       "<div>\n",
       "<style scoped>\n",
       "    .dataframe tbody tr th:only-of-type {\n",
       "        vertical-align: middle;\n",
       "    }\n",
       "\n",
       "    .dataframe tbody tr th {\n",
       "        vertical-align: top;\n",
       "    }\n",
       "\n",
       "    .dataframe thead th {\n",
       "        text-align: right;\n",
       "    }\n",
       "</style>\n",
       "<table border=\"1\" class=\"dataframe\">\n",
       "  <thead>\n",
       "    <tr style=\"text-align: right;\">\n",
       "      <th></th>\n",
       "      <th>Eixo</th>\n",
       "      <th>Inscricao</th>\n",
       "      <th>Nome</th>\n",
       "      <th>Polo_1</th>\n",
       "    </tr>\n",
       "  </thead>\n",
       "  <tbody>\n",
       "    <tr>\n",
       "      <th>0</th>\n",
       "      <td>EIXO DE LICENCIATURA</td>\n",
       "      <td>1091597-9</td>\n",
       "      <td>...CLAUDENILSON EUZEBIO DE SOUZA</td>\n",
       "      <td>LIMEIRA</td>\n",
       "    </tr>\n",
       "    <tr>\n",
       "      <th>1</th>\n",
       "      <td>EIXO DE COMPUTAÇÃO</td>\n",
       "      <td>1126620-1</td>\n",
       "      <td>06004835331</td>\n",
       "      <td>BRODOWSKI</td>\n",
       "    </tr>\n",
       "    <tr>\n",
       "      <th>2</th>\n",
       "      <td>EIXO DE LICENCIATURA</td>\n",
       "      <td>1106360-8</td>\n",
       "      <td>07346793609</td>\n",
       "      <td>AREALVA</td>\n",
       "    </tr>\n",
       "    <tr>\n",
       "      <th>3</th>\n",
       "      <td>EIXO DE COMPUTAÇÃO</td>\n",
       "      <td>1090166-7</td>\n",
       "      <td>08557666977</td>\n",
       "      <td>EMBU DAS ARTES</td>\n",
       "    </tr>\n",
       "    <tr>\n",
       "      <th>4</th>\n",
       "      <td>EIXO DE COMPUTAÇÃO</td>\n",
       "      <td>1007706-6</td>\n",
       "      <td>11462904629</td>\n",
       "      <td>JAGUARIÚNA</td>\n",
       "    </tr>\n",
       "  </tbody>\n",
       "</table>\n",
       "</div>"
      ],
      "text/plain": [
       "                   Eixo  Inscricao                              Nome  \\\n",
       "0  EIXO DE LICENCIATURA  1091597-9  ...CLAUDENILSON EUZEBIO DE SOUZA   \n",
       "1    EIXO DE COMPUTAÇÃO  1126620-1                       06004835331   \n",
       "2  EIXO DE LICENCIATURA  1106360-8                       07346793609   \n",
       "3    EIXO DE COMPUTAÇÃO  1090166-7                       08557666977   \n",
       "4    EIXO DE COMPUTAÇÃO  1007706-6                       11462904629   \n",
       "\n",
       "           Polo_1  \n",
       "0         LIMEIRA  \n",
       "1       BRODOWSKI  \n",
       "2         AREALVA  \n",
       "3  EMBU DAS ARTES  \n",
       "4      JAGUARIÚNA  "
      ]
     },
     "execution_count": 38,
     "metadata": {},
     "output_type": "execute_result"
    }
   ],
   "source": [
    "url = \"http://vestibular.univesp.br/3nGhChKn3_Homologados/db/UNIVESP-homologados.json?_=1575523516238\"\n",
    "data = requests.get(url)\n",
    "datastore = data.json()\n",
    "univesp_homologados = pd.DataFrame(datastore[\"RECORDS\"])\n",
    "univesp_homologados.head()"
   ]
  },
  {
   "cell_type": "markdown",
   "metadata": {},
   "source": [
    "O DataFrame conta com quatro colunas\n",
    "1. **'Eixo'** - Qual curso\n",
    "1. **'Inscricao'** - Número do inscrito\n",
    "1. **'Nome'** - Nome do candidato\n",
    "1. **'Polo_1'** - Polo onde há vagas"
   ]
  },
  {
   "cell_type": "code",
   "execution_count": 39,
   "metadata": {
    "ExecuteTime": {
     "end_time": "2019-12-12T18:42:35.573716Z",
     "start_time": "2019-12-12T18:42:35.565699Z"
    }
   },
   "outputs": [
    {
     "data": {
      "text/plain": [
       "(49500, 4)"
      ]
     },
     "execution_count": 39,
     "metadata": {},
     "output_type": "execute_result"
    }
   ],
   "source": [
    "univesp_homologados.shape"
   ]
  },
  {
   "cell_type": "markdown",
   "metadata": {},
   "source": [
    "Sendo assim podemos ver que houve 49.500 inscritos no vestibular. Considerando que minha inscrição foi para o eixo de computação, vou filtrar apenas esses candidatos."
   ]
  },
  {
   "cell_type": "code",
   "execution_count": 40,
   "metadata": {
    "ExecuteTime": {
     "end_time": "2019-12-12T18:42:36.043606Z",
     "start_time": "2019-12-12T18:42:36.020486Z"
    }
   },
   "outputs": [
    {
     "data": {
      "text/plain": [
       "(19457, 4)"
      ]
     },
     "execution_count": 40,
     "metadata": {},
     "output_type": "execute_result"
    }
   ],
   "source": [
    "candidatos = univesp_homologados[univesp_homologados['Eixo'] == 'EIXO DE COMPUTAÇÃO']\n",
    "candidatos = candidatos.reset_index(drop=True)\n",
    "candidatos.shape"
   ]
  },
  {
   "cell_type": "markdown",
   "metadata": {
    "ExecuteTime": {
     "end_time": "2019-12-10T01:21:47.593938Z",
     "start_time": "2019-12-10T01:21:47.587287Z"
    }
   },
   "source": [
    "Sendo assim podemos ver que houve 49.500 inscritos no vestibular para computação, mas no primeiro plot do DataFrame me chamou atenção que há candidatos que preencheram no campo nome algum número (imagino que deva ser um CPF). Isso me despertou a vontade de ver a distribuição de quantidade de nomes por candidatos."
   ]
  },
  {
   "cell_type": "code",
   "execution_count": 41,
   "metadata": {
    "ExecuteTime": {
     "end_time": "2019-12-12T18:42:36.875263Z",
     "start_time": "2019-12-12T18:42:36.499281Z"
    }
   },
   "outputs": [
    {
     "data": {
      "text/plain": [
       "<matplotlib.axes._subplots.AxesSubplot at 0x11b9c9128>"
      ]
     },
     "execution_count": 41,
     "metadata": {},
     "output_type": "execute_result"
    },
    {
     "data": {
      "image/png": "[encoded data removed]",
      "text/plain": [
       "<Figure size 432x288 with 1 Axes>"
      ]
     },
     "metadata": {},
     "output_type": "display_data"
    }
   ],
   "source": [
    "candidatos['Nome'].str.split().apply(len).hist(bins=8)"
   ]
  },
  {
   "cell_type": "markdown",
   "metadata": {},
   "source": [
    "É possível perceber que temos aproximadamente 110 nomes com apenas 1 palavra. Essas inscrições podemos considerar como inválidas para a análise. Vamos removê-las."
   ]
  },
  {
   "cell_type": "code",
   "execution_count": 42,
   "metadata": {
    "ExecuteTime": {
     "end_time": "2019-12-12T18:42:37.477032Z",
     "start_time": "2019-12-12T18:42:37.408413Z"
    }
   },
   "outputs": [
    {
     "data": {
      "text/plain": [
       "(19348, 4)"
      ]
     },
     "execution_count": 42,
     "metadata": {},
     "output_type": "execute_result"
    }
   ],
   "source": [
    "def f(x):    return len(x.split())\n",
    "candidatos = candidatos[candidatos['Nome'].apply(f) > 1].sort_values(by=['Nome'])\n",
    "candidatos.shape"
   ]
  },
  {
   "cell_type": "markdown",
   "metadata": {},
   "source": [
    "Podemos ver agora que para o eixo computação, há mais de 19mil inscritos. <br>\n",
    "Vamos analisar a quantidade de inscritos vs. quantidade de vagas. Para isso, inicialmente vou criar um novo dataframe e contar quantos inscritos houveram por polo."
   ]
  },
  {
   "cell_type": "code",
   "execution_count": 43,
   "metadata": {
    "ExecuteTime": {
     "end_time": "2019-12-12T18:42:38.300085Z",
     "start_time": "2019-12-12T18:42:38.265997Z"
    },
    "scrolled": false
   },
   "outputs": [
    {
     "data": {
      "text/html": [
       "<div>\n",
       "<style scoped>\n",
       "    .dataframe tbody tr th:only-of-type {\n",
       "        vertical-align: middle;\n",
       "    }\n",
       "\n",
       "    .dataframe tbody tr th {\n",
       "        vertical-align: top;\n",
       "    }\n",
       "\n",
       "    .dataframe thead th {\n",
       "        text-align: right;\n",
       "    }\n",
       "</style>\n",
       "<table border=\"1\" class=\"dataframe\">\n",
       "  <thead>\n",
       "    <tr style=\"text-align: right;\">\n",
       "      <th></th>\n",
       "      <th>POLO</th>\n",
       "      <th>INSCRITOS</th>\n",
       "    </tr>\n",
       "  </thead>\n",
       "  <tbody>\n",
       "    <tr>\n",
       "      <th>0</th>\n",
       "      <td>ADAMANTINA</td>\n",
       "      <td>23</td>\n",
       "    </tr>\n",
       "    <tr>\n",
       "      <th>1</th>\n",
       "      <td>AGUAÍ</td>\n",
       "      <td>22</td>\n",
       "    </tr>\n",
       "    <tr>\n",
       "      <th>2</th>\n",
       "      <td>AGUDOS</td>\n",
       "      <td>25</td>\n",
       "    </tr>\n",
       "    <tr>\n",
       "      <th>3</th>\n",
       "      <td>ALTINÓPOLIS</td>\n",
       "      <td>17</td>\n",
       "    </tr>\n",
       "    <tr>\n",
       "      <th>4</th>\n",
       "      <td>ALUMÍNIO</td>\n",
       "      <td>42</td>\n",
       "    </tr>\n",
       "  </tbody>\n",
       "</table>\n",
       "</div>"
      ],
      "text/plain": [
       "          POLO  INSCRITOS\n",
       "0   ADAMANTINA         23\n",
       "1        AGUAÍ         22\n",
       "2       AGUDOS         25\n",
       "3  ALTINÓPOLIS         17\n",
       "4     ALUMÍNIO         42"
      ]
     },
     "execution_count": 43,
     "metadata": {},
     "output_type": "execute_result"
    }
   ],
   "source": [
    "candidatos_polo = candidatos.groupby('Polo_1').count().reset_index()\n",
    "candidatos_polo = candidatos_polo[['Polo_1', 'Eixo']]\n",
    "candidatos_polo.columns = ['POLO', 'INSCRITOS']\n",
    "candidatos_polo.head()"
   ]
  },
  {
   "cell_type": "markdown",
   "metadata": {},
   "source": [
    "Isso feito, vamos buscar do arquivo `polos.csv` as informações de ['POLO', 'CIDADE', 'ENDEREÇO', 'NUMERO', 'BAIRRO', 'CEP', 'VAGAS']. <br>\n",
    "Essas informações foram adquiridas através de um **crawler**, que pode ser encontrado nesse projeto."
   ]
  },
  {
   "cell_type": "code",
   "execution_count": 44,
   "metadata": {
    "ExecuteTime": {
     "end_time": "2019-12-12T18:42:39.323042Z",
     "start_time": "2019-12-12T18:42:39.272351Z"
    }
   },
   "outputs": [
    {
     "data": {
      "text/html": [
       "<div>\n",
       "<style scoped>\n",
       "    .dataframe tbody tr th:only-of-type {\n",
       "        vertical-align: middle;\n",
       "    }\n",
       "\n",
       "    .dataframe tbody tr th {\n",
       "        vertical-align: top;\n",
       "    }\n",
       "\n",
       "    .dataframe thead th {\n",
       "        text-align: right;\n",
       "    }\n",
       "</style>\n",
       "<table border=\"1\" class=\"dataframe\">\n",
       "  <thead>\n",
       "    <tr style=\"text-align: right;\">\n",
       "      <th></th>\n",
       "      <th>polo</th>\n",
       "      <th>vagas</th>\n",
       "      <th>endereco</th>\n",
       "      <th>lat</th>\n",
       "      <th>lng</th>\n",
       "      <th>distance</th>\n",
       "    </tr>\n",
       "  </thead>\n",
       "  <tbody>\n",
       "    <tr>\n",
       "      <th>0</th>\n",
       "      <td>ADAMANTINA</td>\n",
       "      <td>10</td>\n",
       "      <td>Alameda dos Expedicionários, 864 - Centro CEP:...</td>\n",
       "      <td>-21.684933</td>\n",
       "      <td>-51.078594</td>\n",
       "      <td>576702.0</td>\n",
       "    </tr>\n",
       "    <tr>\n",
       "      <th>1</th>\n",
       "      <td>AGUAÍ</td>\n",
       "      <td>10</td>\n",
       "      <td>Av. Olinda Silveira Cruz Braga, 200 - Parque I...</td>\n",
       "      <td>-22.059098</td>\n",
       "      <td>-46.982530</td>\n",
       "      <td>189028.0</td>\n",
       "    </tr>\n",
       "    <tr>\n",
       "      <th>2</th>\n",
       "      <td>AGUDOS</td>\n",
       "      <td>10</td>\n",
       "      <td>R. João Pessoa, 2 - Professor Simões CEP: 1712...</td>\n",
       "      <td>-7.119496</td>\n",
       "      <td>-34.845012</td>\n",
       "      <td>2786649.0</td>\n",
       "    </tr>\n",
       "    <tr>\n",
       "      <th>3</th>\n",
       "      <td>ALTINÓPOLIS</td>\n",
       "      <td>10</td>\n",
       "      <td>R. Alagoas, 248 - Vila Maria CEP: 14350-000</td>\n",
       "      <td>-21.019556</td>\n",
       "      <td>-47.374682</td>\n",
       "      <td>327717.0</td>\n",
       "    </tr>\n",
       "    <tr>\n",
       "      <th>4</th>\n",
       "      <td>ALUMÍNIO</td>\n",
       "      <td>10</td>\n",
       "      <td>Av. Senador José Ermírio de Moraes, 798 - Vila...</td>\n",
       "      <td>-23.532909</td>\n",
       "      <td>-47.255018</td>\n",
       "      <td>78107.0</td>\n",
       "    </tr>\n",
       "  </tbody>\n",
       "</table>\n",
       "</div>"
      ],
      "text/plain": [
       "          polo  vagas                                           endereco  \\\n",
       "0   ADAMANTINA     10  Alameda dos Expedicionários, 864 - Centro CEP:...   \n",
       "1        AGUAÍ     10  Av. Olinda Silveira Cruz Braga, 200 - Parque I...   \n",
       "2       AGUDOS     10  R. João Pessoa, 2 - Professor Simões CEP: 1712...   \n",
       "3  ALTINÓPOLIS     10        R. Alagoas, 248 - Vila Maria CEP: 14350-000   \n",
       "4     ALUMÍNIO     10  Av. Senador José Ermírio de Moraes, 798 - Vila...   \n",
       "\n",
       "         lat        lng   distance  \n",
       "0 -21.684933 -51.078594   576702.0  \n",
       "1 -22.059098 -46.982530   189028.0  \n",
       "2  -7.119496 -34.845012  2786649.0  \n",
       "3 -21.019556 -47.374682   327717.0  \n",
       "4 -23.532909 -47.255018    78107.0  "
      ]
     },
     "execution_count": 44,
     "metadata": {},
     "output_type": "execute_result"
    }
   ],
   "source": [
    "polos = pd.read_csv('data/polos.csv').drop(['Unnamed: 0'], axis=1)\n",
    "polos['polo'] = polos['polo'].str.upper()\n",
    "polos.head()"
   ]
  },
  {
   "cell_type": "markdown",
   "metadata": {
    "ExecuteTime": {
     "end_time": "2019-12-10T03:18:44.713884Z",
     "start_time": "2019-12-10T03:18:44.704469Z"
    }
   },
   "source": [
    "Agora que temos as informaçõe das vagas em cada polo e das inscrições em cada polo, podemos juntar ambos dataframes e depois calcular a razão."
   ]
  },
  {
   "cell_type": "code",
   "execution_count": 45,
   "metadata": {
    "ExecuteTime": {
     "end_time": "2019-12-12T18:42:40.199229Z",
     "start_time": "2019-12-12T18:42:40.160719Z"
    }
   },
   "outputs": [
    {
     "data": {
      "text/html": [
       "<div>\n",
       "<style scoped>\n",
       "    .dataframe tbody tr th:only-of-type {\n",
       "        vertical-align: middle;\n",
       "    }\n",
       "\n",
       "    .dataframe tbody tr th {\n",
       "        vertical-align: top;\n",
       "    }\n",
       "\n",
       "    .dataframe thead th {\n",
       "        text-align: right;\n",
       "    }\n",
       "</style>\n",
       "<table border=\"1\" class=\"dataframe\">\n",
       "  <thead>\n",
       "    <tr style=\"text-align: right;\">\n",
       "      <th></th>\n",
       "      <th>polo</th>\n",
       "      <th>vagas</th>\n",
       "      <th>endereco</th>\n",
       "      <th>lat</th>\n",
       "      <th>lng</th>\n",
       "      <th>distance</th>\n",
       "      <th>INSCRITOS</th>\n",
       "      <th>CAN_X_VAG</th>\n",
       "    </tr>\n",
       "  </thead>\n",
       "  <tbody>\n",
       "    <tr>\n",
       "      <th>0</th>\n",
       "      <td>ADAMANTINA</td>\n",
       "      <td>10.0</td>\n",
       "      <td>Alameda dos Expedicionários, 864 - Centro CEP:...</td>\n",
       "      <td>-21.684933</td>\n",
       "      <td>-51.078594</td>\n",
       "      <td>576702.0</td>\n",
       "      <td>23.0</td>\n",
       "      <td>2.3</td>\n",
       "    </tr>\n",
       "    <tr>\n",
       "      <th>1</th>\n",
       "      <td>AGUAÍ</td>\n",
       "      <td>10.0</td>\n",
       "      <td>Av. Olinda Silveira Cruz Braga, 200 - Parque I...</td>\n",
       "      <td>-22.059098</td>\n",
       "      <td>-46.982530</td>\n",
       "      <td>189028.0</td>\n",
       "      <td>22.0</td>\n",
       "      <td>2.2</td>\n",
       "    </tr>\n",
       "    <tr>\n",
       "      <th>2</th>\n",
       "      <td>AGUDOS</td>\n",
       "      <td>10.0</td>\n",
       "      <td>R. João Pessoa, 2 - Professor Simões CEP: 1712...</td>\n",
       "      <td>-7.119496</td>\n",
       "      <td>-34.845012</td>\n",
       "      <td>2786649.0</td>\n",
       "      <td>25.0</td>\n",
       "      <td>2.5</td>\n",
       "    </tr>\n",
       "    <tr>\n",
       "      <th>3</th>\n",
       "      <td>ALTINÓPOLIS</td>\n",
       "      <td>10.0</td>\n",
       "      <td>R. Alagoas, 248 - Vila Maria CEP: 14350-000</td>\n",
       "      <td>-21.019556</td>\n",
       "      <td>-47.374682</td>\n",
       "      <td>327717.0</td>\n",
       "      <td>17.0</td>\n",
       "      <td>1.7</td>\n",
       "    </tr>\n",
       "    <tr>\n",
       "      <th>4</th>\n",
       "      <td>ALUMÍNIO</td>\n",
       "      <td>10.0</td>\n",
       "      <td>Av. Senador José Ermírio de Moraes, 798 - Vila...</td>\n",
       "      <td>-23.532909</td>\n",
       "      <td>-47.255018</td>\n",
       "      <td>78107.0</td>\n",
       "      <td>42.0</td>\n",
       "      <td>4.2</td>\n",
       "    </tr>\n",
       "  </tbody>\n",
       "</table>\n",
       "</div>"
      ],
      "text/plain": [
       "          polo  vagas                                           endereco  \\\n",
       "0   ADAMANTINA   10.0  Alameda dos Expedicionários, 864 - Centro CEP:...   \n",
       "1        AGUAÍ   10.0  Av. Olinda Silveira Cruz Braga, 200 - Parque I...   \n",
       "2       AGUDOS   10.0  R. João Pessoa, 2 - Professor Simões CEP: 1712...   \n",
       "3  ALTINÓPOLIS   10.0        R. Alagoas, 248 - Vila Maria CEP: 14350-000   \n",
       "4     ALUMÍNIO   10.0  Av. Senador José Ermírio de Moraes, 798 - Vila...   \n",
       "\n",
       "         lat        lng   distance  INSCRITOS  CAN_X_VAG  \n",
       "0 -21.684933 -51.078594   576702.0       23.0        2.3  \n",
       "1 -22.059098 -46.982530   189028.0       22.0        2.2  \n",
       "2  -7.119496 -34.845012  2786649.0       25.0        2.5  \n",
       "3 -21.019556 -47.374682   327717.0       17.0        1.7  \n",
       "4 -23.532909 -47.255018    78107.0       42.0        4.2  "
      ]
     },
     "execution_count": 45,
     "metadata": {},
     "output_type": "execute_result"
    }
   ],
   "source": [
    "cand_vaga = pd.merge(polos, candidatos_polo, how=\"outer\", right_on=\"POLO\", left_on='polo').drop(['POLO'], axis=1)\n",
    "cand_vaga['CAN_X_VAG'] = cand_vaga['INSCRITOS']/cand_vaga['vagas']\n",
    "cand_vaga = cand_vaga.dropna()\n",
    "cand_vaga.head(5)"
   ]
  },
  {
   "cell_type": "code",
   "execution_count": 47,
   "metadata": {
    "ExecuteTime": {
     "end_time": "2019-12-12T18:42:51.159600Z",
     "start_time": "2019-12-12T18:42:51.145311Z"
    }
   },
   "outputs": [],
   "source": [
    "cand_vaga[['polo', 'vagas', 'INSCRITOS','CAN_X_VAG']].sort_values(['CAN_X_VAG'], ascending =True).set_index('polo').to_csv('CAN_X_VAG.csv')"
   ]
  },
  {
   "cell_type": "code",
   "execution_count": 11,
   "metadata": {
    "ExecuteTime": {
     "end_time": "2019-12-12T18:17:46.513527Z",
     "start_time": "2019-12-12T18:17:46.495418Z"
    }
   },
   "outputs": [
    {
     "data": {
      "text/plain": [
       "19348"
      ]
     },
     "execution_count": 11,
     "metadata": {},
     "output_type": "execute_result"
    }
   ],
   "source": [
    "19348"
   ]
  },
  {
   "cell_type": "markdown",
   "metadata": {},
   "source": [
    "Isto posto, para mim o que realmente importa são os inscritos para os polos da cidade de São Paulo, por isso farei um filtro apenas para esses."
   ]
  },
  {
   "cell_type": "code",
   "execution_count": 12,
   "metadata": {
    "ExecuteTime": {
     "end_time": "2019-12-12T18:17:46.646205Z",
     "start_time": "2019-12-12T18:17:46.517881Z"
    },
    "scrolled": false
   },
   "outputs": [
    {
     "data": {
      "text/html": [
       "<div>\n",
       "<style scoped>\n",
       "    .dataframe tbody tr th:only-of-type {\n",
       "        vertical-align: middle;\n",
       "    }\n",
       "\n",
       "    .dataframe tbody tr th {\n",
       "        vertical-align: top;\n",
       "    }\n",
       "\n",
       "    .dataframe thead th {\n",
       "        text-align: right;\n",
       "    }\n",
       "</style>\n",
       "<table border=\"1\" class=\"dataframe\">\n",
       "  <thead>\n",
       "    <tr style=\"text-align: right;\">\n",
       "      <th></th>\n",
       "      <th>polo</th>\n",
       "      <th>vagas</th>\n",
       "      <th>endereco</th>\n",
       "      <th>lat</th>\n",
       "      <th>lng</th>\n",
       "      <th>distance</th>\n",
       "      <th>INSCRITOS</th>\n",
       "      <th>CAN_X_VAG</th>\n",
       "    </tr>\n",
       "  </thead>\n",
       "  <tbody>\n",
       "    <tr>\n",
       "      <th>33</th>\n",
       "      <td>SÃO PAULO - QUINTA DO SOL</td>\n",
       "      <td>35.0</td>\n",
       "      <td>Av. Luiz Imparato, 564 - Vila Cisper CEP: 0381...</td>\n",
       "      <td>-23.498780</td>\n",
       "      <td>-46.496117</td>\n",
       "      <td>24062.0</td>\n",
       "      <td>84.0</td>\n",
       "      <td>2.400000</td>\n",
       "    </tr>\n",
       "    <tr>\n",
       "      <th>43</th>\n",
       "      <td>SÃO PAULO - VILA CURUÇÁ</td>\n",
       "      <td>35.0</td>\n",
       "      <td>Av. Marechal Tito, 3452 - Jardim Miragaia CEP:...</td>\n",
       "      <td>-23.495035</td>\n",
       "      <td>-46.412296</td>\n",
       "      <td>35776.0</td>\n",
       "      <td>155.0</td>\n",
       "      <td>4.428571</td>\n",
       "    </tr>\n",
       "    <tr>\n",
       "      <th>20</th>\n",
       "      <td>SÃO PAULO - JAÇANÃ</td>\n",
       "      <td>35.0</td>\n",
       "      <td>R. Francisca Espósito Tonetti, 105 - Jardim Gu...</td>\n",
       "      <td>-23.457082</td>\n",
       "      <td>-46.584542</td>\n",
       "      <td>24648.0</td>\n",
       "      <td>223.0</td>\n",
       "      <td>6.371429</td>\n",
       "    </tr>\n",
       "    <tr>\n",
       "      <th>39</th>\n",
       "      <td>SÃO PAULO - TRÊS LAGOS</td>\n",
       "      <td>35.0</td>\n",
       "      <td>R. Maria Moura da Conceição, S/N - Jardim Belc...</td>\n",
       "      <td>-23.767204</td>\n",
       "      <td>-46.678547</td>\n",
       "      <td>33324.0</td>\n",
       "      <td>45.0</td>\n",
       "      <td>1.285714</td>\n",
       "    </tr>\n",
       "    <tr>\n",
       "      <th>32</th>\n",
       "      <td>SÃO PAULO - PQ. ANHANGUERA</td>\n",
       "      <td>35.0</td>\n",
       "      <td>R. Pedro José de Lima, 1020 - Jd Anhanguera CE...</td>\n",
       "      <td>-23.439784</td>\n",
       "      <td>-46.787138</td>\n",
       "      <td>28319.0</td>\n",
       "      <td>44.0</td>\n",
       "      <td>1.257143</td>\n",
       "    </tr>\n",
       "  </tbody>\n",
       "</table>\n",
       "</div>"
      ],
      "text/plain": [
       "                          polo  vagas  \\\n",
       "33   SÃO PAULO - QUINTA DO SOL   35.0   \n",
       "43     SÃO PAULO - VILA CURUÇÁ   35.0   \n",
       "20          SÃO PAULO - JAÇANÃ   35.0   \n",
       "39      SÃO PAULO - TRÊS LAGOS   35.0   \n",
       "32  SÃO PAULO - PQ. ANHANGUERA   35.0   \n",
       "\n",
       "                                             endereco        lat        lng  \\\n",
       "33  Av. Luiz Imparato, 564 - Vila Cisper CEP: 0381... -23.498780 -46.496117   \n",
       "43  Av. Marechal Tito, 3452 - Jardim Miragaia CEP:... -23.495035 -46.412296   \n",
       "20  R. Francisca Espósito Tonetti, 105 - Jardim Gu... -23.457082 -46.584542   \n",
       "39  R. Maria Moura da Conceição, S/N - Jardim Belc... -23.767204 -46.678547   \n",
       "32  R. Pedro José de Lima, 1020 - Jd Anhanguera CE... -23.439784 -46.787138   \n",
       "\n",
       "    distance  INSCRITOS  CAN_X_VAG  \n",
       "33   24062.0       84.0   2.400000  \n",
       "43   35776.0      155.0   4.428571  \n",
       "20   24648.0      223.0   6.371429  \n",
       "39   33324.0       45.0   1.285714  \n",
       "32   28319.0       44.0   1.257143  "
      ]
     },
     "execution_count": 12,
     "metadata": {},
     "output_type": "execute_result"
    }
   ],
   "source": [
    "filter_sao_paulo = cand_vaga['polo'].str.contains('SÃO PAULO')\n",
    "cand_vaga_sp = cand_vaga[filter_sao_paulo].sort_values(by=['polo'], ascending=True)\n",
    "cand_vaga_sp = cand_vaga_sp.reset_index(drop=True)\n",
    "cand_vaga_sp.sample(5)"
   ]
  },
  {
   "cell_type": "markdown",
   "metadata": {
    "ExecuteTime": {
     "end_time": "2019-12-10T03:24:41.654790Z",
     "start_time": "2019-12-10T03:24:41.598104Z"
    }
   },
   "source": [
    "Como é possível perceber o Campus Butantã é o onde mais houve inscritos, aproximadamente 12 candidatos por vaga.<br>\n",
    "[Com base ao site da UNIVESP](https://univesp.br/noticias/univesp-divulga-numeros-do-vestibular-2019-dot-2#.Xe8Qc5NKh48), houve no último vestibular uma média de 29% de abstenção no concurso. Vamos adicionar essa informação ao nosso DF."
   ]
  },
  {
   "cell_type": "code",
   "execution_count": 13,
   "metadata": {
    "ExecuteTime": {
     "end_time": "2019-12-12T18:17:46.769301Z",
     "start_time": "2019-12-12T18:17:46.654139Z"
    },
    "scrolled": false
   },
   "outputs": [
    {
     "data": {
      "text/html": [
       "<div>\n",
       "<style scoped>\n",
       "    .dataframe tbody tr th:only-of-type {\n",
       "        vertical-align: middle;\n",
       "    }\n",
       "\n",
       "    .dataframe tbody tr th {\n",
       "        vertical-align: top;\n",
       "    }\n",
       "\n",
       "    .dataframe thead th {\n",
       "        text-align: right;\n",
       "    }\n",
       "</style>\n",
       "<table border=\"1\" class=\"dataframe\">\n",
       "  <thead>\n",
       "    <tr style=\"text-align: right;\">\n",
       "      <th></th>\n",
       "      <th>polo</th>\n",
       "      <th>vagas</th>\n",
       "      <th>endereco</th>\n",
       "      <th>lat</th>\n",
       "      <th>lng</th>\n",
       "      <th>distance</th>\n",
       "      <th>INSCRITOS</th>\n",
       "      <th>CAN_X_VAG</th>\n",
       "      <th>ABST</th>\n",
       "    </tr>\n",
       "  </thead>\n",
       "  <tbody>\n",
       "    <tr>\n",
       "      <th>0</th>\n",
       "      <td>SÃO PAULO - ALTO ALEGRE</td>\n",
       "      <td>35.0</td>\n",
       "      <td>R. Bento Guelfi, 1802 - Jd Laranjeira CEP: 083...</td>\n",
       "      <td>-23.610484</td>\n",
       "      <td>-46.426306</td>\n",
       "      <td>33718.0</td>\n",
       "      <td>26.0</td>\n",
       "      <td>0.742857</td>\n",
       "      <td>0.527429</td>\n",
       "    </tr>\n",
       "    <tr>\n",
       "      <th>1</th>\n",
       "      <td>SÃO PAULO - ALVARENGA</td>\n",
       "      <td>35.0</td>\n",
       "      <td>Estrada do Alvarenga, 3752 - Balneário São Fra...</td>\n",
       "      <td>-23.704771</td>\n",
       "      <td>-46.644013</td>\n",
       "      <td>28880.0</td>\n",
       "      <td>85.0</td>\n",
       "      <td>2.428571</td>\n",
       "      <td>1.724286</td>\n",
       "    </tr>\n",
       "    <tr>\n",
       "      <th>2</th>\n",
       "      <td>SÃO PAULO - ARICANDUVA</td>\n",
       "      <td>35.0</td>\n",
       "      <td>R. Olga Fadel Abarca, S/N - Jardim Santa Terez...</td>\n",
       "      <td>-23.572590</td>\n",
       "      <td>-46.503096</td>\n",
       "      <td>24174.0</td>\n",
       "      <td>283.0</td>\n",
       "      <td>8.085714</td>\n",
       "      <td>5.740857</td>\n",
       "    </tr>\n",
       "    <tr>\n",
       "      <th>3</th>\n",
       "      <td>SÃO PAULO - AZUL DA COR DO MAR</td>\n",
       "      <td>35.0</td>\n",
       "      <td>Av. Ernesto Souza Cruz, 2171 - Cidade Antonio ...</td>\n",
       "      <td>-23.521495</td>\n",
       "      <td>-46.456675</td>\n",
       "      <td>33639.0</td>\n",
       "      <td>59.0</td>\n",
       "      <td>1.685714</td>\n",
       "      <td>1.196857</td>\n",
       "    </tr>\n",
       "    <tr>\n",
       "      <th>4</th>\n",
       "      <td>SÃO PAULO - BUTANTÃ</td>\n",
       "      <td>35.0</td>\n",
       "      <td>R. Engenheiro Heitor Antônio Eiras Garcia, 187...</td>\n",
       "      <td>-23.582657</td>\n",
       "      <td>-46.749982</td>\n",
       "      <td>12021.0</td>\n",
       "      <td>427.0</td>\n",
       "      <td>12.200000</td>\n",
       "      <td>8.662000</td>\n",
       "    </tr>\n",
       "  </tbody>\n",
       "</table>\n",
       "</div>"
      ],
      "text/plain": [
       "                             polo  vagas  \\\n",
       "0         SÃO PAULO - ALTO ALEGRE   35.0   \n",
       "1           SÃO PAULO - ALVARENGA   35.0   \n",
       "2          SÃO PAULO - ARICANDUVA   35.0   \n",
       "3  SÃO PAULO - AZUL DA COR DO MAR   35.0   \n",
       "4             SÃO PAULO - BUTANTÃ   35.0   \n",
       "\n",
       "                                            endereco        lat        lng  \\\n",
       "0  R. Bento Guelfi, 1802 - Jd Laranjeira CEP: 083... -23.610484 -46.426306   \n",
       "1  Estrada do Alvarenga, 3752 - Balneário São Fra... -23.704771 -46.644013   \n",
       "2  R. Olga Fadel Abarca, S/N - Jardim Santa Terez... -23.572590 -46.503096   \n",
       "3  Av. Ernesto Souza Cruz, 2171 - Cidade Antonio ... -23.521495 -46.456675   \n",
       "4  R. Engenheiro Heitor Antônio Eiras Garcia, 187... -23.582657 -46.749982   \n",
       "\n",
       "   distance  INSCRITOS  CAN_X_VAG      ABST  \n",
       "0   33718.0       26.0   0.742857  0.527429  \n",
       "1   28880.0       85.0   2.428571  1.724286  \n",
       "2   24174.0      283.0   8.085714  5.740857  \n",
       "3   33639.0       59.0   1.685714  1.196857  \n",
       "4   12021.0      427.0  12.200000  8.662000  "
      ]
     },
     "execution_count": 13,
     "metadata": {},
     "output_type": "execute_result"
    }
   ],
   "source": [
    "cand_vaga_sp['ABST'] = cand_vaga_sp['CAN_X_VAG'] * (1-0.29)\n",
    "cand_vaga_sp.head()"
   ]
  },
  {
   "cell_type": "markdown",
   "metadata": {},
   "source": [
    "Assim, podemos ver que a média real de concorrentes para a vaga são de 8 pessoas. <br>\n",
    "Eu quero ver agora qual dos polos é mais próximo de minha casa e, também, qual deles tem menor candidato/vaga."
   ]
  },
  {
   "cell_type": "code",
   "execution_count": 14,
   "metadata": {
    "ExecuteTime": {
     "end_time": "2019-12-12T18:17:46.896514Z",
     "start_time": "2019-12-12T18:17:46.780310Z"
    }
   },
   "outputs": [
    {
     "data": {
      "text/html": [
       "<div>\n",
       "<style scoped>\n",
       "    .dataframe tbody tr th:only-of-type {\n",
       "        vertical-align: middle;\n",
       "    }\n",
       "\n",
       "    .dataframe tbody tr th {\n",
       "        vertical-align: top;\n",
       "    }\n",
       "\n",
       "    .dataframe thead th {\n",
       "        text-align: right;\n",
       "    }\n",
       "</style>\n",
       "<table border=\"1\" class=\"dataframe\">\n",
       "  <thead>\n",
       "    <tr style=\"text-align: right;\">\n",
       "      <th></th>\n",
       "      <th>polo</th>\n",
       "      <th>vagas</th>\n",
       "      <th>endereco</th>\n",
       "      <th>lat</th>\n",
       "      <th>lng</th>\n",
       "      <th>distance</th>\n",
       "      <th>INSCRITOS</th>\n",
       "      <th>CAN_X_VAG</th>\n",
       "      <th>ABST</th>\n",
       "    </tr>\n",
       "  </thead>\n",
       "  <tbody>\n",
       "    <tr>\n",
       "      <th>19</th>\n",
       "      <td>SÃO PAULO - JARDIM PAULISTANO</td>\n",
       "      <td>35.0</td>\n",
       "      <td>R. Aparecida do Taboado, S/N - Jardim Paulista...</td>\n",
       "      <td>-23.458829</td>\n",
       "      <td>-46.707145</td>\n",
       "      <td>13020.0</td>\n",
       "      <td>92.0</td>\n",
       "      <td>2.628571</td>\n",
       "      <td>1.866286</td>\n",
       "    </tr>\n",
       "    <tr>\n",
       "      <th>17</th>\n",
       "      <td>SÃO PAULO - JAGUARÉ</td>\n",
       "      <td>35.0</td>\n",
       "      <td>Av. Keikiti Simomoto, 80 - Jaguaré CEP: 05347-010</td>\n",
       "      <td>-23.550436</td>\n",
       "      <td>-46.741959</td>\n",
       "      <td>8905.0</td>\n",
       "      <td>148.0</td>\n",
       "      <td>4.228571</td>\n",
       "      <td>3.002286</td>\n",
       "    </tr>\n",
       "    <tr>\n",
       "      <th>38</th>\n",
       "      <td>SÃO PAULO - TIQUATIRA</td>\n",
       "      <td>35.0</td>\n",
       "      <td>Av. Condessa Elisabeth de Robiano, S/N - Penha...</td>\n",
       "      <td>-23.527020</td>\n",
       "      <td>-46.564581</td>\n",
       "      <td>14282.0</td>\n",
       "      <td>183.0</td>\n",
       "      <td>5.228571</td>\n",
       "      <td>3.712286</td>\n",
       "    </tr>\n",
       "    <tr>\n",
       "      <th>13</th>\n",
       "      <td>SÃO PAULO - FREGUESIA DO Ó</td>\n",
       "      <td>35.0</td>\n",
       "      <td>Av. Deputado Emílio Carlos, 3871 - Limão CEP: ...</td>\n",
       "      <td>-23.475105</td>\n",
       "      <td>-46.668977</td>\n",
       "      <td>8494.0</td>\n",
       "      <td>297.0</td>\n",
       "      <td>8.485714</td>\n",
       "      <td>6.024857</td>\n",
       "    </tr>\n",
       "    <tr>\n",
       "      <th>4</th>\n",
       "      <td>SÃO PAULO - BUTANTÃ</td>\n",
       "      <td>35.0</td>\n",
       "      <td>R. Engenheiro Heitor Antônio Eiras Garcia, 187...</td>\n",
       "      <td>-23.582657</td>\n",
       "      <td>-46.749982</td>\n",
       "      <td>12021.0</td>\n",
       "      <td>427.0</td>\n",
       "      <td>12.200000</td>\n",
       "      <td>8.662000</td>\n",
       "    </tr>\n",
       "  </tbody>\n",
       "</table>\n",
       "</div>"
      ],
      "text/plain": [
       "                             polo  vagas  \\\n",
       "19  SÃO PAULO - JARDIM PAULISTANO   35.0   \n",
       "17            SÃO PAULO - JAGUARÉ   35.0   \n",
       "38          SÃO PAULO - TIQUATIRA   35.0   \n",
       "13     SÃO PAULO - FREGUESIA DO Ó   35.0   \n",
       "4             SÃO PAULO - BUTANTÃ   35.0   \n",
       "\n",
       "                                             endereco        lat        lng  \\\n",
       "19  R. Aparecida do Taboado, S/N - Jardim Paulista... -23.458829 -46.707145   \n",
       "17  Av. Keikiti Simomoto, 80 - Jaguaré CEP: 05347-010 -23.550436 -46.741959   \n",
       "38  Av. Condessa Elisabeth de Robiano, S/N - Penha... -23.527020 -46.564581   \n",
       "13  Av. Deputado Emílio Carlos, 3871 - Limão CEP: ... -23.475105 -46.668977   \n",
       "4   R. Engenheiro Heitor Antônio Eiras Garcia, 187... -23.582657 -46.749982   \n",
       "\n",
       "    distance  INSCRITOS  CAN_X_VAG      ABST  \n",
       "19   13020.0       92.0   2.628571  1.866286  \n",
       "17    8905.0      148.0   4.228571  3.002286  \n",
       "38   14282.0      183.0   5.228571  3.712286  \n",
       "13    8494.0      297.0   8.485714  6.024857  \n",
       "4    12021.0      427.0  12.200000  8.662000  "
      ]
     },
     "execution_count": 14,
     "metadata": {},
     "output_type": "execute_result"
    }
   ],
   "source": [
    "cand_vaga_sp.sort_values(['distance']).head().sort_values(['ABST'])"
   ]
  },
  {
   "cell_type": "markdown",
   "metadata": {},
   "source": [
    "Sendo assim,teria feito mais sentido ter me inscrito como primeira e segunda opção os polos:\n",
    "1. SÃO PAULO - JARDIM PAULISTANO - Próximo de casa e aproximadamente 2 candidatos/vaga\n",
    "1. SÃO PAULO - JAGUARÉ - Próximo de casa e aproximadamente 3 candidatos/vaga\n",
    "\n",
    "Agora, com base nos endereços de cada Polo em SP eu quero saber os que fariam mais sentido para eu me inscrever. Considerando os polos mais próximos de casa e com menos concorrência."
   ]
  },
  {
   "cell_type": "code",
   "execution_count": 36,
   "metadata": {
    "ExecuteTime": {
     "end_time": "2019-12-12T18:31:21.557119Z",
     "start_time": "2019-12-12T18:31:21.253011Z"
    }
   },
   "outputs": [
    {
     "data": {
      "text/html": [
       "<iframe src=\"data:text/html;base64,PGhlYWQ+CiAgICA8c2NyaXB0IHNyYz0iaHR0cHM6Ly9jZG5qcy5jbG91ZGZsYXJlLmNvbS9hamF4L2xpYnMvbGVhZmxldC8wLjcuMy9sZWFmbGV0LmpzIj48L3NjcmlwdD4KICAgIDxsaW5rIHJlbD0ic3R5bGVzaGVldCIgaHJlZj0iaHR0cHM6Ly9jZG5qcy5jbG91ZGZsYXJlLmNvbS9hamF4L2xpYnMvbGVhZmxldC8wLjcuMy9sZWFmbGV0LmNzcyIgLz4KICA8c3R5bGU+CiAgICAjbWFwMzNjNWM4NDc0YzlmNGFiNzhmNTNiZDY1N2ZkODBlNTIgewogICAgICBoZWlnaHQ6MTAwJTsKICAgIH0KICA8L3N0eWxlPiAKPC9oZWFkPgo8Ym9keT4KICA8ZGl2IGlkPSJtYXAzM2M1Yzg0NzRjOWY0YWI3OGY1M2JkNjU3ZmQ4MGU1MiI+PC9kaXY+CjxzY3JpcHQgdGV4dD0idGV4dC9qYXZhc2NyaXB0Ij4KdmFyIG1hcCA9IEwubWFwKCdtYXAzM2M1Yzg0NzRjOWY0YWI3OGY1M2JkNjU3ZmQ4MGU1MicpOwpMLnRpbGVMYXllcigKICAiaHR0cDovL3tzfS50aWxlLm9wZW5zdHJlZXRtYXAub3JnL3t6fS97eH0ve3l9LnBuZyIsCiAge21heFpvb206MTksIGF0dHJpYnV0aW9uOiAnPGEgaHJlZj0iaHR0cHM6Ly9naXRodWIuY29tL2p3YXNzL21wbGxlYWZsZXQiPm1wbGxlYWZsZXQ8L2E+IHwgTWFwIGRhdGEgKGMpIDxhIGhyZWY9Imh0dHA6Ly9vcGVuc3RyZWV0bWFwLm9yZyI+T3BlblN0cmVldE1hcDwvYT4gY29udHJpYnV0b3JzJ30pLmFkZFRvKG1hcCk7CnZhciBnakRhdGEgPSB7InR5cGUiOiAiRmVhdHVyZUNvbGxlY3Rpb24iLCAiZmVhdHVyZXMiOiBbeyJ0eXBlIjogIkZlYXR1cmUiLCAiZ2VvbWV0cnkiOiB7InR5cGUiOiAiUG9pbnQiLCAiY29vcmRpbmF0ZXMiOiBbLTQ2LjY2ODk3NzAwMDAwMDAwNSwgLTIzLjQ3NTEwNV19LCAicHJvcGVydGllcyI6IHsiaHRtbCI6ICI8c3ZnIHdpZHRoPVwiMThweFwiIGhlaWdodD1cIjE4cHhcIiB2aWV3Qm94PVwiLTkuMCAtOS4wIDE4LjAgMTguMFwiIHhtbG5zPVwiaHR0cDovL3d3dy53My5vcmcvMjAwMC9zdmdcIiB2ZXJzaW9uPVwiMS4xXCI+ICA8cGF0aCBkPVwiTSAwLjAgNy4wNzEwNjc4MTE4NjU0NzU1IEMgMS44NzUyNjkxMDQwMTY5NDExIDcuMDcxMDY3ODExODY1NDc1NSAzLjY3Mzk4NDUwMDAwMDAwMDQgNi4zMjYwMTU1MDAwMDAwMDA1IDUuMDAwMDAwMDAwMDAwMDAxIDUuMDAwMDAwMDAwMDAwMDAxIEMgNi4zMjYwMTU1MDAwMDAwMDA1IDMuNjczOTg0NTAwMDAwMDAwNCA3LjA3MTA2NzgxMTg2NTQ3NTUgMS44NzUyNjkxMDQwMTY5NDExIDcuMDcxMDY3ODExODY1NDc1NSAtMC4wIEMgNy4wNzEwNjc4MTE4NjU0NzU1IC0xLjg3NTI2OTEwNDAxNjk0MTEgNi4zMjYwMTU1MDAwMDAwMDA1IC0zLjY3Mzk4NDUwMDAwMDAwMDQgNS4wMDAwMDAwMDAwMDAwMDEgLTUuMDAwMDAwMDAwMDAwMDAxIEMgMy42NzM5ODQ1MDAwMDAwMDA0IC02LjMyNjAxNTUwMDAwMDAwMDUgMS44NzUyNjkxMDQwMTY5NDExIC03LjA3MTA2NzgxMTg2NTQ3NTUgMC4wIC03LjA3MTA2NzgxMTg2NTQ3NTUgQyAtMS44NzUyNjkxMDQwMTY5NDExIC03LjA3MTA2NzgxMTg2NTQ3NTUgLTMuNjczOTg0NTAwMDAwMDAwNCAtNi4zMjYwMTU1MDAwMDAwMDA1IC01LjAwMDAwMDAwMDAwMDAwMSAtNS4wMDAwMDAwMDAwMDAwMDEgQyAtNi4zMjYwMTU1MDAwMDAwMDA1IC0zLjY3Mzk4NDUwMDAwMDAwMDQgLTcuMDcxMDY3ODExODY1NDc1NSAtMS44NzUyNjkxMDQwMTY5NDExIC03LjA3MTA2NzgxMTg2NTQ3NTUgLTAuMCBDIC03LjA3MTA2NzgxMTg2NTQ3NTUgMS44NzUyNjkxMDQwMTY5NDExIC02LjMyNjAxNTUwMDAwMDAwMDUgMy42NzM5ODQ1MDAwMDAwMDA0IC01LjAwMDAwMDAwMDAwMDAwMSA1LjAwMDAwMDAwMDAwMDAwMSBDIC0zLjY3Mzk4NDUwMDAwMDAwMDQgNi4zMjYwMTU1MDAwMDAwMDA1IC0xLjg3NTI2OTEwNDAxNjk0MTEgNy4wNzEwNjc4MTE4NjU0NzU1IDAuMCA3LjA3MTA2NzgxMTg2NTQ3NTUgWlwiIHN0cm9rZT1cIiMwMDdGMDBcIiBzdHJva2Utd2lkdGg9XCIxLjBcIiBzdHJva2Utb3BhY2l0eT1cIjAuOTlcIiBmaWxsPVwiIzAwN0YwMFwiIGZpbGwtb3BhY2l0eT1cIjAuOTlcIiAvPjwvc3ZnPiIsICJhbmNob3JfeCI6IDkuMCwgImFuY2hvcl95IjogOS4wfX0sIHsidHlwZSI6ICJGZWF0dXJlIiwgImdlb21ldHJ5IjogeyJ0eXBlIjogIlBvaW50IiwgImNvb3JkaW5hdGVzIjogWy00Ni43NDE5NTkzLCAtMjMuNTUwNDM2NF19LCAicHJvcGVydGllcyI6IHsiaHRtbCI6ICI8c3ZnIHdpZHRoPVwiMThweFwiIGhlaWdodD1cIjE4cHhcIiB2aWV3Qm94PVwiLTkuMCAtOS4wIDE4LjAgMTguMFwiIHhtbG5zPVwiaHR0cDovL3d3dy53My5vcmcvMjAwMC9zdmdcIiB2ZXJzaW9uPVwiMS4xXCI+ICA8cGF0aCBkPVwiTSAwLjAgNy4wNzEwNjc4MTE4NjU0NzU1IEMgMS44NzUyNjkxMDQwMTY5NDExIDcuMDcxMDY3ODExODY1NDc1NSAzLjY3Mzk4NDUwMDAwMDAwMDQgNi4zMjYwMTU1MDAwMDAwMDA1IDUuMDAwMDAwMDAwMDAwMDAxIDUuMDAwMDAwMDAwMDAwMDAxIEMgNi4zMjYwMTU1MDAwMDAwMDA1IDMuNjczOTg0NTAwMDAwMDAwNCA3LjA3MTA2NzgxMTg2NTQ3NTUgMS44NzUyNjkxMDQwMTY5NDExIDcuMDcxMDY3ODExODY1NDc1NSAtMC4wIEMgNy4wNzEwNjc4MTE4NjU0NzU1IC0xLjg3NTI2OTEwNDAxNjk0MTEgNi4zMjYwMTU1MDAwMDAwMDA1IC0zLjY3Mzk4NDUwMDAwMDAwMDQgNS4wMDAwMDAwMDAwMDAwMDEgLTUuMDAwMDAwMDAwMDAwMDAxIEMgMy42NzM5ODQ1MDAwMDAwMDA0IC02LjMyNjAxNTUwMDAwMDAwMDUgMS44NzUyNjkxMDQwMTY5NDExIC03LjA3MTA2NzgxMTg2NTQ3NTUgMC4wIC03LjA3MTA2NzgxMTg2NTQ3NTUgQyAtMS44NzUyNjkxMDQwMTY5NDExIC03LjA3MTA2NzgxMTg2NTQ3NTUgLTMuNjczOTg0NTAwMDAwMDAwNCAtNi4zMjYwMTU1MDAwMDAwMDA1IC01LjAwMDAwMDAwMDAwMDAwMSAtNS4wMDAwMDAwMDAwMDAwMDEgQyAtNi4zMjYwMTU1MDAwMDAwMDA1IC0zLjY3Mzk4NDUwMDAwMDAwMDQgLTcuMDcxMDY3ODExODY1NDc1NSAtMS44NzUyNjkxMDQwMTY5NDExIC03LjA3MTA2NzgxMTg2NTQ3NTUgLTAuMCBDIC03LjA3MTA2NzgxMTg2NTQ3NTUgMS44NzUyNjkxMDQwMTY5NDExIC02LjMyNjAxNTUwMDAwMDAwMDUgMy42NzM5ODQ1MDAwMDAwMDA0IC01LjAwMDAwMDAwMDAwMDAwMSA1LjAwMDAwMDAwMDAwMDAwMSBDIC0zLjY3Mzk4NDUwMDAwMDAwMDQgNi4zMjYwMTU1MDAwMDAwMDA1IC0xLjg3NTI2OTEwNDAxNjk0MTEgNy4wNzEwNjc4MTE4NjU0NzU1IDAuMCA3LjA3MTA2NzgxMTg2NTQ3NTUgWlwiIHN0cm9rZT1cIiMwMDdGMDBcIiBzdHJva2Utd2lkdGg9XCIxLjBcIiBzdHJva2Utb3BhY2l0eT1cIjAuOTlcIiBmaWxsPVwiIzAwN0YwMFwiIGZpbGwtb3BhY2l0eT1cIjAuOTlcIiAvPjwvc3ZnPiIsICJhbmNob3JfeCI6IDkuMCwgImFuY2hvcl95IjogOS4wfX0sIHsidHlwZSI6ICJGZWF0dXJlIiwgImdlb21ldHJ5IjogeyJ0eXBlIjogIlBvaW50IiwgImNvb3JkaW5hdGVzIjogWy00Ni43NDk5ODIsIC0yMy41ODI2NTc0XX0sICJwcm9wZXJ0aWVzIjogeyJodG1sIjogIjxzdmcgd2lkdGg9XCIxOHB4XCIgaGVpZ2h0PVwiMThweFwiIHZpZXdCb3g9XCItOS4wIC05LjAgMTguMCAxOC4wXCIgeG1sbnM9XCJodHRwOi8vd3d3LnczLm9yZy8yMDAwL3N2Z1wiIHZlcnNpb249XCIxLjFcIj4gIDxwYXRoIGQ9XCJNIDAuMCA3LjA3MTA2NzgxMTg2NTQ3NTUgQyAxLjg3NTI2OTEwNDAxNjk0MTEgNy4wNzEwNjc4MTE4NjU0NzU1IDMuNjczOTg0NTAwMDAwMDAwNCA2LjMyNjAxNTUwMDAwMDAwMDUgNS4wMDAwMDAwMDAwMDAwMDEgNS4wMDAwMDAwMDAwMDAwMDEgQyA2LjMyNjAxNTUwMDAwMDAwMDUgMy42NzM5ODQ1MDAwMDAwMDA0IDcuMDcxMDY3ODExODY1NDc1NSAxLjg3NTI2OTEwNDAxNjk0MTEgNy4wNzEwNjc4MTE4NjU0NzU1IC0wLjAgQyA3LjA3MTA2NzgxMTg2NTQ3NTUgLTEuODc1MjY5MTA0MDE2OTQxMSA2LjMyNjAxNTUwMDAwMDAwMDUgLTMuNjczOTg0NTAwMDAwMDAwNCA1LjAwMDAwMDAwMDAwMDAwMSAtNS4wMDAwMDAwMDAwMDAwMDEgQyAzLjY3Mzk4NDUwMDAwMDAwMDQgLTYuMzI2MDE1NTAwMDAwMDAwNSAxLjg3NTI2OTEwNDAxNjk0MTEgLTcuMDcxMDY3ODExODY1NDc1NSAwLjAgLTcuMDcxMDY3ODExODY1NDc1NSBDIC0xLjg3NTI2OTEwNDAxNjk0MTEgLTcuMDcxMDY3ODExODY1NDc1NSAtMy42NzM5ODQ1MDAwMDAwMDA0IC02LjMyNjAxNTUwMDAwMDAwMDUgLTUuMDAwMDAwMDAwMDAwMDAxIC01LjAwMDAwMDAwMDAwMDAwMSBDIC02LjMyNjAxNTUwMDAwMDAwMDUgLTMuNjczOTg0NTAwMDAwMDAwNCAtNy4wNzEwNjc4MTE4NjU0NzU1IC0xLjg3NTI2OTEwNDAxNjk0MTEgLTcuMDcxMDY3ODExODY1NDc1NSAtMC4wIEMgLTcuMDcxMDY3ODExODY1NDc1NSAxLjg3NTI2OTEwNDAxNjk0MTEgLTYuMzI2MDE1NTAwMDAwMDAwNSAzLjY3Mzk4NDUwMDAwMDAwMDQgLTUuMDAwMDAwMDAwMDAwMDAxIDUuMDAwMDAwMDAwMDAwMDAxIEMgLTMuNjczOTg0NTAwMDAwMDAwNCA2LjMyNjAxNTUwMDAwMDAwMDUgLTEuODc1MjY5MTA0MDE2OTQxMSA3LjA3MTA2NzgxMTg2NTQ3NTUgMC4wIDcuMDcxMDY3ODExODY1NDc1NSBaXCIgc3Ryb2tlPVwiIzAwN0YwMFwiIHN0cm9rZS13aWR0aD1cIjEuMFwiIHN0cm9rZS1vcGFjaXR5PVwiMC45OVwiIGZpbGw9XCIjMDA3RjAwXCIgZmlsbC1vcGFjaXR5PVwiMC45OVwiIC8+PC9zdmc+IiwgImFuY2hvcl94IjogOS4wLCAiYW5jaG9yX3kiOiA5LjB9fSwgeyJ0eXBlIjogIkZlYXR1cmUiLCAiZ2VvbWV0cnkiOiB7InR5cGUiOiAiUG9pbnQiLCAiY29vcmRpbmF0ZXMiOiBbLTQ2LjcwNzE0NTEsIC0yMy40NTg4Mjg2OTk5OTk5OThdfSwgInByb3BlcnRpZXMiOiB7Imh0bWwiOiAiPHN2ZyB3aWR0aD1cIjE4cHhcIiBoZWlnaHQ9XCIxOHB4XCIgdmlld0JveD1cIi05LjAgLTkuMCAxOC4wIDE4LjBcIiB4bWxucz1cImh0dHA6Ly93d3cudzMub3JnLzIwMDAvc3ZnXCIgdmVyc2lvbj1cIjEuMVwiPiAgPHBhdGggZD1cIk0gMC4wIDcuMDcxMDY3ODExODY1NDc1NSBDIDEuODc1MjY5MTA0MDE2OTQxMSA3LjA3MTA2NzgxMTg2NTQ3NTUgMy42NzM5ODQ1MDAwMDAwMDA0IDYuMzI2MDE1NTAwMDAwMDAwNSA1LjAwMDAwMDAwMDAwMDAwMSA1LjAwMDAwMDAwMDAwMDAwMSBDIDYuMzI2MDE1NTAwMDAwMDAwNSAzLjY3Mzk4NDUwMDAwMDAwMDQgNy4wNzEwNjc4MTE4NjU0NzU1IDEuODc1MjY5MTA0MDE2OTQxMSA3LjA3MTA2NzgxMTg2NTQ3NTUgLTAuMCBDIDcuMDcxMDY3ODExODY1NDc1NSAtMS44NzUyNjkxMDQwMTY5NDExIDYuMzI2MDE1NTAwMDAwMDAwNSAtMy42NzM5ODQ1MDAwMDAwMDA0IDUuMDAwMDAwMDAwMDAwMDAxIC01LjAwMDAwMDAwMDAwMDAwMSBDIDMuNjczOTg0NTAwMDAwMDAwNCAtNi4zMjYwMTU1MDAwMDAwMDA1IDEuODc1MjY5MTA0MDE2OTQxMSAtNy4wNzEwNjc4MTE4NjU0NzU1IDAuMCAtNy4wNzEwNjc4MTE4NjU0NzU1IEMgLTEuODc1MjY5MTA0MDE2OTQxMSAtNy4wNzEwNjc4MTE4NjU0NzU1IC0zLjY3Mzk4NDUwMDAwMDAwMDQgLTYuMzI2MDE1NTAwMDAwMDAwNSAtNS4wMDAwMDAwMDAwMDAwMDEgLTUuMDAwMDAwMDAwMDAwMDAxIEMgLTYuMzI2MDE1NTAwMDAwMDAwNSAtMy42NzM5ODQ1MDAwMDAwMDA0IC03LjA3MTA2NzgxMTg2NTQ3NTUgLTEuODc1MjY5MTA0MDE2OTQxMSAtNy4wNzEwNjc4MTE4NjU0NzU1IC0wLjAgQyAtNy4wNzEwNjc4MTE4NjU0NzU1IDEuODc1MjY5MTA0MDE2OTQxMSAtNi4zMjYwMTU1MDAwMDAwMDA1IDMuNjczOTg0NTAwMDAwMDAwNCAtNS4wMDAwMDAwMDAwMDAwMDEgNS4wMDAwMDAwMDAwMDAwMDEgQyAtMy42NzM5ODQ1MDAwMDAwMDA0IDYuMzI2MDE1NTAwMDAwMDAwNSAtMS44NzUyNjkxMDQwMTY5NDExIDcuMDcxMDY3ODExODY1NDc1NSAwLjAgNy4wNzEwNjc4MTE4NjU0NzU1IFpcIiBzdHJva2U9XCIjMDA3RjAwXCIgc3Ryb2tlLXdpZHRoPVwiMS4wXCIgc3Ryb2tlLW9wYWNpdHk9XCIwLjk5XCIgZmlsbD1cIiMwMDdGMDBcIiBmaWxsLW9wYWNpdHk9XCIwLjk5XCIgLz48L3N2Zz4iLCAiYW5jaG9yX3giOiA5LjAsICJhbmNob3JfeSI6IDkuMH19LCB7InR5cGUiOiAiRmVhdHVyZSIsICJnZW9tZXRyeSI6IHsidHlwZSI6ICJQb2ludCIsICJjb29yZGluYXRlcyI6IFstNDYuNTY0NTgxMSwgLTIzLjUyNzAxOTldfSwgInByb3BlcnRpZXMiOiB7Imh0bWwiOiAiPHN2ZyB3aWR0aD1cIjE4cHhcIiBoZWlnaHQ9XCIxOHB4XCIgdmlld0JveD1cIi05LjAgLTkuMCAxOC4wIDE4LjBcIiB4bWxucz1cImh0dHA6Ly93d3cudzMub3JnLzIwMDAvc3ZnXCIgdmVyc2lvbj1cIjEuMVwiPiAgPHBhdGggZD1cIk0gMC4wIDcuMDcxMDY3ODExODY1NDc1NSBDIDEuODc1MjY5MTA0MDE2OTQxMSA3LjA3MTA2NzgxMTg2NTQ3NTUgMy42NzM5ODQ1MDAwMDAwMDA0IDYuMzI2MDE1NTAwMDAwMDAwNSA1LjAwMDAwMDAwMDAwMDAwMSA1LjAwMDAwMDAwMDAwMDAwMSBDIDYuMzI2MDE1NTAwMDAwMDAwNSAzLjY3Mzk4NDUwMDAwMDAwMDQgNy4wNzEwNjc4MTE4NjU0NzU1IDEuODc1MjY5MTA0MDE2OTQxMSA3LjA3MTA2NzgxMTg2NTQ3NTUgLTAuMCBDIDcuMDcxMDY3ODExODY1NDc1NSAtMS44NzUyNjkxMDQwMTY5NDExIDYuMzI2MDE1NTAwMDAwMDAwNSAtMy42NzM5ODQ1MDAwMDAwMDA0IDUuMDAwMDAwMDAwMDAwMDAxIC01LjAwMDAwMDAwMDAwMDAwMSBDIDMuNjczOTg0NTAwMDAwMDAwNCAtNi4zMjYwMTU1MDAwMDAwMDA1IDEuODc1MjY5MTA0MDE2OTQxMSAtNy4wNzEwNjc4MTE4NjU0NzU1IDAuMCAtNy4wNzEwNjc4MTE4NjU0NzU1IEMgLTEuODc1MjY5MTA0MDE2OTQxMSAtNy4wNzEwNjc4MTE4NjU0NzU1IC0zLjY3Mzk4NDUwMDAwMDAwMDQgLTYuMzI2MDE1NTAwMDAwMDAwNSAtNS4wMDAwMDAwMDAwMDAwMDEgLTUuMDAwMDAwMDAwMDAwMDAxIEMgLTYuMzI2MDE1NTAwMDAwMDAwNSAtMy42NzM5ODQ1MDAwMDAwMDA0IC03LjA3MTA2NzgxMTg2NTQ3NTUgLTEuODc1MjY5MTA0MDE2OTQxMSAtNy4wNzEwNjc4MTE4NjU0NzU1IC0wLjAgQyAtNy4wNzEwNjc4MTE4NjU0NzU1IDEuODc1MjY5MTA0MDE2OTQxMSAtNi4zMjYwMTU1MDAwMDAwMDA1IDMuNjczOTg0NTAwMDAwMDAwNCAtNS4wMDAwMDAwMDAwMDAwMDEgNS4wMDAwMDAwMDAwMDAwMDEgQyAtMy42NzM5ODQ1MDAwMDAwMDA0IDYuMzI2MDE1NTAwMDAwMDAwNSAtMS44NzUyNjkxMDQwMTY5NDExIDcuMDcxMDY3ODExODY1NDc1NSAwLjAgNy4wNzEwNjc4MTE4NjU0NzU1IFpcIiBzdHJva2U9XCIjMDA3RjAwXCIgc3Ryb2tlLXdpZHRoPVwiMS4wXCIgc3Ryb2tlLW9wYWNpdHk9XCIwLjk5XCIgZmlsbD1cIiMwMDdGMDBcIiBmaWxsLW9wYWNpdHk9XCIwLjk5XCIgLz48L3N2Zz4iLCAiYW5jaG9yX3giOiA5LjAsICJhbmNob3JfeSI6IDkuMH19LCB7InR5cGUiOiAiRmVhdHVyZSIsICJnZW9tZXRyeSI6IHsidHlwZSI6ICJQb2ludCIsICJjb29yZGluYXRlcyI6IFstNDYuNjkxOTU2MSwgLTIzLjQ0NjE5OV19LCAicHJvcGVydGllcyI6IHsiaHRtbCI6ICI8c3ZnIHdpZHRoPVwiMThweFwiIGhlaWdodD1cIjE4cHhcIiB2aWV3Qm94PVwiLTkuMCAtOS4wIDE4LjAgMTguMFwiIHhtbG5zPVwiaHR0cDovL3d3dy53My5vcmcvMjAwMC9zdmdcIiB2ZXJzaW9uPVwiMS4xXCI+ICA8cGF0aCBkPVwiTSAwLjAgNy4wNzEwNjc4MTE4NjU0NzU1IEMgMS44NzUyNjkxMDQwMTY5NDExIDcuMDcxMDY3ODExODY1NDc1NSAzLjY3Mzk4NDUwMDAwMDAwMDQgNi4zMjYwMTU1MDAwMDAwMDA1IDUuMDAwMDAwMDAwMDAwMDAxIDUuMDAwMDAwMDAwMDAwMDAxIEMgNi4zMjYwMTU1MDAwMDAwMDA1IDMuNjczOTg0NTAwMDAwMDAwNCA3LjA3MTA2NzgxMTg2NTQ3NTUgMS44NzUyNjkxMDQwMTY5NDExIDcuMDcxMDY3ODExODY1NDc1NSAtMC4wIEMgNy4wNzEwNjc4MTE4NjU0NzU1IC0xLjg3NTI2OTEwNDAxNjk0MTEgNi4zMjYwMTU1MDAwMDAwMDA1IC0zLjY3Mzk4NDUwMDAwMDAwMDQgNS4wMDAwMDAwMDAwMDAwMDEgLTUuMDAwMDAwMDAwMDAwMDAxIEMgMy42NzM5ODQ1MDAwMDAwMDA0IC02LjMyNjAxNTUwMDAwMDAwMDUgMS44NzUyNjkxMDQwMTY5NDExIC03LjA3MTA2NzgxMTg2NTQ3NTUgMC4wIC03LjA3MTA2NzgxMTg2NTQ3NTUgQyAtMS44NzUyNjkxMDQwMTY5NDExIC03LjA3MTA2NzgxMTg2NTQ3NTUgLTMuNjczOTg0NTAwMDAwMDAwNCAtNi4zMjYwMTU1MDAwMDAwMDA1IC01LjAwMDAwMDAwMDAwMDAwMSAtNS4wMDAwMDAwMDAwMDAwMDEgQyAtNi4zMjYwMTU1MDAwMDAwMDA1IC0zLjY3Mzk4NDUwMDAwMDAwMDQgLTcuMDcxMDY3ODExODY1NDc1NSAtMS44NzUyNjkxMDQwMTY5NDExIC03LjA3MTA2NzgxMTg2NTQ3NTUgLTAuMCBDIC03LjA3MTA2NzgxMTg2NTQ3NTUgMS44NzUyNjkxMDQwMTY5NDExIC02LjMyNjAxNTUwMDAwMDAwMDUgMy42NzM5ODQ1MDAwMDAwMDA0IC01LjAwMDAwMDAwMDAwMDAwMSA1LjAwMDAwMDAwMDAwMDAwMSBDIC0zLjY3Mzk4NDUwMDAwMDAwMDQgNi4zMjYwMTU1MDAwMDAwMDA1IC0xLjg3NTI2OTEwNDAxNjk0MTEgNy4wNzEwNjc4MTE4NjU0NzU1IDAuMCA3LjA3MTA2NzgxMTg2NTQ3NTUgWlwiIHN0cm9rZT1cIiMwMDdGMDBcIiBzdHJva2Utd2lkdGg9XCIxLjBcIiBzdHJva2Utb3BhY2l0eT1cIjAuOTlcIiBmaWxsPVwiIzAwN0YwMFwiIGZpbGwtb3BhY2l0eT1cIjAuOTlcIiAvPjwvc3ZnPiIsICJhbmNob3JfeCI6IDkuMCwgImFuY2hvcl95IjogOS4wfX0sIHsidHlwZSI6ICJGZWF0dXJlIiwgImdlb21ldHJ5IjogeyJ0eXBlIjogIlBvaW50IiwgImNvb3JkaW5hdGVzIjogWy00Ni43ODkyNzIxMDAwMDAwMDUsIC0yMy42MDA0ODY2XX0sICJwcm9wZXJ0aWVzIjogeyJodG1sIjogIjxzdmcgd2lkdGg9XCIxOHB4XCIgaGVpZ2h0PVwiMThweFwiIHZpZXdCb3g9XCItOS4wIC05LjAgMTguMCAxOC4wXCIgeG1sbnM9XCJodHRwOi8vd3d3LnczLm9yZy8yMDAwL3N2Z1wiIHZlcnNpb249XCIxLjFcIj4gIDxwYXRoIGQ9XCJNIDAuMCA3LjA3MTA2NzgxMTg2NTQ3NTUgQyAxLjg3NTI2OTEwNDAxNjk0MTEgNy4wNzEwNjc4MTE4NjU0NzU1IDMuNjczOTg0NTAwMDAwMDAwNCA2LjMyNjAxNTUwMDAwMDAwMDUgNS4wMDAwMDAwMDAwMDAwMDEgNS4wMDAwMDAwMDAwMDAwMDEgQyA2LjMyNjAxNTUwMDAwMDAwMDUgMy42NzM5ODQ1MDAwMDAwMDA0IDcuMDcxMDY3ODExODY1NDc1NSAxLjg3NTI2OTEwNDAxNjk0MTEgNy4wNzEwNjc4MTE4NjU0NzU1IC0wLjAgQyA3LjA3MTA2NzgxMTg2NTQ3NTUgLTEuODc1MjY5MTA0MDE2OTQxMSA2LjMyNjAxNTUwMDAwMDAwMDUgLTMuNjczOTg0NTAwMDAwMDAwNCA1LjAwMDAwMDAwMDAwMDAwMSAtNS4wMDAwMDAwMDAwMDAwMDEgQyAzLjY3Mzk4NDUwMDAwMDAwMDQgLTYuMzI2MDE1NTAwMDAwMDAwNSAxLjg3NTI2OTEwNDAxNjk0MTEgLTcuMDcxMDY3ODExODY1NDc1NSAwLjAgLTcuMDcxMDY3ODExODY1NDc1NSBDIC0xLjg3NTI2OTEwNDAxNjk0MTEgLTcuMDcxMDY3ODExODY1NDc1NSAtMy42NzM5ODQ1MDAwMDAwMDA0IC02LjMyNjAxNTUwMDAwMDAwMDUgLTUuMDAwMDAwMDAwMDAwMDAxIC01LjAwMDAwMDAwMDAwMDAwMSBDIC02LjMyNjAxNTUwMDAwMDAwMDUgLTMuNjczOTg0NTAwMDAwMDAwNCAtNy4wNzEwNjc4MTE4NjU0NzU1IC0xLjg3NTI2OTEwNDAxNjk0MTEgLTcuMDcxMDY3ODExODY1NDc1NSAtMC4wIEMgLTcuMDcxMDY3ODExODY1NDc1NSAxLjg3NTI2OTEwNDAxNjk0MTEgLTYuMzI2MDE1NTAwMDAwMDAwNSAzLjY3Mzk4NDUwMDAwMDAwMDQgLTUuMDAwMDAwMDAwMDAwMDAxIDUuMDAwMDAwMDAwMDAwMDAxIEMgLTMuNjczOTg0NTAwMDAwMDAwNCA2LjMyNjAxNTUwMDAwMDAwMDUgLTEuODc1MjY5MTA0MDE2OTQxMSA3LjA3MTA2NzgxMTg2NTQ3NTUgMC4wIDcuMDcxMDY3ODExODY1NDc1NSBaXCIgc3Ryb2tlPVwiIzAwN0YwMFwiIHN0cm9rZS13aWR0aD1cIjEuMFwiIHN0cm9rZS1vcGFjaXR5PVwiMC45OVwiIGZpbGw9XCIjMDA3RjAwXCIgZmlsbC1vcGFjaXR5PVwiMC45OVwiIC8+PC9zdmc+IiwgImFuY2hvcl94IjogOS4wLCAiYW5jaG9yX3kiOiA5LjB9fSwgeyJ0eXBlIjogIkZlYXR1cmUiLCAiZ2VvbWV0cnkiOiB7InR5cGUiOiAiUG9pbnQiLCAiY29vcmRpbmF0ZXMiOiBbLTQ2LjcyOTg5NzksIC0yMy42MjAzNjIyXX0sICJwcm9wZXJ0aWVzIjogeyJodG1sIjogIjxzdmcgd2lkdGg9XCIxOHB4XCIgaGVpZ2h0PVwiMThweFwiIHZpZXdCb3g9XCItOS4wIC05LjAgMTguMCAxOC4wXCIgeG1sbnM9XCJodHRwOi8vd3d3LnczLm9yZy8yMDAwL3N2Z1wiIHZlcnNpb249XCIxLjFcIj4gIDxwYXRoIGQ9XCJNIDAuMCA3LjA3MTA2NzgxMTg2NTQ3NTUgQyAxLjg3NTI2OTEwNDAxNjk0MTEgNy4wNzEwNjc4MTE4NjU0NzU1IDMuNjczOTg0NTAwMDAwMDAwNCA2LjMyNjAxNTUwMDAwMDAwMDUgNS4wMDAwMDAwMDAwMDAwMDEgNS4wMDAwMDAwMDAwMDAwMDEgQyA2LjMyNjAxNTUwMDAwMDAwMDUgMy42NzM5ODQ1MDAwMDAwMDA0IDcuMDcxMDY3ODExODY1NDc1NSAxLjg3NTI2OTEwNDAxNjk0MTEgNy4wNzEwNjc4MTE4NjU0NzU1IC0wLjAgQyA3LjA3MTA2NzgxMTg2NTQ3NTUgLTEuODc1MjY5MTA0MDE2OTQxMSA2LjMyNjAxNTUwMDAwMDAwMDUgLTMuNjczOTg0NTAwMDAwMDAwNCA1LjAwMDAwMDAwMDAwMDAwMSAtNS4wMDAwMDAwMDAwMDAwMDEgQyAzLjY3Mzk4NDUwMDAwMDAwMDQgLTYuMzI2MDE1NTAwMDAwMDAwNSAxLjg3NTI2OTEwNDAxNjk0MTEgLTcuMDcxMDY3ODExODY1NDc1NSAwLjAgLTcuMDcxMDY3ODExODY1NDc1NSBDIC0xLjg3NTI2OTEwNDAxNjk0MTEgLTcuMDcxMDY3ODExODY1NDc1NSAtMy42NzM5ODQ1MDAwMDAwMDA0IC02LjMyNjAxNTUwMDAwMDAwMDUgLTUuMDAwMDAwMDAwMDAwMDAxIC01LjAwMDAwMDAwMDAwMDAwMSBDIC02LjMyNjAxNTUwMDAwMDAwMDUgLTMuNjczOTg0NTAwMDAwMDAwNCAtNy4wNzEwNjc4MTE4NjU0NzU1IC0xLjg3NTI2OTEwNDAxNjk0MTEgLTcuMDcxMDY3ODExODY1NDc1NSAtMC4wIEMgLTcuMDcxMDY3ODExODY1NDc1NSAxLjg3NTI2OTEwNDAxNjk0MTEgLTYuMzI2MDE1NTAwMDAwMDAwNSAzLjY3Mzk4NDUwMDAwMDAwMDQgLTUuMDAwMDAwMDAwMDAwMDAxIDUuMDAwMDAwMDAwMDAwMDAxIEMgLTMuNjczOTg0NTAwMDAwMDAwNCA2LjMyNjAxNTUwMDAwMDAwMDUgLTEuODc1MjY5MTA0MDE2OTQxMSA3LjA3MTA2NzgxMTg2NTQ3NTUgMC4wIDcuMDcxMDY3ODExODY1NDc1NSBaXCIgc3Ryb2tlPVwiIzAwN0YwMFwiIHN0cm9rZS13aWR0aD1cIjEuMFwiIHN0cm9rZS1vcGFjaXR5PVwiMC45OVwiIGZpbGw9XCIjMDA3RjAwXCIgZmlsbC1vcGFjaXR5PVwiMC45OVwiIC8+PC9zdmc+IiwgImFuY2hvcl94IjogOS4wLCAiYW5jaG9yX3kiOiA5LjB9fSwgeyJ0eXBlIjogIkZlYXR1cmUiLCAiZ2VvbWV0cnkiOiB7InR5cGUiOiAiUG9pbnQiLCAiY29vcmRpbmF0ZXMiOiBbLTQ2LjYzNTg1ODI5OTk5OTk5NSwgLTIzLjY2NzYyMzAwMDAwMDAwM119LCAicHJvcGVydGllcyI6IHsiaHRtbCI6ICI8c3ZnIHdpZHRoPVwiMThweFwiIGhlaWdodD1cIjE4cHhcIiB2aWV3Qm94PVwiLTkuMCAtOS4wIDE4LjAgMTguMFwiIHhtbG5zPVwiaHR0cDovL3d3dy53My5vcmcvMjAwMC9zdmdcIiB2ZXJzaW9uPVwiMS4xXCI+ICA8cGF0aCBkPVwiTSAwLjAgNy4wNzEwNjc4MTE4NjU0NzU1IEMgMS44NzUyNjkxMDQwMTY5NDExIDcuMDcxMDY3ODExODY1NDc1NSAzLjY3Mzk4NDUwMDAwMDAwMDQgNi4zMjYwMTU1MDAwMDAwMDA1IDUuMDAwMDAwMDAwMDAwMDAxIDUuMDAwMDAwMDAwMDAwMDAxIEMgNi4zMjYwMTU1MDAwMDAwMDA1IDMuNjczOTg0NTAwMDAwMDAwNCA3LjA3MTA2NzgxMTg2NTQ3NTUgMS44NzUyNjkxMDQwMTY5NDExIDcuMDcxMDY3ODExODY1NDc1NSAtMC4wIEMgNy4wNzEwNjc4MTE4NjU0NzU1IC0xLjg3NTI2OTEwNDAxNjk0MTEgNi4zMjYwMTU1MDAwMDAwMDA1IC0zLjY3Mzk4NDUwMDAwMDAwMDQgNS4wMDAwMDAwMDAwMDAwMDEgLTUuMDAwMDAwMDAwMDAwMDAxIEMgMy42NzM5ODQ1MDAwMDAwMDA0IC02LjMyNjAxNTUwMDAwMDAwMDUgMS44NzUyNjkxMDQwMTY5NDExIC03LjA3MTA2NzgxMTg2NTQ3NTUgMC4wIC03LjA3MTA2NzgxMTg2NTQ3NTUgQyAtMS44NzUyNjkxMDQwMTY5NDExIC03LjA3MTA2NzgxMTg2NTQ3NTUgLTMuNjczOTg0NTAwMDAwMDAwNCAtNi4zMjYwMTU1MDAwMDAwMDA1IC01LjAwMDAwMDAwMDAwMDAwMSAtNS4wMDAwMDAwMDAwMDAwMDEgQyAtNi4zMjYwMTU1MDAwMDAwMDA1IC0zLjY3Mzk4NDUwMDAwMDAwMDQgLTcuMDcxMDY3ODExODY1NDc1NSAtMS44NzUyNjkxMDQwMTY5NDExIC03LjA3MTA2NzgxMTg2NTQ3NTUgLTAuMCBDIC03LjA3MTA2NzgxMTg2NTQ3NTUgMS44NzUyNjkxMDQwMTY5NDExIC02LjMyNjAxNTUwMDAwMDAwMDUgMy42NzM5ODQ1MDAwMDAwMDA0IC01LjAwMDAwMDAwMDAwMDAwMSA1LjAwMDAwMDAwMDAwMDAwMSBDIC0zLjY3Mzk4NDUwMDAwMDAwMDQgNi4zMjYwMTU1MDAwMDAwMDA1IC0xLjg3NTI2OTEwNDAxNjk0MTEgNy4wNzEwNjc4MTE4NjU0NzU1IDAuMCA3LjA3MTA2NzgxMTg2NTQ3NTUgWlwiIHN0cm9rZT1cIiMwMDdGMDBcIiBzdHJva2Utd2lkdGg9XCIxLjBcIiBzdHJva2Utb3BhY2l0eT1cIjAuOTlcIiBmaWxsPVwiIzAwN0YwMFwiIGZpbGwtb3BhY2l0eT1cIjAuOTlcIiAvPjwvc3ZnPiIsICJhbmNob3JfeCI6IDkuMCwgImFuY2hvcl95IjogOS4wfX0sIHsidHlwZSI6ICJGZWF0dXJlIiwgImdlb21ldHJ5IjogeyJ0eXBlIjogIlBvaW50IiwgImNvb3JkaW5hdGVzIjogWy00Ni43Nzk1MTk1LCAtMjMuNjM2OTg5XX0sICJwcm9wZXJ0aWVzIjogeyJodG1sIjogIjxzdmcgd2lkdGg9XCIxOHB4XCIgaGVpZ2h0PVwiMThweFwiIHZpZXdCb3g9XCItOS4wIC05LjAgMTguMCAxOC4wXCIgeG1sbnM9XCJodHRwOi8vd3d3LnczLm9yZy8yMDAwL3N2Z1wiIHZlcnNpb249XCIxLjFcIj4gIDxwYXRoIGQ9XCJNIDAuMCA3LjA3MTA2NzgxMTg2NTQ3NTUgQyAxLjg3NTI2OTEwNDAxNjk0MTEgNy4wNzEwNjc4MTE4NjU0NzU1IDMuNjczOTg0NTAwMDAwMDAwNCA2LjMyNjAxNTUwMDAwMDAwMDUgNS4wMDAwMDAwMDAwMDAwMDEgNS4wMDAwMDAwMDAwMDAwMDEgQyA2LjMyNjAxNTUwMDAwMDAwMDUgMy42NzM5ODQ1MDAwMDAwMDA0IDcuMDcxMDY3ODExODY1NDc1NSAxLjg3NTI2OTEwNDAxNjk0MTEgNy4wNzEwNjc4MTE4NjU0NzU1IC0wLjAgQyA3LjA3MTA2NzgxMTg2NTQ3NTUgLTEuODc1MjY5MTA0MDE2OTQxMSA2LjMyNjAxNTUwMDAwMDAwMDUgLTMuNjczOTg0NTAwMDAwMDAwNCA1LjAwMDAwMDAwMDAwMDAwMSAtNS4wMDAwMDAwMDAwMDAwMDEgQyAzLjY3Mzk4NDUwMDAwMDAwMDQgLTYuMzI2MDE1NTAwMDAwMDAwNSAxLjg3NTI2OTEwNDAxNjk0MTEgLTcuMDcxMDY3ODExODY1NDc1NSAwLjAgLTcuMDcxMDY3ODExODY1NDc1NSBDIC0xLjg3NTI2OTEwNDAxNjk0MTEgLTcuMDcxMDY3ODExODY1NDc1NSAtMy42NzM5ODQ1MDAwMDAwMDA0IC02LjMyNjAxNTUwMDAwMDAwMDUgLTUuMDAwMDAwMDAwMDAwMDAxIC01LjAwMDAwMDAwMDAwMDAwMSBDIC02LjMyNjAxNTUwMDAwMDAwMDUgLTMuNjczOTg0NTAwMDAwMDAwNCAtNy4wNzEwNjc4MTE4NjU0NzU1IC0xLjg3NTI2OTEwNDAxNjk0MTEgLTcuMDcxMDY3ODExODY1NDc1NSAtMC4wIEMgLTcuMDcxMDY3ODExODY1NDc1NSAxLjg3NTI2OTEwNDAxNjk0MTEgLTYuMzI2MDE1NTAwMDAwMDAwNSAzLjY3Mzk4NDUwMDAwMDAwMDQgLTUuMDAwMDAwMDAwMDAwMDAxIDUuMDAwMDAwMDAwMDAwMDAxIEMgLTMuNjczOTg0NTAwMDAwMDAwNCA2LjMyNjAxNTUwMDAwMDAwMDUgLTEuODc1MjY5MTA0MDE2OTQxMSA3LjA3MTA2NzgxMTg2NTQ3NTUgMC4wIDcuMDcxMDY3ODExODY1NDc1NSBaXCIgc3Ryb2tlPVwiIzAwN0YwMFwiIHN0cm9rZS13aWR0aD1cIjEuMFwiIHN0cm9rZS1vcGFjaXR5PVwiMC45OVwiIGZpbGw9XCIjMDA3RjAwXCIgZmlsbC1vcGFjaXR5PVwiMC45OVwiIC8+PC9zdmc+IiwgImFuY2hvcl94IjogOS4wLCAiYW5jaG9yX3kiOiA5LjB9fSwgeyJ0eXBlIjogIkZlYXR1cmUiLCAiZ2VvbWV0cnkiOiB7InR5cGUiOiAiUG9pbnQiLCAiY29vcmRpbmF0ZXMiOiBbLTQ2Ljc2MjY5NDEsIC0yMy40ODEzMjk5XX0sICJwcm9wZXJ0aWVzIjogeyJodG1sIjogIjxzdmcgd2lkdGg9XCIxOHB4XCIgaGVpZ2h0PVwiMThweFwiIHZpZXdCb3g9XCItOS4wIC05LjAgMTguMCAxOC4wXCIgeG1sbnM9XCJodHRwOi8vd3d3LnczLm9yZy8yMDAwL3N2Z1wiIHZlcnNpb249XCIxLjFcIj4gIDxwYXRoIGQ9XCJNIDAuMCA3LjA3MTA2NzgxMTg2NTQ3NTUgQyAxLjg3NTI2OTEwNDAxNjk0MTEgNy4wNzEwNjc4MTE4NjU0NzU1IDMuNjczOTg0NTAwMDAwMDAwNCA2LjMyNjAxNTUwMDAwMDAwMDUgNS4wMDAwMDAwMDAwMDAwMDEgNS4wMDAwMDAwMDAwMDAwMDEgQyA2LjMyNjAxNTUwMDAwMDAwMDUgMy42NzM5ODQ1MDAwMDAwMDA0IDcuMDcxMDY3ODExODY1NDc1NSAxLjg3NTI2OTEwNDAxNjk0MTEgNy4wNzEwNjc4MTE4NjU0NzU1IC0wLjAgQyA3LjA3MTA2NzgxMTg2NTQ3NTUgLTEuODc1MjY5MTA0MDE2OTQxMSA2LjMyNjAxNTUwMDAwMDAwMDUgLTMuNjczOTg0NTAwMDAwMDAwNCA1LjAwMDAwMDAwMDAwMDAwMSAtNS4wMDAwMDAwMDAwMDAwMDEgQyAzLjY3Mzk4NDUwMDAwMDAwMDQgLTYuMzI2MDE1NTAwMDAwMDAwNSAxLjg3NTI2OTEwNDAxNjk0MTEgLTcuMDcxMDY3ODExODY1NDc1NSAwLjAgLTcuMDcxMDY3ODExODY1NDc1NSBDIC0xLjg3NTI2OTEwNDAxNjk0MTEgLTcuMDcxMDY3ODExODY1NDc1NSAtMy42NzM5ODQ1MDAwMDAwMDA0IC02LjMyNjAxNTUwMDAwMDAwMDUgLTUuMDAwMDAwMDAwMDAwMDAxIC01LjAwMDAwMDAwMDAwMDAwMSBDIC02LjMyNjAxNTUwMDAwMDAwMDUgLTMuNjczOTg0NTAwMDAwMDAwNCAtNy4wNzEwNjc4MTE4NjU0NzU1IC0xLjg3NTI2OTEwNDAxNjk0MTEgLTcuMDcxMDY3ODExODY1NDc1NSAtMC4wIEMgLTcuMDcxMDY3ODExODY1NDc1NSAxLjg3NTI2OTEwNDAxNjk0MTEgLTYuMzI2MDE1NTAwMDAwMDAwNSAzLjY3Mzk4NDUwMDAwMDAwMDQgLTUuMDAwMDAwMDAwMDAwMDAxIDUuMDAwMDAwMDAwMDAwMDAxIEMgLTMuNjczOTg0NTAwMDAwMDAwNCA2LjMyNjAxNTUwMDAwMDAwMDUgLTEuODc1MjY5MTA0MDE2OTQxMSA3LjA3MTA2NzgxMTg2NTQ3NTUgMC4wIDcuMDcxMDY3ODExODY1NDc1NSBaXCIgc3Ryb2tlPVwiI0ZGMDAwMFwiIHN0cm9rZS13aWR0aD1cIjEuMFwiIHN0cm9rZS1vcGFjaXR5PVwiMC43XCIgZmlsbD1cIiNGRjAwMDBcIiBmaWxsLW9wYWNpdHk9XCIwLjdcIiAvPjwvc3ZnPiIsICJhbmNob3JfeCI6IDkuMCwgImFuY2hvcl95IjogOS4wfX0sIHsidHlwZSI6ICJGZWF0dXJlIiwgImdlb21ldHJ5IjogeyJ0eXBlIjogIlBvaW50IiwgImNvb3JkaW5hdGVzIjogWy00Ni43NDM4ODI0LCAtMjMuNjQ3MDExMV19LCAicHJvcGVydGllcyI6IHsiaHRtbCI6ICI8c3ZnIHdpZHRoPVwiMThweFwiIGhlaWdodD1cIjE4cHhcIiB2aWV3Qm94PVwiLTkuMCAtOS4wIDE4LjAgMTguMFwiIHhtbG5zPVwiaHR0cDovL3d3dy53My5vcmcvMjAwMC9zdmdcIiB2ZXJzaW9uPVwiMS4xXCI+ICA8cGF0aCBkPVwiTSAwLjAgNy4wNzEwNjc4MTE4NjU0NzU1IEMgMS44NzUyNjkxMDQwMTY5NDExIDcuMDcxMDY3ODExODY1NDc1NSAzLjY3Mzk4NDUwMDAwMDAwMDQgNi4zMjYwMTU1MDAwMDAwMDA1IDUuMDAwMDAwMDAwMDAwMDAxIDUuMDAwMDAwMDAwMDAwMDAxIEMgNi4zMjYwMTU1MDAwMDAwMDA1IDMuNjczOTg0NTAwMDAwMDAwNCA3LjA3MTA2NzgxMTg2NTQ3NTUgMS44NzUyNjkxMDQwMTY5NDExIDcuMDcxMDY3ODExODY1NDc1NSAtMC4wIEMgNy4wNzEwNjc4MTE4NjU0NzU1IC0xLjg3NTI2OTEwNDAxNjk0MTEgNi4zMjYwMTU1MDAwMDAwMDA1IC0zLjY3Mzk4NDUwMDAwMDAwMDQgNS4wMDAwMDAwMDAwMDAwMDEgLTUuMDAwMDAwMDAwMDAwMDAxIEMgMy42NzM5ODQ1MDAwMDAwMDA0IC02LjMyNjAxNTUwMDAwMDAwMDUgMS44NzUyNjkxMDQwMTY5NDExIC03LjA3MTA2NzgxMTg2NTQ3NTUgMC4wIC03LjA3MTA2NzgxMTg2NTQ3NTUgQyAtMS44NzUyNjkxMDQwMTY5NDExIC03LjA3MTA2NzgxMTg2NTQ3NTUgLTMuNjczOTg0NTAwMDAwMDAwNCAtNi4zMjYwMTU1MDAwMDAwMDA1IC01LjAwMDAwMDAwMDAwMDAwMSAtNS4wMDAwMDAwMDAwMDAwMDEgQyAtNi4zMjYwMTU1MDAwMDAwMDA1IC0zLjY3Mzk4NDUwMDAwMDAwMDQgLTcuMDcxMDY3ODExODY1NDc1NSAtMS44NzUyNjkxMDQwMTY5NDExIC03LjA3MTA2NzgxMTg2NTQ3NTUgLTAuMCBDIC03LjA3MTA2NzgxMTg2NTQ3NTUgMS44NzUyNjkxMDQwMTY5NDExIC02LjMyNjAxNTUwMDAwMDAwMDUgMy42NzM5ODQ1MDAwMDAwMDA0IC01LjAwMDAwMDAwMDAwMDAwMSA1LjAwMDAwMDAwMDAwMDAwMSBDIC0zLjY3Mzk4NDUwMDAwMDAwMDQgNi4zMjYwMTU1MDAwMDAwMDA1IC0xLjg3NTI2OTEwNDAxNjk0MTEgNy4wNzEwNjc4MTE4NjU0NzU1IDAuMCA3LjA3MTA2NzgxMTg2NTQ3NTUgWlwiIHN0cm9rZT1cIiNGRjAwMDBcIiBzdHJva2Utd2lkdGg9XCIxLjBcIiBzdHJva2Utb3BhY2l0eT1cIjAuN1wiIGZpbGw9XCIjRkYwMDAwXCIgZmlsbC1vcGFjaXR5PVwiMC43XCIgLz48L3N2Zz4iLCAiYW5jaG9yX3giOiA5LjAsICJhbmNob3JfeSI6IDkuMH19LCB7InR5cGUiOiAiRmVhdHVyZSIsICJnZW9tZXRyeSI6IHsidHlwZSI6ICJQb2ludCIsICJjb29yZGluYXRlcyI6IFstNDYuNTg0Mzc1LCAtMjMuNjIxNDE4OV19LCAicHJvcGVydGllcyI6IHsiaHRtbCI6ICI8c3ZnIHdpZHRoPVwiMThweFwiIGhlaWdodD1cIjE4cHhcIiB2aWV3Qm94PVwiLTkuMCAtOS4wIDE4LjAgMTguMFwiIHhtbG5zPVwiaHR0cDovL3d3dy53My5vcmcvMjAwMC9zdmdcIiB2ZXJzaW9uPVwiMS4xXCI+ICA8cGF0aCBkPVwiTSAwLjAgNy4wNzEwNjc4MTE4NjU0NzU1IEMgMS44NzUyNjkxMDQwMTY5NDExIDcuMDcxMDY3ODExODY1NDc1NSAzLjY3Mzk4NDUwMDAwMDAwMDQgNi4zMjYwMTU1MDAwMDAwMDA1IDUuMDAwMDAwMDAwMDAwMDAxIDUuMDAwMDAwMDAwMDAwMDAxIEMgNi4zMjYwMTU1MDAwMDAwMDA1IDMuNjczOTg0NTAwMDAwMDAwNCA3LjA3MTA2NzgxMTg2NTQ3NTUgMS44NzUyNjkxMDQwMTY5NDExIDcuMDcxMDY3ODExODY1NDc1NSAtMC4wIEMgNy4wNzEwNjc4MTE4NjU0NzU1IC0xLjg3NTI2OTEwNDAxNjk0MTEgNi4zMjYwMTU1MDAwMDAwMDA1IC0zLjY3Mzk4NDUwMDAwMDAwMDQgNS4wMDAwMDAwMDAwMDAwMDEgLTUuMDAwMDAwMDAwMDAwMDAxIEMgMy42NzM5ODQ1MDAwMDAwMDA0IC02LjMyNjAxNTUwMDAwMDAwMDUgMS44NzUyNjkxMDQwMTY5NDExIC03LjA3MTA2NzgxMTg2NTQ3NTUgMC4wIC03LjA3MTA2NzgxMTg2NTQ3NTUgQyAtMS44NzUyNjkxMDQwMTY5NDExIC03LjA3MTA2NzgxMTg2NTQ3NTUgLTMuNjczOTg0NTAwMDAwMDAwNCAtNi4zMjYwMTU1MDAwMDAwMDA1IC01LjAwMDAwMDAwMDAwMDAwMSAtNS4wMDAwMDAwMDAwMDAwMDEgQyAtNi4zMjYwMTU1MDAwMDAwMDA1IC0zLjY3Mzk4NDUwMDAwMDAwMDQgLTcuMDcxMDY3ODExODY1NDc1NSAtMS44NzUyNjkxMDQwMTY5NDExIC03LjA3MTA2NzgxMTg2NTQ3NTUgLTAuMCBDIC03LjA3MTA2NzgxMTg2NTQ3NTUgMS44NzUyNjkxMDQwMTY5NDExIC02LjMyNjAxNTUwMDAwMDAwMDUgMy42NzM5ODQ1MDAwMDAwMDA0IC01LjAwMDAwMDAwMDAwMDAwMSA1LjAwMDAwMDAwMDAwMDAwMSBDIC0zLjY3Mzk4NDUwMDAwMDAwMDQgNi4zMjYwMTU1MDAwMDAwMDA1IC0xLjg3NTI2OTEwNDAxNjk0MTEgNy4wNzEwNjc4MTE4NjU0NzU1IDAuMCA3LjA3MTA2NzgxMTg2NTQ3NTUgWlwiIHN0cm9rZT1cIiNGRjAwMDBcIiBzdHJva2Utd2lkdGg9XCIxLjBcIiBzdHJva2Utb3BhY2l0eT1cIjAuN1wiIGZpbGw9XCIjRkYwMDAwXCIgZmlsbC1vcGFjaXR5PVwiMC43XCIgLz48L3N2Zz4iLCAiYW5jaG9yX3giOiA5LjAsICJhbmNob3JfeSI6IDkuMH19LCB7InR5cGUiOiAiRmVhdHVyZSIsICJnZW9tZXRyeSI6IHsidHlwZSI6ICJQb2ludCIsICJjb29yZGluYXRlcyI6IFstNDYuNjA5NDg2Mzk5OTk5OTksIC0yMy42NDM3NTFdfSwgInByb3BlcnRpZXMiOiB7Imh0bWwiOiAiPHN2ZyB3aWR0aD1cIjE4cHhcIiBoZWlnaHQ9XCIxOHB4XCIgdmlld0JveD1cIi05LjAgLTkuMCAxOC4wIDE4LjBcIiB4bWxucz1cImh0dHA6Ly93d3cudzMub3JnLzIwMDAvc3ZnXCIgdmVyc2lvbj1cIjEuMVwiPiAgPHBhdGggZD1cIk0gMC4wIDcuMDcxMDY3ODExODY1NDc1NSBDIDEuODc1MjY5MTA0MDE2OTQxMSA3LjA3MTA2NzgxMTg2NTQ3NTUgMy42NzM5ODQ1MDAwMDAwMDA0IDYuMzI2MDE1NTAwMDAwMDAwNSA1LjAwMDAwMDAwMDAwMDAwMSA1LjAwMDAwMDAwMDAwMDAwMSBDIDYuMzI2MDE1NTAwMDAwMDAwNSAzLjY3Mzk4NDUwMDAwMDAwMDQgNy4wNzEwNjc4MTE4NjU0NzU1IDEuODc1MjY5MTA0MDE2OTQxMSA3LjA3MTA2NzgxMTg2NTQ3NTUgLTAuMCBDIDcuMDcxMDY3ODExODY1NDc1NSAtMS44NzUyNjkxMDQwMTY5NDExIDYuMzI2MDE1NTAwMDAwMDAwNSAtMy42NzM5ODQ1MDAwMDAwMDA0IDUuMDAwMDAwMDAwMDAwMDAxIC01LjAwMDAwMDAwMDAwMDAwMSBDIDMuNjczOTg0NTAwMDAwMDAwNCAtNi4zMjYwMTU1MDAwMDAwMDA1IDEuODc1MjY5MTA0MDE2OTQxMSAtNy4wNzEwNjc4MTE4NjU0NzU1IDAuMCAtNy4wNzEwNjc4MTE4NjU0NzU1IEMgLTEuODc1MjY5MTA0MDE2OTQxMSAtNy4wNzEwNjc4MTE4NjU0NzU1IC0zLjY3Mzk4NDUwMDAwMDAwMDQgLTYuMzI2MDE1NTAwMDAwMDAwNSAtNS4wMDAwMDAwMDAwMDAwMDEgLTUuMDAwMDAwMDAwMDAwMDAxIEMgLTYuMzI2MDE1NTAwMDAwMDAwNSAtMy42NzM5ODQ1MDAwMDAwMDA0IC03LjA3MTA2NzgxMTg2NTQ3NTUgLTEuODc1MjY5MTA0MDE2OTQxMSAtNy4wNzEwNjc4MTE4NjU0NzU1IC0wLjAgQyAtNy4wNzEwNjc4MTE4NjU0NzU1IDEuODc1MjY5MTA0MDE2OTQxMSAtNi4zMjYwMTU1MDAwMDAwMDA1IDMuNjczOTg0NTAwMDAwMDAwNCAtNS4wMDAwMDAwMDAwMDAwMDEgNS4wMDAwMDAwMDAwMDAwMDEgQyAtMy42NzM5ODQ1MDAwMDAwMDA0IDYuMzI2MDE1NTAwMDAwMDAwNSAtMS44NzUyNjkxMDQwMTY5NDExIDcuMDcxMDY3ODExODY1NDc1NSAwLjAgNy4wNzEwNjc4MTE4NjU0NzU1IFpcIiBzdHJva2U9XCIjRkYwMDAwXCIgc3Ryb2tlLXdpZHRoPVwiMS4wXCIgc3Ryb2tlLW9wYWNpdHk9XCIwLjdcIiBmaWxsPVwiI0ZGMDAwMFwiIGZpbGwtb3BhY2l0eT1cIjAuN1wiIC8+PC9zdmc+IiwgImFuY2hvcl94IjogOS4wLCAiYW5jaG9yX3kiOiA5LjB9fSwgeyJ0eXBlIjogIkZlYXR1cmUiLCAiZ2VvbWV0cnkiOiB7InR5cGUiOiAiUG9pbnQiLCAiY29vcmRpbmF0ZXMiOiBbLTQ2LjU5MDc5NDgsIC0yMy42MjIxNzIxOTk5OTk5OThdfSwgInByb3BlcnRpZXMiOiB7Imh0bWwiOiAiPHN2ZyB3aWR0aD1cIjE4cHhcIiBoZWlnaHQ9XCIxOHB4XCIgdmlld0JveD1cIi05LjAgLTkuMCAxOC4wIDE4LjBcIiB4bWxucz1cImh0dHA6Ly93d3cudzMub3JnLzIwMDAvc3ZnXCIgdmVyc2lvbj1cIjEuMVwiPiAgPHBhdGggZD1cIk0gMC4wIDcuMDcxMDY3ODExODY1NDc1NSBDIDEuODc1MjY5MTA0MDE2OTQxMSA3LjA3MTA2NzgxMTg2NTQ3NTUgMy42NzM5ODQ1MDAwMDAwMDA0IDYuMzI2MDE1NTAwMDAwMDAwNSA1LjAwMDAwMDAwMDAwMDAwMSA1LjAwMDAwMDAwMDAwMDAwMSBDIDYuMzI2MDE1NTAwMDAwMDAwNSAzLjY3Mzk4NDUwMDAwMDAwMDQgNy4wNzEwNjc4MTE4NjU0NzU1IDEuODc1MjY5MTA0MDE2OTQxMSA3LjA3MTA2NzgxMTg2NTQ3NTUgLTAuMCBDIDcuMDcxMDY3ODExODY1NDc1NSAtMS44NzUyNjkxMDQwMTY5NDExIDYuMzI2MDE1NTAwMDAwMDAwNSAtMy42NzM5ODQ1MDAwMDAwMDA0IDUuMDAwMDAwMDAwMDAwMDAxIC01LjAwMDAwMDAwMDAwMDAwMSBDIDMuNjczOTg0NTAwMDAwMDAwNCAtNi4zMjYwMTU1MDAwMDAwMDA1IDEuODc1MjY5MTA0MDE2OTQxMSAtNy4wNzEwNjc4MTE4NjU0NzU1IDAuMCAtNy4wNzEwNjc4MTE4NjU0NzU1IEMgLTEuODc1MjY5MTA0MDE2OTQxMSAtNy4wNzEwNjc4MTE4NjU0NzU1IC0zLjY3Mzk4NDUwMDAwMDAwMDQgLTYuMzI2MDE1NTAwMDAwMDAwNSAtNS4wMDAwMDAwMDAwMDAwMDEgLTUuMDAwMDAwMDAwMDAwMDAxIEMgLTYuMzI2MDE1NTAwMDAwMDAwNSAtMy42NzM5ODQ1MDAwMDAwMDA0IC03LjA3MTA2NzgxMTg2NTQ3NTUgLTEuODc1MjY5MTA0MDE2OTQxMSAtNy4wNzEwNjc4MTE4NjU0NzU1IC0wLjAgQyAtNy4wNzEwNjc4MTE4NjU0NzU1IDEuODc1MjY5MTA0MDE2OTQxMSAtNi4zMjYwMTU1MDAwMDAwMDA1IDMuNjczOTg0NTAwMDAwMDAwNCAtNS4wMDAwMDAwMDAwMDAwMDEgNS4wMDAwMDAwMDAwMDAwMDEgQyAtMy42NzM5ODQ1MDAwMDAwMDA0IDYuMzI2MDE1NTAwMDAwMDAwNSAtMS44NzUyNjkxMDQwMTY5NDExIDcuMDcxMDY3ODExODY1NDc1NSAwLjAgNy4wNzEwNjc4MTE4NjU0NzU1IFpcIiBzdHJva2U9XCIjRkYwMDAwXCIgc3Ryb2tlLXdpZHRoPVwiMS4wXCIgc3Ryb2tlLW9wYWNpdHk9XCIwLjdcIiBmaWxsPVwiI0ZGMDAwMFwiIGZpbGwtb3BhY2l0eT1cIjAuN1wiIC8+PC9zdmc+IiwgImFuY2hvcl94IjogOS4wLCAiYW5jaG9yX3kiOiA5LjB9fSwgeyJ0eXBlIjogIkZlYXR1cmUiLCAiZ2VvbWV0cnkiOiB7InR5cGUiOiAiUG9pbnQiLCAiY29vcmRpbmF0ZXMiOiBbLTQ2Ljc4NTk2MzIwMDAwMDAwNSwgLTIzLjY0OTY0NTVdfSwgInByb3BlcnRpZXMiOiB7Imh0bWwiOiAiPHN2ZyB3aWR0aD1cIjE4cHhcIiBoZWlnaHQ9XCIxOHB4XCIgdmlld0JveD1cIi05LjAgLTkuMCAxOC4wIDE4LjBcIiB4bWxucz1cImh0dHA6Ly93d3cudzMub3JnLzIwMDAvc3ZnXCIgdmVyc2lvbj1cIjEuMVwiPiAgPHBhdGggZD1cIk0gMC4wIDcuMDcxMDY3ODExODY1NDc1NSBDIDEuODc1MjY5MTA0MDE2OTQxMSA3LjA3MTA2NzgxMTg2NTQ3NTUgMy42NzM5ODQ1MDAwMDAwMDA0IDYuMzI2MDE1NTAwMDAwMDAwNSA1LjAwMDAwMDAwMDAwMDAwMSA1LjAwMDAwMDAwMDAwMDAwMSBDIDYuMzI2MDE1NTAwMDAwMDAwNSAzLjY3Mzk4NDUwMDAwMDAwMDQgNy4wNzEwNjc4MTE4NjU0NzU1IDEuODc1MjY5MTA0MDE2OTQxMSA3LjA3MTA2NzgxMTg2NTQ3NTUgLTAuMCBDIDcuMDcxMDY3ODExODY1NDc1NSAtMS44NzUyNjkxMDQwMTY5NDExIDYuMzI2MDE1NTAwMDAwMDAwNSAtMy42NzM5ODQ1MDAwMDAwMDA0IDUuMDAwMDAwMDAwMDAwMDAxIC01LjAwMDAwMDAwMDAwMDAwMSBDIDMuNjczOTg0NTAwMDAwMDAwNCAtNi4zMjYwMTU1MDAwMDAwMDA1IDEuODc1MjY5MTA0MDE2OTQxMSAtNy4wNzEwNjc4MTE4NjU0NzU1IDAuMCAtNy4wNzEwNjc4MTE4NjU0NzU1IEMgLTEuODc1MjY5MTA0MDE2OTQxMSAtNy4wNzEwNjc4MTE4NjU0NzU1IC0zLjY3Mzk4NDUwMDAwMDAwMDQgLTYuMzI2MDE1NTAwMDAwMDAwNSAtNS4wMDAwMDAwMDAwMDAwMDEgLTUuMDAwMDAwMDAwMDAwMDAxIEMgLTYuMzI2MDE1NTAwMDAwMDAwNSAtMy42NzM5ODQ1MDAwMDAwMDA0IC03LjA3MTA2NzgxMTg2NTQ3NTUgLTEuODc1MjY5MTA0MDE2OTQxMSAtNy4wNzEwNjc4MTE4NjU0NzU1IC0wLjAgQyAtNy4wNzEwNjc4MTE4NjU0NzU1IDEuODc1MjY5MTA0MDE2OTQxMSAtNi4zMjYwMTU1MDAwMDAwMDA1IDMuNjczOTg0NTAwMDAwMDAwNCAtNS4wMDAwMDAwMDAwMDAwMDEgNS4wMDAwMDAwMDAwMDAwMDEgQyAtMy42NzM5ODQ1MDAwMDAwMDA0IDYuMzI2MDE1NTAwMDAwMDAwNSAtMS44NzUyNjkxMDQwMTY5NDExIDcuMDcxMDY3ODExODY1NDc1NSAwLjAgNy4wNzEwNjc4MTE4NjU0NzU1IFpcIiBzdHJva2U9XCIjRkYwMDAwXCIgc3Ryb2tlLXdpZHRoPVwiMS4wXCIgc3Ryb2tlLW9wYWNpdHk9XCIwLjdcIiBmaWxsPVwiI0ZGMDAwMFwiIGZpbGwtb3BhY2l0eT1cIjAuN1wiIC8+PC9zdmc+IiwgImFuY2hvcl94IjogOS4wLCAiYW5jaG9yX3kiOiA5LjB9fSwgeyJ0eXBlIjogIkZlYXR1cmUiLCAiZ2VvbWV0cnkiOiB7InR5cGUiOiAiUG9pbnQiLCAiY29vcmRpbmF0ZXMiOiBbLTQ2LjQ5NjExNjYsIC0yMy40OTg3Nzk5XX0sICJwcm9wZXJ0aWVzIjogeyJodG1sIjogIjxzdmcgd2lkdGg9XCIxOHB4XCIgaGVpZ2h0PVwiMThweFwiIHZpZXdCb3g9XCItOS4wIC05LjAgMTguMCAxOC4wXCIgeG1sbnM9XCJodHRwOi8vd3d3LnczLm9yZy8yMDAwL3N2Z1wiIHZlcnNpb249XCIxLjFcIj4gIDxwYXRoIGQ9XCJNIDAuMCA3LjA3MTA2NzgxMTg2NTQ3NTUgQyAxLjg3NTI2OTEwNDAxNjk0MTEgNy4wNzEwNjc4MTE4NjU0NzU1IDMuNjczOTg0NTAwMDAwMDAwNCA2LjMyNjAxNTUwMDAwMDAwMDUgNS4wMDAwMDAwMDAwMDAwMDEgNS4wMDAwMDAwMDAwMDAwMDEgQyA2LjMyNjAxNTUwMDAwMDAwMDUgMy42NzM5ODQ1MDAwMDAwMDA0IDcuMDcxMDY3ODExODY1NDc1NSAxLjg3NTI2OTEwNDAxNjk0MTEgNy4wNzEwNjc4MTE4NjU0NzU1IC0wLjAgQyA3LjA3MTA2NzgxMTg2NTQ3NTUgLTEuODc1MjY5MTA0MDE2OTQxMSA2LjMyNjAxNTUwMDAwMDAwMDUgLTMuNjczOTg0NTAwMDAwMDAwNCA1LjAwMDAwMDAwMDAwMDAwMSAtNS4wMDAwMDAwMDAwMDAwMDEgQyAzLjY3Mzk4NDUwMDAwMDAwMDQgLTYuMzI2MDE1NTAwMDAwMDAwNSAxLjg3NTI2OTEwNDAxNjk0MTEgLTcuMDcxMDY3ODExODY1NDc1NSAwLjAgLTcuMDcxMDY3ODExODY1NDc1NSBDIC0xLjg3NTI2OTEwNDAxNjk0MTEgLTcuMDcxMDY3ODExODY1NDc1NSAtMy42NzM5ODQ1MDAwMDAwMDA0IC02LjMyNjAxNTUwMDAwMDAwMDUgLTUuMDAwMDAwMDAwMDAwMDAxIC01LjAwMDAwMDAwMDAwMDAwMSBDIC02LjMyNjAxNTUwMDAwMDAwMDUgLTMuNjczOTg0NTAwMDAwMDAwNCAtNy4wNzEwNjc4MTE4NjU0NzU1IC0xLjg3NTI2OTEwNDAxNjk0MTEgLTcuMDcxMDY3ODExODY1NDc1NSAtMC4wIEMgLTcuMDcxMDY3ODExODY1NDc1NSAxLjg3NTI2OTEwNDAxNjk0MTEgLTYuMzI2MDE1NTAwMDAwMDAwNSAzLjY3Mzk4NDUwMDAwMDAwMDQgLTUuMDAwMDAwMDAwMDAwMDAxIDUuMDAwMDAwMDAwMDAwMDAxIEMgLTMuNjczOTg0NTAwMDAwMDAwNCA2LjMyNjAxNTUwMDAwMDAwMDUgLTEuODc1MjY5MTA0MDE2OTQxMSA3LjA3MTA2NzgxMTg2NTQ3NTUgMC4wIDcuMDcxMDY3ODExODY1NDc1NSBaXCIgc3Ryb2tlPVwiI0ZGMDAwMFwiIHN0cm9rZS13aWR0aD1cIjEuMFwiIHN0cm9rZS1vcGFjaXR5PVwiMC43XCIgZmlsbD1cIiNGRjAwMDBcIiBmaWxsLW9wYWNpdHk9XCIwLjdcIiAvPjwvc3ZnPiIsICJhbmNob3JfeCI6IDkuMCwgImFuY2hvcl95IjogOS4wfX0sIHsidHlwZSI6ICJGZWF0dXJlIiwgImdlb21ldHJ5IjogeyJ0eXBlIjogIlBvaW50IiwgImNvb3JkaW5hdGVzIjogWy00Ni43Njg0ODcsIC0yMy42NzM5NDhdfSwgInByb3BlcnRpZXMiOiB7Imh0bWwiOiAiPHN2ZyB3aWR0aD1cIjE4cHhcIiBoZWlnaHQ9XCIxOHB4XCIgdmlld0JveD1cIi05LjAgLTkuMCAxOC4wIDE4LjBcIiB4bWxucz1cImh0dHA6Ly93d3cudzMub3JnLzIwMDAvc3ZnXCIgdmVyc2lvbj1cIjEuMVwiPiAgPHBhdGggZD1cIk0gMC4wIDcuMDcxMDY3ODExODY1NDc1NSBDIDEuODc1MjY5MTA0MDE2OTQxMSA3LjA3MTA2NzgxMTg2NTQ3NTUgMy42NzM5ODQ1MDAwMDAwMDA0IDYuMzI2MDE1NTAwMDAwMDAwNSA1LjAwMDAwMDAwMDAwMDAwMSA1LjAwMDAwMDAwMDAwMDAwMSBDIDYuMzI2MDE1NTAwMDAwMDAwNSAzLjY3Mzk4NDUwMDAwMDAwMDQgNy4wNzEwNjc4MTE4NjU0NzU1IDEuODc1MjY5MTA0MDE2OTQxMSA3LjA3MTA2NzgxMTg2NTQ3NTUgLTAuMCBDIDcuMDcxMDY3ODExODY1NDc1NSAtMS44NzUyNjkxMDQwMTY5NDExIDYuMzI2MDE1NTAwMDAwMDAwNSAtMy42NzM5ODQ1MDAwMDAwMDA0IDUuMDAwMDAwMDAwMDAwMDAxIC01LjAwMDAwMDAwMDAwMDAwMSBDIDMuNjczOTg0NTAwMDAwMDAwNCAtNi4zMjYwMTU1MDAwMDAwMDA1IDEuODc1MjY5MTA0MDE2OTQxMSAtNy4wNzEwNjc4MTE4NjU0NzU1IDAuMCAtNy4wNzEwNjc4MTE4NjU0NzU1IEMgLTEuODc1MjY5MTA0MDE2OTQxMSAtNy4wNzEwNjc4MTE4NjU0NzU1IC0zLjY3Mzk4NDUwMDAwMDAwMDQgLTYuMzI2MDE1NTAwMDAwMDAwNSAtNS4wMDAwMDAwMDAwMDAwMDEgLTUuMDAwMDAwMDAwMDAwMDAxIEMgLTYuMzI2MDE1NTAwMDAwMDAwNSAtMy42NzM5ODQ1MDAwMDAwMDA0IC03LjA3MTA2NzgxMTg2NTQ3NTUgLTEuODc1MjY5MTA0MDE2OTQxMSAtNy4wNzEwNjc4MTE4NjU0NzU1IC0wLjAgQyAtNy4wNzEwNjc4MTE4NjU0NzU1IDEuODc1MjY5MTA0MDE2OTQxMSAtNi4zMjYwMTU1MDAwMDAwMDA1IDMuNjczOTg0NTAwMDAwMDAwNCAtNS4wMDAwMDAwMDAwMDAwMDEgNS4wMDAwMDAwMDAwMDAwMDEgQyAtMy42NzM5ODQ1MDAwMDAwMDA0IDYuMzI2MDE1NTAwMDAwMDAwNSAtMS44NzUyNjkxMDQwMTY5NDExIDcuMDcxMDY3ODExODY1NDc1NSAwLjAgNy4wNzEwNjc4MTE4NjU0NzU1IFpcIiBzdHJva2U9XCIjRkYwMDAwXCIgc3Ryb2tlLXdpZHRoPVwiMS4wXCIgc3Ryb2tlLW9wYWNpdHk9XCIwLjdcIiBmaWxsPVwiI0ZGMDAwMFwiIGZpbGwtb3BhY2l0eT1cIjAuN1wiIC8+PC9zdmc+IiwgImFuY2hvcl94IjogOS4wLCAiYW5jaG9yX3kiOiA5LjB9fSwgeyJ0eXBlIjogIkZlYXR1cmUiLCAiZ2VvbWV0cnkiOiB7InR5cGUiOiAiUG9pbnQiLCAiY29vcmRpbmF0ZXMiOiBbLTQ2LjUwMzA5NTUsIC0yMy41NzI1OTAxMDAwMDAwMDNdfSwgInByb3BlcnRpZXMiOiB7Imh0bWwiOiAiPHN2ZyB3aWR0aD1cIjE4cHhcIiBoZWlnaHQ9XCIxOHB4XCIgdmlld0JveD1cIi05LjAgLTkuMCAxOC4wIDE4LjBcIiB4bWxucz1cImh0dHA6Ly93d3cudzMub3JnLzIwMDAvc3ZnXCIgdmVyc2lvbj1cIjEuMVwiPiAgPHBhdGggZD1cIk0gMC4wIDcuMDcxMDY3ODExODY1NDc1NSBDIDEuODc1MjY5MTA0MDE2OTQxMSA3LjA3MTA2NzgxMTg2NTQ3NTUgMy42NzM5ODQ1MDAwMDAwMDA0IDYuMzI2MDE1NTAwMDAwMDAwNSA1LjAwMDAwMDAwMDAwMDAwMSA1LjAwMDAwMDAwMDAwMDAwMSBDIDYuMzI2MDE1NTAwMDAwMDAwNSAzLjY3Mzk4NDUwMDAwMDAwMDQgNy4wNzEwNjc4MTE4NjU0NzU1IDEuODc1MjY5MTA0MDE2OTQxMSA3LjA3MTA2NzgxMTg2NTQ3NTUgLTAuMCBDIDcuMDcxMDY3ODExODY1NDc1NSAtMS44NzUyNjkxMDQwMTY5NDExIDYuMzI2MDE1NTAwMDAwMDAwNSAtMy42NzM5ODQ1MDAwMDAwMDA0IDUuMDAwMDAwMDAwMDAwMDAxIC01LjAwMDAwMDAwMDAwMDAwMSBDIDMuNjczOTg0NTAwMDAwMDAwNCAtNi4zMjYwMTU1MDAwMDAwMDA1IDEuODc1MjY5MTA0MDE2OTQxMSAtNy4wNzEwNjc4MTE4NjU0NzU1IDAuMCAtNy4wNzEwNjc4MTE4NjU0NzU1IEMgLTEuODc1MjY5MTA0MDE2OTQxMSAtNy4wNzEwNjc4MTE4NjU0NzU1IC0zLjY3Mzk4NDUwMDAwMDAwMDQgLTYuMzI2MDE1NTAwMDAwMDAwNSAtNS4wMDAwMDAwMDAwMDAwMDEgLTUuMDAwMDAwMDAwMDAwMDAxIEMgLTYuMzI2MDE1NTAwMDAwMDAwNSAtMy42NzM5ODQ1MDAwMDAwMDA0IC03LjA3MTA2NzgxMTg2NTQ3NTUgLTEuODc1MjY5MTA0MDE2OTQxMSAtNy4wNzEwNjc4MTE4NjU0NzU1IC0wLjAgQyAtNy4wNzEwNjc4MTE4NjU0NzU1IDEuODc1MjY5MTA0MDE2OTQxMSAtNi4zMjYwMTU1MDAwMDAwMDA1IDMuNjczOTg0NTAwMDAwMDAwNCAtNS4wMDAwMDAwMDAwMDAwMDEgNS4wMDAwMDAwMDAwMDAwMDEgQyAtMy42NzM5ODQ1MDAwMDAwMDA0IDYuMzI2MDE1NTAwMDAwMDAwNSAtMS44NzUyNjkxMDQwMTY5NDExIDcuMDcxMDY3ODExODY1NDc1NSAwLjAgNy4wNzEwNjc4MTE4NjU0NzU1IFpcIiBzdHJva2U9XCIjRkYwMDAwXCIgc3Ryb2tlLXdpZHRoPVwiMS4wXCIgc3Ryb2tlLW9wYWNpdHk9XCIwLjdcIiBmaWxsPVwiI0ZGMDAwMFwiIGZpbGwtb3BhY2l0eT1cIjAuN1wiIC8+PC9zdmc+IiwgImFuY2hvcl94IjogOS4wLCAiYW5jaG9yX3kiOiA5LjB9fSwgeyJ0eXBlIjogIkZlYXR1cmUiLCAiZ2VvbWV0cnkiOiB7InR5cGUiOiAiUG9pbnQiLCAiY29vcmRpbmF0ZXMiOiBbLTQ2LjUyNTYxMTkwMDAwMDAxLCAtMjMuNTgwOTk2NV19LCAicHJvcGVydGllcyI6IHsiaHRtbCI6ICI8c3ZnIHdpZHRoPVwiMThweFwiIGhlaWdodD1cIjE4cHhcIiB2aWV3Qm94PVwiLTkuMCAtOS4wIDE4LjAgMTguMFwiIHhtbG5zPVwiaHR0cDovL3d3dy53My5vcmcvMjAwMC9zdmdcIiB2ZXJzaW9uPVwiMS4xXCI+ICA8cGF0aCBkPVwiTSAwLjAgNy4wNzEwNjc4MTE4NjU0NzU1IEMgMS44NzUyNjkxMDQwMTY5NDExIDcuMDcxMDY3ODExODY1NDc1NSAzLjY3Mzk4NDUwMDAwMDAwMDQgNi4zMjYwMTU1MDAwMDAwMDA1IDUuMDAwMDAwMDAwMDAwMDAxIDUuMDAwMDAwMDAwMDAwMDAxIEMgNi4zMjYwMTU1MDAwMDAwMDA1IDMuNjczOTg0NTAwMDAwMDAwNCA3LjA3MTA2NzgxMTg2NTQ3NTUgMS44NzUyNjkxMDQwMTY5NDExIDcuMDcxMDY3ODExODY1NDc1NSAtMC4wIEMgNy4wNzEwNjc4MTE4NjU0NzU1IC0xLjg3NTI2OTEwNDAxNjk0MTEgNi4zMjYwMTU1MDAwMDAwMDA1IC0zLjY3Mzk4NDUwMDAwMDAwMDQgNS4wMDAwMDAwMDAwMDAwMDEgLTUuMDAwMDAwMDAwMDAwMDAxIEMgMy42NzM5ODQ1MDAwMDAwMDA0IC02LjMyNjAxNTUwMDAwMDAwMDUgMS44NzUyNjkxMDQwMTY5NDExIC03LjA3MTA2NzgxMTg2NTQ3NTUgMC4wIC03LjA3MTA2NzgxMTg2NTQ3NTUgQyAtMS44NzUyNjkxMDQwMTY5NDExIC03LjA3MTA2NzgxMTg2NTQ3NTUgLTMuNjczOTg0NTAwMDAwMDAwNCAtNi4zMjYwMTU1MDAwMDAwMDA1IC01LjAwMDAwMDAwMDAwMDAwMSAtNS4wMDAwMDAwMDAwMDAwMDEgQyAtNi4zMjYwMTU1MDAwMDAwMDA1IC0zLjY3Mzk4NDUwMDAwMDAwMDQgLTcuMDcxMDY3ODExODY1NDc1NSAtMS44NzUyNjkxMDQwMTY5NDExIC03LjA3MTA2NzgxMTg2NTQ3NTUgLTAuMCBDIC03LjA3MTA2NzgxMTg2NTQ3NTUgMS44NzUyNjkxMDQwMTY5NDExIC02LjMyNjAxNTUwMDAwMDAwMDUgMy42NzM5ODQ1MDAwMDAwMDA0IC01LjAwMDAwMDAwMDAwMDAwMSA1LjAwMDAwMDAwMDAwMDAwMSBDIC0zLjY3Mzk4NDUwMDAwMDAwMDQgNi4zMjYwMTU1MDAwMDAwMDA1IC0xLjg3NTI2OTEwNDAxNjk0MTEgNy4wNzEwNjc4MTE4NjU0NzU1IDAuMCA3LjA3MTA2NzgxMTg2NTQ3NTUgWlwiIHN0cm9rZT1cIiNGRjAwMDBcIiBzdHJva2Utd2lkdGg9XCIxLjBcIiBzdHJva2Utb3BhY2l0eT1cIjAuN1wiIGZpbGw9XCIjRkYwMDAwXCIgZmlsbC1vcGFjaXR5PVwiMC43XCIgLz48L3N2Zz4iLCAiYW5jaG9yX3giOiA5LjAsICJhbmNob3JfeSI6IDkuMH19LCB7InR5cGUiOiAiRmVhdHVyZSIsICJnZW9tZXRyeSI6IHsidHlwZSI6ICJQb2ludCIsICJjb29yZGluYXRlcyI6IFstNDYuNTg0NTQxOSwgLTIzLjQ1NzA4MjNdfSwgInByb3BlcnRpZXMiOiB7Imh0bWwiOiAiPHN2ZyB3aWR0aD1cIjE4cHhcIiBoZWlnaHQ9XCIxOHB4XCIgdmlld0JveD1cIi05LjAgLTkuMCAxOC4wIDE4LjBcIiB4bWxucz1cImh0dHA6Ly93d3cudzMub3JnLzIwMDAvc3ZnXCIgdmVyc2lvbj1cIjEuMVwiPiAgPHBhdGggZD1cIk0gMC4wIDcuMDcxMDY3ODExODY1NDc1NSBDIDEuODc1MjY5MTA0MDE2OTQxMSA3LjA3MTA2NzgxMTg2NTQ3NTUgMy42NzM5ODQ1MDAwMDAwMDA0IDYuMzI2MDE1NTAwMDAwMDAwNSA1LjAwMDAwMDAwMDAwMDAwMSA1LjAwMDAwMDAwMDAwMDAwMSBDIDYuMzI2MDE1NTAwMDAwMDAwNSAzLjY3Mzk4NDUwMDAwMDAwMDQgNy4wNzEwNjc4MTE4NjU0NzU1IDEuODc1MjY5MTA0MDE2OTQxMSA3LjA3MTA2NzgxMTg2NTQ3NTUgLTAuMCBDIDcuMDcxMDY3ODExODY1NDc1NSAtMS44NzUyNjkxMDQwMTY5NDExIDYuMzI2MDE1NTAwMDAwMDAwNSAtMy42NzM5ODQ1MDAwMDAwMDA0IDUuMDAwMDAwMDAwMDAwMDAxIC01LjAwMDAwMDAwMDAwMDAwMSBDIDMuNjczOTg0NTAwMDAwMDAwNCAtNi4zMjYwMTU1MDAwMDAwMDA1IDEuODc1MjY5MTA0MDE2OTQxMSAtNy4wNzEwNjc4MTE4NjU0NzU1IDAuMCAtNy4wNzEwNjc4MTE4NjU0NzU1IEMgLTEuODc1MjY5MTA0MDE2OTQxMSAtNy4wNzEwNjc4MTE4NjU0NzU1IC0zLjY3Mzk4NDUwMDAwMDAwMDQgLTYuMzI2MDE1NTAwMDAwMDAwNSAtNS4wMDAwMDAwMDAwMDAwMDEgLTUuMDAwMDAwMDAwMDAwMDAxIEMgLTYuMzI2MDE1NTAwMDAwMDAwNSAtMy42NzM5ODQ1MDAwMDAwMDA0IC03LjA3MTA2NzgxMTg2NTQ3NTUgLTEuODc1MjY5MTA0MDE2OTQxMSAtNy4wNzEwNjc4MTE4NjU0NzU1IC0wLjAgQyAtNy4wNzEwNjc4MTE4NjU0NzU1IDEuODc1MjY5MTA0MDE2OTQxMSAtNi4zMjYwMTU1MDAwMDAwMDA1IDMuNjczOTg0NTAwMDAwMDAwNCAtNS4wMDAwMDAwMDAwMDAwMDEgNS4wMDAwMDAwMDAwMDAwMDEgQyAtMy42NzM5ODQ1MDAwMDAwMDA0IDYuMzI2MDE1NTAwMDAwMDAwNSAtMS44NzUyNjkxMDQwMTY5NDExIDcuMDcxMDY3ODExODY1NDc1NSAwLjAgNy4wNzEwNjc4MTE4NjU0NzU1IFpcIiBzdHJva2U9XCIjRkYwMDAwXCIgc3Ryb2tlLXdpZHRoPVwiMS4wXCIgc3Ryb2tlLW9wYWNpdHk9XCIwLjdcIiBmaWxsPVwiI0ZGMDAwMFwiIGZpbGwtb3BhY2l0eT1cIjAuN1wiIC8+PC9zdmc+IiwgImFuY2hvcl94IjogOS4wLCAiYW5jaG9yX3kiOiA5LjB9fSwgeyJ0eXBlIjogIkZlYXR1cmUiLCAiZ2VvbWV0cnkiOiB7InR5cGUiOiAiUG9pbnQiLCAiY29vcmRpbmF0ZXMiOiBbLTQ2Ljc2NTU4MDEsIC0yMy42OTY4NTMzXX0sICJwcm9wZXJ0aWVzIjogeyJodG1sIjogIjxzdmcgd2lkdGg9XCIxOHB4XCIgaGVpZ2h0PVwiMThweFwiIHZpZXdCb3g9XCItOS4wIC05LjAgMTguMCAxOC4wXCIgeG1sbnM9XCJodHRwOi8vd3d3LnczLm9yZy8yMDAwL3N2Z1wiIHZlcnNpb249XCIxLjFcIj4gIDxwYXRoIGQ9XCJNIDAuMCA3LjA3MTA2NzgxMTg2NTQ3NTUgQyAxLjg3NTI2OTEwNDAxNjk0MTEgNy4wNzEwNjc4MTE4NjU0NzU1IDMuNjczOTg0NTAwMDAwMDAwNCA2LjMyNjAxNTUwMDAwMDAwMDUgNS4wMDAwMDAwMDAwMDAwMDEgNS4wMDAwMDAwMDAwMDAwMDEgQyA2LjMyNjAxNTUwMDAwMDAwMDUgMy42NzM5ODQ1MDAwMDAwMDA0IDcuMDcxMDY3ODExODY1NDc1NSAxLjg3NTI2OTEwNDAxNjk0MTEgNy4wNzEwNjc4MTE4NjU0NzU1IC0wLjAgQyA3LjA3MTA2NzgxMTg2NTQ3NTUgLTEuODc1MjY5MTA0MDE2OTQxMSA2LjMyNjAxNTUwMDAwMDAwMDUgLTMuNjczOTg0NTAwMDAwMDAwNCA1LjAwMDAwMDAwMDAwMDAwMSAtNS4wMDAwMDAwMDAwMDAwMDEgQyAzLjY3Mzk4NDUwMDAwMDAwMDQgLTYuMzI2MDE1NTAwMDAwMDAwNSAxLjg3NTI2OTEwNDAxNjk0MTEgLTcuMDcxMDY3ODExODY1NDc1NSAwLjAgLTcuMDcxMDY3ODExODY1NDc1NSBDIC0xLjg3NTI2OTEwNDAxNjk0MTEgLTcuMDcxMDY3ODExODY1NDc1NSAtMy42NzM5ODQ1MDAwMDAwMDA0IC02LjMyNjAxNTUwMDAwMDAwMDUgLTUuMDAwMDAwMDAwMDAwMDAxIC01LjAwMDAwMDAwMDAwMDAwMSBDIC02LjMyNjAxNTUwMDAwMDAwMDUgLTMuNjczOTg0NTAwMDAwMDAwNCAtNy4wNzEwNjc4MTE4NjU0NzU1IC0xLjg3NTI2OTEwNDAxNjk0MTEgLTcuMDcxMDY3ODExODY1NDc1NSAtMC4wIEMgLTcuMDcxMDY3ODExODY1NDc1NSAxLjg3NTI2OTEwNDAxNjk0MTEgLTYuMzI2MDE1NTAwMDAwMDAwNSAzLjY3Mzk4NDUwMDAwMDAwMDQgLTUuMDAwMDAwMDAwMDAwMDAxIDUuMDAwMDAwMDAwMDAwMDAxIEMgLTMuNjczOTg0NTAwMDAwMDAwNCA2LjMyNjAxNTUwMDAwMDAwMDUgLTEuODc1MjY5MTA0MDE2OTQxMSA3LjA3MTA2NzgxMTg2NTQ3NTUgMC4wIDcuMDcxMDY3ODExODY1NDc1NSBaXCIgc3Ryb2tlPVwiI0ZGMDAwMFwiIHN0cm9rZS13aWR0aD1cIjEuMFwiIHN0cm9rZS1vcGFjaXR5PVwiMC43XCIgZmlsbD1cIiNGRjAwMDBcIiBmaWxsLW9wYWNpdHk9XCIwLjdcIiAvPjwvc3ZnPiIsICJhbmNob3JfeCI6IDkuMCwgImFuY2hvcl95IjogOS4wfX0sIHsidHlwZSI6ICJGZWF0dXJlIiwgImdlb21ldHJ5IjogeyJ0eXBlIjogIlBvaW50IiwgImNvb3JkaW5hdGVzIjogWy00Ni43OTM3MzksIC0yMy42ODYyMTEzOTk5OTk5OThdfSwgInByb3BlcnRpZXMiOiB7Imh0bWwiOiAiPHN2ZyB3aWR0aD1cIjE4cHhcIiBoZWlnaHQ9XCIxOHB4XCIgdmlld0JveD1cIi05LjAgLTkuMCAxOC4wIDE4LjBcIiB4bWxucz1cImh0dHA6Ly93d3cudzMub3JnLzIwMDAvc3ZnXCIgdmVyc2lvbj1cIjEuMVwiPiAgPHBhdGggZD1cIk0gMC4wIDcuMDcxMDY3ODExODY1NDc1NSBDIDEuODc1MjY5MTA0MDE2OTQxMSA3LjA3MTA2NzgxMTg2NTQ3NTUgMy42NzM5ODQ1MDAwMDAwMDA0IDYuMzI2MDE1NTAwMDAwMDAwNSA1LjAwMDAwMDAwMDAwMDAwMSA1LjAwMDAwMDAwMDAwMDAwMSBDIDYuMzI2MDE1NTAwMDAwMDAwNSAzLjY3Mzk4NDUwMDAwMDAwMDQgNy4wNzEwNjc4MTE4NjU0NzU1IDEuODc1MjY5MTA0MDE2OTQxMSA3LjA3MTA2NzgxMTg2NTQ3NTUgLTAuMCBDIDcuMDcxMDY3ODExODY1NDc1NSAtMS44NzUyNjkxMDQwMTY5NDExIDYuMzI2MDE1NTAwMDAwMDAwNSAtMy42NzM5ODQ1MDAwMDAwMDA0IDUuMDAwMDAwMDAwMDAwMDAxIC01LjAwMDAwMDAwMDAwMDAwMSBDIDMuNjczOTg0NTAwMDAwMDAwNCAtNi4zMjYwMTU1MDAwMDAwMDA1IDEuODc1MjY5MTA0MDE2OTQxMSAtNy4wNzEwNjc4MTE4NjU0NzU1IDAuMCAtNy4wNzEwNjc4MTE4NjU0NzU1IEMgLTEuODc1MjY5MTA0MDE2OTQxMSAtNy4wNzEwNjc4MTE4NjU0NzU1IC0zLjY3Mzk4NDUwMDAwMDAwMDQgLTYuMzI2MDE1NTAwMDAwMDAwNSAtNS4wMDAwMDAwMDAwMDAwMDEgLTUuMDAwMDAwMDAwMDAwMDAxIEMgLTYuMzI2MDE1NTAwMDAwMDAwNSAtMy42NzM5ODQ1MDAwMDAwMDA0IC03LjA3MTA2NzgxMTg2NTQ3NTUgLTEuODc1MjY5MTA0MDE2OTQxMSAtNy4wNzEwNjc4MTE4NjU0NzU1IC0wLjAgQyAtNy4wNzEwNjc4MTE4NjU0NzU1IDEuODc1MjY5MTA0MDE2OTQxMSAtNi4zMjYwMTU1MDAwMDAwMDA1IDMuNjczOTg0NTAwMDAwMDAwNCAtNS4wMDAwMDAwMDAwMDAwMDEgNS4wMDAwMDAwMDAwMDAwMDEgQyAtMy42NzM5ODQ1MDAwMDAwMDA0IDYuMzI2MDE1NTAwMDAwMDAwNSAtMS44NzUyNjkxMDQwMTY5NDExIDcuMDcxMDY3ODExODY1NDc1NSAwLjAgNy4wNzEwNjc4MTE4NjU0NzU1IFpcIiBzdHJva2U9XCIjRkYwMDAwXCIgc3Ryb2tlLXdpZHRoPVwiMS4wXCIgc3Ryb2tlLW9wYWNpdHk9XCIwLjdcIiBmaWxsPVwiI0ZGMDAwMFwiIGZpbGwtb3BhY2l0eT1cIjAuN1wiIC8+PC9zdmc+IiwgImFuY2hvcl94IjogOS4wLCAiYW5jaG9yX3kiOiA5LjB9fSwgeyJ0eXBlIjogIkZlYXR1cmUiLCAiZ2VvbWV0cnkiOiB7InR5cGUiOiAiUG9pbnQiLCAiY29vcmRpbmF0ZXMiOiBbLTQ2LjcwNDg3MTAwMDAwMDAwNCwgLTIzLjcxMDY2Nzg5OTk5OTk5N119LCAicHJvcGVydGllcyI6IHsiaHRtbCI6ICI8c3ZnIHdpZHRoPVwiMThweFwiIGhlaWdodD1cIjE4cHhcIiB2aWV3Qm94PVwiLTkuMCAtOS4wIDE4LjAgMTguMFwiIHhtbG5zPVwiaHR0cDovL3d3dy53My5vcmcvMjAwMC9zdmdcIiB2ZXJzaW9uPVwiMS4xXCI+ICA8cGF0aCBkPVwiTSAwLjAgNy4wNzEwNjc4MTE4NjU0NzU1IEMgMS44NzUyNjkxMDQwMTY5NDExIDcuMDcxMDY3ODExODY1NDc1NSAzLjY3Mzk4NDUwMDAwMDAwMDQgNi4zMjYwMTU1MDAwMDAwMDA1IDUuMDAwMDAwMDAwMDAwMDAxIDUuMDAwMDAwMDAwMDAwMDAxIEMgNi4zMjYwMTU1MDAwMDAwMDA1IDMuNjczOTg0NTAwMDAwMDAwNCA3LjA3MTA2NzgxMTg2NTQ3NTUgMS44NzUyNjkxMDQwMTY5NDExIDcuMDcxMDY3ODExODY1NDc1NSAtMC4wIEMgNy4wNzEwNjc4MTE4NjU0NzU1IC0xLjg3NTI2OTEwNDAxNjk0MTEgNi4zMjYwMTU1MDAwMDAwMDA1IC0zLjY3Mzk4NDUwMDAwMDAwMDQgNS4wMDAwMDAwMDAwMDAwMDEgLTUuMDAwMDAwMDAwMDAwMDAxIEMgMy42NzM5ODQ1MDAwMDAwMDA0IC02LjMyNjAxNTUwMDAwMDAwMDUgMS44NzUyNjkxMDQwMTY5NDExIC03LjA3MTA2NzgxMTg2NTQ3NTUgMC4wIC03LjA3MTA2NzgxMTg2NTQ3NTUgQyAtMS44NzUyNjkxMDQwMTY5NDExIC03LjA3MTA2NzgxMTg2NTQ3NTUgLTMuNjczOTg0NTAwMDAwMDAwNCAtNi4zMjYwMTU1MDAwMDAwMDA1IC01LjAwMDAwMDAwMDAwMDAwMSAtNS4wMDAwMDAwMDAwMDAwMDEgQyAtNi4zMjYwMTU1MDAwMDAwMDA1IC0zLjY3Mzk4NDUwMDAwMDAwMDQgLTcuMDcxMDY3ODExODY1NDc1NSAtMS44NzUyNjkxMDQwMTY5NDExIC03LjA3MTA2NzgxMTg2NTQ3NTUgLTAuMCBDIC03LjA3MTA2NzgxMTg2NTQ3NTUgMS44NzUyNjkxMDQwMTY5NDExIC02LjMyNjAxNTUwMDAwMDAwMDUgMy42NzM5ODQ1MDAwMDAwMDA0IC01LjAwMDAwMDAwMDAwMDAwMSA1LjAwMDAwMDAwMDAwMDAwMSBDIC0zLjY3Mzk4NDUwMDAwMDAwMDQgNi4zMjYwMTU1MDAwMDAwMDA1IC0xLjg3NTI2OTEwNDAxNjk0MTEgNy4wNzEwNjc4MTE4NjU0NzU1IDAuMCA3LjA3MTA2NzgxMTg2NTQ3NTUgWlwiIHN0cm9rZT1cIiNGRjAwMDBcIiBzdHJva2Utd2lkdGg9XCIxLjBcIiBzdHJva2Utb3BhY2l0eT1cIjAuN1wiIGZpbGw9XCIjRkYwMDAwXCIgZmlsbC1vcGFjaXR5PVwiMC43XCIgLz48L3N2Zz4iLCAiYW5jaG9yX3giOiA5LjAsICJhbmNob3JfeSI6IDkuMH19LCB7InR5cGUiOiAiRmVhdHVyZSIsICJnZW9tZXRyeSI6IHsidHlwZSI6ICJQb2ludCIsICJjb29yZGluYXRlcyI6IFstNDYuNzUxMzg0MywgLTIzLjQwNTcxMjddfSwgInByb3BlcnRpZXMiOiB7Imh0bWwiOiAiPHN2ZyB3aWR0aD1cIjE4cHhcIiBoZWlnaHQ9XCIxOHB4XCIgdmlld0JveD1cIi05LjAgLTkuMCAxOC4wIDE4LjBcIiB4bWxucz1cImh0dHA6Ly93d3cudzMub3JnLzIwMDAvc3ZnXCIgdmVyc2lvbj1cIjEuMVwiPiAgPHBhdGggZD1cIk0gMC4wIDcuMDcxMDY3ODExODY1NDc1NSBDIDEuODc1MjY5MTA0MDE2OTQxMSA3LjA3MTA2NzgxMTg2NTQ3NTUgMy42NzM5ODQ1MDAwMDAwMDA0IDYuMzI2MDE1NTAwMDAwMDAwNSA1LjAwMDAwMDAwMDAwMDAwMSA1LjAwMDAwMDAwMDAwMDAwMSBDIDYuMzI2MDE1NTAwMDAwMDAwNSAzLjY3Mzk4NDUwMDAwMDAwMDQgNy4wNzEwNjc4MTE4NjU0NzU1IDEuODc1MjY5MTA0MDE2OTQxMSA3LjA3MTA2NzgxMTg2NTQ3NTUgLTAuMCBDIDcuMDcxMDY3ODExODY1NDc1NSAtMS44NzUyNjkxMDQwMTY5NDExIDYuMzI2MDE1NTAwMDAwMDAwNSAtMy42NzM5ODQ1MDAwMDAwMDA0IDUuMDAwMDAwMDAwMDAwMDAxIC01LjAwMDAwMDAwMDAwMDAwMSBDIDMuNjczOTg0NTAwMDAwMDAwNCAtNi4zMjYwMTU1MDAwMDAwMDA1IDEuODc1MjY5MTA0MDE2OTQxMSAtNy4wNzEwNjc4MTE4NjU0NzU1IDAuMCAtNy4wNzEwNjc4MTE4NjU0NzU1IEMgLTEuODc1MjY5MTA0MDE2OTQxMSAtNy4wNzEwNjc4MTE4NjU0NzU1IC0zLjY3Mzk4NDUwMDAwMDAwMDQgLTYuMzI2MDE1NTAwMDAwMDAwNSAtNS4wMDAwMDAwMDAwMDAwMDEgLTUuMDAwMDAwMDAwMDAwMDAxIEMgLTYuMzI2MDE1NTAwMDAwMDAwNSAtMy42NzM5ODQ1MDAwMDAwMDA0IC03LjA3MTA2NzgxMTg2NTQ3NTUgLTEuODc1MjY5MTA0MDE2OTQxMSAtNy4wNzEwNjc4MTE4NjU0NzU1IC0wLjAgQyAtNy4wNzEwNjc4MTE4NjU0NzU1IDEuODc1MjY5MTA0MDE2OTQxMSAtNi4zMjYwMTU1MDAwMDAwMDA1IDMuNjczOTg0NTAwMDAwMDAwNCAtNS4wMDAwMDAwMDAwMDAwMDEgNS4wMDAwMDAwMDAwMDAwMDEgQyAtMy42NzM5ODQ1MDAwMDAwMDA0IDYuMzI2MDE1NTAwMDAwMDAwNSAtMS44NzUyNjkxMDQwMTY5NDExIDcuMDcxMDY3ODExODY1NDc1NSAwLjAgNy4wNzEwNjc4MTE4NjU0NzU1IFpcIiBzdHJva2U9XCIjRkYwMDAwXCIgc3Ryb2tlLXdpZHRoPVwiMS4wXCIgc3Ryb2tlLW9wYWNpdHk9XCIwLjdcIiBmaWxsPVwiI0ZGMDAwMFwiIGZpbGwtb3BhY2l0eT1cIjAuN1wiIC8+PC9zdmc+IiwgImFuY2hvcl94IjogOS4wLCAiYW5jaG9yX3kiOiA5LjB9fSwgeyJ0eXBlIjogIkZlYXR1cmUiLCAiZ2VvbWV0cnkiOiB7InR5cGUiOiAiUG9pbnQiLCAiY29vcmRpbmF0ZXMiOiBbLTQ2LjY5NzYwNDEsIC0yMy43Mjc3OTk1XX0sICJwcm9wZXJ0aWVzIjogeyJodG1sIjogIjxzdmcgd2lkdGg9XCIxOHB4XCIgaGVpZ2h0PVwiMThweFwiIHZpZXdCb3g9XCItOS4wIC05LjAgMTguMCAxOC4wXCIgeG1sbnM9XCJodHRwOi8vd3d3LnczLm9yZy8yMDAwL3N2Z1wiIHZlcnNpb249XCIxLjFcIj4gIDxwYXRoIGQ9XCJNIDAuMCA3LjA3MTA2NzgxMTg2NTQ3NTUgQyAxLjg3NTI2OTEwNDAxNjk0MTEgNy4wNzEwNjc4MTE4NjU0NzU1IDMuNjczOTg0NTAwMDAwMDAwNCA2LjMyNjAxNTUwMDAwMDAwMDUgNS4wMDAwMDAwMDAwMDAwMDEgNS4wMDAwMDAwMDAwMDAwMDEgQyA2LjMyNjAxNTUwMDAwMDAwMDUgMy42NzM5ODQ1MDAwMDAwMDA0IDcuMDcxMDY3ODExODY1NDc1NSAxLjg3NTI2OTEwNDAxNjk0MTEgNy4wNzEwNjc4MTE4NjU0NzU1IC0wLjAgQyA3LjA3MTA2NzgxMTg2NTQ3NTUgLTEuODc1MjY5MTA0MDE2OTQxMSA2LjMyNjAxNTUwMDAwMDAwMDUgLTMuNjczOTg0NTAwMDAwMDAwNCA1LjAwMDAwMDAwMDAwMDAwMSAtNS4wMDAwMDAwMDAwMDAwMDEgQyAzLjY3Mzk4NDUwMDAwMDAwMDQgLTYuMzI2MDE1NTAwMDAwMDAwNSAxLjg3NTI2OTEwNDAxNjk0MTEgLTcuMDcxMDY3ODExODY1NDc1NSAwLjAgLTcuMDcxMDY3ODExODY1NDc1NSBDIC0xLjg3NTI2OTEwNDAxNjk0MTEgLTcuMDcxMDY3ODExODY1NDc1NSAtMy42NzM5ODQ1MDAwMDAwMDA0IC02LjMyNjAxNTUwMDAwMDAwMDUgLTUuMDAwMDAwMDAwMDAwMDAxIC01LjAwMDAwMDAwMDAwMDAwMSBDIC02LjMyNjAxNTUwMDAwMDAwMDUgLTMuNjczOTg0NTAwMDAwMDAwNCAtNy4wNzEwNjc4MTE4NjU0NzU1IC0xLjg3NTI2OTEwNDAxNjk0MTEgLTcuMDcxMDY3ODExODY1NDc1NSAtMC4wIEMgLTcuMDcxMDY3ODExODY1NDc1NSAxLjg3NTI2OTEwNDAxNjk0MTEgLTYuMzI2MDE1NTAwMDAwMDAwNSAzLjY3Mzk4NDUwMDAwMDAwMDQgLTUuMDAwMDAwMDAwMDAwMDAxIDUuMDAwMDAwMDAwMDAwMDAxIEMgLTMuNjczOTg0NTAwMDAwMDAwNCA2LjMyNjAxNTUwMDAwMDAwMDUgLTEuODc1MjY5MTA0MDE2OTQxMSA3LjA3MTA2NzgxMTg2NTQ3NTUgMC4wIDcuMDcxMDY3ODExODY1NDc1NSBaXCIgc3Ryb2tlPVwiI0ZGMDAwMFwiIHN0cm9rZS13aWR0aD1cIjEuMFwiIHN0cm9rZS1vcGFjaXR5PVwiMC43XCIgZmlsbD1cIiNGRjAwMDBcIiBmaWxsLW9wYWNpdHk9XCIwLjdcIiAvPjwvc3ZnPiIsICJhbmNob3JfeCI6IDkuMCwgImFuY2hvcl95IjogOS4wfX0sIHsidHlwZSI6ICJGZWF0dXJlIiwgImdlb21ldHJ5IjogeyJ0eXBlIjogIlBvaW50IiwgImNvb3JkaW5hdGVzIjogWy00Ni43ODcxMzc5LCAtMjMuNDM5Nzg0M119LCAicHJvcGVydGllcyI6IHsiaHRtbCI6ICI8c3ZnIHdpZHRoPVwiMThweFwiIGhlaWdodD1cIjE4cHhcIiB2aWV3Qm94PVwiLTkuMCAtOS4wIDE4LjAgMTguMFwiIHhtbG5zPVwiaHR0cDovL3d3dy53My5vcmcvMjAwMC9zdmdcIiB2ZXJzaW9uPVwiMS4xXCI+ICA8cGF0aCBkPVwiTSAwLjAgNy4wNzEwNjc4MTE4NjU0NzU1IEMgMS44NzUyNjkxMDQwMTY5NDExIDcuMDcxMDY3ODExODY1NDc1NSAzLjY3Mzk4NDUwMDAwMDAwMDQgNi4zMjYwMTU1MDAwMDAwMDA1IDUuMDAwMDAwMDAwMDAwMDAxIDUuMDAwMDAwMDAwMDAwMDAxIEMgNi4zMjYwMTU1MDAwMDAwMDA1IDMuNjczOTg0NTAwMDAwMDAwNCA3LjA3MTA2NzgxMTg2NTQ3NTUgMS44NzUyNjkxMDQwMTY5NDExIDcuMDcxMDY3ODExODY1NDc1NSAtMC4wIEMgNy4wNzEwNjc4MTE4NjU0NzU1IC0xLjg3NTI2OTEwNDAxNjk0MTEgNi4zMjYwMTU1MDAwMDAwMDA1IC0zLjY3Mzk4NDUwMDAwMDAwMDQgNS4wMDAwMDAwMDAwMDAwMDEgLTUuMDAwMDAwMDAwMDAwMDAxIEMgMy42NzM5ODQ1MDAwMDAwMDA0IC02LjMyNjAxNTUwMDAwMDAwMDUgMS44NzUyNjkxMDQwMTY5NDExIC03LjA3MTA2NzgxMTg2NTQ3NTUgMC4wIC03LjA3MTA2NzgxMTg2NTQ3NTUgQyAtMS44NzUyNjkxMDQwMTY5NDExIC03LjA3MTA2NzgxMTg2NTQ3NTUgLTMuNjczOTg0NTAwMDAwMDAwNCAtNi4zMjYwMTU1MDAwMDAwMDA1IC01LjAwMDAwMDAwMDAwMDAwMSAtNS4wMDAwMDAwMDAwMDAwMDEgQyAtNi4zMjYwMTU1MDAwMDAwMDA1IC0zLjY3Mzk4NDUwMDAwMDAwMDQgLTcuMDcxMDY3ODExODY1NDc1NSAtMS44NzUyNjkxMDQwMTY5NDExIC03LjA3MTA2NzgxMTg2NTQ3NTUgLTAuMCBDIC03LjA3MTA2NzgxMTg2NTQ3NTUgMS44NzUyNjkxMDQwMTY5NDExIC02LjMyNjAxNTUwMDAwMDAwMDUgMy42NzM5ODQ1MDAwMDAwMDA0IC01LjAwMDAwMDAwMDAwMDAwMSA1LjAwMDAwMDAwMDAwMDAwMSBDIC0zLjY3Mzk4NDUwMDAwMDAwMDQgNi4zMjYwMTU1MDAwMDAwMDA1IC0xLjg3NTI2OTEwNDAxNjk0MTEgNy4wNzEwNjc4MTE4NjU0NzU1IDAuMCA3LjA3MTA2NzgxMTg2NTQ3NTUgWlwiIHN0cm9rZT1cIiNGRjAwMDBcIiBzdHJva2Utd2lkdGg9XCIxLjBcIiBzdHJva2Utb3BhY2l0eT1cIjAuN1wiIGZpbGw9XCIjRkYwMDAwXCIgZmlsbC1vcGFjaXR5PVwiMC43XCIgLz48L3N2Zz4iLCAiYW5jaG9yX3giOiA5LjAsICJhbmNob3JfeSI6IDkuMH19LCB7InR5cGUiOiAiRmVhdHVyZSIsICJnZW9tZXRyeSI6IHsidHlwZSI6ICJQb2ludCIsICJjb29yZGluYXRlcyI6IFstNDYuNzUwNzMxMDk5OTk5OTk2LCAtMjMuNDM2OTcxMl19LCAicHJvcGVydGllcyI6IHsiaHRtbCI6ICI8c3ZnIHdpZHRoPVwiMThweFwiIGhlaWdodD1cIjE4cHhcIiB2aWV3Qm94PVwiLTkuMCAtOS4wIDE4LjAgMTguMFwiIHhtbG5zPVwiaHR0cDovL3d3dy53My5vcmcvMjAwMC9zdmdcIiB2ZXJzaW9uPVwiMS4xXCI+ICA8cGF0aCBkPVwiTSAwLjAgNy4wNzEwNjc4MTE4NjU0NzU1IEMgMS44NzUyNjkxMDQwMTY5NDExIDcuMDcxMDY3ODExODY1NDc1NSAzLjY3Mzk4NDUwMDAwMDAwMDQgNi4zMjYwMTU1MDAwMDAwMDA1IDUuMDAwMDAwMDAwMDAwMDAxIDUuMDAwMDAwMDAwMDAwMDAxIEMgNi4zMjYwMTU1MDAwMDAwMDA1IDMuNjczOTg0NTAwMDAwMDAwNCA3LjA3MTA2NzgxMTg2NTQ3NTUgMS44NzUyNjkxMDQwMTY5NDExIDcuMDcxMDY3ODExODY1NDc1NSAtMC4wIEMgNy4wNzEwNjc4MTE4NjU0NzU1IC0xLjg3NTI2OTEwNDAxNjk0MTEgNi4zMjYwMTU1MDAwMDAwMDA1IC0zLjY3Mzk4NDUwMDAwMDAwMDQgNS4wMDAwMDAwMDAwMDAwMDEgLTUuMDAwMDAwMDAwMDAwMDAxIEMgMy42NzM5ODQ1MDAwMDAwMDA0IC02LjMyNjAxNTUwMDAwMDAwMDUgMS44NzUyNjkxMDQwMTY5NDExIC03LjA3MTA2NzgxMTg2NTQ3NTUgMC4wIC03LjA3MTA2NzgxMTg2NTQ3NTUgQyAtMS44NzUyNjkxMDQwMTY5NDExIC03LjA3MTA2NzgxMTg2NTQ3NTUgLTMuNjczOTg0NTAwMDAwMDAwNCAtNi4zMjYwMTU1MDAwMDAwMDA1IC01LjAwMDAwMDAwMDAwMDAwMSAtNS4wMDAwMDAwMDAwMDAwMDEgQyAtNi4zMjYwMTU1MDAwMDAwMDA1IC0zLjY3Mzk4NDUwMDAwMDAwMDQgLTcuMDcxMDY3ODExODY1NDc1NSAtMS44NzUyNjkxMDQwMTY5NDExIC03LjA3MTA2NzgxMTg2NTQ3NTUgLTAuMCBDIC03LjA3MTA2NzgxMTg2NTQ3NTUgMS44NzUyNjkxMDQwMTY5NDExIC02LjMyNjAxNTUwMDAwMDAwMDUgMy42NzM5ODQ1MDAwMDAwMDA0IC01LjAwMDAwMDAwMDAwMDAwMSA1LjAwMDAwMDAwMDAwMDAwMSBDIC0zLjY3Mzk4NDUwMDAwMDAwMDQgNi4zMjYwMTU1MDAwMDAwMDA1IC0xLjg3NTI2OTEwNDAxNjk0MTEgNy4wNzEwNjc4MTE4NjU0NzU1IDAuMCA3LjA3MTA2NzgxMTg2NTQ3NTUgWlwiIHN0cm9rZT1cIiNGRjAwMDBcIiBzdHJva2Utd2lkdGg9XCIxLjBcIiBzdHJva2Utb3BhY2l0eT1cIjAuN1wiIGZpbGw9XCIjRkYwMDAwXCIgZmlsbC1vcGFjaXR5PVwiMC43XCIgLz48L3N2Zz4iLCAiYW5jaG9yX3giOiA5LjAsICJhbmNob3JfeSI6IDkuMH19LCB7InR5cGUiOiAiRmVhdHVyZSIsICJnZW9tZXRyeSI6IHsidHlwZSI6ICJQb2ludCIsICJjb29yZGluYXRlcyI6IFstNDYuNDkzNTkzNSwgLTIzLjYwODkwNjg5OTk5OTk5N119LCAicHJvcGVydGllcyI6IHsiaHRtbCI6ICI8c3ZnIHdpZHRoPVwiMThweFwiIGhlaWdodD1cIjE4cHhcIiB2aWV3Qm94PVwiLTkuMCAtOS4wIDE4LjAgMTguMFwiIHhtbG5zPVwiaHR0cDovL3d3dy53My5vcmcvMjAwMC9zdmdcIiB2ZXJzaW9uPVwiMS4xXCI+ICA8cGF0aCBkPVwiTSAwLjAgNy4wNzEwNjc4MTE4NjU0NzU1IEMgMS44NzUyNjkxMDQwMTY5NDExIDcuMDcxMDY3ODExODY1NDc1NSAzLjY3Mzk4NDUwMDAwMDAwMDQgNi4zMjYwMTU1MDAwMDAwMDA1IDUuMDAwMDAwMDAwMDAwMDAxIDUuMDAwMDAwMDAwMDAwMDAxIEMgNi4zMjYwMTU1MDAwMDAwMDA1IDMuNjczOTg0NTAwMDAwMDAwNCA3LjA3MTA2NzgxMTg2NTQ3NTUgMS44NzUyNjkxMDQwMTY5NDExIDcuMDcxMDY3ODExODY1NDc1NSAtMC4wIEMgNy4wNzEwNjc4MTE4NjU0NzU1IC0xLjg3NTI2OTEwNDAxNjk0MTEgNi4zMjYwMTU1MDAwMDAwMDA1IC0zLjY3Mzk4NDUwMDAwMDAwMDQgNS4wMDAwMDAwMDAwMDAwMDEgLTUuMDAwMDAwMDAwMDAwMDAxIEMgMy42NzM5ODQ1MDAwMDAwMDA0IC02LjMyNjAxNTUwMDAwMDAwMDUgMS44NzUyNjkxMDQwMTY5NDExIC03LjA3MTA2NzgxMTg2NTQ3NTUgMC4wIC03LjA3MTA2NzgxMTg2NTQ3NTUgQyAtMS44NzUyNjkxMDQwMTY5NDExIC03LjA3MTA2NzgxMTg2NTQ3NTUgLTMuNjczOTg0NTAwMDAwMDAwNCAtNi4zMjYwMTU1MDAwMDAwMDA1IC01LjAwMDAwMDAwMDAwMDAwMSAtNS4wMDAwMDAwMDAwMDAwMDEgQyAtNi4zMjYwMTU1MDAwMDAwMDA1IC0zLjY3Mzk4NDUwMDAwMDAwMDQgLTcuMDcxMDY3ODExODY1NDc1NSAtMS44NzUyNjkxMDQwMTY5NDExIC03LjA3MTA2NzgxMTg2NTQ3NTUgLTAuMCBDIC03LjA3MTA2NzgxMTg2NTQ3NTUgMS44NzUyNjkxMDQwMTY5NDExIC02LjMyNjAxNTUwMDAwMDAwMDUgMy42NzM5ODQ1MDAwMDAwMDA0IC01LjAwMDAwMDAwMDAwMDAwMSA1LjAwMDAwMDAwMDAwMDAwMSBDIC0zLjY3Mzk4NDUwMDAwMDAwMDQgNi4zMjYwMTU1MDAwMDAwMDA1IC0xLjg3NTI2OTEwNDAxNjk0MTEgNy4wNzEwNjc4MTE4NjU0NzU1IDAuMCA3LjA3MTA2NzgxMTg2NTQ3NTUgWlwiIHN0cm9rZT1cIiNGRjAwMDBcIiBzdHJva2Utd2lkdGg9XCIxLjBcIiBzdHJva2Utb3BhY2l0eT1cIjAuN1wiIGZpbGw9XCIjRkYwMDAwXCIgZmlsbC1vcGFjaXR5PVwiMC43XCIgLz48L3N2Zz4iLCAiYW5jaG9yX3giOiA5LjAsICJhbmNob3JfeSI6IDkuMH19LCB7InR5cGUiOiAiRmVhdHVyZSIsICJnZW9tZXRyeSI6IHsidHlwZSI6ICJQb2ludCIsICJjb29yZGluYXRlcyI6IFstNDYuNjQ0MDEyNzAwMDAwMDA1LCAtMjMuNzA0NzcwODAwMDAwMDAyXX0sICJwcm9wZXJ0aWVzIjogeyJodG1sIjogIjxzdmcgd2lkdGg9XCIxOHB4XCIgaGVpZ2h0PVwiMThweFwiIHZpZXdCb3g9XCItOS4wIC05LjAgMTguMCAxOC4wXCIgeG1sbnM9XCJodHRwOi8vd3d3LnczLm9yZy8yMDAwL3N2Z1wiIHZlcnNpb249XCIxLjFcIj4gIDxwYXRoIGQ9XCJNIDAuMCA3LjA3MTA2NzgxMTg2NTQ3NTUgQyAxLjg3NTI2OTEwNDAxNjk0MTEgNy4wNzEwNjc4MTE4NjU0NzU1IDMuNjczOTg0NTAwMDAwMDAwNCA2LjMyNjAxNTUwMDAwMDAwMDUgNS4wMDAwMDAwMDAwMDAwMDEgNS4wMDAwMDAwMDAwMDAwMDEgQyA2LjMyNjAxNTUwMDAwMDAwMDUgMy42NzM5ODQ1MDAwMDAwMDA0IDcuMDcxMDY3ODExODY1NDc1NSAxLjg3NTI2OTEwNDAxNjk0MTEgNy4wNzEwNjc4MTE4NjU0NzU1IC0wLjAgQyA3LjA3MTA2NzgxMTg2NTQ3NTUgLTEuODc1MjY5MTA0MDE2OTQxMSA2LjMyNjAxNTUwMDAwMDAwMDUgLTMuNjczOTg0NTAwMDAwMDAwNCA1LjAwMDAwMDAwMDAwMDAwMSAtNS4wMDAwMDAwMDAwMDAwMDEgQyAzLjY3Mzk4NDUwMDAwMDAwMDQgLTYuMzI2MDE1NTAwMDAwMDAwNSAxLjg3NTI2OTEwNDAxNjk0MTEgLTcuMDcxMDY3ODExODY1NDc1NSAwLjAgLTcuMDcxMDY3ODExODY1NDc1NSBDIC0xLjg3NTI2OTEwNDAxNjk0MTEgLTcuMDcxMDY3ODExODY1NDc1NSAtMy42NzM5ODQ1MDAwMDAwMDA0IC02LjMyNjAxNTUwMDAwMDAwMDUgLTUuMDAwMDAwMDAwMDAwMDAxIC01LjAwMDAwMDAwMDAwMDAwMSBDIC02LjMyNjAxNTUwMDAwMDAwMDUgLTMuNjczOTg0NTAwMDAwMDAwNCAtNy4wNzEwNjc4MTE4NjU0NzU1IC0xLjg3NTI2OTEwNDAxNjk0MTEgLTcuMDcxMDY3ODExODY1NDc1NSAtMC4wIEMgLTcuMDcxMDY3ODExODY1NDc1NSAxLjg3NTI2OTEwNDAxNjk0MTEgLTYuMzI2MDE1NTAwMDAwMDAwNSAzLjY3Mzk4NDUwMDAwMDAwMDQgLTUuMDAwMDAwMDAwMDAwMDAxIDUuMDAwMDAwMDAwMDAwMDAxIEMgLTMuNjczOTg0NTAwMDAwMDAwNCA2LjMyNjAxNTUwMDAwMDAwMDUgLTEuODc1MjY5MTA0MDE2OTQxMSA3LjA3MTA2NzgxMTg2NTQ3NTUgMC4wIDcuMDcxMDY3ODExODY1NDc1NSBaXCIgc3Ryb2tlPVwiI0ZGMDAwMFwiIHN0cm9rZS13aWR0aD1cIjEuMFwiIHN0cm9rZS1vcGFjaXR5PVwiMC43XCIgZmlsbD1cIiNGRjAwMDBcIiBmaWxsLW9wYWNpdHk9XCIwLjdcIiAvPjwvc3ZnPiIsICJhbmNob3JfeCI6IDkuMCwgImFuY2hvcl95IjogOS4wfX0sIHsidHlwZSI6ICJGZWF0dXJlIiwgImdlb21ldHJ5IjogeyJ0eXBlIjogIlBvaW50IiwgImNvb3JkaW5hdGVzIjogWy00Ni41MDEwNTI5LCAtMjMuNjIxMzYyMl19LCAicHJvcGVydGllcyI6IHsiaHRtbCI6ICI8c3ZnIHdpZHRoPVwiMThweFwiIGhlaWdodD1cIjE4cHhcIiB2aWV3Qm94PVwiLTkuMCAtOS4wIDE4LjAgMTguMFwiIHhtbG5zPVwiaHR0cDovL3d3dy53My5vcmcvMjAwMC9zdmdcIiB2ZXJzaW9uPVwiMS4xXCI+ICA8cGF0aCBkPVwiTSAwLjAgNy4wNzEwNjc4MTE4NjU0NzU1IEMgMS44NzUyNjkxMDQwMTY5NDExIDcuMDcxMDY3ODExODY1NDc1NSAzLjY3Mzk4NDUwMDAwMDAwMDQgNi4zMjYwMTU1MDAwMDAwMDA1IDUuMDAwMDAwMDAwMDAwMDAxIDUuMDAwMDAwMDAwMDAwMDAxIEMgNi4zMjYwMTU1MDAwMDAwMDA1IDMuNjczOTg0NTAwMDAwMDAwNCA3LjA3MTA2NzgxMTg2NTQ3NTUgMS44NzUyNjkxMDQwMTY5NDExIDcuMDcxMDY3ODExODY1NDc1NSAtMC4wIEMgNy4wNzEwNjc4MTE4NjU0NzU1IC0xLjg3NTI2OTEwNDAxNjk0MTEgNi4zMjYwMTU1MDAwMDAwMDA1IC0zLjY3Mzk4NDUwMDAwMDAwMDQgNS4wMDAwMDAwMDAwMDAwMDEgLTUuMDAwMDAwMDAwMDAwMDAxIEMgMy42NzM5ODQ1MDAwMDAwMDA0IC02LjMyNjAxNTUwMDAwMDAwMDUgMS44NzUyNjkxMDQwMTY5NDExIC03LjA3MTA2NzgxMTg2NTQ3NTUgMC4wIC03LjA3MTA2NzgxMTg2NTQ3NTUgQyAtMS44NzUyNjkxMDQwMTY5NDExIC03LjA3MTA2NzgxMTg2NTQ3NTUgLTMuNjczOTg0NTAwMDAwMDAwNCAtNi4zMjYwMTU1MDAwMDAwMDA1IC01LjAwMDAwMDAwMDAwMDAwMSAtNS4wMDAwMDAwMDAwMDAwMDEgQyAtNi4zMjYwMTU1MDAwMDAwMDA1IC0zLjY3Mzk4NDUwMDAwMDAwMDQgLTcuMDcxMDY3ODExODY1NDc1NSAtMS44NzUyNjkxMDQwMTY5NDExIC03LjA3MTA2NzgxMTg2NTQ3NTUgLTAuMCBDIC03LjA3MTA2NzgxMTg2NTQ3NTUgMS44NzUyNjkxMDQwMTY5NDExIC02LjMyNjAxNTUwMDAwMDAwMDUgMy42NzM5ODQ1MDAwMDAwMDA0IC01LjAwMDAwMDAwMDAwMDAwMSA1LjAwMDAwMDAwMDAwMDAwMSBDIC0zLjY3Mzk4NDUwMDAwMDAwMDQgNi4zMjYwMTU1MDAwMDAwMDA1IC0xLjg3NTI2OTEwNDAxNjk0MTEgNy4wNzEwNjc4MTE4NjU0NzU1IDAuMCA3LjA3MTA2NzgxMTg2NTQ3NTUgWlwiIHN0cm9rZT1cIiNGRjAwMDBcIiBzdHJva2Utd2lkdGg9XCIxLjBcIiBzdHJva2Utb3BhY2l0eT1cIjAuN1wiIGZpbGw9XCIjRkYwMDAwXCIgZmlsbC1vcGFjaXR5PVwiMC43XCIgLz48L3N2Zz4iLCAiYW5jaG9yX3giOiA5LjAsICJhbmNob3JfeSI6IDkuMH19LCB7InR5cGUiOiAiRmVhdHVyZSIsICJnZW9tZXRyeSI6IHsidHlwZSI6ICJQb2ludCIsICJjb29yZGluYXRlcyI6IFstNDYuNzgwODA1MywgLTIzLjczNTU2NjddfSwgInByb3BlcnRpZXMiOiB7Imh0bWwiOiAiPHN2ZyB3aWR0aD1cIjE4cHhcIiBoZWlnaHQ9XCIxOHB4XCIgdmlld0JveD1cIi05LjAgLTkuMCAxOC4wIDE4LjBcIiB4bWxucz1cImh0dHA6Ly93d3cudzMub3JnLzIwMDAvc3ZnXCIgdmVyc2lvbj1cIjEuMVwiPiAgPHBhdGggZD1cIk0gMC4wIDcuMDcxMDY3ODExODY1NDc1NSBDIDEuODc1MjY5MTA0MDE2OTQxMSA3LjA3MTA2NzgxMTg2NTQ3NTUgMy42NzM5ODQ1MDAwMDAwMDA0IDYuMzI2MDE1NTAwMDAwMDAwNSA1LjAwMDAwMDAwMDAwMDAwMSA1LjAwMDAwMDAwMDAwMDAwMSBDIDYuMzI2MDE1NTAwMDAwMDAwNSAzLjY3Mzk4NDUwMDAwMDAwMDQgNy4wNzEwNjc4MTE4NjU0NzU1IDEuODc1MjY5MTA0MDE2OTQxMSA3LjA3MTA2NzgxMTg2NTQ3NTUgLTAuMCBDIDcuMDcxMDY3ODExODY1NDc1NSAtMS44NzUyNjkxMDQwMTY5NDExIDYuMzI2MDE1NTAwMDAwMDAwNSAtMy42NzM5ODQ1MDAwMDAwMDA0IDUuMDAwMDAwMDAwMDAwMDAxIC01LjAwMDAwMDAwMDAwMDAwMSBDIDMuNjczOTg0NTAwMDAwMDAwNCAtNi4zMjYwMTU1MDAwMDAwMDA1IDEuODc1MjY5MTA0MDE2OTQxMSAtNy4wNzEwNjc4MTE4NjU0NzU1IDAuMCAtNy4wNzEwNjc4MTE4NjU0NzU1IEMgLTEuODc1MjY5MTA0MDE2OTQxMSAtNy4wNzEwNjc4MTE4NjU0NzU1IC0zLjY3Mzk4NDUwMDAwMDAwMDQgLTYuMzI2MDE1NTAwMDAwMDAwNSAtNS4wMDAwMDAwMDAwMDAwMDEgLTUuMDAwMDAwMDAwMDAwMDAxIEMgLTYuMzI2MDE1NTAwMDAwMDAwNSAtMy42NzM5ODQ1MDAwMDAwMDA0IC03LjA3MTA2NzgxMTg2NTQ3NTUgLTEuODc1MjY5MTA0MDE2OTQxMSAtNy4wNzEwNjc4MTE4NjU0NzU1IC0wLjAgQyAtNy4wNzEwNjc4MTE4NjU0NzU1IDEuODc1MjY5MTA0MDE2OTQxMSAtNi4zMjYwMTU1MDAwMDAwMDA1IDMuNjczOTg0NTAwMDAwMDAwNCAtNS4wMDAwMDAwMDAwMDAwMDEgNS4wMDAwMDAwMDAwMDAwMDEgQyAtMy42NzM5ODQ1MDAwMDAwMDA0IDYuMzI2MDE1NTAwMDAwMDAwNSAtMS44NzUyNjkxMDQwMTY5NDExIDcuMDcxMDY3ODExODY1NDc1NSAwLjAgNy4wNzEwNjc4MTE4NjU0NzU1IFpcIiBzdHJva2U9XCIjRkYwMDAwXCIgc3Ryb2tlLXdpZHRoPVwiMS4wXCIgc3Ryb2tlLW9wYWNpdHk9XCIwLjdcIiBmaWxsPVwiI0ZGMDAwMFwiIGZpbGwtb3BhY2l0eT1cIjAuN1wiIC8+PC9zdmc+IiwgImFuY2hvcl94IjogOS4wLCAiYW5jaG9yX3kiOiA5LjB9fSwgeyJ0eXBlIjogIkZlYXR1cmUiLCAiZ2VvbWV0cnkiOiB7InR5cGUiOiAiUG9pbnQiLCAiY29vcmRpbmF0ZXMiOiBbLTQ2LjQ0OTMxMDYwMDAwMDAwNCwgLTIzLjYwMjU1OTVdfSwgInByb3BlcnRpZXMiOiB7Imh0bWwiOiAiPHN2ZyB3aWR0aD1cIjE4cHhcIiBoZWlnaHQ9XCIxOHB4XCIgdmlld0JveD1cIi05LjAgLTkuMCAxOC4wIDE4LjBcIiB4bWxucz1cImh0dHA6Ly93d3cudzMub3JnLzIwMDAvc3ZnXCIgdmVyc2lvbj1cIjEuMVwiPiAgPHBhdGggZD1cIk0gMC4wIDcuMDcxMDY3ODExODY1NDc1NSBDIDEuODc1MjY5MTA0MDE2OTQxMSA3LjA3MTA2NzgxMTg2NTQ3NTUgMy42NzM5ODQ1MDAwMDAwMDA0IDYuMzI2MDE1NTAwMDAwMDAwNSA1LjAwMDAwMDAwMDAwMDAwMSA1LjAwMDAwMDAwMDAwMDAwMSBDIDYuMzI2MDE1NTAwMDAwMDAwNSAzLjY3Mzk4NDUwMDAwMDAwMDQgNy4wNzEwNjc4MTE4NjU0NzU1IDEuODc1MjY5MTA0MDE2OTQxMSA3LjA3MTA2NzgxMTg2NTQ3NTUgLTAuMCBDIDcuMDcxMDY3ODExODY1NDc1NSAtMS44NzUyNjkxMDQwMTY5NDExIDYuMzI2MDE1NTAwMDAwMDAwNSAtMy42NzM5ODQ1MDAwMDAwMDA0IDUuMDAwMDAwMDAwMDAwMDAxIC01LjAwMDAwMDAwMDAwMDAwMSBDIDMuNjczOTg0NTAwMDAwMDAwNCAtNi4zMjYwMTU1MDAwMDAwMDA1IDEuODc1MjY5MTA0MDE2OTQxMSAtNy4wNzEwNjc4MTE4NjU0NzU1IDAuMCAtNy4wNzEwNjc4MTE4NjU0NzU1IEMgLTEuODc1MjY5MTA0MDE2OTQxMSAtNy4wNzEwNjc4MTE4NjU0NzU1IC0zLjY3Mzk4NDUwMDAwMDAwMDQgLTYuMzI2MDE1NTAwMDAwMDAwNSAtNS4wMDAwMDAwMDAwMDAwMDEgLTUuMDAwMDAwMDAwMDAwMDAxIEMgLTYuMzI2MDE1NTAwMDAwMDAwNSAtMy42NzM5ODQ1MDAwMDAwMDA0IC03LjA3MTA2NzgxMTg2NTQ3NTUgLTEuODc1MjY5MTA0MDE2OTQxMSAtNy4wNzEwNjc4MTE4NjU0NzU1IC0wLjAgQyAtNy4wNzEwNjc4MTE4NjU0NzU1IDEuODc1MjY5MTA0MDE2OTQxMSAtNi4zMjYwMTU1MDAwMDAwMDA1IDMuNjczOTg0NTAwMDAwMDAwNCAtNS4wMDAwMDAwMDAwMDAwMDEgNS4wMDAwMDAwMDAwMDAwMDEgQyAtMy42NzM5ODQ1MDAwMDAwMDA0IDYuMzI2MDE1NTAwMDAwMDAwNSAtMS44NzUyNjkxMDQwMTY5NDExIDcuMDcxMDY3ODExODY1NDc1NSAwLjAgNy4wNzEwNjc4MTE4NjU0NzU1IFpcIiBzdHJva2U9XCIjRkYwMDAwXCIgc3Ryb2tlLXdpZHRoPVwiMS4wXCIgc3Ryb2tlLW9wYWNpdHk9XCIwLjdcIiBmaWxsPVwiI0ZGMDAwMFwiIGZpbGwtb3BhY2l0eT1cIjAuN1wiIC8+PC9zdmc+IiwgImFuY2hvcl94IjogOS4wLCAiYW5jaG9yX3kiOiA5LjB9fSwgeyJ0eXBlIjogIkZlYXR1cmUiLCAiZ2VvbWV0cnkiOiB7InR5cGUiOiAiUG9pbnQiLCAiY29vcmRpbmF0ZXMiOiBbLTQ2LjQ1Njg4MTYsIC0yMy42MjA3NTc0XX0sICJwcm9wZXJ0aWVzIjogeyJodG1sIjogIjxzdmcgd2lkdGg9XCIxOHB4XCIgaGVpZ2h0PVwiMThweFwiIHZpZXdCb3g9XCItOS4wIC05LjAgMTguMCAxOC4wXCIgeG1sbnM9XCJodHRwOi8vd3d3LnczLm9yZy8yMDAwL3N2Z1wiIHZlcnNpb249XCIxLjFcIj4gIDxwYXRoIGQ9XCJNIDAuMCA3LjA3MTA2NzgxMTg2NTQ3NTUgQyAxLjg3NTI2OTEwNDAxNjk0MTEgNy4wNzEwNjc4MTE4NjU0NzU1IDMuNjczOTg0NTAwMDAwMDAwNCA2LjMyNjAxNTUwMDAwMDAwMDUgNS4wMDAwMDAwMDAwMDAwMDEgNS4wMDAwMDAwMDAwMDAwMDEgQyA2LjMyNjAxNTUwMDAwMDAwMDUgMy42NzM5ODQ1MDAwMDAwMDA0IDcuMDcxMDY3ODExODY1NDc1NSAxLjg3NTI2OTEwNDAxNjk0MTEgNy4wNzEwNjc4MTE4NjU0NzU1IC0wLjAgQyA3LjA3MTA2NzgxMTg2NTQ3NTUgLTEuODc1MjY5MTA0MDE2OTQxMSA2LjMyNjAxNTUwMDAwMDAwMDUgLTMuNjczOTg0NTAwMDAwMDAwNCA1LjAwMDAwMDAwMDAwMDAwMSAtNS4wMDAwMDAwMDAwMDAwMDEgQyAzLjY3Mzk4NDUwMDAwMDAwMDQgLTYuMzI2MDE1NTAwMDAwMDAwNSAxLjg3NTI2OTEwNDAxNjk0MTEgLTcuMDcxMDY3ODExODY1NDc1NSAwLjAgLTcuMDcxMDY3ODExODY1NDc1NSBDIC0xLjg3NTI2OTEwNDAxNjk0MTEgLTcuMDcxMDY3ODExODY1NDc1NSAtMy42NzM5ODQ1MDAwMDAwMDA0IC02LjMyNjAxNTUwMDAwMDAwMDUgLTUuMDAwMDAwMDAwMDAwMDAxIC01LjAwMDAwMDAwMDAwMDAwMSBDIC02LjMyNjAxNTUwMDAwMDAwMDUgLTMuNjczOTg0NTAwMDAwMDAwNCAtNy4wNzEwNjc4MTE4NjU0NzU1IC0xLjg3NTI2OTEwNDAxNjk0MTEgLTcuMDcxMDY3ODExODY1NDc1NSAtMC4wIEMgLTcuMDcxMDY3ODExODY1NDc1NSAxLjg3NTI2OTEwNDAxNjk0MTEgLTYuMzI2MDE1NTAwMDAwMDAwNSAzLjY3Mzk4NDUwMDAwMDAwMDQgLTUuMDAwMDAwMDAwMDAwMDAxIDUuMDAwMDAwMDAwMDAwMDAxIEMgLTMuNjczOTg0NTAwMDAwMDAwNCA2LjMyNjAxNTUwMDAwMDAwMDUgLTEuODc1MjY5MTA0MDE2OTQxMSA3LjA3MTA2NzgxMTg2NTQ3NTUgMC4wIDcuMDcxMDY3ODExODY1NDc1NSBaXCIgc3Ryb2tlPVwiI0ZGMDAwMFwiIHN0cm9rZS13aWR0aD1cIjEuMFwiIHN0cm9rZS1vcGFjaXR5PVwiMC43XCIgZmlsbD1cIiNGRjAwMDBcIiBmaWxsLW9wYWNpdHk9XCIwLjdcIiAvPjwvc3ZnPiIsICJhbmNob3JfeCI6IDkuMCwgImFuY2hvcl95IjogOS4wfX0sIHsidHlwZSI6ICJGZWF0dXJlIiwgImdlb21ldHJ5IjogeyJ0eXBlIjogIlBvaW50IiwgImNvb3JkaW5hdGVzIjogWy00Ni42Nzg1NDY1LCAtMjMuNzY3MjA0Ml19LCAicHJvcGVydGllcyI6IHsiaHRtbCI6ICI8c3ZnIHdpZHRoPVwiMThweFwiIGhlaWdodD1cIjE4cHhcIiB2aWV3Qm94PVwiLTkuMCAtOS4wIDE4LjAgMTguMFwiIHhtbG5zPVwiaHR0cDovL3d3dy53My5vcmcvMjAwMC9zdmdcIiB2ZXJzaW9uPVwiMS4xXCI+ICA8cGF0aCBkPVwiTSAwLjAgNy4wNzEwNjc4MTE4NjU0NzU1IEMgMS44NzUyNjkxMDQwMTY5NDExIDcuMDcxMDY3ODExODY1NDc1NSAzLjY3Mzk4NDUwMDAwMDAwMDQgNi4zMjYwMTU1MDAwMDAwMDA1IDUuMDAwMDAwMDAwMDAwMDAxIDUuMDAwMDAwMDAwMDAwMDAxIEMgNi4zMjYwMTU1MDAwMDAwMDA1IDMuNjczOTg0NTAwMDAwMDAwNCA3LjA3MTA2NzgxMTg2NTQ3NTUgMS44NzUyNjkxMDQwMTY5NDExIDcuMDcxMDY3ODExODY1NDc1NSAtMC4wIEMgNy4wNzEwNjc4MTE4NjU0NzU1IC0xLjg3NTI2OTEwNDAxNjk0MTEgNi4zMjYwMTU1MDAwMDAwMDA1IC0zLjY3Mzk4NDUwMDAwMDAwMDQgNS4wMDAwMDAwMDAwMDAwMDEgLTUuMDAwMDAwMDAwMDAwMDAxIEMgMy42NzM5ODQ1MDAwMDAwMDA0IC02LjMyNjAxNTUwMDAwMDAwMDUgMS44NzUyNjkxMDQwMTY5NDExIC03LjA3MTA2NzgxMTg2NTQ3NTUgMC4wIC03LjA3MTA2NzgxMTg2NTQ3NTUgQyAtMS44NzUyNjkxMDQwMTY5NDExIC03LjA3MTA2NzgxMTg2NTQ3NTUgLTMuNjczOTg0NTAwMDAwMDAwNCAtNi4zMjYwMTU1MDAwMDAwMDA1IC01LjAwMDAwMDAwMDAwMDAwMSAtNS4wMDAwMDAwMDAwMDAwMDEgQyAtNi4zMjYwMTU1MDAwMDAwMDA1IC0zLjY3Mzk4NDUwMDAwMDAwMDQgLTcuMDcxMDY3ODExODY1NDc1NSAtMS44NzUyNjkxMDQwMTY5NDExIC03LjA3MTA2NzgxMTg2NTQ3NTUgLTAuMCBDIC03LjA3MTA2NzgxMTg2NTQ3NTUgMS44NzUyNjkxMDQwMTY5NDExIC02LjMyNjAxNTUwMDAwMDAwMDUgMy42NzM5ODQ1MDAwMDAwMDA0IC01LjAwMDAwMDAwMDAwMDAwMSA1LjAwMDAwMDAwMDAwMDAwMSBDIC0zLjY3Mzk4NDUwMDAwMDAwMDQgNi4zMjYwMTU1MDAwMDAwMDA1IC0xLjg3NTI2OTEwNDAxNjk0MTEgNy4wNzEwNjc4MTE4NjU0NzU1IDAuMCA3LjA3MTA2NzgxMTg2NTQ3NTUgWlwiIHN0cm9rZT1cIiNGRjAwMDBcIiBzdHJva2Utd2lkdGg9XCIxLjBcIiBzdHJva2Utb3BhY2l0eT1cIjAuN1wiIGZpbGw9XCIjRkYwMDAwXCIgZmlsbC1vcGFjaXR5PVwiMC43XCIgLz48L3N2Zz4iLCAiYW5jaG9yX3giOiA5LjAsICJhbmNob3JfeSI6IDkuMH19LCB7InR5cGUiOiAiRmVhdHVyZSIsICJnZW9tZXRyeSI6IHsidHlwZSI6ICJQb2ludCIsICJjb29yZGluYXRlcyI6IFstNDYuNDU2Njc1Mzk5OTk5OTksIC0yMy41MjE0OTQ4XX0sICJwcm9wZXJ0aWVzIjogeyJodG1sIjogIjxzdmcgd2lkdGg9XCIxOHB4XCIgaGVpZ2h0PVwiMThweFwiIHZpZXdCb3g9XCItOS4wIC05LjAgMTguMCAxOC4wXCIgeG1sbnM9XCJodHRwOi8vd3d3LnczLm9yZy8yMDAwL3N2Z1wiIHZlcnNpb249XCIxLjFcIj4gIDxwYXRoIGQ9XCJNIDAuMCA3LjA3MTA2NzgxMTg2NTQ3NTUgQyAxLjg3NTI2OTEwNDAxNjk0MTEgNy4wNzEwNjc4MTE4NjU0NzU1IDMuNjczOTg0NTAwMDAwMDAwNCA2LjMyNjAxNTUwMDAwMDAwMDUgNS4wMDAwMDAwMDAwMDAwMDEgNS4wMDAwMDAwMDAwMDAwMDEgQyA2LjMyNjAxNTUwMDAwMDAwMDUgMy42NzM5ODQ1MDAwMDAwMDA0IDcuMDcxMDY3ODExODY1NDc1NSAxLjg3NTI2OTEwNDAxNjk0MTEgNy4wNzEwNjc4MTE4NjU0NzU1IC0wLjAgQyA3LjA3MTA2NzgxMTg2NTQ3NTUgLTEuODc1MjY5MTA0MDE2OTQxMSA2LjMyNjAxNTUwMDAwMDAwMDUgLTMuNjczOTg0NTAwMDAwMDAwNCA1LjAwMDAwMDAwMDAwMDAwMSAtNS4wMDAwMDAwMDAwMDAwMDEgQyAzLjY3Mzk4NDUwMDAwMDAwMDQgLTYuMzI2MDE1NTAwMDAwMDAwNSAxLjg3NTI2OTEwNDAxNjk0MTEgLTcuMDcxMDY3ODExODY1NDc1NSAwLjAgLTcuMDcxMDY3ODExODY1NDc1NSBDIC0xLjg3NTI2OTEwNDAxNjk0MTEgLTcuMDcxMDY3ODExODY1NDc1NSAtMy42NzM5ODQ1MDAwMDAwMDA0IC02LjMyNjAxNTUwMDAwMDAwMDUgLTUuMDAwMDAwMDAwMDAwMDAxIC01LjAwMDAwMDAwMDAwMDAwMSBDIC02LjMyNjAxNTUwMDAwMDAwMDUgLTMuNjczOTg0NTAwMDAwMDAwNCAtNy4wNzEwNjc4MTE4NjU0NzU1IC0xLjg3NTI2OTEwNDAxNjk0MTEgLTcuMDcxMDY3ODExODY1NDc1NSAtMC4wIEMgLTcuMDcxMDY3ODExODY1NDc1NSAxLjg3NTI2OTEwNDAxNjk0MTEgLTYuMzI2MDE1NTAwMDAwMDAwNSAzLjY3Mzk4NDUwMDAwMDAwMDQgLTUuMDAwMDAwMDAwMDAwMDAxIDUuMDAwMDAwMDAwMDAwMDAxIEMgLTMuNjczOTg0NTAwMDAwMDAwNCA2LjMyNjAxNTUwMDAwMDAwMDUgLTEuODc1MjY5MTA0MDE2OTQxMSA3LjA3MTA2NzgxMTg2NTQ3NTUgMC4wIDcuMDcxMDY3ODExODY1NDc1NSBaXCIgc3Ryb2tlPVwiI0ZGMDAwMFwiIHN0cm9rZS13aWR0aD1cIjEuMFwiIHN0cm9rZS1vcGFjaXR5PVwiMC43XCIgZmlsbD1cIiNGRjAwMDBcIiBmaWxsLW9wYWNpdHk9XCIwLjdcIiAvPjwvc3ZnPiIsICJhbmNob3JfeCI6IDkuMCwgImFuY2hvcl95IjogOS4wfX0sIHsidHlwZSI6ICJGZWF0dXJlIiwgImdlb21ldHJ5IjogeyJ0eXBlIjogIlBvaW50IiwgImNvb3JkaW5hdGVzIjogWy00Ni40MjYzMDYyOTk5OTk5OSwgLTIzLjYxMDQ4NDFdfSwgInByb3BlcnRpZXMiOiB7Imh0bWwiOiAiPHN2ZyB3aWR0aD1cIjE4cHhcIiBoZWlnaHQ9XCIxOHB4XCIgdmlld0JveD1cIi05LjAgLTkuMCAxOC4wIDE4LjBcIiB4bWxucz1cImh0dHA6Ly93d3cudzMub3JnLzIwMDAvc3ZnXCIgdmVyc2lvbj1cIjEuMVwiPiAgPHBhdGggZD1cIk0gMC4wIDcuMDcxMDY3ODExODY1NDc1NSBDIDEuODc1MjY5MTA0MDE2OTQxMSA3LjA3MTA2NzgxMTg2NTQ3NTUgMy42NzM5ODQ1MDAwMDAwMDA0IDYuMzI2MDE1NTAwMDAwMDAwNSA1LjAwMDAwMDAwMDAwMDAwMSA1LjAwMDAwMDAwMDAwMDAwMSBDIDYuMzI2MDE1NTAwMDAwMDAwNSAzLjY3Mzk4NDUwMDAwMDAwMDQgNy4wNzEwNjc4MTE4NjU0NzU1IDEuODc1MjY5MTA0MDE2OTQxMSA3LjA3MTA2NzgxMTg2NTQ3NTUgLTAuMCBDIDcuMDcxMDY3ODExODY1NDc1NSAtMS44NzUyNjkxMDQwMTY5NDExIDYuMzI2MDE1NTAwMDAwMDAwNSAtMy42NzM5ODQ1MDAwMDAwMDA0IDUuMDAwMDAwMDAwMDAwMDAxIC01LjAwMDAwMDAwMDAwMDAwMSBDIDMuNjczOTg0NTAwMDAwMDAwNCAtNi4zMjYwMTU1MDAwMDAwMDA1IDEuODc1MjY5MTA0MDE2OTQxMSAtNy4wNzEwNjc4MTE4NjU0NzU1IDAuMCAtNy4wNzEwNjc4MTE4NjU0NzU1IEMgLTEuODc1MjY5MTA0MDE2OTQxMSAtNy4wNzEwNjc4MTE4NjU0NzU1IC0zLjY3Mzk4NDUwMDAwMDAwMDQgLTYuMzI2MDE1NTAwMDAwMDAwNSAtNS4wMDAwMDAwMDAwMDAwMDEgLTUuMDAwMDAwMDAwMDAwMDAxIEMgLTYuMzI2MDE1NTAwMDAwMDAwNSAtMy42NzM5ODQ1MDAwMDAwMDA0IC03LjA3MTA2NzgxMTg2NTQ3NTUgLTEuODc1MjY5MTA0MDE2OTQxMSAtNy4wNzEwNjc4MTE4NjU0NzU1IC0wLjAgQyAtNy4wNzEwNjc4MTE4NjU0NzU1IDEuODc1MjY5MTA0MDE2OTQxMSAtNi4zMjYwMTU1MDAwMDAwMDA1IDMuNjczOTg0NTAwMDAwMDAwNCAtNS4wMDAwMDAwMDAwMDAwMDEgNS4wMDAwMDAwMDAwMDAwMDEgQyAtMy42NzM5ODQ1MDAwMDAwMDA0IDYuMzI2MDE1NTAwMDAwMDAwNSAtMS44NzUyNjkxMDQwMTY5NDExIDcuMDcxMDY3ODExODY1NDc1NSAwLjAgNy4wNzEwNjc4MTE4NjU0NzU1IFpcIiBzdHJva2U9XCIjRkYwMDAwXCIgc3Ryb2tlLXdpZHRoPVwiMS4wXCIgc3Ryb2tlLW9wYWNpdHk9XCIwLjdcIiBmaWxsPVwiI0ZGMDAwMFwiIGZpbGwtb3BhY2l0eT1cIjAuN1wiIC8+PC9zdmc+IiwgImFuY2hvcl94IjogOS4wLCAiYW5jaG9yX3kiOiA5LjB9fSwgeyJ0eXBlIjogIkZlYXR1cmUiLCAiZ2VvbWV0cnkiOiB7InR5cGUiOiAiUG9pbnQiLCAiY29vcmRpbmF0ZXMiOiBbLTQ2LjQ3MzgzMzYsIC0yMy41MDk3NzFdfSwgInByb3BlcnRpZXMiOiB7Imh0bWwiOiAiPHN2ZyB3aWR0aD1cIjE4cHhcIiBoZWlnaHQ9XCIxOHB4XCIgdmlld0JveD1cIi05LjAgLTkuMCAxOC4wIDE4LjBcIiB4bWxucz1cImh0dHA6Ly93d3cudzMub3JnLzIwMDAvc3ZnXCIgdmVyc2lvbj1cIjEuMVwiPiAgPHBhdGggZD1cIk0gMC4wIDcuMDcxMDY3ODExODY1NDc1NSBDIDEuODc1MjY5MTA0MDE2OTQxMSA3LjA3MTA2NzgxMTg2NTQ3NTUgMy42NzM5ODQ1MDAwMDAwMDA0IDYuMzI2MDE1NTAwMDAwMDAwNSA1LjAwMDAwMDAwMDAwMDAwMSA1LjAwMDAwMDAwMDAwMDAwMSBDIDYuMzI2MDE1NTAwMDAwMDAwNSAzLjY3Mzk4NDUwMDAwMDAwMDQgNy4wNzEwNjc4MTE4NjU0NzU1IDEuODc1MjY5MTA0MDE2OTQxMSA3LjA3MTA2NzgxMTg2NTQ3NTUgLTAuMCBDIDcuMDcxMDY3ODExODY1NDc1NSAtMS44NzUyNjkxMDQwMTY5NDExIDYuMzI2MDE1NTAwMDAwMDAwNSAtMy42NzM5ODQ1MDAwMDAwMDA0IDUuMDAwMDAwMDAwMDAwMDAxIC01LjAwMDAwMDAwMDAwMDAwMSBDIDMuNjczOTg0NTAwMDAwMDAwNCAtNi4zMjYwMTU1MDAwMDAwMDA1IDEuODc1MjY5MTA0MDE2OTQxMSAtNy4wNzEwNjc4MTE4NjU0NzU1IDAuMCAtNy4wNzEwNjc4MTE4NjU0NzU1IEMgLTEuODc1MjY5MTA0MDE2OTQxMSAtNy4wNzEwNjc4MTE4NjU0NzU1IC0zLjY3Mzk4NDUwMDAwMDAwMDQgLTYuMzI2MDE1NTAwMDAwMDAwNSAtNS4wMDAwMDAwMDAwMDAwMDEgLTUuMDAwMDAwMDAwMDAwMDAxIEMgLTYuMzI2MDE1NTAwMDAwMDAwNSAtMy42NzM5ODQ1MDAwMDAwMDA0IC03LjA3MTA2NzgxMTg2NTQ3NTUgLTEuODc1MjY5MTA0MDE2OTQxMSAtNy4wNzEwNjc4MTE4NjU0NzU1IC0wLjAgQyAtNy4wNzEwNjc4MTE4NjU0NzU1IDEuODc1MjY5MTA0MDE2OTQxMSAtNi4zMjYwMTU1MDAwMDAwMDA1IDMuNjczOTg0NTAwMDAwMDAwNCAtNS4wMDAwMDAwMDAwMDAwMDEgNS4wMDAwMDAwMDAwMDAwMDEgQyAtMy42NzM5ODQ1MDAwMDAwMDA0IDYuMzI2MDE1NTAwMDAwMDAwNSAtMS44NzUyNjkxMDQwMTY5NDExIDcuMDcxMDY3ODExODY1NDc1NSAwLjAgNy4wNzEwNjc4MTE4NjU0NzU1IFpcIiBzdHJva2U9XCIjRkYwMDAwXCIgc3Ryb2tlLXdpZHRoPVwiMS4wXCIgc3Ryb2tlLW9wYWNpdHk9XCIwLjdcIiBmaWxsPVwiI0ZGMDAwMFwiIGZpbGwtb3BhY2l0eT1cIjAuN1wiIC8+PC9zdmc+IiwgImFuY2hvcl94IjogOS4wLCAiYW5jaG9yX3kiOiA5LjB9fSwgeyJ0eXBlIjogIkZlYXR1cmUiLCAiZ2VvbWV0cnkiOiB7InR5cGUiOiAiUG9pbnQiLCAiY29vcmRpbmF0ZXMiOiBbLTQ2LjY2MDcyNjEsIC0yMy43NDM1NDQ4XX0sICJwcm9wZXJ0aWVzIjogeyJodG1sIjogIjxzdmcgd2lkdGg9XCIxOHB4XCIgaGVpZ2h0PVwiMThweFwiIHZpZXdCb3g9XCItOS4wIC05LjAgMTguMCAxOC4wXCIgeG1sbnM9XCJodHRwOi8vd3d3LnczLm9yZy8yMDAwL3N2Z1wiIHZlcnNpb249XCIxLjFcIj4gIDxwYXRoIGQ9XCJNIDAuMCA3LjA3MTA2NzgxMTg2NTQ3NTUgQyAxLjg3NTI2OTEwNDAxNjk0MTEgNy4wNzEwNjc4MTE4NjU0NzU1IDMuNjczOTg0NTAwMDAwMDAwNCA2LjMyNjAxNTUwMDAwMDAwMDUgNS4wMDAwMDAwMDAwMDAwMDEgNS4wMDAwMDAwMDAwMDAwMDEgQyA2LjMyNjAxNTUwMDAwMDAwMDUgMy42NzM5ODQ1MDAwMDAwMDA0IDcuMDcxMDY3ODExODY1NDc1NSAxLjg3NTI2OTEwNDAxNjk0MTEgNy4wNzEwNjc4MTE4NjU0NzU1IC0wLjAgQyA3LjA3MTA2NzgxMTg2NTQ3NTUgLTEuODc1MjY5MTA0MDE2OTQxMSA2LjMyNjAxNTUwMDAwMDAwMDUgLTMuNjczOTg0NTAwMDAwMDAwNCA1LjAwMDAwMDAwMDAwMDAwMSAtNS4wMDAwMDAwMDAwMDAwMDEgQyAzLjY3Mzk4NDUwMDAwMDAwMDQgLTYuMzI2MDE1NTAwMDAwMDAwNSAxLjg3NTI2OTEwNDAxNjk0MTEgLTcuMDcxMDY3ODExODY1NDc1NSAwLjAgLTcuMDcxMDY3ODExODY1NDc1NSBDIC0xLjg3NTI2OTEwNDAxNjk0MTEgLTcuMDcxMDY3ODExODY1NDc1NSAtMy42NzM5ODQ1MDAwMDAwMDA0IC02LjMyNjAxNTUwMDAwMDAwMDUgLTUuMDAwMDAwMDAwMDAwMDAxIC01LjAwMDAwMDAwMDAwMDAwMSBDIC02LjMyNjAxNTUwMDAwMDAwMDUgLTMuNjczOTg0NTAwMDAwMDAwNCAtNy4wNzEwNjc4MTE4NjU0NzU1IC0xLjg3NTI2OTEwNDAxNjk0MTEgLTcuMDcxMDY3ODExODY1NDc1NSAtMC4wIEMgLTcuMDcxMDY3ODExODY1NDc1NSAxLjg3NTI2OTEwNDAxNjk0MTEgLTYuMzI2MDE1NTAwMDAwMDAwNSAzLjY3Mzk4NDUwMDAwMDAwMDQgLTUuMDAwMDAwMDAwMDAwMDAxIDUuMDAwMDAwMDAwMDAwMDAxIEMgLTMuNjczOTg0NTAwMDAwMDAwNCA2LjMyNjAxNTUwMDAwMDAwMDUgLTEuODc1MjY5MTA0MDE2OTQxMSA3LjA3MTA2NzgxMTg2NTQ3NTUgMC4wIDcuMDcxMDY3ODExODY1NDc1NSBaXCIgc3Ryb2tlPVwiI0ZGMDAwMFwiIHN0cm9rZS13aWR0aD1cIjEuMFwiIHN0cm9rZS1vcGFjaXR5PVwiMC43XCIgZmlsbD1cIiNGRjAwMDBcIiBmaWxsLW9wYWNpdHk9XCIwLjdcIiAvPjwvc3ZnPiIsICJhbmNob3JfeCI6IDkuMCwgImFuY2hvcl95IjogOS4wfX0sIHsidHlwZSI6ICJGZWF0dXJlIiwgImdlb21ldHJ5IjogeyJ0eXBlIjogIlBvaW50IiwgImNvb3JkaW5hdGVzIjogWy00Ni40MTIyOTYzLCAtMjMuNDk1MDM1MTAwMDAwMDAzXX0sICJwcm9wZXJ0aWVzIjogeyJodG1sIjogIjxzdmcgd2lkdGg9XCIxOHB4XCIgaGVpZ2h0PVwiMThweFwiIHZpZXdCb3g9XCItOS4wIC05LjAgMTguMCAxOC4wXCIgeG1sbnM9XCJodHRwOi8vd3d3LnczLm9yZy8yMDAwL3N2Z1wiIHZlcnNpb249XCIxLjFcIj4gIDxwYXRoIGQ9XCJNIDAuMCA3LjA3MTA2NzgxMTg2NTQ3NTUgQyAxLjg3NTI2OTEwNDAxNjk0MTEgNy4wNzEwNjc4MTE4NjU0NzU1IDMuNjczOTg0NTAwMDAwMDAwNCA2LjMyNjAxNTUwMDAwMDAwMDUgNS4wMDAwMDAwMDAwMDAwMDEgNS4wMDAwMDAwMDAwMDAwMDEgQyA2LjMyNjAxNTUwMDAwMDAwMDUgMy42NzM5ODQ1MDAwMDAwMDA0IDcuMDcxMDY3ODExODY1NDc1NSAxLjg3NTI2OTEwNDAxNjk0MTEgNy4wNzEwNjc4MTE4NjU0NzU1IC0wLjAgQyA3LjA3MTA2NzgxMTg2NTQ3NTUgLTEuODc1MjY5MTA0MDE2OTQxMSA2LjMyNjAxNTUwMDAwMDAwMDUgLTMuNjczOTg0NTAwMDAwMDAwNCA1LjAwMDAwMDAwMDAwMDAwMSAtNS4wMDAwMDAwMDAwMDAwMDEgQyAzLjY3Mzk4NDUwMDAwMDAwMDQgLTYuMzI2MDE1NTAwMDAwMDAwNSAxLjg3NTI2OTEwNDAxNjk0MTEgLTcuMDcxMDY3ODExODY1NDc1NSAwLjAgLTcuMDcxMDY3ODExODY1NDc1NSBDIC0xLjg3NTI2OTEwNDAxNjk0MTEgLTcuMDcxMDY3ODExODY1NDc1NSAtMy42NzM5ODQ1MDAwMDAwMDA0IC02LjMyNjAxNTUwMDAwMDAwMDUgLTUuMDAwMDAwMDAwMDAwMDAxIC01LjAwMDAwMDAwMDAwMDAwMSBDIC02LjMyNjAxNTUwMDAwMDAwMDUgLTMuNjczOTg0NTAwMDAwMDAwNCAtNy4wNzEwNjc4MTE4NjU0NzU1IC0xLjg3NTI2OTEwNDAxNjk0MTEgLTcuMDcxMDY3ODExODY1NDc1NSAtMC4wIEMgLTcuMDcxMDY3ODExODY1NDc1NSAxLjg3NTI2OTEwNDAxNjk0MTEgLTYuMzI2MDE1NTAwMDAwMDAwNSAzLjY3Mzk4NDUwMDAwMDAwMDQgLTUuMDAwMDAwMDAwMDAwMDAxIDUuMDAwMDAwMDAwMDAwMDAxIEMgLTMuNjczOTg0NTAwMDAwMDAwNCA2LjMyNjAxNTUwMDAwMDAwMDUgLTEuODc1MjY5MTA0MDE2OTQxMSA3LjA3MTA2NzgxMTg2NTQ3NTUgMC4wIDcuMDcxMDY3ODExODY1NDc1NSBaXCIgc3Ryb2tlPVwiI0ZGMDAwMFwiIHN0cm9rZS13aWR0aD1cIjEuMFwiIHN0cm9rZS1vcGFjaXR5PVwiMC43XCIgZmlsbD1cIiNGRjAwMDBcIiBmaWxsLW9wYWNpdHk9XCIwLjdcIiAvPjwvc3ZnPiIsICJhbmNob3JfeCI6IDkuMCwgImFuY2hvcl95IjogOS4wfX0sIHsidHlwZSI6ICJGZWF0dXJlIiwgImdlb21ldHJ5IjogeyJ0eXBlIjogIlBvaW50IiwgImNvb3JkaW5hdGVzIjogWy00Ni40MDY1NzM1LCAtMjMuNTk0MDMzOV19LCAicHJvcGVydGllcyI6IHsiaHRtbCI6ICI8c3ZnIHdpZHRoPVwiMThweFwiIGhlaWdodD1cIjE4cHhcIiB2aWV3Qm94PVwiLTkuMCAtOS4wIDE4LjAgMTguMFwiIHhtbG5zPVwiaHR0cDovL3d3dy53My5vcmcvMjAwMC9zdmdcIiB2ZXJzaW9uPVwiMS4xXCI+ICA8cGF0aCBkPVwiTSAwLjAgNy4wNzEwNjc4MTE4NjU0NzU1IEMgMS44NzUyNjkxMDQwMTY5NDExIDcuMDcxMDY3ODExODY1NDc1NSAzLjY3Mzk4NDUwMDAwMDAwMDQgNi4zMjYwMTU1MDAwMDAwMDA1IDUuMDAwMDAwMDAwMDAwMDAxIDUuMDAwMDAwMDAwMDAwMDAxIEMgNi4zMjYwMTU1MDAwMDAwMDA1IDMuNjczOTg0NTAwMDAwMDAwNCA3LjA3MTA2NzgxMTg2NTQ3NTUgMS44NzUyNjkxMDQwMTY5NDExIDcuMDcxMDY3ODExODY1NDc1NSAtMC4wIEMgNy4wNzEwNjc4MTE4NjU0NzU1IC0xLjg3NTI2OTEwNDAxNjk0MTEgNi4zMjYwMTU1MDAwMDAwMDA1IC0zLjY3Mzk4NDUwMDAwMDAwMDQgNS4wMDAwMDAwMDAwMDAwMDEgLTUuMDAwMDAwMDAwMDAwMDAxIEMgMy42NzM5ODQ1MDAwMDAwMDA0IC02LjMyNjAxNTUwMDAwMDAwMDUgMS44NzUyNjkxMDQwMTY5NDExIC03LjA3MTA2NzgxMTg2NTQ3NTUgMC4wIC03LjA3MTA2NzgxMTg2NTQ3NTUgQyAtMS44NzUyNjkxMDQwMTY5NDExIC03LjA3MTA2NzgxMTg2NTQ3NTUgLTMuNjczOTg0NTAwMDAwMDAwNCAtNi4zMjYwMTU1MDAwMDAwMDA1IC01LjAwMDAwMDAwMDAwMDAwMSAtNS4wMDAwMDAwMDAwMDAwMDEgQyAtNi4zMjYwMTU1MDAwMDAwMDA1IC0zLjY3Mzk4NDUwMDAwMDAwMDQgLTcuMDcxMDY3ODExODY1NDc1NSAtMS44NzUyNjkxMDQwMTY5NDExIC03LjA3MTA2NzgxMTg2NTQ3NTUgLTAuMCBDIC03LjA3MTA2NzgxMTg2NTQ3NTUgMS44NzUyNjkxMDQwMTY5NDExIC02LjMyNjAxNTUwMDAwMDAwMDUgMy42NzM5ODQ1MDAwMDAwMDA0IC01LjAwMDAwMDAwMDAwMDAwMSA1LjAwMDAwMDAwMDAwMDAwMSBDIC0zLjY3Mzk4NDUwMDAwMDAwMDQgNi4zMjYwMTU1MDAwMDAwMDA1IC0xLjg3NTI2OTEwNDAxNjk0MTEgNy4wNzEwNjc4MTE4NjU0NzU1IDAuMCA3LjA3MTA2NzgxMTg2NTQ3NTUgWlwiIHN0cm9rZT1cIiNGRjAwMDBcIiBzdHJva2Utd2lkdGg9XCIxLjBcIiBzdHJva2Utb3BhY2l0eT1cIjAuN1wiIGZpbGw9XCIjRkYwMDAwXCIgZmlsbC1vcGFjaXR5PVwiMC43XCIgLz48L3N2Zz4iLCAiYW5jaG9yX3giOiA5LjAsICJhbmNob3JfeSI6IDkuMH19LCB7InR5cGUiOiAiRmVhdHVyZSIsICJnZW9tZXRyeSI6IHsidHlwZSI6ICJQb2ludCIsICJjb29yZGluYXRlcyI6IFstNDYuNDI2MjM2MjAwMDAwMDA1LCAtMjMuNTM2NDgxMTAwMDAwMDAzXX0sICJwcm9wZXJ0aWVzIjogeyJodG1sIjogIjxzdmcgd2lkdGg9XCIxOHB4XCIgaGVpZ2h0PVwiMThweFwiIHZpZXdCb3g9XCItOS4wIC05LjAgMTguMCAxOC4wXCIgeG1sbnM9XCJodHRwOi8vd3d3LnczLm9yZy8yMDAwL3N2Z1wiIHZlcnNpb249XCIxLjFcIj4gIDxwYXRoIGQ9XCJNIDAuMCA3LjA3MTA2NzgxMTg2NTQ3NTUgQyAxLjg3NTI2OTEwNDAxNjk0MTEgNy4wNzEwNjc4MTE4NjU0NzU1IDMuNjczOTg0NTAwMDAwMDAwNCA2LjMyNjAxNTUwMDAwMDAwMDUgNS4wMDAwMDAwMDAwMDAwMDEgNS4wMDAwMDAwMDAwMDAwMDEgQyA2LjMyNjAxNTUwMDAwMDAwMDUgMy42NzM5ODQ1MDAwMDAwMDA0IDcuMDcxMDY3ODExODY1NDc1NSAxLjg3NTI2OTEwNDAxNjk0MTEgNy4wNzEwNjc4MTE4NjU0NzU1IC0wLjAgQyA3LjA3MTA2NzgxMTg2NTQ3NTUgLTEuODc1MjY5MTA0MDE2OTQxMSA2LjMyNjAxNTUwMDAwMDAwMDUgLTMuNjczOTg0NTAwMDAwMDAwNCA1LjAwMDAwMDAwMDAwMDAwMSAtNS4wMDAwMDAwMDAwMDAwMDEgQyAzLjY3Mzk4NDUwMDAwMDAwMDQgLTYuMzI2MDE1NTAwMDAwMDAwNSAxLjg3NTI2OTEwNDAxNjk0MTEgLTcuMDcxMDY3ODExODY1NDc1NSAwLjAgLTcuMDcxMDY3ODExODY1NDc1NSBDIC0xLjg3NTI2OTEwNDAxNjk0MTEgLTcuMDcxMDY3ODExODY1NDc1NSAtMy42NzM5ODQ1MDAwMDAwMDA0IC02LjMyNjAxNTUwMDAwMDAwMDUgLTUuMDAwMDAwMDAwMDAwMDAxIC01LjAwMDAwMDAwMDAwMDAwMSBDIC02LjMyNjAxNTUwMDAwMDAwMDUgLTMuNjczOTg0NTAwMDAwMDAwNCAtNy4wNzEwNjc4MTE4NjU0NzU1IC0xLjg3NTI2OTEwNDAxNjk0MTEgLTcuMDcxMDY3ODExODY1NDc1NSAtMC4wIEMgLTcuMDcxMDY3ODExODY1NDc1NSAxLjg3NTI2OTEwNDAxNjk0MTEgLTYuMzI2MDE1NTAwMDAwMDAwNSAzLjY3Mzk4NDUwMDAwMDAwMDQgLTUuMDAwMDAwMDAwMDAwMDAxIDUuMDAwMDAwMDAwMDAwMDAxIEMgLTMuNjczOTg0NTAwMDAwMDAwNCA2LjMyNjAxNTUwMDAwMDAwMDUgLTEuODc1MjY5MTA0MDE2OTQxMSA3LjA3MTA2NzgxMTg2NTQ3NTUgMC4wIDcuMDcxMDY3ODExODY1NDc1NSBaXCIgc3Ryb2tlPVwiI0ZGMDAwMFwiIHN0cm9rZS13aWR0aD1cIjEuMFwiIHN0cm9rZS1vcGFjaXR5PVwiMC43XCIgZmlsbD1cIiNGRjAwMDBcIiBmaWxsLW9wYWNpdHk9XCIwLjdcIiAvPjwvc3ZnPiIsICJhbmNob3JfeCI6IDkuMCwgImFuY2hvcl95IjogOS4wfX0sIHsidHlwZSI6ICJGZWF0dXJlIiwgImdlb21ldHJ5IjogeyJ0eXBlIjogIlBvaW50IiwgImNvb3JkaW5hdGVzIjogWy00Ni4zODEzMDE5LCAtMjMuNDc4MzcyXX0sICJwcm9wZXJ0aWVzIjogeyJodG1sIjogIjxzdmcgd2lkdGg9XCIxOHB4XCIgaGVpZ2h0PVwiMThweFwiIHZpZXdCb3g9XCItOS4wIC05LjAgMTguMCAxOC4wXCIgeG1sbnM9XCJodHRwOi8vd3d3LnczLm9yZy8yMDAwL3N2Z1wiIHZlcnNpb249XCIxLjFcIj4gIDxwYXRoIGQ9XCJNIDAuMCA3LjA3MTA2NzgxMTg2NTQ3NTUgQyAxLjg3NTI2OTEwNDAxNjk0MTEgNy4wNzEwNjc4MTE4NjU0NzU1IDMuNjczOTg0NTAwMDAwMDAwNCA2LjMyNjAxNTUwMDAwMDAwMDUgNS4wMDAwMDAwMDAwMDAwMDEgNS4wMDAwMDAwMDAwMDAwMDEgQyA2LjMyNjAxNTUwMDAwMDAwMDUgMy42NzM5ODQ1MDAwMDAwMDA0IDcuMDcxMDY3ODExODY1NDc1NSAxLjg3NTI2OTEwNDAxNjk0MTEgNy4wNzEwNjc4MTE4NjU0NzU1IC0wLjAgQyA3LjA3MTA2NzgxMTg2NTQ3NTUgLTEuODc1MjY5MTA0MDE2OTQxMSA2LjMyNjAxNTUwMDAwMDAwMDUgLTMuNjczOTg0NTAwMDAwMDAwNCA1LjAwMDAwMDAwMDAwMDAwMSAtNS4wMDAwMDAwMDAwMDAwMDEgQyAzLjY3Mzk4NDUwMDAwMDAwMDQgLTYuMzI2MDE1NTAwMDAwMDAwNSAxLjg3NTI2OTEwNDAxNjk0MTEgLTcuMDcxMDY3ODExODY1NDc1NSAwLjAgLTcuMDcxMDY3ODExODY1NDc1NSBDIC0xLjg3NTI2OTEwNDAxNjk0MTEgLTcuMDcxMDY3ODExODY1NDc1NSAtMy42NzM5ODQ1MDAwMDAwMDA0IC02LjMyNjAxNTUwMDAwMDAwMDUgLTUuMDAwMDAwMDAwMDAwMDAxIC01LjAwMDAwMDAwMDAwMDAwMSBDIC02LjMyNjAxNTUwMDAwMDAwMDUgLTMuNjczOTg0NTAwMDAwMDAwNCAtNy4wNzEwNjc4MTE4NjU0NzU1IC0xLjg3NTI2OTEwNDAxNjk0MTEgLTcuMDcxMDY3ODExODY1NDc1NSAtMC4wIEMgLTcuMDcxMDY3ODExODY1NDc1NSAxLjg3NTI2OTEwNDAxNjk0MTEgLTYuMzI2MDE1NTAwMDAwMDAwNSAzLjY3Mzk4NDUwMDAwMDAwMDQgLTUuMDAwMDAwMDAwMDAwMDAxIDUuMDAwMDAwMDAwMDAwMDAxIEMgLTMuNjczOTg0NTAwMDAwMDAwNCA2LjMyNjAxNTUwMDAwMDAwMDUgLTEuODc1MjY5MTA0MDE2OTQxMSA3LjA3MTA2NzgxMTg2NTQ3NTUgMC4wIDcuMDcxMDY3ODExODY1NDc1NSBaXCIgc3Ryb2tlPVwiI0ZGMDAwMFwiIHN0cm9rZS13aWR0aD1cIjEuMFwiIHN0cm9rZS1vcGFjaXR5PVwiMC43XCIgZmlsbD1cIiNGRjAwMDBcIiBmaWxsLW9wYWNpdHk9XCIwLjdcIiAvPjwvc3ZnPiIsICJhbmNob3JfeCI6IDkuMCwgImFuY2hvcl95IjogOS4wfX0sIHsidHlwZSI6ICJGZWF0dXJlIiwgImdlb21ldHJ5IjogeyJ0eXBlIjogIlBvaW50IiwgImNvb3JkaW5hdGVzIjogWy00Ni43MjUxNDM0OTk5OTk5OSwgLTIzLjgyODE3MjhdfSwgInByb3BlcnRpZXMiOiB7Imh0bWwiOiAiPHN2ZyB3aWR0aD1cIjE4cHhcIiBoZWlnaHQ9XCIxOHB4XCIgdmlld0JveD1cIi05LjAgLTkuMCAxOC4wIDE4LjBcIiB4bWxucz1cImh0dHA6Ly93d3cudzMub3JnLzIwMDAvc3ZnXCIgdmVyc2lvbj1cIjEuMVwiPiAgPHBhdGggZD1cIk0gMC4wIDcuMDcxMDY3ODExODY1NDc1NSBDIDEuODc1MjY5MTA0MDE2OTQxMSA3LjA3MTA2NzgxMTg2NTQ3NTUgMy42NzM5ODQ1MDAwMDAwMDA0IDYuMzI2MDE1NTAwMDAwMDAwNSA1LjAwMDAwMDAwMDAwMDAwMSA1LjAwMDAwMDAwMDAwMDAwMSBDIDYuMzI2MDE1NTAwMDAwMDAwNSAzLjY3Mzk4NDUwMDAwMDAwMDQgNy4wNzEwNjc4MTE4NjU0NzU1IDEuODc1MjY5MTA0MDE2OTQxMSA3LjA3MTA2NzgxMTg2NTQ3NTUgLTAuMCBDIDcuMDcxMDY3ODExODY1NDc1NSAtMS44NzUyNjkxMDQwMTY5NDExIDYuMzI2MDE1NTAwMDAwMDAwNSAtMy42NzM5ODQ1MDAwMDAwMDA0IDUuMDAwMDAwMDAwMDAwMDAxIC01LjAwMDAwMDAwMDAwMDAwMSBDIDMuNjczOTg0NTAwMDAwMDAwNCAtNi4zMjYwMTU1MDAwMDAwMDA1IDEuODc1MjY5MTA0MDE2OTQxMSAtNy4wNzEwNjc4MTE4NjU0NzU1IDAuMCAtNy4wNzEwNjc4MTE4NjU0NzU1IEMgLTEuODc1MjY5MTA0MDE2OTQxMSAtNy4wNzEwNjc4MTE4NjU0NzU1IC0zLjY3Mzk4NDUwMDAwMDAwMDQgLTYuMzI2MDE1NTAwMDAwMDAwNSAtNS4wMDAwMDAwMDAwMDAwMDEgLTUuMDAwMDAwMDAwMDAwMDAxIEMgLTYuMzI2MDE1NTAwMDAwMDAwNSAtMy42NzM5ODQ1MDAwMDAwMDA0IC03LjA3MTA2NzgxMTg2NTQ3NTUgLTEuODc1MjY5MTA0MDE2OTQxMSAtNy4wNzEwNjc4MTE4NjU0NzU1IC0wLjAgQyAtNy4wNzEwNjc4MTE4NjU0NzU1IDEuODc1MjY5MTA0MDE2OTQxMSAtNi4zMjYwMTU1MDAwMDAwMDA1IDMuNjczOTg0NTAwMDAwMDAwNCAtNS4wMDAwMDAwMDAwMDAwMDEgNS4wMDAwMDAwMDAwMDAwMDEgQyAtMy42NzM5ODQ1MDAwMDAwMDA0IDYuMzI2MDE1NTAwMDAwMDAwNSAtMS44NzUyNjkxMDQwMTY5NDExIDcuMDcxMDY3ODExODY1NDc1NSAwLjAgNy4wNzEwNjc4MTE4NjU0NzU1IFpcIiBzdHJva2U9XCIjRkYwMDAwXCIgc3Ryb2tlLXdpZHRoPVwiMS4wXCIgc3Ryb2tlLW9wYWNpdHk9XCIwLjdcIiBmaWxsPVwiI0ZGMDAwMFwiIGZpbGwtb3BhY2l0eT1cIjAuN1wiIC8+PC9zdmc+IiwgImFuY2hvcl94IjogOS4wLCAiYW5jaG9yX3kiOiA5LjB9fSwgeyJ0eXBlIjogIkZlYXR1cmUiLCAiZ2VvbWV0cnkiOiB7InR5cGUiOiAiUG9pbnQiLCAiY29vcmRpbmF0ZXMiOiBbLTQ2LjM4OTg4MDUsIC0yMy41MTMyNzE3XX0sICJwcm9wZXJ0aWVzIjogeyJodG1sIjogIjxzdmcgd2lkdGg9XCIxOHB4XCIgaGVpZ2h0PVwiMThweFwiIHZpZXdCb3g9XCItOS4wIC05LjAgMTguMCAxOC4wXCIgeG1sbnM9XCJodHRwOi8vd3d3LnczLm9yZy8yMDAwL3N2Z1wiIHZlcnNpb249XCIxLjFcIj4gIDxwYXRoIGQ9XCJNIDAuMCA3LjA3MTA2NzgxMTg2NTQ3NTUgQyAxLjg3NTI2OTEwNDAxNjk0MTEgNy4wNzEwNjc4MTE4NjU0NzU1IDMuNjczOTg0NTAwMDAwMDAwNCA2LjMyNjAxNTUwMDAwMDAwMDUgNS4wMDAwMDAwMDAwMDAwMDEgNS4wMDAwMDAwMDAwMDAwMDEgQyA2LjMyNjAxNTUwMDAwMDAwMDUgMy42NzM5ODQ1MDAwMDAwMDA0IDcuMDcxMDY3ODExODY1NDc1NSAxLjg3NTI2OTEwNDAxNjk0MTEgNy4wNzEwNjc4MTE4NjU0NzU1IC0wLjAgQyA3LjA3MTA2NzgxMTg2NTQ3NTUgLTEuODc1MjY5MTA0MDE2OTQxMSA2LjMyNjAxNTUwMDAwMDAwMDUgLTMuNjczOTg0NTAwMDAwMDAwNCA1LjAwMDAwMDAwMDAwMDAwMSAtNS4wMDAwMDAwMDAwMDAwMDEgQyAzLjY3Mzk4NDUwMDAwMDAwMDQgLTYuMzI2MDE1NTAwMDAwMDAwNSAxLjg3NTI2OTEwNDAxNjk0MTEgLTcuMDcxMDY3ODExODY1NDc1NSAwLjAgLTcuMDcxMDY3ODExODY1NDc1NSBDIC0xLjg3NTI2OTEwNDAxNjk0MTEgLTcuMDcxMDY3ODExODY1NDc1NSAtMy42NzM5ODQ1MDAwMDAwMDA0IC02LjMyNjAxNTUwMDAwMDAwMDUgLTUuMDAwMDAwMDAwMDAwMDAxIC01LjAwMDAwMDAwMDAwMDAwMSBDIC02LjMyNjAxNTUwMDAwMDAwMDUgLTMuNjczOTg0NTAwMDAwMDAwNCAtNy4wNzEwNjc4MTE4NjU0NzU1IC0xLjg3NTI2OTEwNDAxNjk0MTEgLTcuMDcxMDY3ODExODY1NDc1NSAtMC4wIEMgLTcuMDcxMDY3ODExODY1NDc1NSAxLjg3NTI2OTEwNDAxNjk0MTEgLTYuMzI2MDE1NTAwMDAwMDAwNSAzLjY3Mzk4NDUwMDAwMDAwMDQgLTUuMDAwMDAwMDAwMDAwMDAxIDUuMDAwMDAwMDAwMDAwMDAxIEMgLTMuNjczOTg0NTAwMDAwMDAwNCA2LjMyNjAxNTUwMDAwMDAwMDUgLTEuODc1MjY5MTA0MDE2OTQxMSA3LjA3MTA2NzgxMTg2NTQ3NTUgMC4wIDcuMDcxMDY3ODExODY1NDc1NSBaXCIgc3Ryb2tlPVwiI0ZGMDAwMFwiIHN0cm9rZS13aWR0aD1cIjEuMFwiIHN0cm9rZS1vcGFjaXR5PVwiMC43XCIgZmlsbD1cIiNGRjAwMDBcIiBmaWxsLW9wYWNpdHk9XCIwLjdcIiAvPjwvc3ZnPiIsICJhbmNob3JfeCI6IDkuMCwgImFuY2hvcl95IjogOS4wfX0sIHsidHlwZSI6ICJGZWF0dXJlIiwgImdlb21ldHJ5IjogeyJ0eXBlIjogIlBvaW50IiwgImNvb3JkaW5hdGVzIjogWy00Ni40MDA1NTQ1LCAtMjMuNTQ0Mzc4ODk5OTk5OTk4XX0sICJwcm9wZXJ0aWVzIjogeyJodG1sIjogIjxzdmcgd2lkdGg9XCIxOHB4XCIgaGVpZ2h0PVwiMThweFwiIHZpZXdCb3g9XCItOS4wIC05LjAgMTguMCAxOC4wXCIgeG1sbnM9XCJodHRwOi8vd3d3LnczLm9yZy8yMDAwL3N2Z1wiIHZlcnNpb249XCIxLjFcIj4gIDxwYXRoIGQ9XCJNIDAuMCA3LjA3MTA2NzgxMTg2NTQ3NTUgQyAxLjg3NTI2OTEwNDAxNjk0MTEgNy4wNzEwNjc4MTE4NjU0NzU1IDMuNjczOTg0NTAwMDAwMDAwNCA2LjMyNjAxNTUwMDAwMDAwMDUgNS4wMDAwMDAwMDAwMDAwMDEgNS4wMDAwMDAwMDAwMDAwMDEgQyA2LjMyNjAxNTUwMDAwMDAwMDUgMy42NzM5ODQ1MDAwMDAwMDA0IDcuMDcxMDY3ODExODY1NDc1NSAxLjg3NTI2OTEwNDAxNjk0MTEgNy4wNzEwNjc4MTE4NjU0NzU1IC0wLjAgQyA3LjA3MTA2NzgxMTg2NTQ3NTUgLTEuODc1MjY5MTA0MDE2OTQxMSA2LjMyNjAxNTUwMDAwMDAwMDUgLTMuNjczOTg0NTAwMDAwMDAwNCA1LjAwMDAwMDAwMDAwMDAwMSAtNS4wMDAwMDAwMDAwMDAwMDEgQyAzLjY3Mzk4NDUwMDAwMDAwMDQgLTYuMzI2MDE1NTAwMDAwMDAwNSAxLjg3NTI2OTEwNDAxNjk0MTEgLTcuMDcxMDY3ODExODY1NDc1NSAwLjAgLTcuMDcxMDY3ODExODY1NDc1NSBDIC0xLjg3NTI2OTEwNDAxNjk0MTEgLTcuMDcxMDY3ODExODY1NDc1NSAtMy42NzM5ODQ1MDAwMDAwMDA0IC02LjMyNjAxNTUwMDAwMDAwMDUgLTUuMDAwMDAwMDAwMDAwMDAxIC01LjAwMDAwMDAwMDAwMDAwMSBDIC02LjMyNjAxNTUwMDAwMDAwMDUgLTMuNjczOTg0NTAwMDAwMDAwNCAtNy4wNzEwNjc4MTE4NjU0NzU1IC0xLjg3NTI2OTEwNDAxNjk0MTEgLTcuMDcxMDY3ODExODY1NDc1NSAtMC4wIEMgLTcuMDcxMDY3ODExODY1NDc1NSAxLjg3NTI2OTEwNDAxNjk0MTEgLTYuMzI2MDE1NTAwMDAwMDAwNSAzLjY3Mzk4NDUwMDAwMDAwMDQgLTUuMDAwMDAwMDAwMDAwMDAxIDUuMDAwMDAwMDAwMDAwMDAxIEMgLTMuNjczOTg0NTAwMDAwMDAwNCA2LjMyNjAxNTUwMDAwMDAwMDUgLTEuODc1MjY5MTA0MDE2OTQxMSA3LjA3MTA2NzgxMTg2NTQ3NTUgMC4wIDcuMDcxMDY3ODExODY1NDc1NSBaXCIgc3Ryb2tlPVwiI0ZGMDAwMFwiIHN0cm9rZS13aWR0aD1cIjEuMFwiIHN0cm9rZS1vcGFjaXR5PVwiMC43XCIgZmlsbD1cIiNGRjAwMDBcIiBmaWxsLW9wYWNpdHk9XCIwLjdcIiAvPjwvc3ZnPiIsICJhbmNob3JfeCI6IDkuMCwgImFuY2hvcl95IjogOS4wfX0sIHsidHlwZSI6ICJGZWF0dXJlIiwgImdlb21ldHJ5IjogeyJ0eXBlIjogIlBvaW50IiwgImNvb3JkaW5hdGVzIjogWy00Ni40MTA0Mzg3MDAwMDAwMSwgLTIzLjU2OTY1NTg5OTk5OTk5N119LCAicHJvcGVydGllcyI6IHsiaHRtbCI6ICI8c3ZnIHdpZHRoPVwiMThweFwiIGhlaWdodD1cIjE4cHhcIiB2aWV3Qm94PVwiLTkuMCAtOS4wIDE4LjAgMTguMFwiIHhtbG5zPVwiaHR0cDovL3d3dy53My5vcmcvMjAwMC9zdmdcIiB2ZXJzaW9uPVwiMS4xXCI+ICA8cGF0aCBkPVwiTSAwLjAgNy4wNzEwNjc4MTE4NjU0NzU1IEMgMS44NzUyNjkxMDQwMTY5NDExIDcuMDcxMDY3ODExODY1NDc1NSAzLjY3Mzk4NDUwMDAwMDAwMDQgNi4zMjYwMTU1MDAwMDAwMDA1IDUuMDAwMDAwMDAwMDAwMDAxIDUuMDAwMDAwMDAwMDAwMDAxIEMgNi4zMjYwMTU1MDAwMDAwMDA1IDMuNjczOTg0NTAwMDAwMDAwNCA3LjA3MTA2NzgxMTg2NTQ3NTUgMS44NzUyNjkxMDQwMTY5NDExIDcuMDcxMDY3ODExODY1NDc1NSAtMC4wIEMgNy4wNzEwNjc4MTE4NjU0NzU1IC0xLjg3NTI2OTEwNDAxNjk0MTEgNi4zMjYwMTU1MDAwMDAwMDA1IC0zLjY3Mzk4NDUwMDAwMDAwMDQgNS4wMDAwMDAwMDAwMDAwMDEgLTUuMDAwMDAwMDAwMDAwMDAxIEMgMy42NzM5ODQ1MDAwMDAwMDA0IC02LjMyNjAxNTUwMDAwMDAwMDUgMS44NzUyNjkxMDQwMTY5NDExIC03LjA3MTA2NzgxMTg2NTQ3NTUgMC4wIC03LjA3MTA2NzgxMTg2NTQ3NTUgQyAtMS44NzUyNjkxMDQwMTY5NDExIC03LjA3MTA2NzgxMTg2NTQ3NTUgLTMuNjczOTg0NTAwMDAwMDAwNCAtNi4zMjYwMTU1MDAwMDAwMDA1IC01LjAwMDAwMDAwMDAwMDAwMSAtNS4wMDAwMDAwMDAwMDAwMDEgQyAtNi4zMjYwMTU1MDAwMDAwMDA1IC0zLjY3Mzk4NDUwMDAwMDAwMDQgLTcuMDcxMDY3ODExODY1NDc1NSAtMS44NzUyNjkxMDQwMTY5NDExIC03LjA3MTA2NzgxMTg2NTQ3NTUgLTAuMCBDIC03LjA3MTA2NzgxMTg2NTQ3NTUgMS44NzUyNjkxMDQwMTY5NDExIC02LjMyNjAxNTUwMDAwMDAwMDUgMy42NzM5ODQ1MDAwMDAwMDA0IC01LjAwMDAwMDAwMDAwMDAwMSA1LjAwMDAwMDAwMDAwMDAwMSBDIC0zLjY3Mzk4NDUwMDAwMDAwMDQgNi4zMjYwMTU1MDAwMDAwMDA1IC0xLjg3NTI2OTEwNDAxNjk0MTEgNy4wNzEwNjc4MTE4NjU0NzU1IDAuMCA3LjA3MTA2NzgxMTg2NTQ3NTUgWlwiIHN0cm9rZT1cIiNGRjAwMDBcIiBzdHJva2Utd2lkdGg9XCIxLjBcIiBzdHJva2Utb3BhY2l0eT1cIjAuN1wiIGZpbGw9XCIjRkYwMDAwXCIgZmlsbC1vcGFjaXR5PVwiMC43XCIgLz48L3N2Zz4iLCAiYW5jaG9yX3giOiA5LjAsICJhbmNob3JfeSI6IDkuMH19LCB7InR5cGUiOiAiRmVhdHVyZSIsICJnZW9tZXRyeSI6IHsidHlwZSI6ICJQb2ludCIsICJjb29yZGluYXRlcyI6IFstNDYuNjkxOTU2MSwgLTIzLjQ0NjE5OV19LCAicHJvcGVydGllcyI6IHsiaHRtbCI6ICI8c3ZnIHdpZHRoPVwiOHB4XCIgaGVpZ2h0PVwiOHB4XCIgdmlld0JveD1cIi00LjAgLTQuMCA4LjAgOC4wXCIgeG1sbnM9XCJodHRwOi8vd3d3LnczLm9yZy8yMDAwL3N2Z1wiIHZlcnNpb249XCIxLjFcIj4gIDxwYXRoIGQ9XCJNIDAuMCAzLjAgQyAwLjc5NTYwOTMwMDAwMDAwMDEgMy4wIDEuNTU4NzM5NjEyMzU0NTYwNSAyLjY4MzkwMTA3NDc2NDcyNSAyLjEyMTMyMDM0MzU1OTY0MyAyLjEyMTMyMDM0MzU1OTY0MyBDIDIuNjgzOTAxMDc0NzY0NzI1IDEuNTU4NzM5NjEyMzU0NTYwNSAzLjAgMC43OTU2MDkzMDAwMDAwMDAxIDMuMCAtMC4wIEMgMy4wIC0wLjc5NTYwOTMwMDAwMDAwMDEgMi42ODM5MDEwNzQ3NjQ3MjUgLTEuNTU4NzM5NjEyMzU0NTYwNSAyLjEyMTMyMDM0MzU1OTY0MyAtMi4xMjEzMjAzNDM1NTk2NDMgQyAxLjU1ODczOTYxMjM1NDU2MDUgLTIuNjgzOTAxMDc0NzY0NzI1IDAuNzk1NjA5MzAwMDAwMDAwMSAtMy4wIDAuMCAtMy4wIEMgLTAuNzk1NjA5MzAwMDAwMDAwMSAtMy4wIC0xLjU1ODczOTYxMjM1NDU2MDUgLTIuNjgzOTAxMDc0NzY0NzI1IC0yLjEyMTMyMDM0MzU1OTY0MyAtMi4xMjEzMjAzNDM1NTk2NDMgQyAtMi42ODM5MDEwNzQ3NjQ3MjUgLTEuNTU4NzM5NjEyMzU0NTYwNSAtMy4wIC0wLjc5NTYwOTMwMDAwMDAwMDEgLTMuMCAtMC4wIEMgLTMuMCAwLjc5NTYwOTMwMDAwMDAwMDEgLTIuNjgzOTAxMDc0NzY0NzI1IDEuNTU4NzM5NjEyMzU0NTYwNSAtMi4xMjEzMjAzNDM1NTk2NDMgMi4xMjEzMjAzNDM1NTk2NDMgQyAtMS41NTg3Mzk2MTIzNTQ1NjA1IDIuNjgzOTAxMDc0NzY0NzI1IC0wLjc5NTYwOTMwMDAwMDAwMDEgMy4wIDAuMCAzLjAgWlwiIHN0cm9rZT1cIiNCRkJGMDBcIiBzdHJva2Utd2lkdGg9XCIxLjBcIiBzdHJva2Utb3BhY2l0eT1cIk5vbmVcIiBmaWxsPVwiI0JGQkYwMFwiIGZpbGwtb3BhY2l0eT1cIk5vbmVcIiAvPjwvc3ZnPiIsICJhbmNob3JfeCI6IDQuMCwgImFuY2hvcl95IjogNC4wfX0sIHsidHlwZSI6ICJGZWF0dXJlIiwgImdlb21ldHJ5IjogeyJ0eXBlIjogIlBvaW50IiwgImNvb3JkaW5hdGVzIjogWy00Ni4zODEzMDE5LCAtMjMuNDc4MzcyXX0sICJwcm9wZXJ0aWVzIjogeyJodG1sIjogIjxzdmcgd2lkdGg9XCI4cHhcIiBoZWlnaHQ9XCI4cHhcIiB2aWV3Qm94PVwiLTQuMCAtNC4wIDguMCA4LjBcIiB4bWxucz1cImh0dHA6Ly93d3cudzMub3JnLzIwMDAvc3ZnXCIgdmVyc2lvbj1cIjEuMVwiPiAgPHBhdGggZD1cIk0gMC4wIDMuMCBDIDAuNzk1NjA5MzAwMDAwMDAwMSAzLjAgMS41NTg3Mzk2MTIzNTQ1NjA1IDIuNjgzOTAxMDc0NzY0NzI1IDIuMTIxMzIwMzQzNTU5NjQzIDIuMTIxMzIwMzQzNTU5NjQzIEMgMi42ODM5MDEwNzQ3NjQ3MjUgMS41NTg3Mzk2MTIzNTQ1NjA1IDMuMCAwLjc5NTYwOTMwMDAwMDAwMDEgMy4wIC0wLjAgQyAzLjAgLTAuNzk1NjA5MzAwMDAwMDAwMSAyLjY4MzkwMTA3NDc2NDcyNSAtMS41NTg3Mzk2MTIzNTQ1NjA1IDIuMTIxMzIwMzQzNTU5NjQzIC0yLjEyMTMyMDM0MzU1OTY0MyBDIDEuNTU4NzM5NjEyMzU0NTYwNSAtMi42ODM5MDEwNzQ3NjQ3MjUgMC43OTU2MDkzMDAwMDAwMDAxIC0zLjAgMC4wIC0zLjAgQyAtMC43OTU2MDkzMDAwMDAwMDAxIC0zLjAgLTEuNTU4NzM5NjEyMzU0NTYwNSAtMi42ODM5MDEwNzQ3NjQ3MjUgLTIuMTIxMzIwMzQzNTU5NjQzIC0yLjEyMTMyMDM0MzU1OTY0MyBDIC0yLjY4MzkwMTA3NDc2NDcyNSAtMS41NTg3Mzk2MTIzNTQ1NjA1IC0zLjAgLTAuNzk1NjA5MzAwMDAwMDAwMSAtMy4wIC0wLjAgQyAtMy4wIDAuNzk1NjA5MzAwMDAwMDAwMSAtMi42ODM5MDEwNzQ3NjQ3MjUgMS41NTg3Mzk2MTIzNTQ1NjA1IC0yLjEyMTMyMDM0MzU1OTY0MyAyLjEyMTMyMDM0MzU1OTY0MyBDIC0xLjU1ODczOTYxMjM1NDU2MDUgMi42ODM5MDEwNzQ3NjQ3MjUgLTAuNzk1NjA5MzAwMDAwMDAwMSAzLjAgMC4wIDMuMCBaXCIgc3Ryb2tlPVwiI0JGQkYwMFwiIHN0cm9rZS13aWR0aD1cIjEuMFwiIHN0cm9rZS1vcGFjaXR5PVwiTm9uZVwiIGZpbGw9XCIjQkZCRjAwXCIgZmlsbC1vcGFjaXR5PVwiTm9uZVwiIC8+PC9zdmc+IiwgImFuY2hvcl94IjogNC4wLCAiYW5jaG9yX3kiOiA0LjB9fSwgeyJ0eXBlIjogIkZlYXR1cmUiLCAiZ2VvbWV0cnkiOiB7InR5cGUiOiAiUG9pbnQiLCAiY29vcmRpbmF0ZXMiOiBbLTQ2LjQyNjMwNjI5OTk5OTk5LCAtMjMuNjEwNDg0MV19LCAicHJvcGVydGllcyI6IHsiaHRtbCI6ICI8c3ZnIHdpZHRoPVwiOHB4XCIgaGVpZ2h0PVwiOHB4XCIgdmlld0JveD1cIi00LjAgLTQuMCA4LjAgOC4wXCIgeG1sbnM9XCJodHRwOi8vd3d3LnczLm9yZy8yMDAwL3N2Z1wiIHZlcnNpb249XCIxLjFcIj4gIDxwYXRoIGQ9XCJNIDAuMCAzLjAgQyAwLjc5NTYwOTMwMDAwMDAwMDEgMy4wIDEuNTU4NzM5NjEyMzU0NTYwNSAyLjY4MzkwMTA3NDc2NDcyNSAyLjEyMTMyMDM0MzU1OTY0MyAyLjEyMTMyMDM0MzU1OTY0MyBDIDIuNjgzOTAxMDc0NzY0NzI1IDEuNTU4NzM5NjEyMzU0NTYwNSAzLjAgMC43OTU2MDkzMDAwMDAwMDAxIDMuMCAtMC4wIEMgMy4wIC0wLjc5NTYwOTMwMDAwMDAwMDEgMi42ODM5MDEwNzQ3NjQ3MjUgLTEuNTU4NzM5NjEyMzU0NTYwNSAyLjEyMTMyMDM0MzU1OTY0MyAtMi4xMjEzMjAzNDM1NTk2NDMgQyAxLjU1ODczOTYxMjM1NDU2MDUgLTIuNjgzOTAxMDc0NzY0NzI1IDAuNzk1NjA5MzAwMDAwMDAwMSAtMy4wIDAuMCAtMy4wIEMgLTAuNzk1NjA5MzAwMDAwMDAwMSAtMy4wIC0xLjU1ODczOTYxMjM1NDU2MDUgLTIuNjgzOTAxMDc0NzY0NzI1IC0yLjEyMTMyMDM0MzU1OTY0MyAtMi4xMjEzMjAzNDM1NTk2NDMgQyAtMi42ODM5MDEwNzQ3NjQ3MjUgLTEuNTU4NzM5NjEyMzU0NTYwNSAtMy4wIC0wLjc5NTYwOTMwMDAwMDAwMDEgLTMuMCAtMC4wIEMgLTMuMCAwLjc5NTYwOTMwMDAwMDAwMDEgLTIuNjgzOTAxMDc0NzY0NzI1IDEuNTU4NzM5NjEyMzU0NTYwNSAtMi4xMjEzMjAzNDM1NTk2NDMgMi4xMjEzMjAzNDM1NTk2NDMgQyAtMS41NTg3Mzk2MTIzNTQ1NjA1IDIuNjgzOTAxMDc0NzY0NzI1IC0wLjc5NTYwOTMwMDAwMDAwMDEgMy4wIDAuMCAzLjAgWlwiIHN0cm9rZT1cIiNCRkJGMDBcIiBzdHJva2Utd2lkdGg9XCIxLjBcIiBzdHJva2Utb3BhY2l0eT1cIk5vbmVcIiBmaWxsPVwiI0JGQkYwMFwiIGZpbGwtb3BhY2l0eT1cIk5vbmVcIiAvPjwvc3ZnPiIsICJhbmNob3JfeCI6IDQuMCwgImFuY2hvcl95IjogNC4wfX0sIHsidHlwZSI6ICJGZWF0dXJlIiwgImdlb21ldHJ5IjogeyJ0eXBlIjogIlBvaW50IiwgImNvb3JkaW5hdGVzIjogWy00Ni43ODU5NjMyMDAwMDAwMDUsIC0yMy42NDk2NDU1XX0sICJwcm9wZXJ0aWVzIjogeyJodG1sIjogIjxzdmcgd2lkdGg9XCI4cHhcIiBoZWlnaHQ9XCI4cHhcIiB2aWV3Qm94PVwiLTQuMCAtNC4wIDguMCA4LjBcIiB4bWxucz1cImh0dHA6Ly93d3cudzMub3JnLzIwMDAvc3ZnXCIgdmVyc2lvbj1cIjEuMVwiPiAgPHBhdGggZD1cIk0gMC4wIDMuMCBDIDAuNzk1NjA5MzAwMDAwMDAwMSAzLjAgMS41NTg3Mzk2MTIzNTQ1NjA1IDIuNjgzOTAxMDc0NzY0NzI1IDIuMTIxMzIwMzQzNTU5NjQzIDIuMTIxMzIwMzQzNTU5NjQzIEMgMi42ODM5MDEwNzQ3NjQ3MjUgMS41NTg3Mzk2MTIzNTQ1NjA1IDMuMCAwLjc5NTYwOTMwMDAwMDAwMDEgMy4wIC0wLjAgQyAzLjAgLTAuNzk1NjA5MzAwMDAwMDAwMSAyLjY4MzkwMTA3NDc2NDcyNSAtMS41NTg3Mzk2MTIzNTQ1NjA1IDIuMTIxMzIwMzQzNTU5NjQzIC0yLjEyMTMyMDM0MzU1OTY0MyBDIDEuNTU4NzM5NjEyMzU0NTYwNSAtMi42ODM5MDEwNzQ3NjQ3MjUgMC43OTU2MDkzMDAwMDAwMDAxIC0zLjAgMC4wIC0zLjAgQyAtMC43OTU2MDkzMDAwMDAwMDAxIC0zLjAgLTEuNTU4NzM5NjEyMzU0NTYwNSAtMi42ODM5MDEwNzQ3NjQ3MjUgLTIuMTIxMzIwMzQzNTU5NjQzIC0yLjEyMTMyMDM0MzU1OTY0MyBDIC0yLjY4MzkwMTA3NDc2NDcyNSAtMS41NTg3Mzk2MTIzNTQ1NjA1IC0zLjAgLTAuNzk1NjA5MzAwMDAwMDAwMSAtMy4wIC0wLjAgQyAtMy4wIDAuNzk1NjA5MzAwMDAwMDAwMSAtMi42ODM5MDEwNzQ3NjQ3MjUgMS41NTg3Mzk2MTIzNTQ1NjA1IC0yLjEyMTMyMDM0MzU1OTY0MyAyLjEyMTMyMDM0MzU1OTY0MyBDIC0xLjU1ODczOTYxMjM1NDU2MDUgMi42ODM5MDEwNzQ3NjQ3MjUgLTAuNzk1NjA5MzAwMDAwMDAwMSAzLjAgMC4wIDMuMCBaXCIgc3Ryb2tlPVwiI0JGQkYwMFwiIHN0cm9rZS13aWR0aD1cIjEuMFwiIHN0cm9rZS1vcGFjaXR5PVwiTm9uZVwiIGZpbGw9XCIjQkZCRjAwXCIgZmlsbC1vcGFjaXR5PVwiTm9uZVwiIC8+PC9zdmc+IiwgImFuY2hvcl94IjogNC4wLCAiYW5jaG9yX3kiOiA0LjB9fSwgeyJ0eXBlIjogIkZlYXR1cmUiLCAiZ2VvbWV0cnkiOiB7InR5cGUiOiAiUG9pbnQiLCAiY29vcmRpbmF0ZXMiOiBbLTQ2Ljc2MjY5NDEsIC0yMy40ODEzMjk5XX0sICJwcm9wZXJ0aWVzIjogeyJodG1sIjogIjxzdmcgd2lkdGg9XCI4cHhcIiBoZWlnaHQ9XCI4cHhcIiB2aWV3Qm94PVwiLTQuMCAtNC4wIDguMCA4LjBcIiB4bWxucz1cImh0dHA6Ly93d3cudzMub3JnLzIwMDAvc3ZnXCIgdmVyc2lvbj1cIjEuMVwiPiAgPHBhdGggZD1cIk0gMC4wIDMuMCBDIDAuNzk1NjA5MzAwMDAwMDAwMSAzLjAgMS41NTg3Mzk2MTIzNTQ1NjA1IDIuNjgzOTAxMDc0NzY0NzI1IDIuMTIxMzIwMzQzNTU5NjQzIDIuMTIxMzIwMzQzNTU5NjQzIEMgMi42ODM5MDEwNzQ3NjQ3MjUgMS41NTg3Mzk2MTIzNTQ1NjA1IDMuMCAwLjc5NTYwOTMwMDAwMDAwMDEgMy4wIC0wLjAgQyAzLjAgLTAuNzk1NjA5MzAwMDAwMDAwMSAyLjY4MzkwMTA3NDc2NDcyNSAtMS41NTg3Mzk2MTIzNTQ1NjA1IDIuMTIxMzIwMzQzNTU5NjQzIC0yLjEyMTMyMDM0MzU1OTY0MyBDIDEuNTU4NzM5NjEyMzU0NTYwNSAtMi42ODM5MDEwNzQ3NjQ3MjUgMC43OTU2MDkzMDAwMDAwMDAxIC0zLjAgMC4wIC0zLjAgQyAtMC43OTU2MDkzMDAwMDAwMDAxIC0zLjAgLTEuNTU4NzM5NjEyMzU0NTYwNSAtMi42ODM5MDEwNzQ3NjQ3MjUgLTIuMTIxMzIwMzQzNTU5NjQzIC0yLjEyMTMyMDM0MzU1OTY0MyBDIC0yLjY4MzkwMTA3NDc2NDcyNSAtMS41NTg3Mzk2MTIzNTQ1NjA1IC0zLjAgLTAuNzk1NjA5MzAwMDAwMDAwMSAtMy4wIC0wLjAgQyAtMy4wIDAuNzk1NjA5MzAwMDAwMDAwMSAtMi42ODM5MDEwNzQ3NjQ3MjUgMS41NTg3Mzk2MTIzNTQ1NjA1IC0yLjEyMTMyMDM0MzU1OTY0MyAyLjEyMTMyMDM0MzU1OTY0MyBDIC0xLjU1ODczOTYxMjM1NDU2MDUgMi42ODM5MDEwNzQ3NjQ3MjUgLTAuNzk1NjA5MzAwMDAwMDAwMSAzLjAgMC4wIDMuMCBaXCIgc3Ryb2tlPVwiI0JGQkYwMFwiIHN0cm9rZS13aWR0aD1cIjEuMFwiIHN0cm9rZS1vcGFjaXR5PVwiTm9uZVwiIGZpbGw9XCIjQkZCRjAwXCIgZmlsbC1vcGFjaXR5PVwiTm9uZVwiIC8+PC9zdmc+IiwgImFuY2hvcl94IjogNC4wLCAiYW5jaG9yX3kiOiA0LjB9fSwgeyJ0eXBlIjogIkZlYXR1cmUiLCAiZ2VvbWV0cnkiOiB7InR5cGUiOiAiUG9pbnQiLCAiY29vcmRpbmF0ZXMiOiBbLTQ2Ljc4OTI3MjEwMDAwMDAwNSwgLTIzLjYwMDQ4NjZdfSwgInByb3BlcnRpZXMiOiB7Imh0bWwiOiAiPHN2ZyB3aWR0aD1cIjhweFwiIGhlaWdodD1cIjhweFwiIHZpZXdCb3g9XCItNC4wIC00LjAgOC4wIDguMFwiIHhtbG5zPVwiaHR0cDovL3d3dy53My5vcmcvMjAwMC9zdmdcIiB2ZXJzaW9uPVwiMS4xXCI+ICA8cGF0aCBkPVwiTSAwLjAgMy4wIEMgMC43OTU2MDkzMDAwMDAwMDAxIDMuMCAxLjU1ODczOTYxMjM1NDU2MDUgMi42ODM5MDEwNzQ3NjQ3MjUgMi4xMjEzMjAzNDM1NTk2NDMgMi4xMjEzMjAzNDM1NTk2NDMgQyAyLjY4MzkwMTA3NDc2NDcyNSAxLjU1ODczOTYxMjM1NDU2MDUgMy4wIDAuNzk1NjA5MzAwMDAwMDAwMSAzLjAgLTAuMCBDIDMuMCAtMC43OTU2MDkzMDAwMDAwMDAxIDIuNjgzOTAxMDc0NzY0NzI1IC0xLjU1ODczOTYxMjM1NDU2MDUgMi4xMjEzMjAzNDM1NTk2NDMgLTIuMTIxMzIwMzQzNTU5NjQzIEMgMS41NTg3Mzk2MTIzNTQ1NjA1IC0yLjY4MzkwMTA3NDc2NDcyNSAwLjc5NTYwOTMwMDAwMDAwMDEgLTMuMCAwLjAgLTMuMCBDIC0wLjc5NTYwOTMwMDAwMDAwMDEgLTMuMCAtMS41NTg3Mzk2MTIzNTQ1NjA1IC0yLjY4MzkwMTA3NDc2NDcyNSAtMi4xMjEzMjAzNDM1NTk2NDMgLTIuMTIxMzIwMzQzNTU5NjQzIEMgLTIuNjgzOTAxMDc0NzY0NzI1IC0xLjU1ODczOTYxMjM1NDU2MDUgLTMuMCAtMC43OTU2MDkzMDAwMDAwMDAxIC0zLjAgLTAuMCBDIC0zLjAgMC43OTU2MDkzMDAwMDAwMDAxIC0yLjY4MzkwMTA3NDc2NDcyNSAxLjU1ODczOTYxMjM1NDU2MDUgLTIuMTIxMzIwMzQzNTU5NjQzIDIuMTIxMzIwMzQzNTU5NjQzIEMgLTEuNTU4NzM5NjEyMzU0NTYwNSAyLjY4MzkwMTA3NDc2NDcyNSAtMC43OTU2MDkzMDAwMDAwMDAxIDMuMCAwLjAgMy4wIFpcIiBzdHJva2U9XCIjQkZCRjAwXCIgc3Ryb2tlLXdpZHRoPVwiMS4wXCIgc3Ryb2tlLW9wYWNpdHk9XCJOb25lXCIgZmlsbD1cIiNCRkJGMDBcIiBmaWxsLW9wYWNpdHk9XCJOb25lXCIgLz48L3N2Zz4iLCAiYW5jaG9yX3giOiA0LjAsICJhbmNob3JfeSI6IDQuMH19LCB7InR5cGUiOiAiRmVhdHVyZSIsICJnZW9tZXRyeSI6IHsidHlwZSI6ICJQb2ludCIsICJjb29yZGluYXRlcyI6IFstNDYuNTg0Mzc1LCAtMjMuNjIxNDE4OV19LCAicHJvcGVydGllcyI6IHsiaHRtbCI6ICI8c3ZnIHdpZHRoPVwiOHB4XCIgaGVpZ2h0PVwiOHB4XCIgdmlld0JveD1cIi00LjAgLTQuMCA4LjAgOC4wXCIgeG1sbnM9XCJodHRwOi8vd3d3LnczLm9yZy8yMDAwL3N2Z1wiIHZlcnNpb249XCIxLjFcIj4gIDxwYXRoIGQ9XCJNIDAuMCAzLjAgQyAwLjc5NTYwOTMwMDAwMDAwMDEgMy4wIDEuNTU4NzM5NjEyMzU0NTYwNSAyLjY4MzkwMTA3NDc2NDcyNSAyLjEyMTMyMDM0MzU1OTY0MyAyLjEyMTMyMDM0MzU1OTY0MyBDIDIuNjgzOTAxMDc0NzY0NzI1IDEuNTU4NzM5NjEyMzU0NTYwNSAzLjAgMC43OTU2MDkzMDAwMDAwMDAxIDMuMCAtMC4wIEMgMy4wIC0wLjc5NTYwOTMwMDAwMDAwMDEgMi42ODM5MDEwNzQ3NjQ3MjUgLTEuNTU4NzM5NjEyMzU0NTYwNSAyLjEyMTMyMDM0MzU1OTY0MyAtMi4xMjEzMjAzNDM1NTk2NDMgQyAxLjU1ODczOTYxMjM1NDU2MDUgLTIuNjgzOTAxMDc0NzY0NzI1IDAuNzk1NjA5MzAwMDAwMDAwMSAtMy4wIDAuMCAtMy4wIEMgLTAuNzk1NjA5MzAwMDAwMDAwMSAtMy4wIC0xLjU1ODczOTYxMjM1NDU2MDUgLTIuNjgzOTAxMDc0NzY0NzI1IC0yLjEyMTMyMDM0MzU1OTY0MyAtMi4xMjEzMjAzNDM1NTk2NDMgQyAtMi42ODM5MDEwNzQ3NjQ3MjUgLTEuNTU4NzM5NjEyMzU0NTYwNSAtMy4wIC0wLjc5NTYwOTMwMDAwMDAwMDEgLTMuMCAtMC4wIEMgLTMuMCAwLjc5NTYwOTMwMDAwMDAwMDEgLTIuNjgzOTAxMDc0NzY0NzI1IDEuNTU4NzM5NjEyMzU0NTYwNSAtMi4xMjEzMjAzNDM1NTk2NDMgMi4xMjEzMjAzNDM1NTk2NDMgQyAtMS41NTg3Mzk2MTIzNTQ1NjA1IDIuNjgzOTAxMDc0NzY0NzI1IC0wLjc5NTYwOTMwMDAwMDAwMDEgMy4wIDAuMCAzLjAgWlwiIHN0cm9rZT1cIiNCRkJGMDBcIiBzdHJva2Utd2lkdGg9XCIxLjBcIiBzdHJva2Utb3BhY2l0eT1cIk5vbmVcIiBmaWxsPVwiI0JGQkYwMFwiIGZpbGwtb3BhY2l0eT1cIk5vbmVcIiAvPjwvc3ZnPiIsICJhbmNob3JfeCI6IDQuMCwgImFuY2hvcl95IjogNC4wfX0sIHsidHlwZSI6ICJGZWF0dXJlIiwgImdlb21ldHJ5IjogeyJ0eXBlIjogIlBvaW50IiwgImNvb3JkaW5hdGVzIjogWy00Ni41MDEwNTI5LCAtMjMuNjIxMzYyMl19LCAicHJvcGVydGllcyI6IHsiaHRtbCI6ICI8c3ZnIHdpZHRoPVwiOHB4XCIgaGVpZ2h0PVwiOHB4XCIgdmlld0JveD1cIi00LjAgLTQuMCA4LjAgOC4wXCIgeG1sbnM9XCJodHRwOi8vd3d3LnczLm9yZy8yMDAwL3N2Z1wiIHZlcnNpb249XCIxLjFcIj4gIDxwYXRoIGQ9XCJNIDAuMCAzLjAgQyAwLjc5NTYwOTMwMDAwMDAwMDEgMy4wIDEuNTU4NzM5NjEyMzU0NTYwNSAyLjY4MzkwMTA3NDc2NDcyNSAyLjEyMTMyMDM0MzU1OTY0MyAyLjEyMTMyMDM0MzU1OTY0MyBDIDIuNjgzOTAxMDc0NzY0NzI1IDEuNTU4NzM5NjEyMzU0NTYwNSAzLjAgMC43OTU2MDkzMDAwMDAwMDAxIDMuMCAtMC4wIEMgMy4wIC0wLjc5NTYwOTMwMDAwMDAwMDEgMi42ODM5MDEwNzQ3NjQ3MjUgLTEuNTU4NzM5NjEyMzU0NTYwNSAyLjEyMTMyMDM0MzU1OTY0MyAtMi4xMjEzMjAzNDM1NTk2NDMgQyAxLjU1ODczOTYxMjM1NDU2MDUgLTIuNjgzOTAxMDc0NzY0NzI1IDAuNzk1NjA5MzAwMDAwMDAwMSAtMy4wIDAuMCAtMy4wIEMgLTAuNzk1NjA5MzAwMDAwMDAwMSAtMy4wIC0xLjU1ODczOTYxMjM1NDU2MDUgLTIuNjgzOTAxMDc0NzY0NzI1IC0yLjEyMTMyMDM0MzU1OTY0MyAtMi4xMjEzMjAzNDM1NTk2NDMgQyAtMi42ODM5MDEwNzQ3NjQ3MjUgLTEuNTU4NzM5NjEyMzU0NTYwNSAtMy4wIC0wLjc5NTYwOTMwMDAwMDAwMDEgLTMuMCAtMC4wIEMgLTMuMCAwLjc5NTYwOTMwMDAwMDAwMDEgLTIuNjgzOTAxMDc0NzY0NzI1IDEuNTU4NzM5NjEyMzU0NTYwNSAtMi4xMjEzMjAzNDM1NTk2NDMgMi4xMjEzMjAzNDM1NTk2NDMgQyAtMS41NTg3Mzk2MTIzNTQ1NjA1IDIuNjgzOTAxMDc0NzY0NzI1IC0wLjc5NTYwOTMwMDAwMDAwMDEgMy4wIDAuMCAzLjAgWlwiIHN0cm9rZT1cIiNCRkJGMDBcIiBzdHJva2Utd2lkdGg9XCIxLjBcIiBzdHJva2Utb3BhY2l0eT1cIk5vbmVcIiBmaWxsPVwiI0JGQkYwMFwiIGZpbGwtb3BhY2l0eT1cIk5vbmVcIiAvPjwvc3ZnPiIsICJhbmNob3JfeCI6IDQuMCwgImFuY2hvcl95IjogNC4wfX0sIHsidHlwZSI6ICJGZWF0dXJlIiwgImdlb21ldHJ5IjogeyJ0eXBlIjogIlBvaW50IiwgImNvb3JkaW5hdGVzIjogWy00Ni43ODA4MDUzLCAtMjMuNzM1NTY2N119LCAicHJvcGVydGllcyI6IHsiaHRtbCI6ICI8c3ZnIHdpZHRoPVwiOHB4XCIgaGVpZ2h0PVwiOHB4XCIgdmlld0JveD1cIi00LjAgLTQuMCA4LjAgOC4wXCIgeG1sbnM9XCJodHRwOi8vd3d3LnczLm9yZy8yMDAwL3N2Z1wiIHZlcnNpb249XCIxLjFcIj4gIDxwYXRoIGQ9XCJNIDAuMCAzLjAgQyAwLjc5NTYwOTMwMDAwMDAwMDEgMy4wIDEuNTU4NzM5NjEyMzU0NTYwNSAyLjY4MzkwMTA3NDc2NDcyNSAyLjEyMTMyMDM0MzU1OTY0MyAyLjEyMTMyMDM0MzU1OTY0MyBDIDIuNjgzOTAxMDc0NzY0NzI1IDEuNTU4NzM5NjEyMzU0NTYwNSAzLjAgMC43OTU2MDkzMDAwMDAwMDAxIDMuMCAtMC4wIEMgMy4wIC0wLjc5NTYwOTMwMDAwMDAwMDEgMi42ODM5MDEwNzQ3NjQ3MjUgLTEuNTU4NzM5NjEyMzU0NTYwNSAyLjEyMTMyMDM0MzU1OTY0MyAtMi4xMjEzMjAzNDM1NTk2NDMgQyAxLjU1ODczOTYxMjM1NDU2MDUgLTIuNjgzOTAxMDc0NzY0NzI1IDAuNzk1NjA5MzAwMDAwMDAwMSAtMy4wIDAuMCAtMy4wIEMgLTAuNzk1NjA5MzAwMDAwMDAwMSAtMy4wIC0xLjU1ODczOTYxMjM1NDU2MDUgLTIuNjgzOTAxMDc0NzY0NzI1IC0yLjEyMTMyMDM0MzU1OTY0MyAtMi4xMjEzMjAzNDM1NTk2NDMgQyAtMi42ODM5MDEwNzQ3NjQ3MjUgLTEuNTU4NzM5NjEyMzU0NTYwNSAtMy4wIC0wLjc5NTYwOTMwMDAwMDAwMDEgLTMuMCAtMC4wIEMgLTMuMCAwLjc5NTYwOTMwMDAwMDAwMDEgLTIuNjgzOTAxMDc0NzY0NzI1IDEuNTU4NzM5NjEyMzU0NTYwNSAtMi4xMjEzMjAzNDM1NTk2NDMgMi4xMjEzMjAzNDM1NTk2NDMgQyAtMS41NTg3Mzk2MTIzNTQ1NjA1IDIuNjgzOTAxMDc0NzY0NzI1IC0wLjc5NTYwOTMwMDAwMDAwMDEgMy4wIDAuMCAzLjAgWlwiIHN0cm9rZT1cIiNCRkJGMDBcIiBzdHJva2Utd2lkdGg9XCIxLjBcIiBzdHJva2Utb3BhY2l0eT1cIk5vbmVcIiBmaWxsPVwiI0JGQkYwMFwiIGZpbGwtb3BhY2l0eT1cIk5vbmVcIiAvPjwvc3ZnPiIsICJhbmNob3JfeCI6IDQuMCwgImFuY2hvcl95IjogNC4wfX0sIHsidHlwZSI6ICJGZWF0dXJlIiwgImdlb21ldHJ5IjogeyJ0eXBlIjogIlBvaW50IiwgImNvb3JkaW5hdGVzIjogWy00Ni43OTM3MzksIC0yMy42ODYyMTEzOTk5OTk5OThdfSwgInByb3BlcnRpZXMiOiB7Imh0bWwiOiAiPHN2ZyB3aWR0aD1cIjhweFwiIGhlaWdodD1cIjhweFwiIHZpZXdCb3g9XCItNC4wIC00LjAgOC4wIDguMFwiIHhtbG5zPVwiaHR0cDovL3d3dy53My5vcmcvMjAwMC9zdmdcIiB2ZXJzaW9uPVwiMS4xXCI+ICA8cGF0aCBkPVwiTSAwLjAgMy4wIEMgMC43OTU2MDkzMDAwMDAwMDAxIDMuMCAxLjU1ODczOTYxMjM1NDU2MDUgMi42ODM5MDEwNzQ3NjQ3MjUgMi4xMjEzMjAzNDM1NTk2NDMgMi4xMjEzMjAzNDM1NTk2NDMgQyAyLjY4MzkwMTA3NDc2NDcyNSAxLjU1ODczOTYxMjM1NDU2MDUgMy4wIDAuNzk1NjA5MzAwMDAwMDAwMSAzLjAgLTAuMCBDIDMuMCAtMC43OTU2MDkzMDAwMDAwMDAxIDIuNjgzOTAxMDc0NzY0NzI1IC0xLjU1ODczOTYxMjM1NDU2MDUgMi4xMjEzMjAzNDM1NTk2NDMgLTIuMTIxMzIwMzQzNTU5NjQzIEMgMS41NTg3Mzk2MTIzNTQ1NjA1IC0yLjY4MzkwMTA3NDc2NDcyNSAwLjc5NTYwOTMwMDAwMDAwMDEgLTMuMCAwLjAgLTMuMCBDIC0wLjc5NTYwOTMwMDAwMDAwMDEgLTMuMCAtMS41NTg3Mzk2MTIzNTQ1NjA1IC0yLjY4MzkwMTA3NDc2NDcyNSAtMi4xMjEzMjAzNDM1NTk2NDMgLTIuMTIxMzIwMzQzNTU5NjQzIEMgLTIuNjgzOTAxMDc0NzY0NzI1IC0xLjU1ODczOTYxMjM1NDU2MDUgLTMuMCAtMC43OTU2MDkzMDAwMDAwMDAxIC0zLjAgLTAuMCBDIC0zLjAgMC43OTU2MDkzMDAwMDAwMDAxIC0yLjY4MzkwMTA3NDc2NDcyNSAxLjU1ODczOTYxMjM1NDU2MDUgLTIuMTIxMzIwMzQzNTU5NjQzIDIuMTIxMzIwMzQzNTU5NjQzIEMgLTEuNTU4NzM5NjEyMzU0NTYwNSAyLjY4MzkwMTA3NDc2NDcyNSAtMC43OTU2MDkzMDAwMDAwMDAxIDMuMCAwLjAgMy4wIFpcIiBzdHJva2U9XCIjQkZCRjAwXCIgc3Ryb2tlLXdpZHRoPVwiMS4wXCIgc3Ryb2tlLW9wYWNpdHk9XCJOb25lXCIgZmlsbD1cIiNCRkJGMDBcIiBmaWxsLW9wYWNpdHk9XCJOb25lXCIgLz48L3N2Zz4iLCAiYW5jaG9yX3giOiA0LjAsICJhbmNob3JfeSI6IDQuMH19LCB7InR5cGUiOiAiRmVhdHVyZSIsICJnZW9tZXRyeSI6IHsidHlwZSI6ICJQb2ludCIsICJjb29yZGluYXRlcyI6IFstNDYuNzg3MTM3OSwgLTIzLjQzOTc4NDNdfSwgInByb3BlcnRpZXMiOiB7Imh0bWwiOiAiPHN2ZyB3aWR0aD1cIjhweFwiIGhlaWdodD1cIjhweFwiIHZpZXdCb3g9XCItNC4wIC00LjAgOC4wIDguMFwiIHhtbG5zPVwiaHR0cDovL3d3dy53My5vcmcvMjAwMC9zdmdcIiB2ZXJzaW9uPVwiMS4xXCI+ICA8cGF0aCBkPVwiTSAwLjAgMy4wIEMgMC43OTU2MDkzMDAwMDAwMDAxIDMuMCAxLjU1ODczOTYxMjM1NDU2MDUgMi42ODM5MDEwNzQ3NjQ3MjUgMi4xMjEzMjAzNDM1NTk2NDMgMi4xMjEzMjAzNDM1NTk2NDMgQyAyLjY4MzkwMTA3NDc2NDcyNSAxLjU1ODczOTYxMjM1NDU2MDUgMy4wIDAuNzk1NjA5MzAwMDAwMDAwMSAzLjAgLTAuMCBDIDMuMCAtMC43OTU2MDkzMDAwMDAwMDAxIDIuNjgzOTAxMDc0NzY0NzI1IC0xLjU1ODczOTYxMjM1NDU2MDUgMi4xMjEzMjAzNDM1NTk2NDMgLTIuMTIxMzIwMzQzNTU5NjQzIEMgMS41NTg3Mzk2MTIzNTQ1NjA1IC0yLjY4MzkwMTA3NDc2NDcyNSAwLjc5NTYwOTMwMDAwMDAwMDEgLTMuMCAwLjAgLTMuMCBDIC0wLjc5NTYwOTMwMDAwMDAwMDEgLTMuMCAtMS41NTg3Mzk2MTIzNTQ1NjA1IC0yLjY4MzkwMTA3NDc2NDcyNSAtMi4xMjEzMjAzNDM1NTk2NDMgLTIuMTIxMzIwMzQzNTU5NjQzIEMgLTIuNjgzOTAxMDc0NzY0NzI1IC0xLjU1ODczOTYxMjM1NDU2MDUgLTMuMCAtMC43OTU2MDkzMDAwMDAwMDAxIC0zLjAgLTAuMCBDIC0zLjAgMC43OTU2MDkzMDAwMDAwMDAxIC0yLjY4MzkwMTA3NDc2NDcyNSAxLjU1ODczOTYxMjM1NDU2MDUgLTIuMTIxMzIwMzQzNTU5NjQzIDIuMTIxMzIwMzQzNTU5NjQzIEMgLTEuNTU4NzM5NjEyMzU0NTYwNSAyLjY4MzkwMTA3NDc2NDcyNSAtMC43OTU2MDkzMDAwMDAwMDAxIDMuMCAwLjAgMy4wIFpcIiBzdHJva2U9XCIjMDAwMEZGXCIgc3Ryb2tlLXdpZHRoPVwiMS4wXCIgc3Ryb2tlLW9wYWNpdHk9XCJOb25lXCIgZmlsbD1cIiMwMDAwRkZcIiBmaWxsLW9wYWNpdHk9XCJOb25lXCIgLz48L3N2Zz4iLCAiYW5jaG9yX3giOiA0LjAsICJhbmNob3JfeSI6IDQuMH19LCB7InR5cGUiOiAiRmVhdHVyZSIsICJnZW9tZXRyeSI6IHsidHlwZSI6ICJQb2ludCIsICJjb29yZGluYXRlcyI6IFstNDYuNjc4NTQ2NSwgLTIzLjc2NzIwNDJdfSwgInByb3BlcnRpZXMiOiB7Imh0bWwiOiAiPHN2ZyB3aWR0aD1cIjhweFwiIGhlaWdodD1cIjhweFwiIHZpZXdCb3g9XCItNC4wIC00LjAgOC4wIDguMFwiIHhtbG5zPVwiaHR0cDovL3d3dy53My5vcmcvMjAwMC9zdmdcIiB2ZXJzaW9uPVwiMS4xXCI+ICA8cGF0aCBkPVwiTSAwLjAgMy4wIEMgMC43OTU2MDkzMDAwMDAwMDAxIDMuMCAxLjU1ODczOTYxMjM1NDU2MDUgMi42ODM5MDEwNzQ3NjQ3MjUgMi4xMjEzMjAzNDM1NTk2NDMgMi4xMjEzMjAzNDM1NTk2NDMgQyAyLjY4MzkwMTA3NDc2NDcyNSAxLjU1ODczOTYxMjM1NDU2MDUgMy4wIDAuNzk1NjA5MzAwMDAwMDAwMSAzLjAgLTAuMCBDIDMuMCAtMC43OTU2MDkzMDAwMDAwMDAxIDIuNjgzOTAxMDc0NzY0NzI1IC0xLjU1ODczOTYxMjM1NDU2MDUgMi4xMjEzMjAzNDM1NTk2NDMgLTIuMTIxMzIwMzQzNTU5NjQzIEMgMS41NTg3Mzk2MTIzNTQ1NjA1IC0yLjY4MzkwMTA3NDc2NDcyNSAwLjc5NTYwOTMwMDAwMDAwMDEgLTMuMCAwLjAgLTMuMCBDIC0wLjc5NTYwOTMwMDAwMDAwMDEgLTMuMCAtMS41NTg3Mzk2MTIzNTQ1NjA1IC0yLjY4MzkwMTA3NDc2NDcyNSAtMi4xMjEzMjAzNDM1NTk2NDMgLTIuMTIxMzIwMzQzNTU5NjQzIEMgLTIuNjgzOTAxMDc0NzY0NzI1IC0xLjU1ODczOTYxMjM1NDU2MDUgLTMuMCAtMC43OTU2MDkzMDAwMDAwMDAxIC0zLjAgLTAuMCBDIC0zLjAgMC43OTU2MDkzMDAwMDAwMDAxIC0yLjY4MzkwMTA3NDc2NDcyNSAxLjU1ODczOTYxMjM1NDU2MDUgLTIuMTIxMzIwMzQzNTU5NjQzIDIuMTIxMzIwMzQzNTU5NjQzIEMgLTEuNTU4NzM5NjEyMzU0NTYwNSAyLjY4MzkwMTA3NDc2NDcyNSAtMC43OTU2MDkzMDAwMDAwMDAxIDMuMCAwLjAgMy4wIFpcIiBzdHJva2U9XCIjMDAwMEZGXCIgc3Ryb2tlLXdpZHRoPVwiMS4wXCIgc3Ryb2tlLW9wYWNpdHk9XCJOb25lXCIgZmlsbD1cIiMwMDAwRkZcIiBmaWxsLW9wYWNpdHk9XCJOb25lXCIgLz48L3N2Zz4iLCAiYW5jaG9yX3giOiA0LjAsICJhbmNob3JfeSI6IDQuMH19LCB7InR5cGUiOiAiRmVhdHVyZSIsICJnZW9tZXRyeSI6IHsidHlwZSI6ICJQb2ludCIsICJjb29yZGluYXRlcyI6IFstNDYuNjYwNzI2MSwgLTIzLjc0MzU0NDhdfSwgInByb3BlcnRpZXMiOiB7Imh0bWwiOiAiPHN2ZyB3aWR0aD1cIjhweFwiIGhlaWdodD1cIjhweFwiIHZpZXdCb3g9XCItNC4wIC00LjAgOC4wIDguMFwiIHhtbG5zPVwiaHR0cDovL3d3dy53My5vcmcvMjAwMC9zdmdcIiB2ZXJzaW9uPVwiMS4xXCI+ICA8cGF0aCBkPVwiTSAwLjAgMy4wIEMgMC43OTU2MDkzMDAwMDAwMDAxIDMuMCAxLjU1ODczOTYxMjM1NDU2MDUgMi42ODM5MDEwNzQ3NjQ3MjUgMi4xMjEzMjAzNDM1NTk2NDMgMi4xMjEzMjAzNDM1NTk2NDMgQyAyLjY4MzkwMTA3NDc2NDcyNSAxLjU1ODczOTYxMjM1NDU2MDUgMy4wIDAuNzk1NjA5MzAwMDAwMDAwMSAzLjAgLTAuMCBDIDMuMCAtMC43OTU2MDkzMDAwMDAwMDAxIDIuNjgzOTAxMDc0NzY0NzI1IC0xLjU1ODczOTYxMjM1NDU2MDUgMi4xMjEzMjAzNDM1NTk2NDMgLTIuMTIxMzIwMzQzNTU5NjQzIEMgMS41NTg3Mzk2MTIzNTQ1NjA1IC0yLjY4MzkwMTA3NDc2NDcyNSAwLjc5NTYwOTMwMDAwMDAwMDEgLTMuMCAwLjAgLTMuMCBDIC0wLjc5NTYwOTMwMDAwMDAwMDEgLTMuMCAtMS41NTg3Mzk2MTIzNTQ1NjA1IC0yLjY4MzkwMTA3NDc2NDcyNSAtMi4xMjEzMjAzNDM1NTk2NDMgLTIuMTIxMzIwMzQzNTU5NjQzIEMgLTIuNjgzOTAxMDc0NzY0NzI1IC0xLjU1ODczOTYxMjM1NDU2MDUgLTMuMCAtMC43OTU2MDkzMDAwMDAwMDAxIC0zLjAgLTAuMCBDIC0zLjAgMC43OTU2MDkzMDAwMDAwMDAxIC0yLjY4MzkwMTA3NDc2NDcyNSAxLjU1ODczOTYxMjM1NDU2MDUgLTIuMTIxMzIwMzQzNTU5NjQzIDIuMTIxMzIwMzQzNTU5NjQzIEMgLTEuNTU4NzM5NjEyMzU0NTYwNSAyLjY4MzkwMTA3NDc2NDcyNSAtMC43OTU2MDkzMDAwMDAwMDAxIDMuMCAwLjAgMy4wIFpcIiBzdHJva2U9XCIjMDAwMEZGXCIgc3Ryb2tlLXdpZHRoPVwiMS4wXCIgc3Ryb2tlLW9wYWNpdHk9XCJOb25lXCIgZmlsbD1cIiMwMDAwRkZcIiBmaWxsLW9wYWNpdHk9XCJOb25lXCIgLz48L3N2Zz4iLCAiYW5jaG9yX3giOiA0LjAsICJhbmNob3JfeSI6IDQuMH19LCB7InR5cGUiOiAiRmVhdHVyZSIsICJnZW9tZXRyeSI6IHsidHlwZSI6ICJQb2ludCIsICJjb29yZGluYXRlcyI6IFstNDYuNDU2ODgxNiwgLTIzLjYyMDc1NzRdfSwgInByb3BlcnRpZXMiOiB7Imh0bWwiOiAiPHN2ZyB3aWR0aD1cIjhweFwiIGhlaWdodD1cIjhweFwiIHZpZXdCb3g9XCItNC4wIC00LjAgOC4wIDguMFwiIHhtbG5zPVwiaHR0cDovL3d3dy53My5vcmcvMjAwMC9zdmdcIiB2ZXJzaW9uPVwiMS4xXCI+ICA8cGF0aCBkPVwiTSAwLjAgMy4wIEMgMC43OTU2MDkzMDAwMDAwMDAxIDMuMCAxLjU1ODczOTYxMjM1NDU2MDUgMi42ODM5MDEwNzQ3NjQ3MjUgMi4xMjEzMjAzNDM1NTk2NDMgMi4xMjEzMjAzNDM1NTk2NDMgQyAyLjY4MzkwMTA3NDc2NDcyNSAxLjU1ODczOTYxMjM1NDU2MDUgMy4wIDAuNzk1NjA5MzAwMDAwMDAwMSAzLjAgLTAuMCBDIDMuMCAtMC43OTU2MDkzMDAwMDAwMDAxIDIuNjgzOTAxMDc0NzY0NzI1IC0xLjU1ODczOTYxMjM1NDU2MDUgMi4xMjEzMjAzNDM1NTk2NDMgLTIuMTIxMzIwMzQzNTU5NjQzIEMgMS41NTg3Mzk2MTIzNTQ1NjA1IC0yLjY4MzkwMTA3NDc2NDcyNSAwLjc5NTYwOTMwMDAwMDAwMDEgLTMuMCAwLjAgLTMuMCBDIC0wLjc5NTYwOTMwMDAwMDAwMDEgLTMuMCAtMS41NTg3Mzk2MTIzNTQ1NjA1IC0yLjY4MzkwMTA3NDc2NDcyNSAtMi4xMjEzMjAzNDM1NTk2NDMgLTIuMTIxMzIwMzQzNTU5NjQzIEMgLTIuNjgzOTAxMDc0NzY0NzI1IC0xLjU1ODczOTYxMjM1NDU2MDUgLTMuMCAtMC43OTU2MDkzMDAwMDAwMDAxIC0zLjAgLTAuMCBDIC0zLjAgMC43OTU2MDkzMDAwMDAwMDAxIC0yLjY4MzkwMTA3NDc2NDcyNSAxLjU1ODczOTYxMjM1NDU2MDUgLTIuMTIxMzIwMzQzNTU5NjQzIDIuMTIxMzIwMzQzNTU5NjQzIEMgLTEuNTU4NzM5NjEyMzU0NTYwNSAyLjY4MzkwMTA3NDc2NDcyNSAtMC43OTU2MDkzMDAwMDAwMDAxIDMuMCAwLjAgMy4wIFpcIiBzdHJva2U9XCIjMDAwMEZGXCIgc3Ryb2tlLXdpZHRoPVwiMS4wXCIgc3Ryb2tlLW9wYWNpdHk9XCJOb25lXCIgZmlsbD1cIiMwMDAwRkZcIiBmaWxsLW9wYWNpdHk9XCJOb25lXCIgLz48L3N2Zz4iLCAiYW5jaG9yX3giOiA0LjAsICJhbmNob3JfeSI6IDQuMH19LCB7InR5cGUiOiAiRmVhdHVyZSIsICJnZW9tZXRyeSI6IHsidHlwZSI6ICJQb2ludCIsICJjb29yZGluYXRlcyI6IFstNDYuNDczODMzNiwgLTIzLjUwOTc3MV19LCAicHJvcGVydGllcyI6IHsiaHRtbCI6ICI8c3ZnIHdpZHRoPVwiOHB4XCIgaGVpZ2h0PVwiOHB4XCIgdmlld0JveD1cIi00LjAgLTQuMCA4LjAgOC4wXCIgeG1sbnM9XCJodHRwOi8vd3d3LnczLm9yZy8yMDAwL3N2Z1wiIHZlcnNpb249XCIxLjFcIj4gIDxwYXRoIGQ9XCJNIDAuMCAzLjAgQyAwLjc5NTYwOTMwMDAwMDAwMDEgMy4wIDEuNTU4NzM5NjEyMzU0NTYwNSAyLjY4MzkwMTA3NDc2NDcyNSAyLjEyMTMyMDM0MzU1OTY0MyAyLjEyMTMyMDM0MzU1OTY0MyBDIDIuNjgzOTAxMDc0NzY0NzI1IDEuNTU4NzM5NjEyMzU0NTYwNSAzLjAgMC43OTU2MDkzMDAwMDAwMDAxIDMuMCAtMC4wIEMgMy4wIC0wLjc5NTYwOTMwMDAwMDAwMDEgMi42ODM5MDEwNzQ3NjQ3MjUgLTEuNTU4NzM5NjEyMzU0NTYwNSAyLjEyMTMyMDM0MzU1OTY0MyAtMi4xMjEzMjAzNDM1NTk2NDMgQyAxLjU1ODczOTYxMjM1NDU2MDUgLTIuNjgzOTAxMDc0NzY0NzI1IDAuNzk1NjA5MzAwMDAwMDAwMSAtMy4wIDAuMCAtMy4wIEMgLTAuNzk1NjA5MzAwMDAwMDAwMSAtMy4wIC0xLjU1ODczOTYxMjM1NDU2MDUgLTIuNjgzOTAxMDc0NzY0NzI1IC0yLjEyMTMyMDM0MzU1OTY0MyAtMi4xMjEzMjAzNDM1NTk2NDMgQyAtMi42ODM5MDEwNzQ3NjQ3MjUgLTEuNTU4NzM5NjEyMzU0NTYwNSAtMy4wIC0wLjc5NTYwOTMwMDAwMDAwMDEgLTMuMCAtMC4wIEMgLTMuMCAwLjc5NTYwOTMwMDAwMDAwMDEgLTIuNjgzOTAxMDc0NzY0NzI1IDEuNTU4NzM5NjEyMzU0NTYwNSAtMi4xMjEzMjAzNDM1NTk2NDMgMi4xMjEzMjAzNDM1NTk2NDMgQyAtMS41NTg3Mzk2MTIzNTQ1NjA1IDIuNjgzOTAxMDc0NzY0NzI1IC0wLjc5NTYwOTMwMDAwMDAwMDEgMy4wIDAuMCAzLjAgWlwiIHN0cm9rZT1cIiMwMDAwRkZcIiBzdHJva2Utd2lkdGg9XCIxLjBcIiBzdHJva2Utb3BhY2l0eT1cIk5vbmVcIiBmaWxsPVwiIzAwMDBGRlwiIGZpbGwtb3BhY2l0eT1cIk5vbmVcIiAvPjwvc3ZnPiIsICJhbmNob3JfeCI6IDQuMCwgImFuY2hvcl95IjogNC4wfX0sIHsidHlwZSI6ICJGZWF0dXJlIiwgImdlb21ldHJ5IjogeyJ0eXBlIjogIlBvaW50IiwgImNvb3JkaW5hdGVzIjogWy00Ni40MDA1NTQ1LCAtMjMuNTQ0Mzc4ODk5OTk5OTk4XX0sICJwcm9wZXJ0aWVzIjogeyJodG1sIjogIjxzdmcgd2lkdGg9XCI4cHhcIiBoZWlnaHQ9XCI4cHhcIiB2aWV3Qm94PVwiLTQuMCAtNC4wIDguMCA4LjBcIiB4bWxucz1cImh0dHA6Ly93d3cudzMub3JnLzIwMDAvc3ZnXCIgdmVyc2lvbj1cIjEuMVwiPiAgPHBhdGggZD1cIk0gMC4wIDMuMCBDIDAuNzk1NjA5MzAwMDAwMDAwMSAzLjAgMS41NTg3Mzk2MTIzNTQ1NjA1IDIuNjgzOTAxMDc0NzY0NzI1IDIuMTIxMzIwMzQzNTU5NjQzIDIuMTIxMzIwMzQzNTU5NjQzIEMgMi42ODM5MDEwNzQ3NjQ3MjUgMS41NTg3Mzk2MTIzNTQ1NjA1IDMuMCAwLjc5NTYwOTMwMDAwMDAwMDEgMy4wIC0wLjAgQyAzLjAgLTAuNzk1NjA5MzAwMDAwMDAwMSAyLjY4MzkwMTA3NDc2NDcyNSAtMS41NTg3Mzk2MTIzNTQ1NjA1IDIuMTIxMzIwMzQzNTU5NjQzIC0yLjEyMTMyMDM0MzU1OTY0MyBDIDEuNTU4NzM5NjEyMzU0NTYwNSAtMi42ODM5MDEwNzQ3NjQ3MjUgMC43OTU2MDkzMDAwMDAwMDAxIC0zLjAgMC4wIC0zLjAgQyAtMC43OTU2MDkzMDAwMDAwMDAxIC0zLjAgLTEuNTU4NzM5NjEyMzU0NTYwNSAtMi42ODM5MDEwNzQ3NjQ3MjUgLTIuMTIxMzIwMzQzNTU5NjQzIC0yLjEyMTMyMDM0MzU1OTY0MyBDIC0yLjY4MzkwMTA3NDc2NDcyNSAtMS41NTg3Mzk2MTIzNTQ1NjA1IC0zLjAgLTAuNzk1NjA5MzAwMDAwMDAwMSAtMy4wIC0wLjAgQyAtMy4wIDAuNzk1NjA5MzAwMDAwMDAwMSAtMi42ODM5MDEwNzQ3NjQ3MjUgMS41NTg3Mzk2MTIzNTQ1NjA1IC0yLjEyMTMyMDM0MzU1OTY0MyAyLjEyMTMyMDM0MzU1OTY0MyBDIC0xLjU1ODczOTYxMjM1NDU2MDUgMi42ODM5MDEwNzQ3NjQ3MjUgLTAuNzk1NjA5MzAwMDAwMDAwMSAzLjAgMC4wIDMuMCBaXCIgc3Ryb2tlPVwiIzAwMDBGRlwiIHN0cm9rZS13aWR0aD1cIjEuMFwiIHN0cm9rZS1vcGFjaXR5PVwiTm9uZVwiIGZpbGw9XCIjMDAwMEZGXCIgZmlsbC1vcGFjaXR5PVwiTm9uZVwiIC8+PC9zdmc+IiwgImFuY2hvcl94IjogNC4wLCAiYW5jaG9yX3kiOiA0LjB9fSwgeyJ0eXBlIjogIkZlYXR1cmUiLCAiZ2VvbWV0cnkiOiB7InR5cGUiOiAiUG9pbnQiLCAiY29vcmRpbmF0ZXMiOiBbLTQ2LjQwNjU3MzUsIC0yMy41OTQwMzM5XX0sICJwcm9wZXJ0aWVzIjogeyJodG1sIjogIjxzdmcgd2lkdGg9XCI4cHhcIiBoZWlnaHQ9XCI4cHhcIiB2aWV3Qm94PVwiLTQuMCAtNC4wIDguMCA4LjBcIiB4bWxucz1cImh0dHA6Ly93d3cudzMub3JnLzIwMDAvc3ZnXCIgdmVyc2lvbj1cIjEuMVwiPiAgPHBhdGggZD1cIk0gMC4wIDMuMCBDIDAuNzk1NjA5MzAwMDAwMDAwMSAzLjAgMS41NTg3Mzk2MTIzNTQ1NjA1IDIuNjgzOTAxMDc0NzY0NzI1IDIuMTIxMzIwMzQzNTU5NjQzIDIuMTIxMzIwMzQzNTU5NjQzIEMgMi42ODM5MDEwNzQ3NjQ3MjUgMS41NTg3Mzk2MTIzNTQ1NjA1IDMuMCAwLjc5NTYwOTMwMDAwMDAwMDEgMy4wIC0wLjAgQyAzLjAgLTAuNzk1NjA5MzAwMDAwMDAwMSAyLjY4MzkwMTA3NDc2NDcyNSAtMS41NTg3Mzk2MTIzNTQ1NjA1IDIuMTIxMzIwMzQzNTU5NjQzIC0yLjEyMTMyMDM0MzU1OTY0MyBDIDEuNTU4NzM5NjEyMzU0NTYwNSAtMi42ODM5MDEwNzQ3NjQ3MjUgMC43OTU2MDkzMDAwMDAwMDAxIC0zLjAgMC4wIC0zLjAgQyAtMC43OTU2MDkzMDAwMDAwMDAxIC0zLjAgLTEuNTU4NzM5NjEyMzU0NTYwNSAtMi42ODM5MDEwNzQ3NjQ3MjUgLTIuMTIxMzIwMzQzNTU5NjQzIC0yLjEyMTMyMDM0MzU1OTY0MyBDIC0yLjY4MzkwMTA3NDc2NDcyNSAtMS41NTg3Mzk2MTIzNTQ1NjA1IC0zLjAgLTAuNzk1NjA5MzAwMDAwMDAwMSAtMy4wIC0wLjAgQyAtMy4wIDAuNzk1NjA5MzAwMDAwMDAwMSAtMi42ODM5MDEwNzQ3NjQ3MjUgMS41NTg3Mzk2MTIzNTQ1NjA1IC0yLjEyMTMyMDM0MzU1OTY0MyAyLjEyMTMyMDM0MzU1OTY0MyBDIC0xLjU1ODczOTYxMjM1NDU2MDUgMi42ODM5MDEwNzQ3NjQ3MjUgLTAuNzk1NjA5MzAwMDAwMDAwMSAzLjAgMC4wIDMuMCBaXCIgc3Ryb2tlPVwiIzAwMDBGRlwiIHN0cm9rZS13aWR0aD1cIjEuMFwiIHN0cm9rZS1vcGFjaXR5PVwiTm9uZVwiIGZpbGw9XCIjMDAwMEZGXCIgZmlsbC1vcGFjaXR5PVwiTm9uZVwiIC8+PC9zdmc+IiwgImFuY2hvcl94IjogNC4wLCAiYW5jaG9yX3kiOiA0LjB9fSwgeyJ0eXBlIjogIkZlYXR1cmUiLCAiZ2VvbWV0cnkiOiB7InR5cGUiOiAiUG9pbnQiLCAiY29vcmRpbmF0ZXMiOiBbLTQ2Ljc1MDczMTA5OTk5OTk5NiwgLTIzLjQzNjk3MTJdfSwgInByb3BlcnRpZXMiOiB7Imh0bWwiOiAiPHN2ZyB3aWR0aD1cIjhweFwiIGhlaWdodD1cIjhweFwiIHZpZXdCb3g9XCItNC4wIC00LjAgOC4wIDguMFwiIHhtbG5zPVwiaHR0cDovL3d3dy53My5vcmcvMjAwMC9zdmdcIiB2ZXJzaW9uPVwiMS4xXCI+ICA8cGF0aCBkPVwiTSAwLjAgMy4wIEMgMC43OTU2MDkzMDAwMDAwMDAxIDMuMCAxLjU1ODczOTYxMjM1NDU2MDUgMi42ODM5MDEwNzQ3NjQ3MjUgMi4xMjEzMjAzNDM1NTk2NDMgMi4xMjEzMjAzNDM1NTk2NDMgQyAyLjY4MzkwMTA3NDc2NDcyNSAxLjU1ODczOTYxMjM1NDU2MDUgMy4wIDAuNzk1NjA5MzAwMDAwMDAwMSAzLjAgLTAuMCBDIDMuMCAtMC43OTU2MDkzMDAwMDAwMDAxIDIuNjgzOTAxMDc0NzY0NzI1IC0xLjU1ODczOTYxMjM1NDU2MDUgMi4xMjEzMjAzNDM1NTk2NDMgLTIuMTIxMzIwMzQzNTU5NjQzIEMgMS41NTg3Mzk2MTIzNTQ1NjA1IC0yLjY4MzkwMTA3NDc2NDcyNSAwLjc5NTYwOTMwMDAwMDAwMDEgLTMuMCAwLjAgLTMuMCBDIC0wLjc5NTYwOTMwMDAwMDAwMDEgLTMuMCAtMS41NTg3Mzk2MTIzNTQ1NjA1IC0yLjY4MzkwMTA3NDc2NDcyNSAtMi4xMjEzMjAzNDM1NTk2NDMgLTIuMTIxMzIwMzQzNTU5NjQzIEMgLTIuNjgzOTAxMDc0NzY0NzI1IC0xLjU1ODczOTYxMjM1NDU2MDUgLTMuMCAtMC43OTU2MDkzMDAwMDAwMDAxIC0zLjAgLTAuMCBDIC0zLjAgMC43OTU2MDkzMDAwMDAwMDAxIC0yLjY4MzkwMTA3NDc2NDcyNSAxLjU1ODczOTYxMjM1NDU2MDUgLTIuMTIxMzIwMzQzNTU5NjQzIDIuMTIxMzIwMzQzNTU5NjQzIEMgLTEuNTU4NzM5NjEyMzU0NTYwNSAyLjY4MzkwMTA3NDc2NDcyNSAtMC43OTU2MDkzMDAwMDAwMDAxIDMuMCAwLjAgMy4wIFpcIiBzdHJva2U9XCIjMDAwMEZGXCIgc3Ryb2tlLXdpZHRoPVwiMS4wXCIgc3Ryb2tlLW9wYWNpdHk9XCJOb25lXCIgZmlsbD1cIiMwMDAwRkZcIiBmaWxsLW9wYWNpdHk9XCJOb25lXCIgLz48L3N2Zz4iLCAiYW5jaG9yX3giOiA0LjAsICJhbmNob3JfeSI6IDQuMH19LCB7InR5cGUiOiAiRmVhdHVyZSIsICJnZW9tZXRyeSI6IHsidHlwZSI6ICJQb2ludCIsICJjb29yZGluYXRlcyI6IFstNDYuMzg5ODgwNSwgLTIzLjUxMzI3MTddfSwgInByb3BlcnRpZXMiOiB7Imh0bWwiOiAiPHN2ZyB3aWR0aD1cIjhweFwiIGhlaWdodD1cIjhweFwiIHZpZXdCb3g9XCItNC4wIC00LjAgOC4wIDguMFwiIHhtbG5zPVwiaHR0cDovL3d3dy53My5vcmcvMjAwMC9zdmdcIiB2ZXJzaW9uPVwiMS4xXCI+ICA8cGF0aCBkPVwiTSAwLjAgMy4wIEMgMC43OTU2MDkzMDAwMDAwMDAxIDMuMCAxLjU1ODczOTYxMjM1NDU2MDUgMi42ODM5MDEwNzQ3NjQ3MjUgMi4xMjEzMjAzNDM1NTk2NDMgMi4xMjEzMjAzNDM1NTk2NDMgQyAyLjY4MzkwMTA3NDc2NDcyNSAxLjU1ODczOTYxMjM1NDU2MDUgMy4wIDAuNzk1NjA5MzAwMDAwMDAwMSAzLjAgLTAuMCBDIDMuMCAtMC43OTU2MDkzMDAwMDAwMDAxIDIuNjgzOTAxMDc0NzY0NzI1IC0xLjU1ODczOTYxMjM1NDU2MDUgMi4xMjEzMjAzNDM1NTk2NDMgLTIuMTIxMzIwMzQzNTU5NjQzIEMgMS41NTg3Mzk2MTIzNTQ1NjA1IC0yLjY4MzkwMTA3NDc2NDcyNSAwLjc5NTYwOTMwMDAwMDAwMDEgLTMuMCAwLjAgLTMuMCBDIC0wLjc5NTYwOTMwMDAwMDAwMDEgLTMuMCAtMS41NTg3Mzk2MTIzNTQ1NjA1IC0yLjY4MzkwMTA3NDc2NDcyNSAtMi4xMjEzMjAzNDM1NTk2NDMgLTIuMTIxMzIwMzQzNTU5NjQzIEMgLTIuNjgzOTAxMDc0NzY0NzI1IC0xLjU1ODczOTYxMjM1NDU2MDUgLTMuMCAtMC43OTU2MDkzMDAwMDAwMDAxIC0zLjAgLTAuMCBDIC0zLjAgMC43OTU2MDkzMDAwMDAwMDAxIC0yLjY4MzkwMTA3NDc2NDcyNSAxLjU1ODczOTYxMjM1NDU2MDUgLTIuMTIxMzIwMzQzNTU5NjQzIDIuMTIxMzIwMzQzNTU5NjQzIEMgLTEuNTU4NzM5NjEyMzU0NTYwNSAyLjY4MzkwMTA3NDc2NDcyNSAtMC43OTU2MDkzMDAwMDAwMDAxIDMuMCAwLjAgMy4wIFpcIiBzdHJva2U9XCIjMDAwMEZGXCIgc3Ryb2tlLXdpZHRoPVwiMS4wXCIgc3Ryb2tlLW9wYWNpdHk9XCJOb25lXCIgZmlsbD1cIiMwMDAwRkZcIiBmaWxsLW9wYWNpdHk9XCJOb25lXCIgLz48L3N2Zz4iLCAiYW5jaG9yX3giOiA0LjAsICJhbmNob3JfeSI6IDQuMH19LCB7InR5cGUiOiAiRmVhdHVyZSIsICJnZW9tZXRyeSI6IHsidHlwZSI6ICJQb2ludCIsICJjb29yZGluYXRlcyI6IFstNDYuNDU2Njc1Mzk5OTk5OTksIC0yMy41MjE0OTQ4XX0sICJwcm9wZXJ0aWVzIjogeyJodG1sIjogIjxzdmcgd2lkdGg9XCI4cHhcIiBoZWlnaHQ9XCI4cHhcIiB2aWV3Qm94PVwiLTQuMCAtNC4wIDguMCA4LjBcIiB4bWxucz1cImh0dHA6Ly93d3cudzMub3JnLzIwMDAvc3ZnXCIgdmVyc2lvbj1cIjEuMVwiPiAgPHBhdGggZD1cIk0gMC4wIDMuMCBDIDAuNzk1NjA5MzAwMDAwMDAwMSAzLjAgMS41NTg3Mzk2MTIzNTQ1NjA1IDIuNjgzOTAxMDc0NzY0NzI1IDIuMTIxMzIwMzQzNTU5NjQzIDIuMTIxMzIwMzQzNTU5NjQzIEMgMi42ODM5MDEwNzQ3NjQ3MjUgMS41NTg3Mzk2MTIzNTQ1NjA1IDMuMCAwLjc5NTYwOTMwMDAwMDAwMDEgMy4wIC0wLjAgQyAzLjAgLTAuNzk1NjA5MzAwMDAwMDAwMSAyLjY4MzkwMTA3NDc2NDcyNSAtMS41NTg3Mzk2MTIzNTQ1NjA1IDIuMTIxMzIwMzQzNTU5NjQzIC0yLjEyMTMyMDM0MzU1OTY0MyBDIDEuNTU4NzM5NjEyMzU0NTYwNSAtMi42ODM5MDEwNzQ3NjQ3MjUgMC43OTU2MDkzMDAwMDAwMDAxIC0zLjAgMC4wIC0zLjAgQyAtMC43OTU2MDkzMDAwMDAwMDAxIC0zLjAgLTEuNTU4NzM5NjEyMzU0NTYwNSAtMi42ODM5MDEwNzQ3NjQ3MjUgLTIuMTIxMzIwMzQzNTU5NjQzIC0yLjEyMTMyMDM0MzU1OTY0MyBDIC0yLjY4MzkwMTA3NDc2NDcyNSAtMS41NTg3Mzk2MTIzNTQ1NjA1IC0zLjAgLTAuNzk1NjA5MzAwMDAwMDAwMSAtMy4wIC0wLjAgQyAtMy4wIDAuNzk1NjA5MzAwMDAwMDAwMSAtMi42ODM5MDEwNzQ3NjQ3MjUgMS41NTg3Mzk2MTIzNTQ1NjA1IC0yLjEyMTMyMDM0MzU1OTY0MyAyLjEyMTMyMDM0MzU1OTY0MyBDIC0xLjU1ODczOTYxMjM1NDU2MDUgMi42ODM5MDEwNzQ3NjQ3MjUgLTAuNzk1NjA5MzAwMDAwMDAwMSAzLjAgMC4wIDMuMCBaXCIgc3Ryb2tlPVwiIzAwMDBGRlwiIHN0cm9rZS13aWR0aD1cIjEuMFwiIHN0cm9rZS1vcGFjaXR5PVwiTm9uZVwiIGZpbGw9XCIjMDAwMEZGXCIgZmlsbC1vcGFjaXR5PVwiTm9uZVwiIC8+PC9zdmc+IiwgImFuY2hvcl94IjogNC4wLCAiYW5jaG9yX3kiOiA0LjB9fSwgeyJ0eXBlIjogIkZlYXR1cmUiLCAiZ2VvbWV0cnkiOiB7InR5cGUiOiAiUG9pbnQiLCAiY29vcmRpbmF0ZXMiOiBbLTQ2LjQxMDQzODcwMDAwMDAxLCAtMjMuNTY5NjU1ODk5OTk5OTk3XX0sICJwcm9wZXJ0aWVzIjogeyJodG1sIjogIjxzdmcgd2lkdGg9XCI4cHhcIiBoZWlnaHQ9XCI4cHhcIiB2aWV3Qm94PVwiLTQuMCAtNC4wIDguMCA4LjBcIiB4bWxucz1cImh0dHA6Ly93d3cudzMub3JnLzIwMDAvc3ZnXCIgdmVyc2lvbj1cIjEuMVwiPiAgPHBhdGggZD1cIk0gMC4wIDMuMCBDIDAuNzk1NjA5MzAwMDAwMDAwMSAzLjAgMS41NTg3Mzk2MTIzNTQ1NjA1IDIuNjgzOTAxMDc0NzY0NzI1IDIuMTIxMzIwMzQzNTU5NjQzIDIuMTIxMzIwMzQzNTU5NjQzIEMgMi42ODM5MDEwNzQ3NjQ3MjUgMS41NTg3Mzk2MTIzNTQ1NjA1IDMuMCAwLjc5NTYwOTMwMDAwMDAwMDEgMy4wIC0wLjAgQyAzLjAgLTAuNzk1NjA5MzAwMDAwMDAwMSAyLjY4MzkwMTA3NDc2NDcyNSAtMS41NTg3Mzk2MTIzNTQ1NjA1IDIuMTIxMzIwMzQzNTU5NjQzIC0yLjEyMTMyMDM0MzU1OTY0MyBDIDEuNTU4NzM5NjEyMzU0NTYwNSAtMi42ODM5MDEwNzQ3NjQ3MjUgMC43OTU2MDkzMDAwMDAwMDAxIC0zLjAgMC4wIC0zLjAgQyAtMC43OTU2MDkzMDAwMDAwMDAxIC0zLjAgLTEuNTU4NzM5NjEyMzU0NTYwNSAtMi42ODM5MDEwNzQ3NjQ3MjUgLTIuMTIxMzIwMzQzNTU5NjQzIC0yLjEyMTMyMDM0MzU1OTY0MyBDIC0yLjY4MzkwMTA3NDc2NDcyNSAtMS41NTg3Mzk2MTIzNTQ1NjA1IC0zLjAgLTAuNzk1NjA5MzAwMDAwMDAwMSAtMy4wIC0wLjAgQyAtMy4wIDAuNzk1NjA5MzAwMDAwMDAwMSAtMi42ODM5MDEwNzQ3NjQ3MjUgMS41NTg3Mzk2MTIzNTQ1NjA1IC0yLjEyMTMyMDM0MzU1OTY0MyAyLjEyMTMyMDM0MzU1OTY0MyBDIC0xLjU1ODczOTYxMjM1NDU2MDUgMi42ODM5MDEwNzQ3NjQ3MjUgLTAuNzk1NjA5MzAwMDAwMDAwMSAzLjAgMC4wIDMuMCBaXCIgc3Ryb2tlPVwiIzAwMDBGRlwiIHN0cm9rZS13aWR0aD1cIjEuMFwiIHN0cm9rZS1vcGFjaXR5PVwiTm9uZVwiIGZpbGw9XCIjMDAwMEZGXCIgZmlsbC1vcGFjaXR5PVwiTm9uZVwiIC8+PC9zdmc+IiwgImFuY2hvcl94IjogNC4wLCAiYW5jaG9yX3kiOiA0LjB9fSwgeyJ0eXBlIjogIkZlYXR1cmUiLCAiZ2VvbWV0cnkiOiB7InR5cGUiOiAiUG9pbnQiLCAiY29vcmRpbmF0ZXMiOiBbLTQ2LjcyOTg5NzksIC0yMy42MjAzNjIyXX0sICJwcm9wZXJ0aWVzIjogeyJodG1sIjogIjxzdmcgd2lkdGg9XCI4cHhcIiBoZWlnaHQ9XCI4cHhcIiB2aWV3Qm94PVwiLTQuMCAtNC4wIDguMCA4LjBcIiB4bWxucz1cImh0dHA6Ly93d3cudzMub3JnLzIwMDAvc3ZnXCIgdmVyc2lvbj1cIjEuMVwiPiAgPHBhdGggZD1cIk0gMC4wIDMuMCBDIDAuNzk1NjA5MzAwMDAwMDAwMSAzLjAgMS41NTg3Mzk2MTIzNTQ1NjA1IDIuNjgzOTAxMDc0NzY0NzI1IDIuMTIxMzIwMzQzNTU5NjQzIDIuMTIxMzIwMzQzNTU5NjQzIEMgMi42ODM5MDEwNzQ3NjQ3MjUgMS41NTg3Mzk2MTIzNTQ1NjA1IDMuMCAwLjc5NTYwOTMwMDAwMDAwMDEgMy4wIC0wLjAgQyAzLjAgLTAuNzk1NjA5MzAwMDAwMDAwMSAyLjY4MzkwMTA3NDc2NDcyNSAtMS41NTg3Mzk2MTIzNTQ1NjA1IDIuMTIxMzIwMzQzNTU5NjQzIC0yLjEyMTMyMDM0MzU1OTY0MyBDIDEuNTU4NzM5NjEyMzU0NTYwNSAtMi42ODM5MDEwNzQ3NjQ3MjUgMC43OTU2MDkzMDAwMDAwMDAxIC0zLjAgMC4wIC0zLjAgQyAtMC43OTU2MDkzMDAwMDAwMDAxIC0zLjAgLTEuNTU4NzM5NjEyMzU0NTYwNSAtMi42ODM5MDEwNzQ3NjQ3MjUgLTIuMTIxMzIwMzQzNTU5NjQzIC0yLjEyMTMyMDM0MzU1OTY0MyBDIC0yLjY4MzkwMTA3NDc2NDcyNSAtMS41NTg3Mzk2MTIzNTQ1NjA1IC0zLjAgLTAuNzk1NjA5MzAwMDAwMDAwMSAtMy4wIC0wLjAgQyAtMy4wIDAuNzk1NjA5MzAwMDAwMDAwMSAtMi42ODM5MDEwNzQ3NjQ3MjUgMS41NTg3Mzk2MTIzNTQ1NjA1IC0yLjEyMTMyMDM0MzU1OTY0MyAyLjEyMTMyMDM0MzU1OTY0MyBDIC0xLjU1ODczOTYxMjM1NDU2MDUgMi42ODM5MDEwNzQ3NjQ3MjUgLTAuNzk1NjA5MzAwMDAwMDAwMSAzLjAgMC4wIDMuMCBaXCIgc3Ryb2tlPVwiIzAwMDBGRlwiIHN0cm9rZS13aWR0aD1cIjEuMFwiIHN0cm9rZS1vcGFjaXR5PVwiTm9uZVwiIGZpbGw9XCIjMDAwMEZGXCIgZmlsbC1vcGFjaXR5PVwiTm9uZVwiIC8+PC9zdmc+IiwgImFuY2hvcl94IjogNC4wLCAiYW5jaG9yX3kiOiA0LjB9fSwgeyJ0eXBlIjogIkZlYXR1cmUiLCAiZ2VvbWV0cnkiOiB7InR5cGUiOiAiUG9pbnQiLCAiY29vcmRpbmF0ZXMiOiBbLTQ2LjQ0OTMxMDYwMDAwMDAwNCwgLTIzLjYwMjU1OTVdfSwgInByb3BlcnRpZXMiOiB7Imh0bWwiOiAiPHN2ZyB3aWR0aD1cIjhweFwiIGhlaWdodD1cIjhweFwiIHZpZXdCb3g9XCItNC4wIC00LjAgOC4wIDguMFwiIHhtbG5zPVwiaHR0cDovL3d3dy53My5vcmcvMjAwMC9zdmdcIiB2ZXJzaW9uPVwiMS4xXCI+ICA8cGF0aCBkPVwiTSAwLjAgMy4wIEMgMC43OTU2MDkzMDAwMDAwMDAxIDMuMCAxLjU1ODczOTYxMjM1NDU2MDUgMi42ODM5MDEwNzQ3NjQ3MjUgMi4xMjEzMjAzNDM1NTk2NDMgMi4xMjEzMjAzNDM1NTk2NDMgQyAyLjY4MzkwMTA3NDc2NDcyNSAxLjU1ODczOTYxMjM1NDU2MDUgMy4wIDAuNzk1NjA5MzAwMDAwMDAwMSAzLjAgLTAuMCBDIDMuMCAtMC43OTU2MDkzMDAwMDAwMDAxIDIuNjgzOTAxMDc0NzY0NzI1IC0xLjU1ODczOTYxMjM1NDU2MDUgMi4xMjEzMjAzNDM1NTk2NDMgLTIuMTIxMzIwMzQzNTU5NjQzIEMgMS41NTg3Mzk2MTIzNTQ1NjA1IC0yLjY4MzkwMTA3NDc2NDcyNSAwLjc5NTYwOTMwMDAwMDAwMDEgLTMuMCAwLjAgLTMuMCBDIC0wLjc5NTYwOTMwMDAwMDAwMDEgLTMuMCAtMS41NTg3Mzk2MTIzNTQ1NjA1IC0yLjY4MzkwMTA3NDc2NDcyNSAtMi4xMjEzMjAzNDM1NTk2NDMgLTIuMTIxMzIwMzQzNTU5NjQzIEMgLTIuNjgzOTAxMDc0NzY0NzI1IC0xLjU1ODczOTYxMjM1NDU2MDUgLTMuMCAtMC43OTU2MDkzMDAwMDAwMDAxIC0zLjAgLTAuMCBDIC0zLjAgMC43OTU2MDkzMDAwMDAwMDAxIC0yLjY4MzkwMTA3NDc2NDcyNSAxLjU1ODczOTYxMjM1NDU2MDUgLTIuMTIxMzIwMzQzNTU5NjQzIDIuMTIxMzIwMzQzNTU5NjQzIEMgLTEuNTU4NzM5NjEyMzU0NTYwNSAyLjY4MzkwMTA3NDc2NDcyNSAtMC43OTU2MDkzMDAwMDAwMDAxIDMuMCAwLjAgMy4wIFpcIiBzdHJva2U9XCIjMDAwMEZGXCIgc3Ryb2tlLXdpZHRoPVwiMS4wXCIgc3Ryb2tlLW9wYWNpdHk9XCJOb25lXCIgZmlsbD1cIiMwMDAwRkZcIiBmaWxsLW9wYWNpdHk9XCJOb25lXCIgLz48L3N2Zz4iLCAiYW5jaG9yX3giOiA0LjAsICJhbmNob3JfeSI6IDQuMH19LCB7InR5cGUiOiAiRmVhdHVyZSIsICJnZW9tZXRyeSI6IHsidHlwZSI6ICJQb2ludCIsICJjb29yZGluYXRlcyI6IFstNDYuNDk2MTE2NiwgLTIzLjQ5ODc3OTldfSwgInByb3BlcnRpZXMiOiB7Imh0bWwiOiAiPHN2ZyB3aWR0aD1cIjhweFwiIGhlaWdodD1cIjhweFwiIHZpZXdCb3g9XCItNC4wIC00LjAgOC4wIDguMFwiIHhtbG5zPVwiaHR0cDovL3d3dy53My5vcmcvMjAwMC9zdmdcIiB2ZXJzaW9uPVwiMS4xXCI+ICA8cGF0aCBkPVwiTSAwLjAgMy4wIEMgMC43OTU2MDkzMDAwMDAwMDAxIDMuMCAxLjU1ODczOTYxMjM1NDU2MDUgMi42ODM5MDEwNzQ3NjQ3MjUgMi4xMjEzMjAzNDM1NTk2NDMgMi4xMjEzMjAzNDM1NTk2NDMgQyAyLjY4MzkwMTA3NDc2NDcyNSAxLjU1ODczOTYxMjM1NDU2MDUgMy4wIDAuNzk1NjA5MzAwMDAwMDAwMSAzLjAgLTAuMCBDIDMuMCAtMC43OTU2MDkzMDAwMDAwMDAxIDIuNjgzOTAxMDc0NzY0NzI1IC0xLjU1ODczOTYxMjM1NDU2MDUgMi4xMjEzMjAzNDM1NTk2NDMgLTIuMTIxMzIwMzQzNTU5NjQzIEMgMS41NTg3Mzk2MTIzNTQ1NjA1IC0yLjY4MzkwMTA3NDc2NDcyNSAwLjc5NTYwOTMwMDAwMDAwMDEgLTMuMCAwLjAgLTMuMCBDIC0wLjc5NTYwOTMwMDAwMDAwMDEgLTMuMCAtMS41NTg3Mzk2MTIzNTQ1NjA1IC0yLjY4MzkwMTA3NDc2NDcyNSAtMi4xMjEzMjAzNDM1NTk2NDMgLTIuMTIxMzIwMzQzNTU5NjQzIEMgLTIuNjgzOTAxMDc0NzY0NzI1IC0xLjU1ODczOTYxMjM1NDU2MDUgLTMuMCAtMC43OTU2MDkzMDAwMDAwMDAxIC0zLjAgLTAuMCBDIC0zLjAgMC43OTU2MDkzMDAwMDAwMDAxIC0yLjY4MzkwMTA3NDc2NDcyNSAxLjU1ODczOTYxMjM1NDU2MDUgLTIuMTIxMzIwMzQzNTU5NjQzIDIuMTIxMzIwMzQzNTU5NjQzIEMgLTEuNTU4NzM5NjEyMzU0NTYwNSAyLjY4MzkwMTA3NDc2NDcyNSAtMC43OTU2MDkzMDAwMDAwMDAxIDMuMCAwLjAgMy4wIFpcIiBzdHJva2U9XCIjMDAwMEZGXCIgc3Ryb2tlLXdpZHRoPVwiMS4wXCIgc3Ryb2tlLW9wYWNpdHk9XCJOb25lXCIgZmlsbD1cIiMwMDAwRkZcIiBmaWxsLW9wYWNpdHk9XCJOb25lXCIgLz48L3N2Zz4iLCAiYW5jaG9yX3giOiA0LjAsICJhbmNob3JfeSI6IDQuMH19LCB7InR5cGUiOiAiRmVhdHVyZSIsICJnZW9tZXRyeSI6IHsidHlwZSI6ICJQb2ludCIsICJjb29yZGluYXRlcyI6IFstNDYuNzI1MTQzNDk5OTk5OTksIC0yMy44MjgxNzI4XX0sICJwcm9wZXJ0aWVzIjogeyJodG1sIjogIjxzdmcgd2lkdGg9XCI4cHhcIiBoZWlnaHQ9XCI4cHhcIiB2aWV3Qm94PVwiLTQuMCAtNC4wIDguMCA4LjBcIiB4bWxucz1cImh0dHA6Ly93d3cudzMub3JnLzIwMDAvc3ZnXCIgdmVyc2lvbj1cIjEuMVwiPiAgPHBhdGggZD1cIk0gMC4wIDMuMCBDIDAuNzk1NjA5MzAwMDAwMDAwMSAzLjAgMS41NTg3Mzk2MTIzNTQ1NjA1IDIuNjgzOTAxMDc0NzY0NzI1IDIuMTIxMzIwMzQzNTU5NjQzIDIuMTIxMzIwMzQzNTU5NjQzIEMgMi42ODM5MDEwNzQ3NjQ3MjUgMS41NTg3Mzk2MTIzNTQ1NjA1IDMuMCAwLjc5NTYwOTMwMDAwMDAwMDEgMy4wIC0wLjAgQyAzLjAgLTAuNzk1NjA5MzAwMDAwMDAwMSAyLjY4MzkwMTA3NDc2NDcyNSAtMS41NTg3Mzk2MTIzNTQ1NjA1IDIuMTIxMzIwMzQzNTU5NjQzIC0yLjEyMTMyMDM0MzU1OTY0MyBDIDEuNTU4NzM5NjEyMzU0NTYwNSAtMi42ODM5MDEwNzQ3NjQ3MjUgMC43OTU2MDkzMDAwMDAwMDAxIC0zLjAgMC4wIC0zLjAgQyAtMC43OTU2MDkzMDAwMDAwMDAxIC0zLjAgLTEuNTU4NzM5NjEyMzU0NTYwNSAtMi42ODM5MDEwNzQ3NjQ3MjUgLTIuMTIxMzIwMzQzNTU5NjQzIC0yLjEyMTMyMDM0MzU1OTY0MyBDIC0yLjY4MzkwMTA3NDc2NDcyNSAtMS41NTg3Mzk2MTIzNTQ1NjA1IC0zLjAgLTAuNzk1NjA5MzAwMDAwMDAwMSAtMy4wIC0wLjAgQyAtMy4wIDAuNzk1NjA5MzAwMDAwMDAwMSAtMi42ODM5MDEwNzQ3NjQ3MjUgMS41NTg3Mzk2MTIzNTQ1NjA1IC0yLjEyMTMyMDM0MzU1OTY0MyAyLjEyMTMyMDM0MzU1OTY0MyBDIC0xLjU1ODczOTYxMjM1NDU2MDUgMi42ODM5MDEwNzQ3NjQ3MjUgLTAuNzk1NjA5MzAwMDAwMDAwMSAzLjAgMC4wIDMuMCBaXCIgc3Ryb2tlPVwiIzAwMDBGRlwiIHN0cm9rZS13aWR0aD1cIjEuMFwiIHN0cm9rZS1vcGFjaXR5PVwiTm9uZVwiIGZpbGw9XCIjMDAwMEZGXCIgZmlsbC1vcGFjaXR5PVwiTm9uZVwiIC8+PC9zdmc+IiwgImFuY2hvcl94IjogNC4wLCAiYW5jaG9yX3kiOiA0LjB9fSwgeyJ0eXBlIjogIkZlYXR1cmUiLCAiZ2VvbWV0cnkiOiB7InR5cGUiOiAiUG9pbnQiLCAiY29vcmRpbmF0ZXMiOiBbLTQ2LjY0NDAxMjcwMDAwMDAwNSwgLTIzLjcwNDc3MDgwMDAwMDAwMl19LCAicHJvcGVydGllcyI6IHsiaHRtbCI6ICI8c3ZnIHdpZHRoPVwiOHB4XCIgaGVpZ2h0PVwiOHB4XCIgdmlld0JveD1cIi00LjAgLTQuMCA4LjAgOC4wXCIgeG1sbnM9XCJodHRwOi8vd3d3LnczLm9yZy8yMDAwL3N2Z1wiIHZlcnNpb249XCIxLjFcIj4gIDxwYXRoIGQ9XCJNIDAuMCAzLjAgQyAwLjc5NTYwOTMwMDAwMDAwMDEgMy4wIDEuNTU4NzM5NjEyMzU0NTYwNSAyLjY4MzkwMTA3NDc2NDcyNSAyLjEyMTMyMDM0MzU1OTY0MyAyLjEyMTMyMDM0MzU1OTY0MyBDIDIuNjgzOTAxMDc0NzY0NzI1IDEuNTU4NzM5NjEyMzU0NTYwNSAzLjAgMC43OTU2MDkzMDAwMDAwMDAxIDMuMCAtMC4wIEMgMy4wIC0wLjc5NTYwOTMwMDAwMDAwMDEgMi42ODM5MDEwNzQ3NjQ3MjUgLTEuNTU4NzM5NjEyMzU0NTYwNSAyLjEyMTMyMDM0MzU1OTY0MyAtMi4xMjEzMjAzNDM1NTk2NDMgQyAxLjU1ODczOTYxMjM1NDU2MDUgLTIuNjgzOTAxMDc0NzY0NzI1IDAuNzk1NjA5MzAwMDAwMDAwMSAtMy4wIDAuMCAtMy4wIEMgLTAuNzk1NjA5MzAwMDAwMDAwMSAtMy4wIC0xLjU1ODczOTYxMjM1NDU2MDUgLTIuNjgzOTAxMDc0NzY0NzI1IC0yLjEyMTMyMDM0MzU1OTY0MyAtMi4xMjEzMjAzNDM1NTk2NDMgQyAtMi42ODM5MDEwNzQ3NjQ3MjUgLTEuNTU4NzM5NjEyMzU0NTYwNSAtMy4wIC0wLjc5NTYwOTMwMDAwMDAwMDEgLTMuMCAtMC4wIEMgLTMuMCAwLjc5NTYwOTMwMDAwMDAwMDEgLTIuNjgzOTAxMDc0NzY0NzI1IDEuNTU4NzM5NjEyMzU0NTYwNSAtMi4xMjEzMjAzNDM1NTk2NDMgMi4xMjEzMjAzNDM1NTk2NDMgQyAtMS41NTg3Mzk2MTIzNTQ1NjA1IDIuNjgzOTAxMDc0NzY0NzI1IC0wLjc5NTYwOTMwMDAwMDAwMDEgMy4wIDAuMCAzLjAgWlwiIHN0cm9rZT1cIiMwMDAwRkZcIiBzdHJva2Utd2lkdGg9XCIxLjBcIiBzdHJva2Utb3BhY2l0eT1cIk5vbmVcIiBmaWxsPVwiIzAwMDBGRlwiIGZpbGwtb3BhY2l0eT1cIk5vbmVcIiAvPjwvc3ZnPiIsICJhbmNob3JfeCI6IDQuMCwgImFuY2hvcl95IjogNC4wfX0sIHsidHlwZSI6ICJGZWF0dXJlIiwgImdlb21ldHJ5IjogeyJ0eXBlIjogIlBvaW50IiwgImNvb3JkaW5hdGVzIjogWy00Ni43NTEzODQzLCAtMjMuNDA1NzEyN119LCAicHJvcGVydGllcyI6IHsiaHRtbCI6ICI8c3ZnIHdpZHRoPVwiOHB4XCIgaGVpZ2h0PVwiOHB4XCIgdmlld0JveD1cIi00LjAgLTQuMCA4LjAgOC4wXCIgeG1sbnM9XCJodHRwOi8vd3d3LnczLm9yZy8yMDAwL3N2Z1wiIHZlcnNpb249XCIxLjFcIj4gIDxwYXRoIGQ9XCJNIDAuMCAzLjAgQyAwLjc5NTYwOTMwMDAwMDAwMDEgMy4wIDEuNTU4NzM5NjEyMzU0NTYwNSAyLjY4MzkwMTA3NDc2NDcyNSAyLjEyMTMyMDM0MzU1OTY0MyAyLjEyMTMyMDM0MzU1OTY0MyBDIDIuNjgzOTAxMDc0NzY0NzI1IDEuNTU4NzM5NjEyMzU0NTYwNSAzLjAgMC43OTU2MDkzMDAwMDAwMDAxIDMuMCAtMC4wIEMgMy4wIC0wLjc5NTYwOTMwMDAwMDAwMDEgMi42ODM5MDEwNzQ3NjQ3MjUgLTEuNTU4NzM5NjEyMzU0NTYwNSAyLjEyMTMyMDM0MzU1OTY0MyAtMi4xMjEzMjAzNDM1NTk2NDMgQyAxLjU1ODczOTYxMjM1NDU2MDUgLTIuNjgzOTAxMDc0NzY0NzI1IDAuNzk1NjA5MzAwMDAwMDAwMSAtMy4wIDAuMCAtMy4wIEMgLTAuNzk1NjA5MzAwMDAwMDAwMSAtMy4wIC0xLjU1ODczOTYxMjM1NDU2MDUgLTIuNjgzOTAxMDc0NzY0NzI1IC0yLjEyMTMyMDM0MzU1OTY0MyAtMi4xMjEzMjAzNDM1NTk2NDMgQyAtMi42ODM5MDEwNzQ3NjQ3MjUgLTEuNTU4NzM5NjEyMzU0NTYwNSAtMy4wIC0wLjc5NTYwOTMwMDAwMDAwMDEgLTMuMCAtMC4wIEMgLTMuMCAwLjc5NTYwOTMwMDAwMDAwMDEgLTIuNjgzOTAxMDc0NzY0NzI1IDEuNTU4NzM5NjEyMzU0NTYwNSAtMi4xMjEzMjAzNDM1NTk2NDMgMi4xMjEzMjAzNDM1NTk2NDMgQyAtMS41NTg3Mzk2MTIzNTQ1NjA1IDIuNjgzOTAxMDc0NzY0NzI1IC0wLjc5NTYwOTMwMDAwMDAwMDEgMy4wIDAuMCAzLjAgWlwiIHN0cm9rZT1cIiMwMDAwRkZcIiBzdHJva2Utd2lkdGg9XCIxLjBcIiBzdHJva2Utb3BhY2l0eT1cIk5vbmVcIiBmaWxsPVwiIzAwMDBGRlwiIGZpbGwtb3BhY2l0eT1cIk5vbmVcIiAvPjwvc3ZnPiIsICJhbmNob3JfeCI6IDQuMCwgImFuY2hvcl95IjogNC4wfX0sIHsidHlwZSI6ICJGZWF0dXJlIiwgImdlb21ldHJ5IjogeyJ0eXBlIjogIlBvaW50IiwgImNvb3JkaW5hdGVzIjogWy00Ni42MDk0ODYzOTk5OTk5OSwgLTIzLjY0Mzc1MV19LCAicHJvcGVydGllcyI6IHsiaHRtbCI6ICI8c3ZnIHdpZHRoPVwiOHB4XCIgaGVpZ2h0PVwiOHB4XCIgdmlld0JveD1cIi00LjAgLTQuMCA4LjAgOC4wXCIgeG1sbnM9XCJodHRwOi8vd3d3LnczLm9yZy8yMDAwL3N2Z1wiIHZlcnNpb249XCIxLjFcIj4gIDxwYXRoIGQ9XCJNIDAuMCAzLjAgQyAwLjc5NTYwOTMwMDAwMDAwMDEgMy4wIDEuNTU4NzM5NjEyMzU0NTYwNSAyLjY4MzkwMTA3NDc2NDcyNSAyLjEyMTMyMDM0MzU1OTY0MyAyLjEyMTMyMDM0MzU1OTY0MyBDIDIuNjgzOTAxMDc0NzY0NzI1IDEuNTU4NzM5NjEyMzU0NTYwNSAzLjAgMC43OTU2MDkzMDAwMDAwMDAxIDMuMCAtMC4wIEMgMy4wIC0wLjc5NTYwOTMwMDAwMDAwMDEgMi42ODM5MDEwNzQ3NjQ3MjUgLTEuNTU4NzM5NjEyMzU0NTYwNSAyLjEyMTMyMDM0MzU1OTY0MyAtMi4xMjEzMjAzNDM1NTk2NDMgQyAxLjU1ODczOTYxMjM1NDU2MDUgLTIuNjgzOTAxMDc0NzY0NzI1IDAuNzk1NjA5MzAwMDAwMDAwMSAtMy4wIDAuMCAtMy4wIEMgLTAuNzk1NjA5MzAwMDAwMDAwMSAtMy4wIC0xLjU1ODczOTYxMjM1NDU2MDUgLTIuNjgzOTAxMDc0NzY0NzI1IC0yLjEyMTMyMDM0MzU1OTY0MyAtMi4xMjEzMjAzNDM1NTk2NDMgQyAtMi42ODM5MDEwNzQ3NjQ3MjUgLTEuNTU4NzM5NjEyMzU0NTYwNSAtMy4wIC0wLjc5NTYwOTMwMDAwMDAwMDEgLTMuMCAtMC4wIEMgLTMuMCAwLjc5NTYwOTMwMDAwMDAwMDEgLTIuNjgzOTAxMDc0NzY0NzI1IDEuNTU4NzM5NjEyMzU0NTYwNSAtMi4xMjEzMjAzNDM1NTk2NDMgMi4xMjEzMjAzNDM1NTk2NDMgQyAtMS41NTg3Mzk2MTIzNTQ1NjA1IDIuNjgzOTAxMDc0NzY0NzI1IC0wLjc5NTYwOTMwMDAwMDAwMDEgMy4wIDAuMCAzLjAgWlwiIHN0cm9rZT1cIiMwMDAwRkZcIiBzdHJva2Utd2lkdGg9XCIxLjBcIiBzdHJva2Utb3BhY2l0eT1cIk5vbmVcIiBmaWxsPVwiIzAwMDBGRlwiIGZpbGwtb3BhY2l0eT1cIk5vbmVcIiAvPjwvc3ZnPiIsICJhbmNob3JfeCI6IDQuMCwgImFuY2hvcl95IjogNC4wfX0sIHsidHlwZSI6ICJGZWF0dXJlIiwgImdlb21ldHJ5IjogeyJ0eXBlIjogIlBvaW50IiwgImNvb3JkaW5hdGVzIjogWy00Ni43NDM4ODI0LCAtMjMuNjQ3MDExMV19LCAicHJvcGVydGllcyI6IHsiaHRtbCI6ICI8c3ZnIHdpZHRoPVwiOHB4XCIgaGVpZ2h0PVwiOHB4XCIgdmlld0JveD1cIi00LjAgLTQuMCA4LjAgOC4wXCIgeG1sbnM9XCJodHRwOi8vd3d3LnczLm9yZy8yMDAwL3N2Z1wiIHZlcnNpb249XCIxLjFcIj4gIDxwYXRoIGQ9XCJNIDAuMCAzLjAgQyAwLjc5NTYwOTMwMDAwMDAwMDEgMy4wIDEuNTU4NzM5NjEyMzU0NTYwNSAyLjY4MzkwMTA3NDc2NDcyNSAyLjEyMTMyMDM0MzU1OTY0MyAyLjEyMTMyMDM0MzU1OTY0MyBDIDIuNjgzOTAxMDc0NzY0NzI1IDEuNTU4NzM5NjEyMzU0NTYwNSAzLjAgMC43OTU2MDkzMDAwMDAwMDAxIDMuMCAtMC4wIEMgMy4wIC0wLjc5NTYwOTMwMDAwMDAwMDEgMi42ODM5MDEwNzQ3NjQ3MjUgLTEuNTU4NzM5NjEyMzU0NTYwNSAyLjEyMTMyMDM0MzU1OTY0MyAtMi4xMjEzMjAzNDM1NTk2NDMgQyAxLjU1ODczOTYxMjM1NDU2MDUgLTIuNjgzOTAxMDc0NzY0NzI1IDAuNzk1NjA5MzAwMDAwMDAwMSAtMy4wIDAuMCAtMy4wIEMgLTAuNzk1NjA5MzAwMDAwMDAwMSAtMy4wIC0xLjU1ODczOTYxMjM1NDU2MDUgLTIuNjgzOTAxMDc0NzY0NzI1IC0yLjEyMTMyMDM0MzU1OTY0MyAtMi4xMjEzMjAzNDM1NTk2NDMgQyAtMi42ODM5MDEwNzQ3NjQ3MjUgLTEuNTU4NzM5NjEyMzU0NTYwNSAtMy4wIC0wLjc5NTYwOTMwMDAwMDAwMDEgLTMuMCAtMC4wIEMgLTMuMCAwLjc5NTYwOTMwMDAwMDAwMDEgLTIuNjgzOTAxMDc0NzY0NzI1IDEuNTU4NzM5NjEyMzU0NTYwNSAtMi4xMjEzMjAzNDM1NTk2NDMgMi4xMjEzMjAzNDM1NTk2NDMgQyAtMS41NTg3Mzk2MTIzNTQ1NjA1IDIuNjgzOTAxMDc0NzY0NzI1IC0wLjc5NTYwOTMwMDAwMDAwMDEgMy4wIDAuMCAzLjAgWlwiIHN0cm9rZT1cIiMwMDAwRkZcIiBzdHJva2Utd2lkdGg9XCIxLjBcIiBzdHJva2Utb3BhY2l0eT1cIk5vbmVcIiBmaWxsPVwiIzAwMDBGRlwiIGZpbGwtb3BhY2l0eT1cIk5vbmVcIiAvPjwvc3ZnPiIsICJhbmNob3JfeCI6IDQuMCwgImFuY2hvcl95IjogNC4wfX0sIHsidHlwZSI6ICJGZWF0dXJlIiwgImdlb21ldHJ5IjogeyJ0eXBlIjogIlBvaW50IiwgImNvb3JkaW5hdGVzIjogWy00Ni41OTA3OTQ4LCAtMjMuNjIyMTcyMTk5OTk5OTk4XX0sICJwcm9wZXJ0aWVzIjogeyJodG1sIjogIjxzdmcgd2lkdGg9XCI4cHhcIiBoZWlnaHQ9XCI4cHhcIiB2aWV3Qm94PVwiLTQuMCAtNC4wIDguMCA4LjBcIiB4bWxucz1cImh0dHA6Ly93d3cudzMub3JnLzIwMDAvc3ZnXCIgdmVyc2lvbj1cIjEuMVwiPiAgPHBhdGggZD1cIk0gMC4wIDMuMCBDIDAuNzk1NjA5MzAwMDAwMDAwMSAzLjAgMS41NTg3Mzk2MTIzNTQ1NjA1IDIuNjgzOTAxMDc0NzY0NzI1IDIuMTIxMzIwMzQzNTU5NjQzIDIuMTIxMzIwMzQzNTU5NjQzIEMgMi42ODM5MDEwNzQ3NjQ3MjUgMS41NTg3Mzk2MTIzNTQ1NjA1IDMuMCAwLjc5NTYwOTMwMDAwMDAwMDEgMy4wIC0wLjAgQyAzLjAgLTAuNzk1NjA5MzAwMDAwMDAwMSAyLjY4MzkwMTA3NDc2NDcyNSAtMS41NTg3Mzk2MTIzNTQ1NjA1IDIuMTIxMzIwMzQzNTU5NjQzIC0yLjEyMTMyMDM0MzU1OTY0MyBDIDEuNTU4NzM5NjEyMzU0NTYwNSAtMi42ODM5MDEwNzQ3NjQ3MjUgMC43OTU2MDkzMDAwMDAwMDAxIC0zLjAgMC4wIC0zLjAgQyAtMC43OTU2MDkzMDAwMDAwMDAxIC0zLjAgLTEuNTU4NzM5NjEyMzU0NTYwNSAtMi42ODM5MDEwNzQ3NjQ3MjUgLTIuMTIxMzIwMzQzNTU5NjQzIC0yLjEyMTMyMDM0MzU1OTY0MyBDIC0yLjY4MzkwMTA3NDc2NDcyNSAtMS41NTg3Mzk2MTIzNTQ1NjA1IC0zLjAgLTAuNzk1NjA5MzAwMDAwMDAwMSAtMy4wIC0wLjAgQyAtMy4wIDAuNzk1NjA5MzAwMDAwMDAwMSAtMi42ODM5MDEwNzQ3NjQ3MjUgMS41NTg3Mzk2MTIzNTQ1NjA1IC0yLjEyMTMyMDM0MzU1OTY0MyAyLjEyMTMyMDM0MzU1OTY0MyBDIC0xLjU1ODczOTYxMjM1NDU2MDUgMi42ODM5MDEwNzQ3NjQ3MjUgLTAuNzk1NjA5MzAwMDAwMDAwMSAzLjAgMC4wIDMuMCBaXCIgc3Ryb2tlPVwiIzAwMDBGRlwiIHN0cm9rZS13aWR0aD1cIjEuMFwiIHN0cm9rZS1vcGFjaXR5PVwiTm9uZVwiIGZpbGw9XCIjMDAwMEZGXCIgZmlsbC1vcGFjaXR5PVwiTm9uZVwiIC8+PC9zdmc+IiwgImFuY2hvcl94IjogNC4wLCAiYW5jaG9yX3kiOiA0LjB9fSwgeyJ0eXBlIjogIkZlYXR1cmUiLCAiZ2VvbWV0cnkiOiB7InR5cGUiOiAiUG9pbnQiLCAiY29vcmRpbmF0ZXMiOiBbLTQ2LjcwNzE0NTEsIC0yMy40NTg4Mjg2OTk5OTk5OThdfSwgInByb3BlcnRpZXMiOiB7Imh0bWwiOiAiPHN2ZyB3aWR0aD1cIjhweFwiIGhlaWdodD1cIjhweFwiIHZpZXdCb3g9XCItNC4wIC00LjAgOC4wIDguMFwiIHhtbG5zPVwiaHR0cDovL3d3dy53My5vcmcvMjAwMC9zdmdcIiB2ZXJzaW9uPVwiMS4xXCI+ICA8cGF0aCBkPVwiTSAwLjAgMy4wIEMgMC43OTU2MDkzMDAwMDAwMDAxIDMuMCAxLjU1ODczOTYxMjM1NDU2MDUgMi42ODM5MDEwNzQ3NjQ3MjUgMi4xMjEzMjAzNDM1NTk2NDMgMi4xMjEzMjAzNDM1NTk2NDMgQyAyLjY4MzkwMTA3NDc2NDcyNSAxLjU1ODczOTYxMjM1NDU2MDUgMy4wIDAuNzk1NjA5MzAwMDAwMDAwMSAzLjAgLTAuMCBDIDMuMCAtMC43OTU2MDkzMDAwMDAwMDAxIDIuNjgzOTAxMDc0NzY0NzI1IC0xLjU1ODczOTYxMjM1NDU2MDUgMi4xMjEzMjAzNDM1NTk2NDMgLTIuMTIxMzIwMzQzNTU5NjQzIEMgMS41NTg3Mzk2MTIzNTQ1NjA1IC0yLjY4MzkwMTA3NDc2NDcyNSAwLjc5NTYwOTMwMDAwMDAwMDEgLTMuMCAwLjAgLTMuMCBDIC0wLjc5NTYwOTMwMDAwMDAwMDEgLTMuMCAtMS41NTg3Mzk2MTIzNTQ1NjA1IC0yLjY4MzkwMTA3NDc2NDcyNSAtMi4xMjEzMjAzNDM1NTk2NDMgLTIuMTIxMzIwMzQzNTU5NjQzIEMgLTIuNjgzOTAxMDc0NzY0NzI1IC0xLjU1ODczOTYxMjM1NDU2MDUgLTMuMCAtMC43OTU2MDkzMDAwMDAwMDAxIC0zLjAgLTAuMCBDIC0zLjAgMC43OTU2MDkzMDAwMDAwMDAxIC0yLjY4MzkwMTA3NDc2NDcyNSAxLjU1ODczOTYxMjM1NDU2MDUgLTIuMTIxMzIwMzQzNTU5NjQzIDIuMTIxMzIwMzQzNTU5NjQzIEMgLTEuNTU4NzM5NjEyMzU0NTYwNSAyLjY4MzkwMTA3NDc2NDcyNSAtMC43OTU2MDkzMDAwMDAwMDAxIDMuMCAwLjAgMy4wIFpcIiBzdHJva2U9XCIjMDAwMEZGXCIgc3Ryb2tlLXdpZHRoPVwiMS4wXCIgc3Ryb2tlLW9wYWNpdHk9XCJOb25lXCIgZmlsbD1cIiMwMDAwRkZcIiBmaWxsLW9wYWNpdHk9XCJOb25lXCIgLz48L3N2Zz4iLCAiYW5jaG9yX3giOiA0LjAsICJhbmNob3JfeSI6IDQuMH19LCB7InR5cGUiOiAiRmVhdHVyZSIsICJnZW9tZXRyeSI6IHsidHlwZSI6ICJQb2ludCIsICJjb29yZGluYXRlcyI6IFstNDYuNjk3NjA0MSwgLTIzLjcyNzc5OTVdfSwgInByb3BlcnRpZXMiOiB7Imh0bWwiOiAiPHN2ZyB3aWR0aD1cIjhweFwiIGhlaWdodD1cIjhweFwiIHZpZXdCb3g9XCItNC4wIC00LjAgOC4wIDguMFwiIHhtbG5zPVwiaHR0cDovL3d3dy53My5vcmcvMjAwMC9zdmdcIiB2ZXJzaW9uPVwiMS4xXCI+ICA8cGF0aCBkPVwiTSAwLjAgMy4wIEMgMC43OTU2MDkzMDAwMDAwMDAxIDMuMCAxLjU1ODczOTYxMjM1NDU2MDUgMi42ODM5MDEwNzQ3NjQ3MjUgMi4xMjEzMjAzNDM1NTk2NDMgMi4xMjEzMjAzNDM1NTk2NDMgQyAyLjY4MzkwMTA3NDc2NDcyNSAxLjU1ODczOTYxMjM1NDU2MDUgMy4wIDAuNzk1NjA5MzAwMDAwMDAwMSAzLjAgLTAuMCBDIDMuMCAtMC43OTU2MDkzMDAwMDAwMDAxIDIuNjgzOTAxMDc0NzY0NzI1IC0xLjU1ODczOTYxMjM1NDU2MDUgMi4xMjEzMjAzNDM1NTk2NDMgLTIuMTIxMzIwMzQzNTU5NjQzIEMgMS41NTg3Mzk2MTIzNTQ1NjA1IC0yLjY4MzkwMTA3NDc2NDcyNSAwLjc5NTYwOTMwMDAwMDAwMDEgLTMuMCAwLjAgLTMuMCBDIC0wLjc5NTYwOTMwMDAwMDAwMDEgLTMuMCAtMS41NTg3Mzk2MTIzNTQ1NjA1IC0yLjY4MzkwMTA3NDc2NDcyNSAtMi4xMjEzMjAzNDM1NTk2NDMgLTIuMTIxMzIwMzQzNTU5NjQzIEMgLTIuNjgzOTAxMDc0NzY0NzI1IC0xLjU1ODczOTYxMjM1NDU2MDUgLTMuMCAtMC43OTU2MDkzMDAwMDAwMDAxIC0zLjAgLTAuMCBDIC0zLjAgMC43OTU2MDkzMDAwMDAwMDAxIC0yLjY4MzkwMTA3NDc2NDcyNSAxLjU1ODczOTYxMjM1NDU2MDUgLTIuMTIxMzIwMzQzNTU5NjQzIDIuMTIxMzIwMzQzNTU5NjQzIEMgLTEuNTU4NzM5NjEyMzU0NTYwNSAyLjY4MzkwMTA3NDc2NDcyNSAtMC43OTU2MDkzMDAwMDAwMDAxIDMuMCAwLjAgMy4wIFpcIiBzdHJva2U9XCIjMDAwMEZGXCIgc3Ryb2tlLXdpZHRoPVwiMS4wXCIgc3Ryb2tlLW9wYWNpdHk9XCJOb25lXCIgZmlsbD1cIiMwMDAwRkZcIiBmaWxsLW9wYWNpdHk9XCJOb25lXCIgLz48L3N2Zz4iLCAiYW5jaG9yX3giOiA0LjAsICJhbmNob3JfeSI6IDQuMH19LCB7InR5cGUiOiAiRmVhdHVyZSIsICJnZW9tZXRyeSI6IHsidHlwZSI6ICJQb2ludCIsICJjb29yZGluYXRlcyI6IFstNDYuNDkzNTkzNSwgLTIzLjYwODkwNjg5OTk5OTk5N119LCAicHJvcGVydGllcyI6IHsiaHRtbCI6ICI8c3ZnIHdpZHRoPVwiOHB4XCIgaGVpZ2h0PVwiOHB4XCIgdmlld0JveD1cIi00LjAgLTQuMCA4LjAgOC4wXCIgeG1sbnM9XCJodHRwOi8vd3d3LnczLm9yZy8yMDAwL3N2Z1wiIHZlcnNpb249XCIxLjFcIj4gIDxwYXRoIGQ9XCJNIDAuMCAzLjAgQyAwLjc5NTYwOTMwMDAwMDAwMDEgMy4wIDEuNTU4NzM5NjEyMzU0NTYwNSAyLjY4MzkwMTA3NDc2NDcyNSAyLjEyMTMyMDM0MzU1OTY0MyAyLjEyMTMyMDM0MzU1OTY0MyBDIDIuNjgzOTAxMDc0NzY0NzI1IDEuNTU4NzM5NjEyMzU0NTYwNSAzLjAgMC43OTU2MDkzMDAwMDAwMDAxIDMuMCAtMC4wIEMgMy4wIC0wLjc5NTYwOTMwMDAwMDAwMDEgMi42ODM5MDEwNzQ3NjQ3MjUgLTEuNTU4NzM5NjEyMzU0NTYwNSAyLjEyMTMyMDM0MzU1OTY0MyAtMi4xMjEzMjAzNDM1NTk2NDMgQyAxLjU1ODczOTYxMjM1NDU2MDUgLTIuNjgzOTAxMDc0NzY0NzI1IDAuNzk1NjA5MzAwMDAwMDAwMSAtMy4wIDAuMCAtMy4wIEMgLTAuNzk1NjA5MzAwMDAwMDAwMSAtMy4wIC0xLjU1ODczOTYxMjM1NDU2MDUgLTIuNjgzOTAxMDc0NzY0NzI1IC0yLjEyMTMyMDM0MzU1OTY0MyAtMi4xMjEzMjAzNDM1NTk2NDMgQyAtMi42ODM5MDEwNzQ3NjQ3MjUgLTEuNTU4NzM5NjEyMzU0NTYwNSAtMy4wIC0wLjc5NTYwOTMwMDAwMDAwMDEgLTMuMCAtMC4wIEMgLTMuMCAwLjc5NTYwOTMwMDAwMDAwMDEgLTIuNjgzOTAxMDc0NzY0NzI1IDEuNTU4NzM5NjEyMzU0NTYwNSAtMi4xMjEzMjAzNDM1NTk2NDMgMi4xMjEzMjAzNDM1NTk2NDMgQyAtMS41NTg3Mzk2MTIzNTQ1NjA1IDIuNjgzOTAxMDc0NzY0NzI1IC0wLjc5NTYwOTMwMDAwMDAwMDEgMy4wIDAuMCAzLjAgWlwiIHN0cm9rZT1cIiMwMDAwRkZcIiBzdHJva2Utd2lkdGg9XCIxLjBcIiBzdHJva2Utb3BhY2l0eT1cIk5vbmVcIiBmaWxsPVwiIzAwMDBGRlwiIGZpbGwtb3BhY2l0eT1cIk5vbmVcIiAvPjwvc3ZnPiIsICJhbmNob3JfeCI6IDQuMCwgImFuY2hvcl95IjogNC4wfX0sIHsidHlwZSI6ICJGZWF0dXJlIiwgImdlb21ldHJ5IjogeyJ0eXBlIjogIlBvaW50IiwgImNvb3JkaW5hdGVzIjogWy00Ni41MjU2MTE5MDAwMDAwMSwgLTIzLjU4MDk5NjVdfSwgInByb3BlcnRpZXMiOiB7Imh0bWwiOiAiPHN2ZyB3aWR0aD1cIjhweFwiIGhlaWdodD1cIjhweFwiIHZpZXdCb3g9XCItNC4wIC00LjAgOC4wIDguMFwiIHhtbG5zPVwiaHR0cDovL3d3dy53My5vcmcvMjAwMC9zdmdcIiB2ZXJzaW9uPVwiMS4xXCI+ICA8cGF0aCBkPVwiTSAwLjAgMy4wIEMgMC43OTU2MDkzMDAwMDAwMDAxIDMuMCAxLjU1ODczOTYxMjM1NDU2MDUgMi42ODM5MDEwNzQ3NjQ3MjUgMi4xMjEzMjAzNDM1NTk2NDMgMi4xMjEzMjAzNDM1NTk2NDMgQyAyLjY4MzkwMTA3NDc2NDcyNSAxLjU1ODczOTYxMjM1NDU2MDUgMy4wIDAuNzk1NjA5MzAwMDAwMDAwMSAzLjAgLTAuMCBDIDMuMCAtMC43OTU2MDkzMDAwMDAwMDAxIDIuNjgzOTAxMDc0NzY0NzI1IC0xLjU1ODczOTYxMjM1NDU2MDUgMi4xMjEzMjAzNDM1NTk2NDMgLTIuMTIxMzIwMzQzNTU5NjQzIEMgMS41NTg3Mzk2MTIzNTQ1NjA1IC0yLjY4MzkwMTA3NDc2NDcyNSAwLjc5NTYwOTMwMDAwMDAwMDEgLTMuMCAwLjAgLTMuMCBDIC0wLjc5NTYwOTMwMDAwMDAwMDEgLTMuMCAtMS41NTg3Mzk2MTIzNTQ1NjA1IC0yLjY4MzkwMTA3NDc2NDcyNSAtMi4xMjEzMjAzNDM1NTk2NDMgLTIuMTIxMzIwMzQzNTU5NjQzIEMgLTIuNjgzOTAxMDc0NzY0NzI1IC0xLjU1ODczOTYxMjM1NDU2MDUgLTMuMCAtMC43OTU2MDkzMDAwMDAwMDAxIC0zLjAgLTAuMCBDIC0zLjAgMC43OTU2MDkzMDAwMDAwMDAxIC0yLjY4MzkwMTA3NDc2NDcyNSAxLjU1ODczOTYxMjM1NDU2MDUgLTIuMTIxMzIwMzQzNTU5NjQzIDIuMTIxMzIwMzQzNTU5NjQzIEMgLTEuNTU4NzM5NjEyMzU0NTYwNSAyLjY4MzkwMTA3NDc2NDcyNSAtMC43OTU2MDkzMDAwMDAwMDAxIDMuMCAwLjAgMy4wIFpcIiBzdHJva2U9XCIjMDAwMEZGXCIgc3Ryb2tlLXdpZHRoPVwiMS4wXCIgc3Ryb2tlLW9wYWNpdHk9XCJOb25lXCIgZmlsbD1cIiMwMDAwRkZcIiBmaWxsLW9wYWNpdHk9XCJOb25lXCIgLz48L3N2Zz4iLCAiYW5jaG9yX3giOiA0LjAsICJhbmNob3JfeSI6IDQuMH19LCB7InR5cGUiOiAiRmVhdHVyZSIsICJnZW9tZXRyeSI6IHsidHlwZSI6ICJQb2ludCIsICJjb29yZGluYXRlcyI6IFstNDYuNzY4NDg3LCAtMjMuNjczOTQ4XX0sICJwcm9wZXJ0aWVzIjogeyJodG1sIjogIjxzdmcgd2lkdGg9XCI4cHhcIiBoZWlnaHQ9XCI4cHhcIiB2aWV3Qm94PVwiLTQuMCAtNC4wIDguMCA4LjBcIiB4bWxucz1cImh0dHA6Ly93d3cudzMub3JnLzIwMDAvc3ZnXCIgdmVyc2lvbj1cIjEuMVwiPiAgPHBhdGggZD1cIk0gMC4wIDMuMCBDIDAuNzk1NjA5MzAwMDAwMDAwMSAzLjAgMS41NTg3Mzk2MTIzNTQ1NjA1IDIuNjgzOTAxMDc0NzY0NzI1IDIuMTIxMzIwMzQzNTU5NjQzIDIuMTIxMzIwMzQzNTU5NjQzIEMgMi42ODM5MDEwNzQ3NjQ3MjUgMS41NTg3Mzk2MTIzNTQ1NjA1IDMuMCAwLjc5NTYwOTMwMDAwMDAwMDEgMy4wIC0wLjAgQyAzLjAgLTAuNzk1NjA5MzAwMDAwMDAwMSAyLjY4MzkwMTA3NDc2NDcyNSAtMS41NTg3Mzk2MTIzNTQ1NjA1IDIuMTIxMzIwMzQzNTU5NjQzIC0yLjEyMTMyMDM0MzU1OTY0MyBDIDEuNTU4NzM5NjEyMzU0NTYwNSAtMi42ODM5MDEwNzQ3NjQ3MjUgMC43OTU2MDkzMDAwMDAwMDAxIC0zLjAgMC4wIC0zLjAgQyAtMC43OTU2MDkzMDAwMDAwMDAxIC0zLjAgLTEuNTU4NzM5NjEyMzU0NTYwNSAtMi42ODM5MDEwNzQ3NjQ3MjUgLTIuMTIxMzIwMzQzNTU5NjQzIC0yLjEyMTMyMDM0MzU1OTY0MyBDIC0yLjY4MzkwMTA3NDc2NDcyNSAtMS41NTg3Mzk2MTIzNTQ1NjA1IC0zLjAgLTAuNzk1NjA5MzAwMDAwMDAwMSAtMy4wIC0wLjAgQyAtMy4wIDAuNzk1NjA5MzAwMDAwMDAwMSAtMi42ODM5MDEwNzQ3NjQ3MjUgMS41NTg3Mzk2MTIzNTQ1NjA1IC0yLjEyMTMyMDM0MzU1OTY0MyAyLjEyMTMyMDM0MzU1OTY0MyBDIC0xLjU1ODczOTYxMjM1NDU2MDUgMi42ODM5MDEwNzQ3NjQ3MjUgLTAuNzk1NjA5MzAwMDAwMDAwMSAzLjAgMC4wIDMuMCBaXCIgc3Ryb2tlPVwiIzAwMDBGRlwiIHN0cm9rZS13aWR0aD1cIjEuMFwiIHN0cm9rZS1vcGFjaXR5PVwiTm9uZVwiIGZpbGw9XCIjMDAwMEZGXCIgZmlsbC1vcGFjaXR5PVwiTm9uZVwiIC8+PC9zdmc+IiwgImFuY2hvcl94IjogNC4wLCAiYW5jaG9yX3kiOiA0LjB9fSwgeyJ0eXBlIjogIkZlYXR1cmUiLCAiZ2VvbWV0cnkiOiB7InR5cGUiOiAiUG9pbnQiLCAiY29vcmRpbmF0ZXMiOiBbLTQ2LjQyNjIzNjIwMDAwMDAwNSwgLTIzLjUzNjQ4MTEwMDAwMDAwM119LCAicHJvcGVydGllcyI6IHsiaHRtbCI6ICI8c3ZnIHdpZHRoPVwiOHB4XCIgaGVpZ2h0PVwiOHB4XCIgdmlld0JveD1cIi00LjAgLTQuMCA4LjAgOC4wXCIgeG1sbnM9XCJodHRwOi8vd3d3LnczLm9yZy8yMDAwL3N2Z1wiIHZlcnNpb249XCIxLjFcIj4gIDxwYXRoIGQ9XCJNIDAuMCAzLjAgQyAwLjc5NTYwOTMwMDAwMDAwMDEgMy4wIDEuNTU4NzM5NjEyMzU0NTYwNSAyLjY4MzkwMTA3NDc2NDcyNSAyLjEyMTMyMDM0MzU1OTY0MyAyLjEyMTMyMDM0MzU1OTY0MyBDIDIuNjgzOTAxMDc0NzY0NzI1IDEuNTU4NzM5NjEyMzU0NTYwNSAzLjAgMC43OTU2MDkzMDAwMDAwMDAxIDMuMCAtMC4wIEMgMy4wIC0wLjc5NTYwOTMwMDAwMDAwMDEgMi42ODM5MDEwNzQ3NjQ3MjUgLTEuNTU4NzM5NjEyMzU0NTYwNSAyLjEyMTMyMDM0MzU1OTY0MyAtMi4xMjEzMjAzNDM1NTk2NDMgQyAxLjU1ODczOTYxMjM1NDU2MDUgLTIuNjgzOTAxMDc0NzY0NzI1IDAuNzk1NjA5MzAwMDAwMDAwMSAtMy4wIDAuMCAtMy4wIEMgLTAuNzk1NjA5MzAwMDAwMDAwMSAtMy4wIC0xLjU1ODczOTYxMjM1NDU2MDUgLTIuNjgzOTAxMDc0NzY0NzI1IC0yLjEyMTMyMDM0MzU1OTY0MyAtMi4xMjEzMjAzNDM1NTk2NDMgQyAtMi42ODM5MDEwNzQ3NjQ3MjUgLTEuNTU4NzM5NjEyMzU0NTYwNSAtMy4wIC0wLjc5NTYwOTMwMDAwMDAwMDEgLTMuMCAtMC4wIEMgLTMuMCAwLjc5NTYwOTMwMDAwMDAwMDEgLTIuNjgzOTAxMDc0NzY0NzI1IDEuNTU4NzM5NjEyMzU0NTYwNSAtMi4xMjEzMjAzNDM1NTk2NDMgMi4xMjEzMjAzNDM1NTk2NDMgQyAtMS41NTg3Mzk2MTIzNTQ1NjA1IDIuNjgzOTAxMDc0NzY0NzI1IC0wLjc5NTYwOTMwMDAwMDAwMDEgMy4wIDAuMCAzLjAgWlwiIHN0cm9rZT1cIiMwMDAwRkZcIiBzdHJva2Utd2lkdGg9XCIxLjBcIiBzdHJva2Utb3BhY2l0eT1cIk5vbmVcIiBmaWxsPVwiIzAwMDBGRlwiIGZpbGwtb3BhY2l0eT1cIk5vbmVcIiAvPjwvc3ZnPiIsICJhbmNob3JfeCI6IDQuMCwgImFuY2hvcl95IjogNC4wfX0sIHsidHlwZSI6ICJGZWF0dXJlIiwgImdlb21ldHJ5IjogeyJ0eXBlIjogIlBvaW50IiwgImNvb3JkaW5hdGVzIjogWy00Ni43NjU1ODAxLCAtMjMuNjk2ODUzM119LCAicHJvcGVydGllcyI6IHsiaHRtbCI6ICI8c3ZnIHdpZHRoPVwiOHB4XCIgaGVpZ2h0PVwiOHB4XCIgdmlld0JveD1cIi00LjAgLTQuMCA4LjAgOC4wXCIgeG1sbnM9XCJodHRwOi8vd3d3LnczLm9yZy8yMDAwL3N2Z1wiIHZlcnNpb249XCIxLjFcIj4gIDxwYXRoIGQ9XCJNIDAuMCAzLjAgQyAwLjc5NTYwOTMwMDAwMDAwMDEgMy4wIDEuNTU4NzM5NjEyMzU0NTYwNSAyLjY4MzkwMTA3NDc2NDcyNSAyLjEyMTMyMDM0MzU1OTY0MyAyLjEyMTMyMDM0MzU1OTY0MyBDIDIuNjgzOTAxMDc0NzY0NzI1IDEuNTU4NzM5NjEyMzU0NTYwNSAzLjAgMC43OTU2MDkzMDAwMDAwMDAxIDMuMCAtMC4wIEMgMy4wIC0wLjc5NTYwOTMwMDAwMDAwMDEgMi42ODM5MDEwNzQ3NjQ3MjUgLTEuNTU4NzM5NjEyMzU0NTYwNSAyLjEyMTMyMDM0MzU1OTY0MyAtMi4xMjEzMjAzNDM1NTk2NDMgQyAxLjU1ODczOTYxMjM1NDU2MDUgLTIuNjgzOTAxMDc0NzY0NzI1IDAuNzk1NjA5MzAwMDAwMDAwMSAtMy4wIDAuMCAtMy4wIEMgLTAuNzk1NjA5MzAwMDAwMDAwMSAtMy4wIC0xLjU1ODczOTYxMjM1NDU2MDUgLTIuNjgzOTAxMDc0NzY0NzI1IC0yLjEyMTMyMDM0MzU1OTY0MyAtMi4xMjEzMjAzNDM1NTk2NDMgQyAtMi42ODM5MDEwNzQ3NjQ3MjUgLTEuNTU4NzM5NjEyMzU0NTYwNSAtMy4wIC0wLjc5NTYwOTMwMDAwMDAwMDEgLTMuMCAtMC4wIEMgLTMuMCAwLjc5NTYwOTMwMDAwMDAwMDEgLTIuNjgzOTAxMDc0NzY0NzI1IDEuNTU4NzM5NjEyMzU0NTYwNSAtMi4xMjEzMjAzNDM1NTk2NDMgMi4xMjEzMjAzNDM1NTk2NDMgQyAtMS41NTg3Mzk2MTIzNTQ1NjA1IDIuNjgzOTAxMDc0NzY0NzI1IC0wLjc5NTYwOTMwMDAwMDAwMDEgMy4wIDAuMCAzLjAgWlwiIHN0cm9rZT1cIiMwMDAwRkZcIiBzdHJva2Utd2lkdGg9XCIxLjBcIiBzdHJva2Utb3BhY2l0eT1cIk5vbmVcIiBmaWxsPVwiIzAwMDBGRlwiIGZpbGwtb3BhY2l0eT1cIk5vbmVcIiAvPjwvc3ZnPiIsICJhbmNob3JfeCI6IDQuMCwgImFuY2hvcl95IjogNC4wfX0sIHsidHlwZSI6ICJGZWF0dXJlIiwgImdlb21ldHJ5IjogeyJ0eXBlIjogIlBvaW50IiwgImNvb3JkaW5hdGVzIjogWy00Ni43NDE5NTkzLCAtMjMuNTUwNDM2NF19LCAicHJvcGVydGllcyI6IHsiaHRtbCI6ICI8c3ZnIHdpZHRoPVwiOHB4XCIgaGVpZ2h0PVwiOHB4XCIgdmlld0JveD1cIi00LjAgLTQuMCA4LjAgOC4wXCIgeG1sbnM9XCJodHRwOi8vd3d3LnczLm9yZy8yMDAwL3N2Z1wiIHZlcnNpb249XCIxLjFcIj4gIDxwYXRoIGQ9XCJNIDAuMCAzLjAgQyAwLjc5NTYwOTMwMDAwMDAwMDEgMy4wIDEuNTU4NzM5NjEyMzU0NTYwNSAyLjY4MzkwMTA3NDc2NDcyNSAyLjEyMTMyMDM0MzU1OTY0MyAyLjEyMTMyMDM0MzU1OTY0MyBDIDIuNjgzOTAxMDc0NzY0NzI1IDEuNTU4NzM5NjEyMzU0NTYwNSAzLjAgMC43OTU2MDkzMDAwMDAwMDAxIDMuMCAtMC4wIEMgMy4wIC0wLjc5NTYwOTMwMDAwMDAwMDEgMi42ODM5MDEwNzQ3NjQ3MjUgLTEuNTU4NzM5NjEyMzU0NTYwNSAyLjEyMTMyMDM0MzU1OTY0MyAtMi4xMjEzMjAzNDM1NTk2NDMgQyAxLjU1ODczOTYxMjM1NDU2MDUgLTIuNjgzOTAxMDc0NzY0NzI1IDAuNzk1NjA5MzAwMDAwMDAwMSAtMy4wIDAuMCAtMy4wIEMgLTAuNzk1NjA5MzAwMDAwMDAwMSAtMy4wIC0xLjU1ODczOTYxMjM1NDU2MDUgLTIuNjgzOTAxMDc0NzY0NzI1IC0yLjEyMTMyMDM0MzU1OTY0MyAtMi4xMjEzMjAzNDM1NTk2NDMgQyAtMi42ODM5MDEwNzQ3NjQ3MjUgLTEuNTU4NzM5NjEyMzU0NTYwNSAtMy4wIC0wLjc5NTYwOTMwMDAwMDAwMDEgLTMuMCAtMC4wIEMgLTMuMCAwLjc5NTYwOTMwMDAwMDAwMDEgLTIuNjgzOTAxMDc0NzY0NzI1IDEuNTU4NzM5NjEyMzU0NTYwNSAtMi4xMjEzMjAzNDM1NTk2NDMgMi4xMjEzMjAzNDM1NTk2NDMgQyAtMS41NTg3Mzk2MTIzNTQ1NjA1IDIuNjgzOTAxMDc0NzY0NzI1IC0wLjc5NTYwOTMwMDAwMDAwMDEgMy4wIDAuMCAzLjAgWlwiIHN0cm9rZT1cIiMwMDAwRkZcIiBzdHJva2Utd2lkdGg9XCIxLjBcIiBzdHJva2Utb3BhY2l0eT1cIk5vbmVcIiBmaWxsPVwiIzAwMDBGRlwiIGZpbGwtb3BhY2l0eT1cIk5vbmVcIiAvPjwvc3ZnPiIsICJhbmNob3JfeCI6IDQuMCwgImFuY2hvcl95IjogNC4wfX0sIHsidHlwZSI6ICJGZWF0dXJlIiwgImdlb21ldHJ5IjogeyJ0eXBlIjogIlBvaW50IiwgImNvb3JkaW5hdGVzIjogWy00Ni42MzU4NTgyOTk5OTk5OTUsIC0yMy42Njc2MjMwMDAwMDAwMDNdfSwgInByb3BlcnRpZXMiOiB7Imh0bWwiOiAiPHN2ZyB3aWR0aD1cIjhweFwiIGhlaWdodD1cIjhweFwiIHZpZXdCb3g9XCItNC4wIC00LjAgOC4wIDguMFwiIHhtbG5zPVwiaHR0cDovL3d3dy53My5vcmcvMjAwMC9zdmdcIiB2ZXJzaW9uPVwiMS4xXCI+ICA8cGF0aCBkPVwiTSAwLjAgMy4wIEMgMC43OTU2MDkzMDAwMDAwMDAxIDMuMCAxLjU1ODczOTYxMjM1NDU2MDUgMi42ODM5MDEwNzQ3NjQ3MjUgMi4xMjEzMjAzNDM1NTk2NDMgMi4xMjEzMjAzNDM1NTk2NDMgQyAyLjY4MzkwMTA3NDc2NDcyNSAxLjU1ODczOTYxMjM1NDU2MDUgMy4wIDAuNzk1NjA5MzAwMDAwMDAwMSAzLjAgLTAuMCBDIDMuMCAtMC43OTU2MDkzMDAwMDAwMDAxIDIuNjgzOTAxMDc0NzY0NzI1IC0xLjU1ODczOTYxMjM1NDU2MDUgMi4xMjEzMjAzNDM1NTk2NDMgLTIuMTIxMzIwMzQzNTU5NjQzIEMgMS41NTg3Mzk2MTIzNTQ1NjA1IC0yLjY4MzkwMTA3NDc2NDcyNSAwLjc5NTYwOTMwMDAwMDAwMDEgLTMuMCAwLjAgLTMuMCBDIC0wLjc5NTYwOTMwMDAwMDAwMDEgLTMuMCAtMS41NTg3Mzk2MTIzNTQ1NjA1IC0yLjY4MzkwMTA3NDc2NDcyNSAtMi4xMjEzMjAzNDM1NTk2NDMgLTIuMTIxMzIwMzQzNTU5NjQzIEMgLTIuNjgzOTAxMDc0NzY0NzI1IC0xLjU1ODczOTYxMjM1NDU2MDUgLTMuMCAtMC43OTU2MDkzMDAwMDAwMDAxIC0zLjAgLTAuMCBDIC0zLjAgMC43OTU2MDkzMDAwMDAwMDAxIC0yLjY4MzkwMTA3NDc2NDcyNSAxLjU1ODczOTYxMjM1NDU2MDUgLTIuMTIxMzIwMzQzNTU5NjQzIDIuMTIxMzIwMzQzNTU5NjQzIEMgLTEuNTU4NzM5NjEyMzU0NTYwNSAyLjY4MzkwMTA3NDc2NDcyNSAtMC43OTU2MDkzMDAwMDAwMDAxIDMuMCAwLjAgMy4wIFpcIiBzdHJva2U9XCIjMDAwMEZGXCIgc3Ryb2tlLXdpZHRoPVwiMS4wXCIgc3Ryb2tlLW9wYWNpdHk9XCJOb25lXCIgZmlsbD1cIiMwMDAwRkZcIiBmaWxsLW9wYWNpdHk9XCJOb25lXCIgLz48L3N2Zz4iLCAiYW5jaG9yX3giOiA0LjAsICJhbmNob3JfeSI6IDQuMH19LCB7InR5cGUiOiAiRmVhdHVyZSIsICJnZW9tZXRyeSI6IHsidHlwZSI6ICJQb2ludCIsICJjb29yZGluYXRlcyI6IFstNDYuNzc5NTE5NSwgLTIzLjYzNjk4OV19LCAicHJvcGVydGllcyI6IHsiaHRtbCI6ICI8c3ZnIHdpZHRoPVwiOHB4XCIgaGVpZ2h0PVwiOHB4XCIgdmlld0JveD1cIi00LjAgLTQuMCA4LjAgOC4wXCIgeG1sbnM9XCJodHRwOi8vd3d3LnczLm9yZy8yMDAwL3N2Z1wiIHZlcnNpb249XCIxLjFcIj4gIDxwYXRoIGQ9XCJNIDAuMCAzLjAgQyAwLjc5NTYwOTMwMDAwMDAwMDEgMy4wIDEuNTU4NzM5NjEyMzU0NTYwNSAyLjY4MzkwMTA3NDc2NDcyNSAyLjEyMTMyMDM0MzU1OTY0MyAyLjEyMTMyMDM0MzU1OTY0MyBDIDIuNjgzOTAxMDc0NzY0NzI1IDEuNTU4NzM5NjEyMzU0NTYwNSAzLjAgMC43OTU2MDkzMDAwMDAwMDAxIDMuMCAtMC4wIEMgMy4wIC0wLjc5NTYwOTMwMDAwMDAwMDEgMi42ODM5MDEwNzQ3NjQ3MjUgLTEuNTU4NzM5NjEyMzU0NTYwNSAyLjEyMTMyMDM0MzU1OTY0MyAtMi4xMjEzMjAzNDM1NTk2NDMgQyAxLjU1ODczOTYxMjM1NDU2MDUgLTIuNjgzOTAxMDc0NzY0NzI1IDAuNzk1NjA5MzAwMDAwMDAwMSAtMy4wIDAuMCAtMy4wIEMgLTAuNzk1NjA5MzAwMDAwMDAwMSAtMy4wIC0xLjU1ODczOTYxMjM1NDU2MDUgLTIuNjgzOTAxMDc0NzY0NzI1IC0yLjEyMTMyMDM0MzU1OTY0MyAtMi4xMjEzMjAzNDM1NTk2NDMgQyAtMi42ODM5MDEwNzQ3NjQ3MjUgLTEuNTU4NzM5NjEyMzU0NTYwNSAtMy4wIC0wLjc5NTYwOTMwMDAwMDAwMDEgLTMuMCAtMC4wIEMgLTMuMCAwLjc5NTYwOTMwMDAwMDAwMDEgLTIuNjgzOTAxMDc0NzY0NzI1IDEuNTU4NzM5NjEyMzU0NTYwNSAtMi4xMjEzMjAzNDM1NTk2NDMgMi4xMjEzMjAzNDM1NTk2NDMgQyAtMS41NTg3Mzk2MTIzNTQ1NjA1IDIuNjgzOTAxMDc0NzY0NzI1IC0wLjc5NTYwOTMwMDAwMDAwMDEgMy4wIDAuMCAzLjAgWlwiIHN0cm9rZT1cIiMwMDAwRkZcIiBzdHJva2Utd2lkdGg9XCIxLjBcIiBzdHJva2Utb3BhY2l0eT1cIk5vbmVcIiBmaWxsPVwiIzAwMDBGRlwiIGZpbGwtb3BhY2l0eT1cIk5vbmVcIiAvPjwvc3ZnPiIsICJhbmNob3JfeCI6IDQuMCwgImFuY2hvcl95IjogNC4wfX0sIHsidHlwZSI6ICJGZWF0dXJlIiwgImdlb21ldHJ5IjogeyJ0eXBlIjogIlBvaW50IiwgImNvb3JkaW5hdGVzIjogWy00Ni40MTIyOTYzLCAtMjMuNDk1MDM1MTAwMDAwMDAzXX0sICJwcm9wZXJ0aWVzIjogeyJodG1sIjogIjxzdmcgd2lkdGg9XCI4cHhcIiBoZWlnaHQ9XCI4cHhcIiB2aWV3Qm94PVwiLTQuMCAtNC4wIDguMCA4LjBcIiB4bWxucz1cImh0dHA6Ly93d3cudzMub3JnLzIwMDAvc3ZnXCIgdmVyc2lvbj1cIjEuMVwiPiAgPHBhdGggZD1cIk0gMC4wIDMuMCBDIDAuNzk1NjA5MzAwMDAwMDAwMSAzLjAgMS41NTg3Mzk2MTIzNTQ1NjA1IDIuNjgzOTAxMDc0NzY0NzI1IDIuMTIxMzIwMzQzNTU5NjQzIDIuMTIxMzIwMzQzNTU5NjQzIEMgMi42ODM5MDEwNzQ3NjQ3MjUgMS41NTg3Mzk2MTIzNTQ1NjA1IDMuMCAwLjc5NTYwOTMwMDAwMDAwMDEgMy4wIC0wLjAgQyAzLjAgLTAuNzk1NjA5MzAwMDAwMDAwMSAyLjY4MzkwMTA3NDc2NDcyNSAtMS41NTg3Mzk2MTIzNTQ1NjA1IDIuMTIxMzIwMzQzNTU5NjQzIC0yLjEyMTMyMDM0MzU1OTY0MyBDIDEuNTU4NzM5NjEyMzU0NTYwNSAtMi42ODM5MDEwNzQ3NjQ3MjUgMC43OTU2MDkzMDAwMDAwMDAxIC0zLjAgMC4wIC0zLjAgQyAtMC43OTU2MDkzMDAwMDAwMDAxIC0zLjAgLTEuNTU4NzM5NjEyMzU0NTYwNSAtMi42ODM5MDEwNzQ3NjQ3MjUgLTIuMTIxMzIwMzQzNTU5NjQzIC0yLjEyMTMyMDM0MzU1OTY0MyBDIC0yLjY4MzkwMTA3NDc2NDcyNSAtMS41NTg3Mzk2MTIzNTQ1NjA1IC0zLjAgLTAuNzk1NjA5MzAwMDAwMDAwMSAtMy4wIC0wLjAgQyAtMy4wIDAuNzk1NjA5MzAwMDAwMDAwMSAtMi42ODM5MDEwNzQ3NjQ3MjUgMS41NTg3Mzk2MTIzNTQ1NjA1IC0yLjEyMTMyMDM0MzU1OTY0MyAyLjEyMTMyMDM0MzU1OTY0MyBDIC0xLjU1ODczOTYxMjM1NDU2MDUgMi42ODM5MDEwNzQ3NjQ3MjUgLTAuNzk1NjA5MzAwMDAwMDAwMSAzLjAgMC4wIDMuMCBaXCIgc3Ryb2tlPVwiIzAwMDBGRlwiIHN0cm9rZS13aWR0aD1cIjEuMFwiIHN0cm9rZS1vcGFjaXR5PVwiTm9uZVwiIGZpbGw9XCIjMDAwMEZGXCIgZmlsbC1vcGFjaXR5PVwiTm9uZVwiIC8+PC9zdmc+IiwgImFuY2hvcl94IjogNC4wLCAiYW5jaG9yX3kiOiA0LjB9fSwgeyJ0eXBlIjogIkZlYXR1cmUiLCAiZ2VvbWV0cnkiOiB7InR5cGUiOiAiUG9pbnQiLCAiY29vcmRpbmF0ZXMiOiBbLTQ2LjU2NDU4MTEsIC0yMy41MjcwMTk5XX0sICJwcm9wZXJ0aWVzIjogeyJodG1sIjogIjxzdmcgd2lkdGg9XCI4cHhcIiBoZWlnaHQ9XCI4cHhcIiB2aWV3Qm94PVwiLTQuMCAtNC4wIDguMCA4LjBcIiB4bWxucz1cImh0dHA6Ly93d3cudzMub3JnLzIwMDAvc3ZnXCIgdmVyc2lvbj1cIjEuMVwiPiAgPHBhdGggZD1cIk0gMC4wIDMuMCBDIDAuNzk1NjA5MzAwMDAwMDAwMSAzLjAgMS41NTg3Mzk2MTIzNTQ1NjA1IDIuNjgzOTAxMDc0NzY0NzI1IDIuMTIxMzIwMzQzNTU5NjQzIDIuMTIxMzIwMzQzNTU5NjQzIEMgMi42ODM5MDEwNzQ3NjQ3MjUgMS41NTg3Mzk2MTIzNTQ1NjA1IDMuMCAwLjc5NTYwOTMwMDAwMDAwMDEgMy4wIC0wLjAgQyAzLjAgLTAuNzk1NjA5MzAwMDAwMDAwMSAyLjY4MzkwMTA3NDc2NDcyNSAtMS41NTg3Mzk2MTIzNTQ1NjA1IDIuMTIxMzIwMzQzNTU5NjQzIC0yLjEyMTMyMDM0MzU1OTY0MyBDIDEuNTU4NzM5NjEyMzU0NTYwNSAtMi42ODM5MDEwNzQ3NjQ3MjUgMC43OTU2MDkzMDAwMDAwMDAxIC0zLjAgMC4wIC0zLjAgQyAtMC43OTU2MDkzMDAwMDAwMDAxIC0zLjAgLTEuNTU4NzM5NjEyMzU0NTYwNSAtMi42ODM5MDEwNzQ3NjQ3MjUgLTIuMTIxMzIwMzQzNTU5NjQzIC0yLjEyMTMyMDM0MzU1OTY0MyBDIC0yLjY4MzkwMTA3NDc2NDcyNSAtMS41NTg3Mzk2MTIzNTQ1NjA1IC0zLjAgLTAuNzk1NjA5MzAwMDAwMDAwMSAtMy4wIC0wLjAgQyAtMy4wIDAuNzk1NjA5MzAwMDAwMDAwMSAtMi42ODM5MDEwNzQ3NjQ3MjUgMS41NTg3Mzk2MTIzNTQ1NjA1IC0yLjEyMTMyMDM0MzU1OTY0MyAyLjEyMTMyMDM0MzU1OTY0MyBDIC0xLjU1ODczOTYxMjM1NDU2MDUgMi42ODM5MDEwNzQ3NjQ3MjUgLTAuNzk1NjA5MzAwMDAwMDAwMSAzLjAgMC4wIDMuMCBaXCIgc3Ryb2tlPVwiIzAwMDBGRlwiIHN0cm9rZS13aWR0aD1cIjEuMFwiIHN0cm9rZS1vcGFjaXR5PVwiTm9uZVwiIGZpbGw9XCIjMDAwMEZGXCIgZmlsbC1vcGFjaXR5PVwiTm9uZVwiIC8+PC9zdmc+IiwgImFuY2hvcl94IjogNC4wLCAiYW5jaG9yX3kiOiA0LjB9fSwgeyJ0eXBlIjogIkZlYXR1cmUiLCAiZ2VvbWV0cnkiOiB7InR5cGUiOiAiUG9pbnQiLCAiY29vcmRpbmF0ZXMiOiBbLTQ2LjcwNDg3MTAwMDAwMDAwNCwgLTIzLjcxMDY2Nzg5OTk5OTk5N119LCAicHJvcGVydGllcyI6IHsiaHRtbCI6ICI8c3ZnIHdpZHRoPVwiOHB4XCIgaGVpZ2h0PVwiOHB4XCIgdmlld0JveD1cIi00LjAgLTQuMCA4LjAgOC4wXCIgeG1sbnM9XCJodHRwOi8vd3d3LnczLm9yZy8yMDAwL3N2Z1wiIHZlcnNpb249XCIxLjFcIj4gIDxwYXRoIGQ9XCJNIDAuMCAzLjAgQyAwLjc5NTYwOTMwMDAwMDAwMDEgMy4wIDEuNTU4NzM5NjEyMzU0NTYwNSAyLjY4MzkwMTA3NDc2NDcyNSAyLjEyMTMyMDM0MzU1OTY0MyAyLjEyMTMyMDM0MzU1OTY0MyBDIDIuNjgzOTAxMDc0NzY0NzI1IDEuNTU4NzM5NjEyMzU0NTYwNSAzLjAgMC43OTU2MDkzMDAwMDAwMDAxIDMuMCAtMC4wIEMgMy4wIC0wLjc5NTYwOTMwMDAwMDAwMDEgMi42ODM5MDEwNzQ3NjQ3MjUgLTEuNTU4NzM5NjEyMzU0NTYwNSAyLjEyMTMyMDM0MzU1OTY0MyAtMi4xMjEzMjAzNDM1NTk2NDMgQyAxLjU1ODczOTYxMjM1NDU2MDUgLTIuNjgzOTAxMDc0NzY0NzI1IDAuNzk1NjA5MzAwMDAwMDAwMSAtMy4wIDAuMCAtMy4wIEMgLTAuNzk1NjA5MzAwMDAwMDAwMSAtMy4wIC0xLjU1ODczOTYxMjM1NDU2MDUgLTIuNjgzOTAxMDc0NzY0NzI1IC0yLjEyMTMyMDM0MzU1OTY0MyAtMi4xMjEzMjAzNDM1NTk2NDMgQyAtMi42ODM5MDEwNzQ3NjQ3MjUgLTEuNTU4NzM5NjEyMzU0NTYwNSAtMy4wIC0wLjc5NTYwOTMwMDAwMDAwMDEgLTMuMCAtMC4wIEMgLTMuMCAwLjc5NTYwOTMwMDAwMDAwMDEgLTIuNjgzOTAxMDc0NzY0NzI1IDEuNTU4NzM5NjEyMzU0NTYwNSAtMi4xMjEzMjAzNDM1NTk2NDMgMi4xMjEzMjAzNDM1NTk2NDMgQyAtMS41NTg3Mzk2MTIzNTQ1NjA1IDIuNjgzOTAxMDc0NzY0NzI1IC0wLjc5NTYwOTMwMDAwMDAwMDEgMy4wIDAuMCAzLjAgWlwiIHN0cm9rZT1cIiMwMDAwRkZcIiBzdHJva2Utd2lkdGg9XCIxLjBcIiBzdHJva2Utb3BhY2l0eT1cIk5vbmVcIiBmaWxsPVwiIzAwMDBGRlwiIGZpbGwtb3BhY2l0eT1cIk5vbmVcIiAvPjwvc3ZnPiIsICJhbmNob3JfeCI6IDQuMCwgImFuY2hvcl95IjogNC4wfX0sIHsidHlwZSI6ICJGZWF0dXJlIiwgImdlb21ldHJ5IjogeyJ0eXBlIjogIlBvaW50IiwgImNvb3JkaW5hdGVzIjogWy00Ni41ODQ1NDE5LCAtMjMuNDU3MDgyM119LCAicHJvcGVydGllcyI6IHsiaHRtbCI6ICI8c3ZnIHdpZHRoPVwiOHB4XCIgaGVpZ2h0PVwiOHB4XCIgdmlld0JveD1cIi00LjAgLTQuMCA4LjAgOC4wXCIgeG1sbnM9XCJodHRwOi8vd3d3LnczLm9yZy8yMDAwL3N2Z1wiIHZlcnNpb249XCIxLjFcIj4gIDxwYXRoIGQ9XCJNIDAuMCAzLjAgQyAwLjc5NTYwOTMwMDAwMDAwMDEgMy4wIDEuNTU4NzM5NjEyMzU0NTYwNSAyLjY4MzkwMTA3NDc2NDcyNSAyLjEyMTMyMDM0MzU1OTY0MyAyLjEyMTMyMDM0MzU1OTY0MyBDIDIuNjgzOTAxMDc0NzY0NzI1IDEuNTU4NzM5NjEyMzU0NTYwNSAzLjAgMC43OTU2MDkzMDAwMDAwMDAxIDMuMCAtMC4wIEMgMy4wIC0wLjc5NTYwOTMwMDAwMDAwMDEgMi42ODM5MDEwNzQ3NjQ3MjUgLTEuNTU4NzM5NjEyMzU0NTYwNSAyLjEyMTMyMDM0MzU1OTY0MyAtMi4xMjEzMjAzNDM1NTk2NDMgQyAxLjU1ODczOTYxMjM1NDU2MDUgLTIuNjgzOTAxMDc0NzY0NzI1IDAuNzk1NjA5MzAwMDAwMDAwMSAtMy4wIDAuMCAtMy4wIEMgLTAuNzk1NjA5MzAwMDAwMDAwMSAtMy4wIC0xLjU1ODczOTYxMjM1NDU2MDUgLTIuNjgzOTAxMDc0NzY0NzI1IC0yLjEyMTMyMDM0MzU1OTY0MyAtMi4xMjEzMjAzNDM1NTk2NDMgQyAtMi42ODM5MDEwNzQ3NjQ3MjUgLTEuNTU4NzM5NjEyMzU0NTYwNSAtMy4wIC0wLjc5NTYwOTMwMDAwMDAwMDEgLTMuMCAtMC4wIEMgLTMuMCAwLjc5NTYwOTMwMDAwMDAwMDEgLTIuNjgzOTAxMDc0NzY0NzI1IDEuNTU4NzM5NjEyMzU0NTYwNSAtMi4xMjEzMjAzNDM1NTk2NDMgMi4xMjEzMjAzNDM1NTk2NDMgQyAtMS41NTg3Mzk2MTIzNTQ1NjA1IDIuNjgzOTAxMDc0NzY0NzI1IC0wLjc5NTYwOTMwMDAwMDAwMDEgMy4wIDAuMCAzLjAgWlwiIHN0cm9rZT1cIiMwMDAwRkZcIiBzdHJva2Utd2lkdGg9XCIxLjBcIiBzdHJva2Utb3BhY2l0eT1cIk5vbmVcIiBmaWxsPVwiIzAwMDBGRlwiIGZpbGwtb3BhY2l0eT1cIk5vbmVcIiAvPjwvc3ZnPiIsICJhbmNob3JfeCI6IDQuMCwgImFuY2hvcl95IjogNC4wfX0sIHsidHlwZSI6ICJGZWF0dXJlIiwgImdlb21ldHJ5IjogeyJ0eXBlIjogIlBvaW50IiwgImNvb3JkaW5hdGVzIjogWy00Ni41MDMwOTU1LCAtMjMuNTcyNTkwMTAwMDAwMDAzXX0sICJwcm9wZXJ0aWVzIjogeyJodG1sIjogIjxzdmcgd2lkdGg9XCI4cHhcIiBoZWlnaHQ9XCI4cHhcIiB2aWV3Qm94PVwiLTQuMCAtNC4wIDguMCA4LjBcIiB4bWxucz1cImh0dHA6Ly93d3cudzMub3JnLzIwMDAvc3ZnXCIgdmVyc2lvbj1cIjEuMVwiPiAgPHBhdGggZD1cIk0gMC4wIDMuMCBDIDAuNzk1NjA5MzAwMDAwMDAwMSAzLjAgMS41NTg3Mzk2MTIzNTQ1NjA1IDIuNjgzOTAxMDc0NzY0NzI1IDIuMTIxMzIwMzQzNTU5NjQzIDIuMTIxMzIwMzQzNTU5NjQzIEMgMi42ODM5MDEwNzQ3NjQ3MjUgMS41NTg3Mzk2MTIzNTQ1NjA1IDMuMCAwLjc5NTYwOTMwMDAwMDAwMDEgMy4wIC0wLjAgQyAzLjAgLTAuNzk1NjA5MzAwMDAwMDAwMSAyLjY4MzkwMTA3NDc2NDcyNSAtMS41NTg3Mzk2MTIzNTQ1NjA1IDIuMTIxMzIwMzQzNTU5NjQzIC0yLjEyMTMyMDM0MzU1OTY0MyBDIDEuNTU4NzM5NjEyMzU0NTYwNSAtMi42ODM5MDEwNzQ3NjQ3MjUgMC43OTU2MDkzMDAwMDAwMDAxIC0zLjAgMC4wIC0zLjAgQyAtMC43OTU2MDkzMDAwMDAwMDAxIC0zLjAgLTEuNTU4NzM5NjEyMzU0NTYwNSAtMi42ODM5MDEwNzQ3NjQ3MjUgLTIuMTIxMzIwMzQzNTU5NjQzIC0yLjEyMTMyMDM0MzU1OTY0MyBDIC0yLjY4MzkwMTA3NDc2NDcyNSAtMS41NTg3Mzk2MTIzNTQ1NjA1IC0zLjAgLTAuNzk1NjA5MzAwMDAwMDAwMSAtMy4wIC0wLjAgQyAtMy4wIDAuNzk1NjA5MzAwMDAwMDAwMSAtMi42ODM5MDEwNzQ3NjQ3MjUgMS41NTg3Mzk2MTIzNTQ1NjA1IC0yLjEyMTMyMDM0MzU1OTY0MyAyLjEyMTMyMDM0MzU1OTY0MyBDIC0xLjU1ODczOTYxMjM1NDU2MDUgMi42ODM5MDEwNzQ3NjQ3MjUgLTAuNzk1NjA5MzAwMDAwMDAwMSAzLjAgMC4wIDMuMCBaXCIgc3Ryb2tlPVwiIzAwMDBGRlwiIHN0cm9rZS13aWR0aD1cIjEuMFwiIHN0cm9rZS1vcGFjaXR5PVwiTm9uZVwiIGZpbGw9XCIjMDAwMEZGXCIgZmlsbC1vcGFjaXR5PVwiTm9uZVwiIC8+PC9zdmc+IiwgImFuY2hvcl94IjogNC4wLCAiYW5jaG9yX3kiOiA0LjB9fSwgeyJ0eXBlIjogIkZlYXR1cmUiLCAiZ2VvbWV0cnkiOiB7InR5cGUiOiAiUG9pbnQiLCAiY29vcmRpbmF0ZXMiOiBbLTQ2LjY2ODk3NzAwMDAwMDAwNSwgLTIzLjQ3NTEwNV19LCAicHJvcGVydGllcyI6IHsiaHRtbCI6ICI8c3ZnIHdpZHRoPVwiOHB4XCIgaGVpZ2h0PVwiOHB4XCIgdmlld0JveD1cIi00LjAgLTQuMCA4LjAgOC4wXCIgeG1sbnM9XCJodHRwOi8vd3d3LnczLm9yZy8yMDAwL3N2Z1wiIHZlcnNpb249XCIxLjFcIj4gIDxwYXRoIGQ9XCJNIDAuMCAzLjAgQyAwLjc5NTYwOTMwMDAwMDAwMDEgMy4wIDEuNTU4NzM5NjEyMzU0NTYwNSAyLjY4MzkwMTA3NDc2NDcyNSAyLjEyMTMyMDM0MzU1OTY0MyAyLjEyMTMyMDM0MzU1OTY0MyBDIDIuNjgzOTAxMDc0NzY0NzI1IDEuNTU4NzM5NjEyMzU0NTYwNSAzLjAgMC43OTU2MDkzMDAwMDAwMDAxIDMuMCAtMC4wIEMgMy4wIC0wLjc5NTYwOTMwMDAwMDAwMDEgMi42ODM5MDEwNzQ3NjQ3MjUgLTEuNTU4NzM5NjEyMzU0NTYwNSAyLjEyMTMyMDM0MzU1OTY0MyAtMi4xMjEzMjAzNDM1NTk2NDMgQyAxLjU1ODczOTYxMjM1NDU2MDUgLTIuNjgzOTAxMDc0NzY0NzI1IDAuNzk1NjA5MzAwMDAwMDAwMSAtMy4wIDAuMCAtMy4wIEMgLTAuNzk1NjA5MzAwMDAwMDAwMSAtMy4wIC0xLjU1ODczOTYxMjM1NDU2MDUgLTIuNjgzOTAxMDc0NzY0NzI1IC0yLjEyMTMyMDM0MzU1OTY0MyAtMi4xMjEzMjAzNDM1NTk2NDMgQyAtMi42ODM5MDEwNzQ3NjQ3MjUgLTEuNTU4NzM5NjEyMzU0NTYwNSAtMy4wIC0wLjc5NTYwOTMwMDAwMDAwMDEgLTMuMCAtMC4wIEMgLTMuMCAwLjc5NTYwOTMwMDAwMDAwMDEgLTIuNjgzOTAxMDc0NzY0NzI1IDEuNTU4NzM5NjEyMzU0NTYwNSAtMi4xMjEzMjAzNDM1NTk2NDMgMi4xMjEzMjAzNDM1NTk2NDMgQyAtMS41NTg3Mzk2MTIzNTQ1NjA1IDIuNjgzOTAxMDc0NzY0NzI1IC0wLjc5NTYwOTMwMDAwMDAwMDEgMy4wIDAuMCAzLjAgWlwiIHN0cm9rZT1cIiMwMDAwRkZcIiBzdHJva2Utd2lkdGg9XCIxLjBcIiBzdHJva2Utb3BhY2l0eT1cIk5vbmVcIiBmaWxsPVwiIzAwMDBGRlwiIGZpbGwtb3BhY2l0eT1cIk5vbmVcIiAvPjwvc3ZnPiIsICJhbmNob3JfeCI6IDQuMCwgImFuY2hvcl95IjogNC4wfX0sIHsidHlwZSI6ICJGZWF0dXJlIiwgImdlb21ldHJ5IjogeyJ0eXBlIjogIlBvaW50IiwgImNvb3JkaW5hdGVzIjogWy00Ni43NDk5ODIsIC0yMy41ODI2NTc0XX0sICJwcm9wZXJ0aWVzIjogeyJodG1sIjogIjxzdmcgd2lkdGg9XCI4cHhcIiBoZWlnaHQ9XCI4cHhcIiB2aWV3Qm94PVwiLTQuMCAtNC4wIDguMCA4LjBcIiB4bWxucz1cImh0dHA6Ly93d3cudzMub3JnLzIwMDAvc3ZnXCIgdmVyc2lvbj1cIjEuMVwiPiAgPHBhdGggZD1cIk0gMC4wIDMuMCBDIDAuNzk1NjA5MzAwMDAwMDAwMSAzLjAgMS41NTg3Mzk2MTIzNTQ1NjA1IDIuNjgzOTAxMDc0NzY0NzI1IDIuMTIxMzIwMzQzNTU5NjQzIDIuMTIxMzIwMzQzNTU5NjQzIEMgMi42ODM5MDEwNzQ3NjQ3MjUgMS41NTg3Mzk2MTIzNTQ1NjA1IDMuMCAwLjc5NTYwOTMwMDAwMDAwMDEgMy4wIC0wLjAgQyAzLjAgLTAuNzk1NjA5MzAwMDAwMDAwMSAyLjY4MzkwMTA3NDc2NDcyNSAtMS41NTg3Mzk2MTIzNTQ1NjA1IDIuMTIxMzIwMzQzNTU5NjQzIC0yLjEyMTMyMDM0MzU1OTY0MyBDIDEuNTU4NzM5NjEyMzU0NTYwNSAtMi42ODM5MDEwNzQ3NjQ3MjUgMC43OTU2MDkzMDAwMDAwMDAxIC0zLjAgMC4wIC0zLjAgQyAtMC43OTU2MDkzMDAwMDAwMDAxIC0zLjAgLTEuNTU4NzM5NjEyMzU0NTYwNSAtMi42ODM5MDEwNzQ3NjQ3MjUgLTIuMTIxMzIwMzQzNTU5NjQzIC0yLjEyMTMyMDM0MzU1OTY0MyBDIC0yLjY4MzkwMTA3NDc2NDcyNSAtMS41NTg3Mzk2MTIzNTQ1NjA1IC0zLjAgLTAuNzk1NjA5MzAwMDAwMDAwMSAtMy4wIC0wLjAgQyAtMy4wIDAuNzk1NjA5MzAwMDAwMDAwMSAtMi42ODM5MDEwNzQ3NjQ3MjUgMS41NTg3Mzk2MTIzNTQ1NjA1IC0yLjEyMTMyMDM0MzU1OTY0MyAyLjEyMTMyMDM0MzU1OTY0MyBDIC0xLjU1ODczOTYxMjM1NDU2MDUgMi42ODM5MDEwNzQ3NjQ3MjUgLTAuNzk1NjA5MzAwMDAwMDAwMSAzLjAgMC4wIDMuMCBaXCIgc3Ryb2tlPVwiIzAwMDBGRlwiIHN0cm9rZS13aWR0aD1cIjEuMFwiIHN0cm9rZS1vcGFjaXR5PVwiTm9uZVwiIGZpbGw9XCIjMDAwMEZGXCIgZmlsbC1vcGFjaXR5PVwiTm9uZVwiIC8+PC9zdmc+IiwgImFuY2hvcl94IjogNC4wLCAiYW5jaG9yX3kiOiA0LjB9fSwgeyJ0eXBlIjogIkZlYXR1cmUiLCAiZ2VvbWV0cnkiOiB7InR5cGUiOiAiUG9pbnQiLCAiY29vcmRpbmF0ZXMiOiBbLTQ2LjcwNzE0NTEsIC0yMy40NTg4Mjg2OTk5OTk5OThdfSwgInByb3BlcnRpZXMiOiB7Imh0bWwiOiAiPHN2ZyB3aWR0aD1cIjhweFwiIGhlaWdodD1cIjhweFwiIHZpZXdCb3g9XCItNC4wIC00LjAgOC4wIDguMFwiIHhtbG5zPVwiaHR0cDovL3d3dy53My5vcmcvMjAwMC9zdmdcIiB2ZXJzaW9uPVwiMS4xXCI+ICA8cGF0aCBkPVwiTSAwLjAgMy4wIEMgMC43OTU2MDkzMDAwMDAwMDAxIDMuMCAxLjU1ODczOTYxMjM1NDU2MDUgMi42ODM5MDEwNzQ3NjQ3MjUgMi4xMjEzMjAzNDM1NTk2NDMgMi4xMjEzMjAzNDM1NTk2NDMgQyAyLjY4MzkwMTA3NDc2NDcyNSAxLjU1ODczOTYxMjM1NDU2MDUgMy4wIDAuNzk1NjA5MzAwMDAwMDAwMSAzLjAgLTAuMCBDIDMuMCAtMC43OTU2MDkzMDAwMDAwMDAxIDIuNjgzOTAxMDc0NzY0NzI1IC0xLjU1ODczOTYxMjM1NDU2MDUgMi4xMjEzMjAzNDM1NTk2NDMgLTIuMTIxMzIwMzQzNTU5NjQzIEMgMS41NTg3Mzk2MTIzNTQ1NjA1IC0yLjY4MzkwMTA3NDc2NDcyNSAwLjc5NTYwOTMwMDAwMDAwMDEgLTMuMCAwLjAgLTMuMCBDIC0wLjc5NTYwOTMwMDAwMDAwMDEgLTMuMCAtMS41NTg3Mzk2MTIzNTQ1NjA1IC0yLjY4MzkwMTA3NDc2NDcyNSAtMi4xMjEzMjAzNDM1NTk2NDMgLTIuMTIxMzIwMzQzNTU5NjQzIEMgLTIuNjgzOTAxMDc0NzY0NzI1IC0xLjU1ODczOTYxMjM1NDU2MDUgLTMuMCAtMC43OTU2MDkzMDAwMDAwMDAxIC0zLjAgLTAuMCBDIC0zLjAgMC43OTU2MDkzMDAwMDAwMDAxIC0yLjY4MzkwMTA3NDc2NDcyNSAxLjU1ODczOTYxMjM1NDU2MDUgLTIuMTIxMzIwMzQzNTU5NjQzIDIuMTIxMzIwMzQzNTU5NjQzIEMgLTEuNTU4NzM5NjEyMzU0NTYwNSAyLjY4MzkwMTA3NDc2NDcyNSAtMC43OTU2MDkzMDAwMDAwMDAxIDMuMCAwLjAgMy4wIFpcIiBzdHJva2U9XCIjRkZGRkZGXCIgc3Ryb2tlLXdpZHRoPVwiMS4wXCIgc3Ryb2tlLW9wYWNpdHk9XCJOb25lXCIgZmlsbD1cIiNGRkZGRkZcIiBmaWxsLW9wYWNpdHk9XCJOb25lXCIgLz48L3N2Zz4iLCAiYW5jaG9yX3giOiA0LjAsICJhbmNob3JfeSI6IDQuMH19LCB7InR5cGUiOiAiRmVhdHVyZSIsICJnZW9tZXRyeSI6IHsidHlwZSI6ICJQb2ludCIsICJjb29yZGluYXRlcyI6IFstNDYuNzQxOTU5MywgLTIzLjU1MDQzNjRdfSwgInByb3BlcnRpZXMiOiB7Imh0bWwiOiAiPHN2ZyB3aWR0aD1cIjhweFwiIGhlaWdodD1cIjhweFwiIHZpZXdCb3g9XCItNC4wIC00LjAgOC4wIDguMFwiIHhtbG5zPVwiaHR0cDovL3d3dy53My5vcmcvMjAwMC9zdmdcIiB2ZXJzaW9uPVwiMS4xXCI+ICA8cGF0aCBkPVwiTSAwLjAgMy4wIEMgMC43OTU2MDkzMDAwMDAwMDAxIDMuMCAxLjU1ODczOTYxMjM1NDU2MDUgMi42ODM5MDEwNzQ3NjQ3MjUgMi4xMjEzMjAzNDM1NTk2NDMgMi4xMjEzMjAzNDM1NTk2NDMgQyAyLjY4MzkwMTA3NDc2NDcyNSAxLjU1ODczOTYxMjM1NDU2MDUgMy4wIDAuNzk1NjA5MzAwMDAwMDAwMSAzLjAgLTAuMCBDIDMuMCAtMC43OTU2MDkzMDAwMDAwMDAxIDIuNjgzOTAxMDc0NzY0NzI1IC0xLjU1ODczOTYxMjM1NDU2MDUgMi4xMjEzMjAzNDM1NTk2NDMgLTIuMTIxMzIwMzQzNTU5NjQzIEMgMS41NTg3Mzk2MTIzNTQ1NjA1IC0yLjY4MzkwMTA3NDc2NDcyNSAwLjc5NTYwOTMwMDAwMDAwMDEgLTMuMCAwLjAgLTMuMCBDIC0wLjc5NTYwOTMwMDAwMDAwMDEgLTMuMCAtMS41NTg3Mzk2MTIzNTQ1NjA1IC0yLjY4MzkwMTA3NDc2NDcyNSAtMi4xMjEzMjAzNDM1NTk2NDMgLTIuMTIxMzIwMzQzNTU5NjQzIEMgLTIuNjgzOTAxMDc0NzY0NzI1IC0xLjU1ODczOTYxMjM1NDU2MDUgLTMuMCAtMC43OTU2MDkzMDAwMDAwMDAxIC0zLjAgLTAuMCBDIC0zLjAgMC43OTU2MDkzMDAwMDAwMDAxIC0yLjY4MzkwMTA3NDc2NDcyNSAxLjU1ODczOTYxMjM1NDU2MDUgLTIuMTIxMzIwMzQzNTU5NjQzIDIuMTIxMzIwMzQzNTU5NjQzIEMgLTEuNTU4NzM5NjEyMzU0NTYwNSAyLjY4MzkwMTA3NDc2NDcyNSAtMC43OTU2MDkzMDAwMDAwMDAxIDMuMCAwLjAgMy4wIFpcIiBzdHJva2U9XCIjRkZGRkZGXCIgc3Ryb2tlLXdpZHRoPVwiMS4wXCIgc3Ryb2tlLW9wYWNpdHk9XCJOb25lXCIgZmlsbD1cIiNGRkZGRkZcIiBmaWxsLW9wYWNpdHk9XCJOb25lXCIgLz48L3N2Zz4iLCAiYW5jaG9yX3giOiA0LjAsICJhbmNob3JfeSI6IDQuMH19LCB7InR5cGUiOiAiRmVhdHVyZSIsICJnZW9tZXRyeSI6IHsidHlwZSI6ICJQb2ludCIsICJjb29yZGluYXRlcyI6IFstNDYuNjc2OTc2NSwgLTIzLjUzOTQ1XX0sICJwcm9wZXJ0aWVzIjogeyJodG1sIjogIjxzdmcgd2lkdGg9XCIxOHB4XCIgaGVpZ2h0PVwiMThweFwiIHZpZXdCb3g9XCItOS4wIC05LjAgMTguMCAxOC4wXCIgeG1sbnM9XCJodHRwOi8vd3d3LnczLm9yZy8yMDAwL3N2Z1wiIHZlcnNpb249XCIxLjFcIj4gIDxwYXRoIGQ9XCJNIDAuMCA3LjA3MTA2NzgxMTg2NTQ3NTUgQyAxLjg3NTI2OTEwNDAxNjk0MTEgNy4wNzEwNjc4MTE4NjU0NzU1IDMuNjczOTg0NTAwMDAwMDAwNCA2LjMyNjAxNTUwMDAwMDAwMDUgNS4wMDAwMDAwMDAwMDAwMDEgNS4wMDAwMDAwMDAwMDAwMDEgQyA2LjMyNjAxNTUwMDAwMDAwMDUgMy42NzM5ODQ1MDAwMDAwMDA0IDcuMDcxMDY3ODExODY1NDc1NSAxLjg3NTI2OTEwNDAxNjk0MTEgNy4wNzEwNjc4MTE4NjU0NzU1IC0wLjAgQyA3LjA3MTA2NzgxMTg2NTQ3NTUgLTEuODc1MjY5MTA0MDE2OTQxMSA2LjMyNjAxNTUwMDAwMDAwMDUgLTMuNjczOTg0NTAwMDAwMDAwNCA1LjAwMDAwMDAwMDAwMDAwMSAtNS4wMDAwMDAwMDAwMDAwMDEgQyAzLjY3Mzk4NDUwMDAwMDAwMDQgLTYuMzI2MDE1NTAwMDAwMDAwNSAxLjg3NTI2OTEwNDAxNjk0MTEgLTcuMDcxMDY3ODExODY1NDc1NSAwLjAgLTcuMDcxMDY3ODExODY1NDc1NSBDIC0xLjg3NTI2OTEwNDAxNjk0MTEgLTcuMDcxMDY3ODExODY1NDc1NSAtMy42NzM5ODQ1MDAwMDAwMDA0IC02LjMyNjAxNTUwMDAwMDAwMDUgLTUuMDAwMDAwMDAwMDAwMDAxIC01LjAwMDAwMDAwMDAwMDAwMSBDIC02LjMyNjAxNTUwMDAwMDAwMDUgLTMuNjczOTg0NTAwMDAwMDAwNCAtNy4wNzEwNjc4MTE4NjU0NzU1IC0xLjg3NTI2OTEwNDAxNjk0MTEgLTcuMDcxMDY3ODExODY1NDc1NSAtMC4wIEMgLTcuMDcxMDY3ODExODY1NDc1NSAxLjg3NTI2OTEwNDAxNjk0MTEgLTYuMzI2MDE1NTAwMDAwMDAwNSAzLjY3Mzk4NDUwMDAwMDAwMDQgLTUuMDAwMDAwMDAwMDAwMDAxIDUuMDAwMDAwMDAwMDAwMDAxIEMgLTMuNjczOTg0NTAwMDAwMDAwNCA2LjMyNjAxNTUwMDAwMDAwMDUgLTEuODc1MjY5MTA0MDE2OTQxMSA3LjA3MTA2NzgxMTg2NTQ3NTUgMC4wIDcuMDcxMDY3ODExODY1NDc1NSBaXCIgc3Ryb2tlPVwiIzAwMDBGRlwiIHN0cm9rZS13aWR0aD1cIjEuMFwiIHN0cm9rZS1vcGFjaXR5PVwiMC43XCIgZmlsbD1cIiMwMDAwRkZcIiBmaWxsLW9wYWNpdHk9XCIwLjdcIiAvPjwvc3ZnPiIsICJhbmNob3JfeCI6IDkuMCwgImFuY2hvcl95IjogOS4wfX1dfTsKCmlmIChnakRhdGEuZmVhdHVyZXMubGVuZ3RoICE9IDApIHsKICB2YXIgZ2ogPSBMLmdlb0pzb24oZ2pEYXRhLCB7CiAgICBzdHlsZTogZnVuY3Rpb24gKGZlYXR1cmUpIHsKICAgICAgcmV0dXJuIGZlYXR1cmUucHJvcGVydGllczsKICAgIH0sCiAgICBwb2ludFRvTGF5ZXI6IGZ1bmN0aW9uIChmZWF0dXJlLCBsYXRsbmcpIHsKICAgICAgdmFyIGljb24gPSBMLmRpdkljb24oeydodG1sJzogZmVhdHVyZS5wcm9wZXJ0aWVzLmh0bWwsIAogICAgICAgIGljb25BbmNob3I6IFtmZWF0dXJlLnByb3BlcnRpZXMuYW5jaG9yX3gsIAogICAgICAgICAgICAgICAgICAgICBmZWF0dXJlLnByb3BlcnRpZXMuYW5jaG9yX3ldLCAKICAgICAgICAgIGNsYXNzTmFtZTogJ2VtcHR5J30pOyAgLy8gV2hhdCBjYW4gSSBkbyBhYm91dCBlbXB0eT8KICAgICAgcmV0dXJuIEwubWFya2VyKGxhdGxuZywge2ljb246IGljb259KTsKICAgIH0KICB9KTsKICBnai5hZGRUbyhtYXApOwogIAogIG1hcC5maXRCb3VuZHMoZ2ouZ2V0Qm91bmRzKCkpOwp9IGVsc2UgewogIG1hcC5zZXRWaWV3KFswLCAwXSwgMSk7Cn0KPC9zY3JpcHQ+CjwvYm9keT4=\" width=\"100%\" height=\"480\"></iframe>"
      ],
      "text/plain": [
       "<IPython.core.display.HTML object>"
      ]
     },
     "execution_count": 36,
     "metadata": {},
     "output_type": "execute_result"
    }
   ],
   "source": [
    "plt.figure(figsize=(8,8))\n",
    "\n",
    "lat1 = cand_vaga_sp.sort_values(by=['distance'])['lat'].to_list()\n",
    "lng1 = cand_vaga_sp.sort_values(by=['distance'])['lng'].to_list()\n",
    "plt.scatter(lng1[:10], lat1[:10], c='g', alpha=0.99, s=200)\n",
    "plt.scatter(lng1[10:], lat1[10:], c='r', alpha=0.7, s=200)\n",
    "\n",
    "lat2 = cand_vaga_sp.sort_values(by=['ABST'])['lat'].to_list()\n",
    "lng2 = cand_vaga_sp.sort_values(by=['ABST'])['lng'].to_list()\n",
    "plt.scatter(lng2[:10], lat2[:10], c='y')\n",
    "plt.scatter(lng2[10:], lat2[10:], c='b')\n",
    "\n",
    "lat3 = cand_vaga_sp[cand_vaga_sp['polo']=='SÃO PAULO - JARDIM PAULISTANO']['lat'].to_list()\n",
    "lng3 = cand_vaga_sp[cand_vaga_sp['polo']=='SÃO PAULO - JARDIM PAULISTANO']['lng'].to_list()\n",
    "lat4 = cand_vaga_sp[cand_vaga_sp['polo']=='SÃO PAULO - JAGUARÉ']['lat'].to_list()\n",
    "lng4 = cand_vaga_sp[cand_vaga_sp['polo']=='SÃO PAULO - JAGUARÉ']['lng'].to_list()\n",
    "plt.scatter(lng3, lat3, c='white')\n",
    "plt.scatter(lng4, lat4, c='white')\n",
    "\n",
    "plt.scatter(-46.6769765, -23.53945, c='b', alpha=0.7, s=200)\n",
    "mplleaflet.display()"
   ]
  },
  {
   "cell_type": "code",
   "execution_count": null,
   "metadata": {},
   "outputs": [],
   "source": []
  }
 ],
 "metadata": {
  "kernelspec": {
   "display_name": "Python 3",
   "language": "python",
   "name": "python3"
  },
  "language_info": {
   "codemirror_mode": {
    "name": "ipython",
    "version": 3
   },
   "file_extension": ".py",
   "mimetype": "text/x-python",
   "name": "python",
   "nbconvert_exporter": "python",
   "pygments_lexer": "ipython3",
   "version": "3.6.4"
  },
  "toc": {
   "base_numbering": 1,
   "nav_menu": {},
   "number_sections": true,
   "sideBar": true,
   "skip_h1_title": false,
   "title_cell": "Table of Contents",
   "title_sidebar": "Contents",
   "toc_cell": false,
   "toc_position": {},
   "toc_section_display": true,
   "toc_window_display": false
  },
  "varInspector": {
   "cols": {
    "lenName": 16,
    "lenType": 16,
    "lenVar": 40
   },
   "kernels_config": {
    "python": {
     "delete_cmd_postfix": "",
     "delete_cmd_prefix": "del ",
     "library": "var_list.py",
     "varRefreshCmd": "print(var_dic_list())"
    },
    "r": {
     "delete_cmd_postfix": ") ",
     "delete_cmd_prefix": "rm(",
     "library": "var_list.r",
     "varRefreshCmd": "cat(var_dic_list()) "
    }
   },
   "types_to_exclude": [
    "module",
    "function",
    "builtin_function_or_method",
    "instance",
    "_Feature"
   ],
   "window_display": false
  }
 },
 "nbformat": 4,
 "nbformat_minor": 2
}
