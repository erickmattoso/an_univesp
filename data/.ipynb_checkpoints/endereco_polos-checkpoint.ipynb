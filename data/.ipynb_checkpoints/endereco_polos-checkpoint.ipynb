{
 "cells": [
  {
   "cell_type": "code",
   "execution_count": 1,
   "metadata": {
    "ExecuteTime": {
     "end_time": "2020-01-10T23:08:33.452140Z",
     "start_time": "2020-01-10T23:08:32.125013Z"
    }
   },
   "outputs": [],
   "source": [
    "import pandas as pd\n",
    "import requests\n",
    "from bs4 import BeautifulSoup\n",
    "import googlemaps"
   ]
  },
  {
   "cell_type": "markdown",
   "metadata": {},
   "source": [
    "# Creating DataFrame polos"
   ]
  },
  {
   "cell_type": "code",
   "execution_count": 2,
   "metadata": {
    "ExecuteTime": {
     "end_time": "2020-01-10T23:08:33.894950Z",
     "start_time": "2020-01-10T23:08:33.454857Z"
    }
   },
   "outputs": [],
   "source": [
    "URL = \"http://vestibular.univesp.br/polos\"\n",
    "r = requests.get(URL)\n",
    "soup = BeautifulSoup(r.content, 'html5lib')"
   ]
  },
  {
   "cell_type": "code",
   "execution_count": 3,
   "metadata": {
    "ExecuteTime": {
     "end_time": "2020-01-10T23:08:33.971543Z",
     "start_time": "2020-01-10T23:08:33.897882Z"
    }
   },
   "outputs": [
    {
     "data": {
      "text/html": [
       "<div>\n",
       "<style scoped>\n",
       "    .dataframe tbody tr th:only-of-type {\n",
       "        vertical-align: middle;\n",
       "    }\n",
       "\n",
       "    .dataframe tbody tr th {\n",
       "        vertical-align: top;\n",
       "    }\n",
       "\n",
       "    .dataframe thead th {\n",
       "        text-align: right;\n",
       "    }\n",
       "</style>\n",
       "<table border=\"1\" class=\"dataframe\">\n",
       "  <thead>\n",
       "    <tr style=\"text-align: right;\">\n",
       "      <th></th>\n",
       "      <th>info</th>\n",
       "    </tr>\n",
       "  </thead>\n",
       "  <tbody>\n",
       "    <tr>\n",
       "      <th>109</th>\n",
       "      <td>\\n            Guariba | 10 vagas por eixo (Lic...</td>\n",
       "    </tr>\n",
       "    <tr>\n",
       "      <th>92</th>\n",
       "      <td>\\n            Fartura | 10 vagas por eixo (Lic...</td>\n",
       "    </tr>\n",
       "    <tr>\n",
       "      <th>26</th>\n",
       "      <td>\\n            Bady Bassitt | 10 vagas por eixo...</td>\n",
       "    </tr>\n",
       "    <tr>\n",
       "      <th>342</th>\n",
       "      <td>\\n            Tremembé | 15 vagas por eixo (Li...</td>\n",
       "    </tr>\n",
       "    <tr>\n",
       "      <th>161</th>\n",
       "      <td>\\n            Laranjal Paulista | 10 vagas por...</td>\n",
       "    </tr>\n",
       "  </tbody>\n",
       "</table>\n",
       "</div>"
      ],
      "text/plain": [
       "                                                  info\n",
       "109  \\n            Guariba | 10 vagas por eixo (Lic...\n",
       "92   \\n            Fartura | 10 vagas por eixo (Lic...\n",
       "26   \\n            Bady Bassitt | 10 vagas por eixo...\n",
       "342  \\n            Tremembé | 15 vagas por eixo (Li...\n",
       "161  \\n            Laranjal Paulista | 10 vagas por..."
      ]
     },
     "execution_count": 3,
     "metadata": {},
     "output_type": "execute_result"
    }
   ],
   "source": [
    "test = soup.findAll('li', attrs = {'class':'list-iconed-item'})\n",
    "quotes=[]\n",
    "for row in test: \n",
    "    quote = {} \n",
    "    quote['info'] = row.text\n",
    "    quotes.append(quote)\n",
    "\n",
    "polos = pd.DataFrame(quotes)\n",
    "polos.sample(5)"
   ]
  },
  {
   "cell_type": "code",
   "execution_count": 4,
   "metadata": {
    "ExecuteTime": {
     "end_time": "2020-01-10T23:08:34.040193Z",
     "start_time": "2020-01-10T23:08:33.977007Z"
    }
   },
   "outputs": [
    {
     "data": {
      "text/html": [
       "<div>\n",
       "<style scoped>\n",
       "    .dataframe tbody tr th:only-of-type {\n",
       "        vertical-align: middle;\n",
       "    }\n",
       "\n",
       "    .dataframe tbody tr th {\n",
       "        vertical-align: top;\n",
       "    }\n",
       "\n",
       "    .dataframe thead th {\n",
       "        text-align: right;\n",
       "    }\n",
       "</style>\n",
       "<table border=\"1\" class=\"dataframe\">\n",
       "  <thead>\n",
       "    <tr style=\"text-align: right;\">\n",
       "      <th></th>\n",
       "      <th>info</th>\n",
       "      <th>polo</th>\n",
       "      <th>vagas_temp</th>\n",
       "      <th>vagas</th>\n",
       "      <th>endereco</th>\n",
       "    </tr>\n",
       "  </thead>\n",
       "  <tbody>\n",
       "    <tr>\n",
       "      <th>0</th>\n",
       "      <td>Adamantina | 10 vagas por eixo (Lic...</td>\n",
       "      <td>Adamantina</td>\n",
       "      <td>10 vagas por eixo (Licenciaturas / Computação)...</td>\n",
       "      <td>10</td>\n",
       "      <td>Alameda dos Expedicionários, 864 - Centro CEP:...</td>\n",
       "    </tr>\n",
       "    <tr>\n",
       "      <th>1</th>\n",
       "      <td>Aguaí | 10 vagas por eixo (Licencia...</td>\n",
       "      <td>Aguaí</td>\n",
       "      <td>10 vagas por eixo (Licenciaturas / Computação)...</td>\n",
       "      <td>10</td>\n",
       "      <td>Av. Olinda Silveira Cruz Braga, 200 - Parque I...</td>\n",
       "    </tr>\n",
       "    <tr>\n",
       "      <th>2</th>\n",
       "      <td>Agudos | 10 vagas por eixo (Licenci...</td>\n",
       "      <td>Agudos</td>\n",
       "      <td>10 vagas por eixo (Licenciaturas / Computação)...</td>\n",
       "      <td>10</td>\n",
       "      <td>R. João Pessoa, 2 - Professor Simões CEP: 1712...</td>\n",
       "    </tr>\n",
       "    <tr>\n",
       "      <th>3</th>\n",
       "      <td>Altinópolis | 10 vagas por eixo (Li...</td>\n",
       "      <td>Altinópolis</td>\n",
       "      <td>10 vagas por eixo (Licenciaturas / Computação)...</td>\n",
       "      <td>10</td>\n",
       "      <td>R. Alagoas, 248 - Vila Maria CEP: 14350-000</td>\n",
       "    </tr>\n",
       "    <tr>\n",
       "      <th>4</th>\n",
       "      <td>Alumínio | 10 vagas por eixo (Licen...</td>\n",
       "      <td>Alumínio</td>\n",
       "      <td>10 vagas por eixo (Licenciaturas / Computação)...</td>\n",
       "      <td>10</td>\n",
       "      <td>Av. Senador José Ermírio de Moraes, 798 - Vila...</td>\n",
       "    </tr>\n",
       "  </tbody>\n",
       "</table>\n",
       "</div>"
      ],
      "text/plain": [
       "                                                info         polo  \\\n",
       "0             Adamantina | 10 vagas por eixo (Lic...   Adamantina   \n",
       "1             Aguaí | 10 vagas por eixo (Licencia...        Aguaí   \n",
       "2             Agudos | 10 vagas por eixo (Licenci...       Agudos   \n",
       "3             Altinópolis | 10 vagas por eixo (Li...  Altinópolis   \n",
       "4             Alumínio | 10 vagas por eixo (Licen...     Alumínio   \n",
       "\n",
       "                                          vagas_temp vagas  \\\n",
       "0  10 vagas por eixo (Licenciaturas / Computação)...   10    \n",
       "1  10 vagas por eixo (Licenciaturas / Computação)...   10    \n",
       "2  10 vagas por eixo (Licenciaturas / Computação)...   10    \n",
       "3  10 vagas por eixo (Licenciaturas / Computação)...   10    \n",
       "4  10 vagas por eixo (Licenciaturas / Computação)...   10    \n",
       "\n",
       "                                            endereco  \n",
       "0  Alameda dos Expedicionários, 864 - Centro CEP:...  \n",
       "1  Av. Olinda Silveira Cruz Braga, 200 - Parque I...  \n",
       "2  R. João Pessoa, 2 - Professor Simões CEP: 1712...  \n",
       "3        R. Alagoas, 248 - Vila Maria CEP: 14350-000  \n",
       "4  Av. Senador José Ermírio de Moraes, 798 - Vila...  "
      ]
     },
     "execution_count": 4,
     "metadata": {},
     "output_type": "execute_result"
    }
   ],
   "source": [
    "\n",
    "polos[\"info\"] = polos[\"info\"].str.replace(\"\\n \",\"\",regex=True)\n",
    "\n",
    "polos[\"polo\"]     = polos[\"info\"].str.split(\" \\| \", n = 1, expand = True)[0].str.strip()\n",
    "polos[\"vagas_temp\"] = polos[\"info\"].str.split(\" \\| \", n = 1, expand = True)[1]\n",
    "\n",
    "polos[\"vagas\"]=polos[\"vagas_temp\"].str.split(\"vagas por eixo \\(Licenciaturas \\/ Computação\\)\",n=1,expand=True)[0]\n",
    "polos[\"endereco\"]=polos[\"vagas_temp\"].str.split(\"vagas por eixo \\(Licenciaturas \\/ Computação\\)\",n=1,expand=True)[1].str.strip()\n",
    "\n",
    "polos.head()"
   ]
  },
  {
   "cell_type": "code",
   "execution_count": 5,
   "metadata": {
    "ExecuteTime": {
     "end_time": "2020-01-10T23:08:34.076706Z",
     "start_time": "2020-01-10T23:08:34.045049Z"
    }
   },
   "outputs": [
    {
     "data": {
      "text/html": [
       "<div>\n",
       "<style scoped>\n",
       "    .dataframe tbody tr th:only-of-type {\n",
       "        vertical-align: middle;\n",
       "    }\n",
       "\n",
       "    .dataframe tbody tr th {\n",
       "        vertical-align: top;\n",
       "    }\n",
       "\n",
       "    .dataframe thead th {\n",
       "        text-align: right;\n",
       "    }\n",
       "</style>\n",
       "<table border=\"1\" class=\"dataframe\">\n",
       "  <thead>\n",
       "    <tr style=\"text-align: right;\">\n",
       "      <th></th>\n",
       "      <th>polo</th>\n",
       "      <th>vagas</th>\n",
       "      <th>endereco</th>\n",
       "    </tr>\n",
       "  </thead>\n",
       "  <tbody>\n",
       "    <tr>\n",
       "      <th>22</th>\n",
       "      <td>Arujá</td>\n",
       "      <td>30</td>\n",
       "      <td>R. Mamede Barbosa, 105 - Centro CEP: 07400 - 820</td>\n",
       "    </tr>\n",
       "    <tr>\n",
       "      <th>68</th>\n",
       "      <td>Cesário Lange</td>\n",
       "      <td>10</td>\n",
       "      <td>R. Camargo Barros, 1210 - Centro CEP: 18285-000</td>\n",
       "    </tr>\n",
       "    <tr>\n",
       "      <th>66</th>\n",
       "      <td>Cerqueira César</td>\n",
       "      <td>10</td>\n",
       "      <td>Rod. Donato Francisco Sassi, Km 5 - Macucão CE...</td>\n",
       "    </tr>\n",
       "    <tr>\n",
       "      <th>220</th>\n",
       "      <td>Porangaba</td>\n",
       "      <td>10</td>\n",
       "      <td>R. Lazinho Nunes da Silva, 505 - Vista Alegre ...</td>\n",
       "    </tr>\n",
       "    <tr>\n",
       "      <th>335</th>\n",
       "      <td>Taquarivai</td>\n",
       "      <td>10</td>\n",
       "      <td>R. Maria Joana Ferraz, 280 - Centro CEP: 18425...</td>\n",
       "    </tr>\n",
       "  </tbody>\n",
       "</table>\n",
       "</div>"
      ],
      "text/plain": [
       "                polo vagas                                           endereco\n",
       "22             Arujá   30    R. Mamede Barbosa, 105 - Centro CEP: 07400 - 820\n",
       "68     Cesário Lange   10     R. Camargo Barros, 1210 - Centro CEP: 18285-000\n",
       "66   Cerqueira César   10   Rod. Donato Francisco Sassi, Km 5 - Macucão CE...\n",
       "220        Porangaba   10   R. Lazinho Nunes da Silva, 505 - Vista Alegre ...\n",
       "335       Taquarivai   10   R. Maria Joana Ferraz, 280 - Centro CEP: 18425..."
      ]
     },
     "execution_count": 5,
     "metadata": {},
     "output_type": "execute_result"
    }
   ],
   "source": [
    "polos = polos[['polo', 'vagas', 'endereco']]\n",
    "polos.sample(5)"
   ]
  },
  {
   "cell_type": "code",
   "execution_count": null,
   "metadata": {
    "ExecuteTime": {
     "start_time": "2020-01-10T23:08:48.026Z"
    },
    "scrolled": false
   },
   "outputs": [
    {
     "name": "stdout",
     "output_type": "stream",
     "text": [
      "working - Alameda dos Expedicionários, 864 - Centro CEP: 17800-000\n",
      "working - Av. Olinda Silveira Cruz Braga, 200 - Parque Interlagos CEP: 13860-000\n",
      "working - R. João Pessoa, 2 - Professor Simões CEP: 17120-000\n",
      "working - R. Alagoas, 248 - Vila Maria CEP: 14350-000\n",
      "working - Av. Senador José Ermírio de Moraes, 798 - Vila Industrial CEP: 18125-000\n",
      "working - R. Vereador Antonio Teruel, 670 - Centro CEP: 17430-000\n",
      "working - R. das Hortências, 1555 - Cidade Jardim CEP: 13467-190\n",
      "working - Av. Nove de Julho, 192 - Centro CEP: 14820-000\n",
      "working - R. Gustavo de Souza, 108 - Ribeirão Amparo CEP: 13904-903\n",
      "working - R. Humberto de Campos, 229 - Centro CEP: 16901-012\n",
      "working - R. Prefeito Spedito Scalise , S/N - Morada do Sol CEP: 18620-000\n",
      "working - Praça Pe. Victor Coelho de Almeida, 100 - Jardim São Paulo CEP: 12570-000\n",
      "working - R. Amarildo Gorgonha da Silva, 112 - Centro CEP: 18320-000\n",
      "working - R. Amelia da Costa e Silva, 66 - Jardim Bela Vista CEP: 18147-000\n",
      "working - R. Conselheiro Crispiniano, 550 - Jardim Alvorada CEP: 16016-090\n",
      "working - R. Professor Toledo, 756 - Centro CEP: 18190-000\n",
      "working - Av. José Serezin, 800 - Jardim Maria Sodré CEP: 18710-000\n",
      "working - Av. Romulo Lupo, 775 - Jardim Universal CEP: 14801-700\n",
      "working - Av. Nestlé, 58 - Vila Michelin CEP: 13601-005\n",
      "working - Av. Prefeito Adelino Mendonça, S/N - Centro CEP: 17160-000\n",
      "working - Av. Siqueira Campos, 501 - Centro CEP: 12820-000\n",
      "working - R. XV de Novembro, 1400 - Jardim Planalto CEP: 13160-000\n",
      "working - R. Mamede Barbosa, 105 - Centro CEP: 07400 - 820\n",
      "working - Av. Getúlio Vargas, 1200 - Vila Nova Santana CEP: 19807-130\n",
      "working - Av. Doutor Joviano Alvim, 112 - Alvinópolis CEP: 12942-613\n",
      "working - R. Doutor Antônio Ferreira Inocêncio, 394 - Vila Martins II CEP: 18701-510\n",
      "working - R. Fernando Correia Pires, 500 - Colina Sul II CEP: 15115-000\n",
      "working - R. Leon Gilson, 33 - Centro CEP: 12850-000\n",
      "working - R. Regina Pizza Beltrame, 126 - Jardim Panorama CEP: 17250-000\n",
      "working - R. Carlos Tozelli, 07 - COHAB Coronel José Victorino de França CEP: 17340-000\n",
      "working - R. 21 de Abril, 240 - Derby Club CEP: 14787-240\n",
      "working - R. Francisco Osaki, 90 - Conj. Albertina Fossalussa CEP: 14860-000\n",
      "working - Av. Andrômeda, 500 - Alphaville CEP: 06473-000\n",
      "working - R. Almirante Alexandrino, 622 - Centro CEP: 17690-000\n",
      "working - Av. Duque de Caxias, 16 - Higienópolis CEP: 17011-020\n",
      "working - Praça da Bandeira, 270 - Centro CEP: 18960-000\n",
      "working - Av. Tomé de Souza, 11833 - Indaiá CEP: 11250-000\n",
      "working - R. Maria Gema Melo de Oliveira, 250 - Jardim Yoneda CEP: 08940-000\n",
      "working - R. Manoel de Marins, 585 - Centro CEP: 14930-000\n",
      "working - R. 7 de Setembro, 178 - Centro CEP: 17240-000\n",
      "working - R. São Marcos, 455 - Parque Nossa Senhora das Graças CEP: 18550-000\n",
      "working - Av. Eliseu Correa Dias, 325 - Jardim Belo Horizonte CEP: 12955-000\n",
      "working - R. José Theodoro Puzzi, 515 - Vila Mariana CEP: 14955-000\n",
      "working - Praça Dom Luiz Maria de Sant'Ana, 215 - Centro CEP: 18600-311\n",
      "working - R. das Indústrias, 130 - Uberaba CEP: 12926-674\n",
      "working - Av. Barão do Rio Branco, 465 - Centro CEP: 16290-000\n",
      "working - R. Carlos Chagas, 590 - Nosa Senhora das Graças CEP: 14340-000\n",
      "working - Via das Palmas, 101 - Pinhal CEP: 13315-000\n",
      "working - R. André Santos de Oliveira Lima, 15 - Vila André Martins CEP: 12280-096\n",
      "working - R. Doutor Bernardino de Campos, 130 - Centro CEP: 12630-000\n",
      "working - Praça Coronel Gustavo Ribeiro, 92 - Caconde CEP: 13770-000\n",
      "working - Pátio da Estação - 01, S/N - Cafelândia CEP: 16500-000\n",
      "working - Praça Cláudio Manoel da Costa, S/N - Laranjeiras CEP: 07739-075\n",
      "working - R. Pedro Domingues, S/N - Centro CEP: 07750-830\n",
      "working - R. Roma, 408 - Vila Antunes CEP: 11950-000\n",
      "working - R. Olga Bernardes Zanterlini, 320 - Centro CEP: 15410-000\n",
      "working - R. Doutor Emílio Ribas, 880 - Cambuí CEP: 13025-141\n",
      "working - R. Maria do Carmo, 11 - Vila Cardoso CEP: 13230-450\n",
      "working - R. Miguel Pereira, 235 - Abernéssia CEP: 12460-000\n",
      "working - R. Bernardino de Campos, 477 - Centro CEP: 18300-040\n",
      "error - Av. Professor Castorino de Almeida, 300 - Centro CEP: 18157-000\n",
      "working - R. Antônio Ribeiro de Godoy, S/N - Capivari CEP: 13360-000\n",
      "working - R. João Marcelo, 302 - Estrela D´alva CEP: 11660-600\n",
      "working - Av. Ernestina Vieira, 149 - Vila Dirce CEP: 06382 - 260\n",
      "working - Av. Renato Pistelli, 810 - Centro CEP: 13700-000\n",
      "working - Av. Daniel Dalto, S/N - Expansão 1 CEP: 15811-044\n",
      "working - Rod. Donato Francisco Sassi, Km 5 - Macucão CEP: 18760-000\n",
      "working - Av. Corradi II, 380 - Centro CEP: 18520-000\n",
      "working - R. Camargo Barros, 1210 - Centro CEP: 18285-000\n",
      "working - R. Querubim Ferreira de Almeida, 251 - Jardim Gelsomina CEP: 13515-000\n",
      "working - R. Maestro Carlos Gomes, 399 - Centro CEP: 18970-000\n",
      "working - Praça Lamounier de Andrade, 101 - Centro CEP: 14770-000\n",
      "working - R. Álvaro Ribeiro, 287 - Centro CEP: 13835-000\n",
      "working - R. Bahia, 78 - Centro CEP: 18570-000\n",
      "working - R. Galdino de Souza Barbosa, 400 - Jardim Cordeiro CEP: 13490-000\n",
      "working - Av. da Saudade, 528 - Vila José Kalil Aun CEP: 13150-000\n",
      "working - R. Horácio Sabino Coimbra, 577 - Jardim Alvorada CEP: 14140-000\n",
      "working - Av. Antônio Prado, 3240 - Centro CEP: 14460-000\n",
      "working - R. Doutor José Rodrigues Alves Sobrinho, 191 - Vila Sueli CEP: 12711-690\n",
      "working - Av. Doutor Fernando Costa, 1096 - Costa CEP: 11510-310\n",
      "working - Ladeira Vinte de Abril, S/N - Centro CEP: 12530-000\n",
      "working - R. Lauro Michels, 30 - Centro CEP: 09910-970\n",
      "working - Av. Vasco da Gama, 164 - Jardim Arco CEP: 17300-000\n",
      "working - R. José Bustani, 600 - Jardim Paulista CEP: 13590-000\n",
      "working - Av. José Bonifácio, 267 - Vila CEP: 17900-000\n",
      "error - R. João Negri, 412 - Jd Adelaide CEP: 14120-000\n",
      "working - R. Padre Joaquim Gabriel, 161 - Centro CEP: 11960-000\n",
      "working - Av. Osvaldo Maluf, 250 - Vila Anchieta CEP: 13350-000\n",
      "working - R. Alberto Giosa, 320 - Jardim CEP: 06803-280\n",
      "working - R. Alexandre Bonin, 403 - Jardim do Sol CEP: 13165-000\n",
      "working - Praça Irmão Estevão Von Herkhnuizen, S/N - Jardim das Rosas CEP: 13990-000\n",
      "working - R. José Rodrigues dos Santos, 271 - São José II CEP: 13857-000\n",
      "working - R. Santa Maria, 60 - Vila Nossa Senhora de Fátima CEP: 18870-000\n",
      "working - Av. Litério Grecco, 300 - Jardim São Fernando CEP: 15600-000\n",
      "working - R. Verador Raimundo Antônio de Araújo, 416 - Centro CEP: 17870-000\n",
      "working - Av. dos Expedicionários, 190 - Centro CEP: 17830-000\n",
      "working - Av. Champagnat, 1808 - Centro CEP: 14400-320\n",
      "working - R. Virgílio Martins de Oliveira, 824 - Vila Heloísa CEP: 07914-043\n",
      "working - R. Cinco de Maio, 97 - Vila Maggi CEP: 07850-300\n",
      "working - R. Padre Paulo de Toledo Leite, 411 - Ferrarópolis CEP: 17400-000\n",
      "working - Alameda Serez, 495 - Centro CEP: 14813-000\n",
      "working - Av. 1A, 2000 - Conjunto Habitacional Prefeito José Pugliesi CEP: 14790-000\n",
      "working - R. Alfredo de Souza Barbeiro, 280 - Ribeirão Claro CEP: 15110-000\n",
      "working - R. João Carlos Figueiredo, 11 - Centro CEP: 14580-000\n",
      "working - Praça Oscar Baptista de Carvalho, 657 - Centro CEP: 15420-000\n",
      "working - R. José Dalla Pria, 177 - Jardim Continental CEP: 16.700-000\n",
      "working - R. Doutor Armindo, 567 - Nogueira CEP: 08900-000\n",
      "working - Praça Condessa de Frontin, 76 - Centro CEP: 12500-180\n",
      "working - R. Tiradentes, 100 - Centro CEP: 18250-000\n",
      "working - R. Rui Barbosa, 1244 - Jardim Progresso CEP: 14840-000\n",
      "working - Av. Adriano Dias dos Santos, 611 - Jardim Boa Esperança CEP: 11470-220\n",
      "working - Av. Monteiro Lobato, 734 - Macedo CEP: 07112-000\n",
      "working - R. XV de Novembro, 331 - Centro CEP: 17650-000\n",
      "working - R. Capitão Lourival Mey, 750 - Jardim Santana CEP: 13184-470\n",
      "working - R. Antonio Trentim, 263 - Jardim Paraíso CEP: 17180-000\n",
      "working - R. Ibirá, 896 - Centro CEP: 15860-000\n",
      "working - R. Capitão João Marques, 80 - Marques CEP: 14940-000\n",
      "working - R. Raimundo Santiago, 30 2º piso - Centro CEP: 18150-000\n",
      "working - R. Virgílio Tuschi, 200 - Cohab CEP: 17350-000\n",
      "working - R. Azarias Arantes, S/N - Prédio PUAMI CEP: 14540-000\n",
      "working - R. José de Souza Palau, S/N - Jardim Rosa Helena CEP: 12350-000\n",
      "working - Rod. Prefeito Casemiro Teixeira, 450 - Teixeira CEP: 11920-000\n",
      "working - R. Bermudas, 531 - Balneário Monte Carlo CEP: 11925-000\n",
      "working - R. Parati, 513 - Zona Sul CEP: 15385-000\n"
     ]
    },
    {
     "name": "stdout",
     "output_type": "stream",
     "text": [
      "working - Av. Professor Malaquias de Oliveira Freitas, 95 - Barra Velha CEP: 11630-000\n",
      "working - R. Dom Pedro I, 65 - Cidade Nova CEP: 13334-100\n",
      "working - R. Domingos Fernandes, 240 - Centro CEP: 18950-000\n",
      "working - R. Luiz Rossi, 107 - Jardim Irene CEP: 18560-000\n",
      "working - R. Araripe Custódio da Fonseca, 775 - Altos de Ipeúna CEP: 13537-000\n",
      "working - R. Pedro Silva, S/N - Centro CEP: 18330-000\n",
      "working - R. Josephina Silva Melo, 365 - Centro CEP: 18440-000\n",
      "working - R. Abílio Raposo Ferraz, 405 - Vila Jardim Brasil CEP: 18730-000\n",
      "working - R. Cincinato Braga, 240 - Centro CEP: 15840-000\n",
      "working - R. Antonio de Antonio, 70 - Centro CEP: 17260-000\n",
      "working - Av. Condessa de Vimieiros, 1131 - Centro CEP: 11740-000\n",
      "error - R. Sete de Setembro, 11 - Centro CEP: 18360-000\n",
      "working - R. São João, 47 - Centro CEP: 06850-060\n",
      "working - Av. Dr Cyro de Albuquerque, 4750 - Taboãozinho CEP: 18213-615\n",
      "working - R. Lucas de Camargo, 419 - Camargo CEP: 18400-340\n",
      "working - R. Professor Irineu Chaluppe, 65 - Chaluppe CEP: 06653-180\n",
      "working - R. Rodrigues Alves, 1703 - Cecap CEP: 14900-000\n",
      "working - R. João Scotti Siqueira, 535 - Vila Alvorada CEP: 18480-000\n",
      "working - Av. Paes de Barros, 262 - Centro CEP: 17.230-000\n",
      "working - R. MMDC, 92 - Centro CEP: 08570-007\n",
      "working - R. 28 de Agosto, 405 - Centro CEP: 18460-000\n",
      "working - R. Nabe Kian, 60 - Continental CEP: 11760-000\n",
      "working - Av. Urbano Bezana, S/N - Porto Seguro CEP: 13255-650\n",
      "working - Av. Tiradentes, 1211 - Parque CEP: 13309-640\n",
      "working - R. Mairinque, 715 - Residencial Pacaembú I CEP: 13295-000\n",
      "working - R. Xaraies, 50 - Jardim Marajoara CEP: 14500-000\n",
      "working - R. General Osório, 215 - Centro CEP: 14870-050\n",
      "working - R. Faria Lima, 155 - Jardim Santa Maria CEP: 12328-070\n",
      "working - Av. 23 de Junho, 649 - Vila Elias CEP: 11940-000\n",
      "working - R. Bahia, 140 - Jardim São João CEP: 13911-454\n",
      "working - R. Coronel Batista, 267 - Centro CEP: 12270-000\n",
      "working - R. Francisco de Araujo Chaves, 120 - Araujo CEP: 06626-020\n",
      "working - R. Quintino Bocaiuva, 532 - Centro CEP: 17201-470\n",
      "working - Av. Nove de Julho, 170 - Centro CEP: 15200-000\n",
      "working - R. Rio Grande do Sul, 120 - Parque Nacional CEP: 11800-000\n",
      "working - Av. Juscelino Kubitschek de Oliveira, 90 - Centro CEP: 06950-000\n",
      "working - R. Agostinho Ribeiro dos Santos, 230 - Centro CEP: 12130-000\n",
      "working - R. General Osório, 50 - Centro CEP: 18500-000\n",
      "working - R. Emílio Violin, 194 - Bela Vista CEP: 13611-412\n",
      "working - Av. Lázaro Brigido Dutra, 2000 - Jardim Ibaté CEP: 18682-335\n",
      "working - R. Piauí, 472 - Vila Cláudia CEP: 13480-406\n",
      "working - Estrada Mário Covas Junior (Lins Guaimbê), km 1 - Vila Guararapes CEP: 16403-025\n",
      "error - Av. São José, 150 - Vila Buck CEP: 12600-560\n",
      "working - R. Pasquel Dinofre, 82 - Santo Antônio CEP: 13290-000\n",
      "working - R. Eduardo Rapacci, 475 - Centro CEP: 17780-000\n",
      "working - Av. Independência, 369 - Centro CEP: 14210-000\n",
      "working - R. Capitão Salvador Mariano de Pontes, 160 - Centro CEP: 17290-000\n",
      "working - Av. Doutor Ricardo Gaspar Júnior, 172 - Centro CEP: 18120-000\n",
      "working - Av. Tabelião Passarela, 850 - Centro CEP: 07600-000\n"
     ]
    }
   ],
   "source": [
    "from key_google import *  \n",
    "for address in polos['endereco']:   \n",
    "    gmaps = googlemaps.Client(key=key)\n",
    "    try:\n",
    "        geocode_result = gmaps.geocode(address)\n",
    "        lat = geocode_result[0]['geometry']['location']['lat']\n",
    "        lng = geocode_result[0]['geometry']['location']['lng']\n",
    "        distance = gmaps.distance_matrix([str(lat_home) + \" \" + \\\n",
    "                                  str(lng_home)], \\\n",
    "                                 [str(lat) + \" \" + \\\n",
    "                                  str(lng)])['rows'][0]['elements'][0]['distance']['value']\n",
    "        \n",
    "        polos.loc[polos['endereco']==address,'lat'] = lat\n",
    "        polos.loc[polos['endereco']==address,'lng'] = lng\n",
    "        polos.loc[polos['endereco']==address,'distance'] = distance\n",
    "        print('working - ' + address)\n",
    "\n",
    "    except:\n",
    "        print('error - ' + address)\n",
    "        pass"
   ]
  },
  {
   "cell_type": "code",
   "execution_count": null,
   "metadata": {
    "ExecuteTime": {
     "end_time": "2020-01-10T23:08:34.631377Z",
     "start_time": "2020-01-10T23:08:32.084Z"
    }
   },
   "outputs": [],
   "source": [
    "polos.sample(5)"
   ]
  },
  {
   "cell_type": "code",
   "execution_count": null,
   "metadata": {
    "ExecuteTime": {
     "end_time": "2020-01-10T23:08:34.633937Z",
     "start_time": "2020-01-10T23:08:32.087Z"
    }
   },
   "outputs": [],
   "source": [
    "polos.to_csv('polos.csv')"
   ]
  },
  {
   "cell_type": "code",
   "execution_count": null,
   "metadata": {},
   "outputs": [],
   "source": []
  },
  {
   "cell_type": "code",
   "execution_count": null,
   "metadata": {},
   "outputs": [],
   "source": []
  },
  {
   "cell_type": "code",
   "execution_count": null,
   "metadata": {},
   "outputs": [],
   "source": []
  }
 ],
 "metadata": {
  "kernelspec": {
   "display_name": "Python 3",
   "language": "python",
   "name": "python3"
  },
  "language_info": {
   "codemirror_mode": {
    "name": "ipython",
    "version": 3
   },
   "file_extension": ".py",
   "mimetype": "text/x-python",
   "name": "python",
   "nbconvert_exporter": "python",
   "pygments_lexer": "ipython3",
   "version": "3.6.4"
  },
  "toc": {
   "base_numbering": 1,
   "nav_menu": {},
   "number_sections": true,
   "sideBar": true,
   "skip_h1_title": false,
   "title_cell": "Table of Contents",
   "title_sidebar": "Contents",
   "toc_cell": false,
   "toc_position": {},
   "toc_section_display": true,
   "toc_window_display": false
  },
  "varInspector": {
   "cols": {
    "lenName": 16,
    "lenType": 16,
    "lenVar": 40
   },
   "kernels_config": {
    "python": {
     "delete_cmd_postfix": "",
     "delete_cmd_prefix": "del ",
     "library": "var_list.py",
     "varRefreshCmd": "print(var_dic_list())"
    },
    "r": {
     "delete_cmd_postfix": ") ",
     "delete_cmd_prefix": "rm(",
     "library": "var_list.r",
     "varRefreshCmd": "cat(var_dic_list()) "
    }
   },
   "types_to_exclude": [
    "module",
    "function",
    "builtin_function_or_method",
    "instance",
    "_Feature"
   ],
   "window_display": false
  }
 },
 "nbformat": 4,
 "nbformat_minor": 2
}
