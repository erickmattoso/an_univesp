{
 "cells": [
  {
   "cell_type": "code",
   "execution_count": 1,
   "metadata": {
    "ExecuteTime": {
     "end_time": "2019-12-10T17:59:07.367072Z",
     "start_time": "2019-12-10T17:59:06.576523Z"
    }
   },
   "outputs": [],
   "source": [
    "import PyPDF2\n",
    "import pandas as pd"
   ]
  },
  {
   "cell_type": "markdown",
   "metadata": {},
   "source": [
    "https://www.vunesp.com.br/UVSP1801"
   ]
  },
  {
   "cell_type": "code",
   "execution_count": 2,
   "metadata": {
    "ExecuteTime": {
     "end_time": "2019-12-10T17:59:07.388012Z",
     "start_time": "2019-12-10T17:59:07.369739Z"
    }
   },
   "outputs": [],
   "source": [
    "def chamadas(file):\n",
    "    fileReader = PyPDF2.PdfFileReader(file)\n",
    "    num_pages = fileReader.numPages\n",
    "    dataframe_futuro = []\n",
    "    for i in range(num_pages):\n",
    "        pageObj = fileReader.getPage(i)\n",
    "        dataframe_futuro.append((pageObj.extractText()))\n",
    "    return dataframe_futuro"
   ]
  },
  {
   "cell_type": "code",
   "execution_count": 3,
   "metadata": {
    "ExecuteTime": {
     "end_time": "2019-12-10T17:59:07.440973Z",
     "start_time": "2019-12-10T17:59:07.392222Z"
    }
   },
   "outputs": [],
   "source": [
    "def testeando(file,string_header,string_split1,string_split2):\n",
    "    dataframe_futuro = chamadas(file)\n",
    "    df = pd.DataFrame(dataframe_futuro)\n",
    "    df[0] = df[0].str.replace(string_header,'')\n",
    "    df_eng = df[df[0].str.contains('Engenharia de Computação')]\n",
    "    df_eng  = df_eng[0].str.split(string_split1, expand = True)\n",
    "\n",
    "    if string_split2!=None:\n",
    "        df_eng2 = df_eng[1].str.split(string_split2, expand = True)\n",
    "        final = pd.concat([df_eng, df_eng2], axis=1).reset_index(drop=True)\n",
    "        final.columns = ['polo',  'info1',  'info2', 'candidatos']\n",
    "\n",
    "    else:\n",
    "        final = df_eng\n",
    "        final.columns = ['polo', 'candidatos']\n",
    "\n",
    "    final = final[['polo', 'candidatos']]\n",
    "    final2 = final['candidatos'].str.split('\\n', expand = True)\n",
    "    final3 = pd.concat([final, final2], axis=1).reset_index(drop=True).drop(['candidatos'], axis=1).set_index('polo')\n",
    "    return final3.count(axis=1)"
   ]
  },
  {
   "cell_type": "code",
   "execution_count": 4,
   "metadata": {
    "ExecuteTime": {
     "end_time": "2019-12-10T17:59:08.349400Z",
     "start_time": "2019-12-10T17:59:07.444428Z"
    }
   },
   "outputs": [
    {
     "data": {
      "text/plain": [
       "polo\n",
       "RIBEIRAO PIRES            2\n",
       "PEDERNEIRAS               2\n",
       "ITABERA                   3\n",
       "ITAPEVI                   4\n",
       "BARUERI                   4\n",
       "OSASCO                    4\n",
       "ITAPECERICA DA SERRA      4\n",
       "SERRANA                   5\n",
       "SALTO                     5\n",
       "ITAPETININGA              5\n",
       "TREMEMBE                  5\n",
       "CAMPINAS                  5\n",
       "PIRACICABA                6\n",
       "PITANGUEIRAS              6\n",
       "CAIEIRAS                  6\n",
       "IBIUNA                    6\n",
       "ARARAQUARA                6\n",
       "PRESIDENTE PRUDENTE       7\n",
       "BOITUVA                   7\n",
       "TAUBATE                   8\n",
       "CAPAO BONITO              8\n",
       "SAO JOSE DOS CAMPOS       8\n",
       "FRANCA                    9\n",
       "SAO BERNARDO DO CAMPO     9\n",
       "GUARULHOS                48\n",
       "dtype: int64"
      ]
     },
     "execution_count": 4,
     "metadata": {},
     "output_type": "execute_result"
    }
   ],
   "source": [
    "file = open('2_chamada.pdf', 'rb')\n",
    "string_header ='Convocação para Matrícula 2ª ChamadaUNIVESP - Processo Seletivo 2º. Semestre 2018\\nUniversidade Virtual Estado de São Paulo\\n'\n",
    "string_split1 = ' - Engenharia de Computação'\n",
    "string_split2 = None\n",
    "\n",
    "chamada_2 = testeando(file,string_header,string_split1,string_split2).sort_values()\n",
    "chamada_2"
   ]
  },
  {
   "cell_type": "code",
   "execution_count": 5,
   "metadata": {
    "ExecuteTime": {
     "end_time": "2019-12-10T17:59:08.665040Z",
     "start_time": "2019-12-10T17:59:08.354177Z"
    }
   },
   "outputs": [
    {
     "data": {
      "text/plain": [
       "polo\n",
       "CAIEIRAS                  1\n",
       "ARARAQUARA                2\n",
       "BARUERI                   2\n",
       "FRANCA                    2\n",
       "ITAPECERICA DA SERRA      2\n",
       "ITAPEVI                   2\n",
       "PIRACICABA                2\n",
       "SALTO                     2\n",
       "SAO BERNARDO DO CAMPO     2\n",
       "SAO JOSE DOS CAMPOS       2\n",
       "TREMEMBE                  2\n",
       "GUARULHOS                13\n",
       "dtype: int64"
      ]
     },
     "execution_count": 5,
     "metadata": {},
     "output_type": "execute_result"
    }
   ],
   "source": [
    "file = open('3_chamada.pdf', 'rb')\n",
    "string_header='Convocação para Matrícula 3ª Chamada - 1ª Opção de PoloUNIVESP - Processo Seletivo 2º. Semestre 2018\\nUniversidade Virtual Estado de São Paulo\\n'\n",
    "string_split1= ' - Engenharia de Computação'\n",
    "string_split2= ' orientações.'\n",
    "\n",
    "chamada_3 = testeando(file,string_header,string_split1,string_split2).sort_values()\n",
    "chamada_3"
   ]
  },
  {
   "cell_type": "code",
   "execution_count": 6,
   "metadata": {
    "ExecuteTime": {
     "end_time": "2019-12-10T17:59:09.869782Z",
     "start_time": "2019-12-10T17:59:08.670311Z"
    }
   },
   "outputs": [
    {
     "data": {
      "text/plain": [
       "polo\n",
       "FERNANDOPOLIS                   3\n",
       "ANDRADINA                       4\n",
       "REDENCAO DA SERRA               4\n",
       "PERUIBE                         4\n",
       "OURINHOS                        4\n",
       "SAO VICENTE - INSULAR           4\n",
       "JOSE BONIFACIO                  4\n",
       "ITAJOBI                         4\n",
       "SAO VICENTE - QUARENTENARIO     4\n",
       "CRUZEIRO                        4\n",
       "CAMPOS DO JORDAO                4\n",
       "CUBATAO                         4\n",
       "IGARATA                         5\n",
       "ITAPETININGA                    5\n",
       "LUCELIA                         6\n",
       "CERQUEIRA CESAR                 6\n",
       "SAO JOAO DA BOA VISTA           7\n",
       "PITANGUEIRAS                    7\n",
       "MORRO AGUDO                     7\n",
       "SANTANA DE PARNAIBA             8\n",
       "MAIRIPORA                       8\n",
       "PRESIDENTE EPITACIO             8\n",
       "CAJAMAR                         8\n",
       "AVARE                           9\n",
       "IGARACU DO TIETE                9\n",
       "BRAGANCA PAULISTA              10\n",
       "JUQUITIBA                      11\n",
       "JANDIRA                        13\n",
       "MAUA                           19\n",
       "MONTE MOR                      20\n",
       "PRESIDENTE VENCESLAU           24\n",
       "MAUA                           79\n",
       "MAUA                           81\n",
       "dtype: int64"
      ]
     },
     "execution_count": 6,
     "metadata": {},
     "output_type": "execute_result"
    }
   ],
   "source": [
    "file = open('3_chamada_polo.pdf', 'rb')\n",
    "string_header= 'Convocação para Matrícula 3ª Chamada - 2ª Opção de PoloUNIVESP - Processo Seletivo 2º. Semestre 2018\\nUniversidade Virtual Estado de São Paulo\\n'\n",
    "string_split1= ' - Engenharia de Computação'\n",
    "string_split2= None\n",
    "chamada_polo_3 = testeando(file,string_header,string_split1,string_split2).sort_values()\n",
    "chamada_polo_3"
   ]
  },
  {
   "cell_type": "code",
   "execution_count": 7,
   "metadata": {
    "ExecuteTime": {
     "end_time": "2019-12-10T17:59:09.981166Z",
     "start_time": "2019-12-10T17:59:09.874805Z"
    }
   },
   "outputs": [
    {
     "data": {
      "text/html": [
       "<div>\n",
       "<style scoped>\n",
       "    .dataframe tbody tr th:only-of-type {\n",
       "        vertical-align: middle;\n",
       "    }\n",
       "\n",
       "    .dataframe tbody tr th {\n",
       "        vertical-align: top;\n",
       "    }\n",
       "\n",
       "    .dataframe thead th {\n",
       "        text-align: right;\n",
       "    }\n",
       "</style>\n",
       "<table border=\"1\" class=\"dataframe\">\n",
       "  <thead>\n",
       "    <tr style=\"text-align: right;\">\n",
       "      <th></th>\n",
       "      <th>polo</th>\n",
       "      <th>0</th>\n",
       "    </tr>\n",
       "  </thead>\n",
       "  <tbody>\n",
       "    <tr>\n",
       "      <th>0</th>\n",
       "      <td>RIBEIRAO PIRES</td>\n",
       "      <td>2</td>\n",
       "    </tr>\n",
       "    <tr>\n",
       "      <th>1</th>\n",
       "      <td>PEDERNEIRAS</td>\n",
       "      <td>2</td>\n",
       "    </tr>\n",
       "    <tr>\n",
       "      <th>2</th>\n",
       "      <td>ITABERA</td>\n",
       "      <td>3</td>\n",
       "    </tr>\n",
       "    <tr>\n",
       "      <th>3</th>\n",
       "      <td>ITAPEVI</td>\n",
       "      <td>4</td>\n",
       "    </tr>\n",
       "    <tr>\n",
       "      <th>4</th>\n",
       "      <td>BARUERI</td>\n",
       "      <td>4</td>\n",
       "    </tr>\n",
       "  </tbody>\n",
       "</table>\n",
       "</div>"
      ],
      "text/plain": [
       "             polo  0\n",
       "0  RIBEIRAO PIRES  2\n",
       "1     PEDERNEIRAS  2\n",
       "2         ITABERA  3\n",
       "3         ITAPEVI  4\n",
       "4         BARUERI  4"
      ]
     },
     "execution_count": 7,
     "metadata": {},
     "output_type": "execute_result"
    }
   ],
   "source": [
    "pd.DataFrame(chamada_2).to_csv('chamada_2.csv')\n",
    "pd.read_csv('chamada_2.csv').head()"
   ]
  },
  {
   "cell_type": "code",
   "execution_count": 8,
   "metadata": {
    "ExecuteTime": {
     "end_time": "2019-12-10T17:59:10.056845Z",
     "start_time": "2019-12-10T17:59:09.991456Z"
    }
   },
   "outputs": [
    {
     "data": {
      "text/html": [
       "<div>\n",
       "<style scoped>\n",
       "    .dataframe tbody tr th:only-of-type {\n",
       "        vertical-align: middle;\n",
       "    }\n",
       "\n",
       "    .dataframe tbody tr th {\n",
       "        vertical-align: top;\n",
       "    }\n",
       "\n",
       "    .dataframe thead th {\n",
       "        text-align: right;\n",
       "    }\n",
       "</style>\n",
       "<table border=\"1\" class=\"dataframe\">\n",
       "  <thead>\n",
       "    <tr style=\"text-align: right;\">\n",
       "      <th></th>\n",
       "      <th>polo</th>\n",
       "      <th>0</th>\n",
       "    </tr>\n",
       "  </thead>\n",
       "  <tbody>\n",
       "    <tr>\n",
       "      <th>0</th>\n",
       "      <td>CAIEIRAS</td>\n",
       "      <td>1</td>\n",
       "    </tr>\n",
       "    <tr>\n",
       "      <th>1</th>\n",
       "      <td>ARARAQUARA</td>\n",
       "      <td>2</td>\n",
       "    </tr>\n",
       "    <tr>\n",
       "      <th>2</th>\n",
       "      <td>BARUERI</td>\n",
       "      <td>2</td>\n",
       "    </tr>\n",
       "    <tr>\n",
       "      <th>3</th>\n",
       "      <td>FRANCA</td>\n",
       "      <td>2</td>\n",
       "    </tr>\n",
       "    <tr>\n",
       "      <th>4</th>\n",
       "      <td>ITAPECERICA DA SERRA</td>\n",
       "      <td>2</td>\n",
       "    </tr>\n",
       "  </tbody>\n",
       "</table>\n",
       "</div>"
      ],
      "text/plain": [
       "                   polo  0\n",
       "0              CAIEIRAS  1\n",
       "1            ARARAQUARA  2\n",
       "2               BARUERI  2\n",
       "3                FRANCA  2\n",
       "4  ITAPECERICA DA SERRA  2"
      ]
     },
     "execution_count": 8,
     "metadata": {},
     "output_type": "execute_result"
    }
   ],
   "source": [
    "pd.DataFrame(chamada_3).to_csv('chamada_3.csv')\n",
    "pd.read_csv('chamada_3.csv').head()"
   ]
  },
  {
   "cell_type": "code",
   "execution_count": 10,
   "metadata": {
    "ExecuteTime": {
     "end_time": "2019-12-10T18:01:33.816796Z",
     "start_time": "2019-12-10T18:01:33.779263Z"
    }
   },
   "outputs": [
    {
     "data": {
      "text/html": [
       "<div>\n",
       "<style scoped>\n",
       "    .dataframe tbody tr th:only-of-type {\n",
       "        vertical-align: middle;\n",
       "    }\n",
       "\n",
       "    .dataframe tbody tr th {\n",
       "        vertical-align: top;\n",
       "    }\n",
       "\n",
       "    .dataframe thead th {\n",
       "        text-align: right;\n",
       "    }\n",
       "</style>\n",
       "<table border=\"1\" class=\"dataframe\">\n",
       "  <thead>\n",
       "    <tr style=\"text-align: right;\">\n",
       "      <th></th>\n",
       "      <th>polo</th>\n",
       "      <th>0</th>\n",
       "    </tr>\n",
       "  </thead>\n",
       "  <tbody>\n",
       "    <tr>\n",
       "      <th>0</th>\n",
       "      <td>FERNANDOPOLIS</td>\n",
       "      <td>3</td>\n",
       "    </tr>\n",
       "    <tr>\n",
       "      <th>1</th>\n",
       "      <td>ANDRADINA</td>\n",
       "      <td>4</td>\n",
       "    </tr>\n",
       "    <tr>\n",
       "      <th>2</th>\n",
       "      <td>REDENCAO DA SERRA</td>\n",
       "      <td>4</td>\n",
       "    </tr>\n",
       "    <tr>\n",
       "      <th>3</th>\n",
       "      <td>PERUIBE</td>\n",
       "      <td>4</td>\n",
       "    </tr>\n",
       "    <tr>\n",
       "      <th>4</th>\n",
       "      <td>OURINHOS</td>\n",
       "      <td>4</td>\n",
       "    </tr>\n",
       "  </tbody>\n",
       "</table>\n",
       "</div>"
      ],
      "text/plain": [
       "                polo  0\n",
       "0      FERNANDOPOLIS  3\n",
       "1          ANDRADINA  4\n",
       "2  REDENCAO DA SERRA  4\n",
       "3            PERUIBE  4\n",
       "4           OURINHOS  4"
      ]
     },
     "execution_count": 10,
     "metadata": {},
     "output_type": "execute_result"
    }
   ],
   "source": [
    "pd.DataFrame(chamada_polo_3).to_csv('chamada_polo_3.csv')\n",
    "pd.read_csv('chamada_polo_3.csv').head()"
   ]
  }
 ],
 "metadata": {
  "kernelspec": {
   "display_name": "Python 3",
   "language": "python",
   "name": "python3"
  },
  "language_info": {
   "codemirror_mode": {
    "name": "ipython",
    "version": 3
   },
   "file_extension": ".py",
   "mimetype": "text/x-python",
   "name": "python",
   "nbconvert_exporter": "python",
   "pygments_lexer": "ipython3",
   "version": "3.6.4"
  },
  "toc": {
   "base_numbering": 1,
   "nav_menu": {},
   "number_sections": true,
   "sideBar": true,
   "skip_h1_title": false,
   "title_cell": "Table of Contents",
   "title_sidebar": "Contents",
   "toc_cell": false,
   "toc_position": {},
   "toc_section_display": true,
   "toc_window_display": false
  },
  "varInspector": {
   "cols": {
    "lenName": 16,
    "lenType": 16,
    "lenVar": 40
   },
   "kernels_config": {
    "python": {
     "delete_cmd_postfix": "",
     "delete_cmd_prefix": "del ",
     "library": "var_list.py",
     "varRefreshCmd": "print(var_dic_list())"
    },
    "r": {
     "delete_cmd_postfix": ") ",
     "delete_cmd_prefix": "rm(",
     "library": "var_list.r",
     "varRefreshCmd": "cat(var_dic_list()) "
    }
   },
   "types_to_exclude": [
    "module",
    "function",
    "builtin_function_or_method",
    "instance",
    "_Feature"
   ],
   "window_display": false
  }
 },
 "nbformat": 4,
 "nbformat_minor": 2
}
