{
 "cells": [
  {
   "cell_type": "code",
   "execution_count": 1,
   "metadata": {
    "ExecuteTime": {
     "end_time": "2019-12-08T22:19:15.941127Z",
     "start_time": "2019-12-08T22:19:15.167545Z"
    }
   },
   "outputs": [],
   "source": [
    "import pandas as pd"
   ]
  },
  {
   "cell_type": "code",
   "execution_count": 2,
   "metadata": {
    "ExecuteTime": {
     "end_time": "2019-12-08T22:19:15.972292Z",
     "start_time": "2019-12-08T22:19:15.944446Z"
    }
   },
   "outputs": [],
   "source": [
    "cep = pd.read_csv('cep.csv', sep=\";\")"
   ]
  },
  {
   "cell_type": "code",
   "execution_count": 3,
   "metadata": {
    "ExecuteTime": {
     "end_time": "2019-12-08T22:19:16.040401Z",
     "start_time": "2019-12-08T22:19:15.976434Z"
    }
   },
   "outputs": [
    {
     "data": {
      "text/html": [
       "<div>\n",
       "<style scoped>\n",
       "    .dataframe tbody tr th:only-of-type {\n",
       "        vertical-align: middle;\n",
       "    }\n",
       "\n",
       "    .dataframe tbody tr th {\n",
       "        vertical-align: top;\n",
       "    }\n",
       "\n",
       "    .dataframe thead th {\n",
       "        text-align: right;\n",
       "    }\n",
       "</style>\n",
       "<table border=\"1\" class=\"dataframe\">\n",
       "  <thead>\n",
       "    <tr style=\"text-align: right;\">\n",
       "      <th></th>\n",
       "      <th>POLO</th>\n",
       "      <th>ENDEREÇO</th>\n",
       "      <th>NUMERO_BAIRRO</th>\n",
       "      <th>CEP</th>\n",
       "      <th>NUMERO</th>\n",
       "      <th>BAIRRO</th>\n",
       "      <th>CIDADE</th>\n",
       "    </tr>\n",
       "  </thead>\n",
       "  <tbody>\n",
       "    <tr>\n",
       "      <th>0</th>\n",
       "      <td>ADAMANTINA</td>\n",
       "      <td>ALAMEDA DOS EXPEDICIONÁRIOS</td>\n",
       "      <td>864 - CENTRO</td>\n",
       "      <td>17800-000</td>\n",
       "      <td>864</td>\n",
       "      <td>CENTRO</td>\n",
       "      <td>ADAMANTINA</td>\n",
       "    </tr>\n",
       "    <tr>\n",
       "      <th>1</th>\n",
       "      <td>AGUAÍ</td>\n",
       "      <td>AV. OLINDA SILVEIRA CRUZ BRAGA</td>\n",
       "      <td>200 - PARQUE INTERLAGOS</td>\n",
       "      <td>13860-000</td>\n",
       "      <td>200</td>\n",
       "      <td>PARQUE INTERLAGOS</td>\n",
       "      <td>AGUAÍ</td>\n",
       "    </tr>\n",
       "    <tr>\n",
       "      <th>2</th>\n",
       "      <td>AGUDOS</td>\n",
       "      <td>R. JOÃO PESSOA</td>\n",
       "      <td>2 - PROFESSOR SIMÕES</td>\n",
       "      <td>17120-000</td>\n",
       "      <td>2</td>\n",
       "      <td>PROFESSOR SIMÕES</td>\n",
       "      <td>AGUDOS</td>\n",
       "    </tr>\n",
       "    <tr>\n",
       "      <th>3</th>\n",
       "      <td>ALTINÓPOLIS</td>\n",
       "      <td>R. ALAGOAS</td>\n",
       "      <td>248 - VILA MARIA</td>\n",
       "      <td>14350-000</td>\n",
       "      <td>248</td>\n",
       "      <td>VILA MARIA</td>\n",
       "      <td>ALTINÓPOLIS</td>\n",
       "    </tr>\n",
       "    <tr>\n",
       "      <th>4</th>\n",
       "      <td>ALUMÍNIO</td>\n",
       "      <td>AV. SENADOR JOSÉ ERMÍRIO DE MORAES</td>\n",
       "      <td>798 - VILA INDUSTRIAL</td>\n",
       "      <td>18125-000</td>\n",
       "      <td>798</td>\n",
       "      <td>VILA INDUSTRIAL</td>\n",
       "      <td>ALUMÍNIO</td>\n",
       "    </tr>\n",
       "  </tbody>\n",
       "</table>\n",
       "</div>"
      ],
      "text/plain": [
       "          POLO                            ENDEREÇO             NUMERO_BAIRRO  \\\n",
       "0   ADAMANTINA         ALAMEDA DOS EXPEDICIONÁRIOS              864 - CENTRO   \n",
       "1        AGUAÍ      AV. OLINDA SILVEIRA CRUZ BRAGA   200 - PARQUE INTERLAGOS   \n",
       "2       AGUDOS                      R. JOÃO PESSOA      2 - PROFESSOR SIMÕES   \n",
       "3  ALTINÓPOLIS                          R. ALAGOAS          248 - VILA MARIA   \n",
       "4     ALUMÍNIO  AV. SENADOR JOSÉ ERMÍRIO DE MORAES     798 - VILA INDUSTRIAL   \n",
       "\n",
       "         CEP NUMERO             BAIRRO       CIDADE  \n",
       "0  17800-000    864             CENTRO   ADAMANTINA  \n",
       "1  13860-000    200  PARQUE INTERLAGOS        AGUAÍ  \n",
       "2  17120-000      2   PROFESSOR SIMÕES       AGUDOS  \n",
       "3  14350-000    248         VILA MARIA  ALTINÓPOLIS  \n",
       "4  18125-000    798    VILA INDUSTRIAL     ALUMÍNIO  "
      ]
     },
     "execution_count": 3,
     "metadata": {},
     "output_type": "execute_result"
    }
   ],
   "source": [
    "cep[\"NUMERO\"] = cep[\"NUMERO_BAIRRO\"].str.split(\" - \", n = 1, expand = True)[0]\n",
    "cep[\"BAIRRO\"] = cep[\"NUMERO_BAIRRO\"].str.split(\" - \", n = 1, expand = True)[1]\n",
    "cep[\"CIDADE\"] = cep[\"POLO\"].str.split(\" - \", n = 1, expand = True)[0]\n",
    "cep.head()"
   ]
  },
  {
   "cell_type": "code",
   "execution_count": 4,
   "metadata": {
    "ExecuteTime": {
     "end_time": "2019-12-08T22:19:16.075351Z",
     "start_time": "2019-12-08T22:19:16.045213Z"
    }
   },
   "outputs": [
    {
     "data": {
      "text/html": [
       "<div>\n",
       "<style scoped>\n",
       "    .dataframe tbody tr th:only-of-type {\n",
       "        vertical-align: middle;\n",
       "    }\n",
       "\n",
       "    .dataframe tbody tr th {\n",
       "        vertical-align: top;\n",
       "    }\n",
       "\n",
       "    .dataframe thead th {\n",
       "        text-align: right;\n",
       "    }\n",
       "</style>\n",
       "<table border=\"1\" class=\"dataframe\">\n",
       "  <thead>\n",
       "    <tr style=\"text-align: right;\">\n",
       "      <th></th>\n",
       "      <th>POLO</th>\n",
       "      <th>VAGAS</th>\n",
       "    </tr>\n",
       "  </thead>\n",
       "  <tbody>\n",
       "    <tr>\n",
       "      <th>0</th>\n",
       "      <td>ADAMANTINA</td>\n",
       "      <td>10</td>\n",
       "    </tr>\n",
       "    <tr>\n",
       "      <th>1</th>\n",
       "      <td>AGUAÍ</td>\n",
       "      <td>10</td>\n",
       "    </tr>\n",
       "    <tr>\n",
       "      <th>2</th>\n",
       "      <td>AGUDOS</td>\n",
       "      <td>10</td>\n",
       "    </tr>\n",
       "    <tr>\n",
       "      <th>3</th>\n",
       "      <td>ALTINÓPOLIS</td>\n",
       "      <td>10</td>\n",
       "    </tr>\n",
       "    <tr>\n",
       "      <th>4</th>\n",
       "      <td>ALUMÍNIO</td>\n",
       "      <td>10</td>\n",
       "    </tr>\n",
       "  </tbody>\n",
       "</table>\n",
       "</div>"
      ],
      "text/plain": [
       "          POLO   VAGAS\n",
       "0   ADAMANTINA      10\n",
       "1        AGUAÍ      10\n",
       "2       AGUDOS      10\n",
       "3  ALTINÓPOLIS      10\n",
       "4     ALUMÍNIO      10"
      ]
     },
     "execution_count": 4,
     "metadata": {},
     "output_type": "execute_result"
    }
   ],
   "source": [
    "vagas = pd.read_csv('vagas.csv', sep=\";\")\n",
    "vagas = vagas[['POLO', ' VAGAS']]\n",
    "vagas.head()"
   ]
  },
  {
   "cell_type": "code",
   "execution_count": 5,
   "metadata": {
    "ExecuteTime": {
     "end_time": "2019-12-08T22:19:16.114418Z",
     "start_time": "2019-12-08T22:19:16.079629Z"
    }
   },
   "outputs": [
    {
     "data": {
      "text/html": [
       "<div>\n",
       "<style scoped>\n",
       "    .dataframe tbody tr th:only-of-type {\n",
       "        vertical-align: middle;\n",
       "    }\n",
       "\n",
       "    .dataframe tbody tr th {\n",
       "        vertical-align: top;\n",
       "    }\n",
       "\n",
       "    .dataframe thead th {\n",
       "        text-align: right;\n",
       "    }\n",
       "</style>\n",
       "<table border=\"1\" class=\"dataframe\">\n",
       "  <thead>\n",
       "    <tr style=\"text-align: right;\">\n",
       "      <th></th>\n",
       "      <th>POLO</th>\n",
       "      <th>ENDEREÇO</th>\n",
       "      <th>NUMERO_BAIRRO</th>\n",
       "      <th>CEP</th>\n",
       "      <th>NUMERO</th>\n",
       "      <th>BAIRRO</th>\n",
       "      <th>CIDADE</th>\n",
       "      <th>VAGAS</th>\n",
       "    </tr>\n",
       "  </thead>\n",
       "  <tbody>\n",
       "    <tr>\n",
       "      <th>0</th>\n",
       "      <td>ADAMANTINA</td>\n",
       "      <td>ALAMEDA DOS EXPEDICIONÁRIOS</td>\n",
       "      <td>864 - CENTRO</td>\n",
       "      <td>17800-000</td>\n",
       "      <td>864</td>\n",
       "      <td>CENTRO</td>\n",
       "      <td>ADAMANTINA</td>\n",
       "      <td>10</td>\n",
       "    </tr>\n",
       "    <tr>\n",
       "      <th>1</th>\n",
       "      <td>AGUAÍ</td>\n",
       "      <td>AV. OLINDA SILVEIRA CRUZ BRAGA</td>\n",
       "      <td>200 - PARQUE INTERLAGOS</td>\n",
       "      <td>13860-000</td>\n",
       "      <td>200</td>\n",
       "      <td>PARQUE INTERLAGOS</td>\n",
       "      <td>AGUAÍ</td>\n",
       "      <td>10</td>\n",
       "    </tr>\n",
       "    <tr>\n",
       "      <th>2</th>\n",
       "      <td>AGUDOS</td>\n",
       "      <td>R. JOÃO PESSOA</td>\n",
       "      <td>2 - PROFESSOR SIMÕES</td>\n",
       "      <td>17120-000</td>\n",
       "      <td>2</td>\n",
       "      <td>PROFESSOR SIMÕES</td>\n",
       "      <td>AGUDOS</td>\n",
       "      <td>10</td>\n",
       "    </tr>\n",
       "    <tr>\n",
       "      <th>3</th>\n",
       "      <td>ALTINÓPOLIS</td>\n",
       "      <td>R. ALAGOAS</td>\n",
       "      <td>248 - VILA MARIA</td>\n",
       "      <td>14350-000</td>\n",
       "      <td>248</td>\n",
       "      <td>VILA MARIA</td>\n",
       "      <td>ALTINÓPOLIS</td>\n",
       "      <td>10</td>\n",
       "    </tr>\n",
       "    <tr>\n",
       "      <th>4</th>\n",
       "      <td>ALUMÍNIO</td>\n",
       "      <td>AV. SENADOR JOSÉ ERMÍRIO DE MORAES</td>\n",
       "      <td>798 - VILA INDUSTRIAL</td>\n",
       "      <td>18125-000</td>\n",
       "      <td>798</td>\n",
       "      <td>VILA INDUSTRIAL</td>\n",
       "      <td>ALUMÍNIO</td>\n",
       "      <td>10</td>\n",
       "    </tr>\n",
       "  </tbody>\n",
       "</table>\n",
       "</div>"
      ],
      "text/plain": [
       "          POLO                            ENDEREÇO             NUMERO_BAIRRO  \\\n",
       "0   ADAMANTINA         ALAMEDA DOS EXPEDICIONÁRIOS              864 - CENTRO   \n",
       "1        AGUAÍ      AV. OLINDA SILVEIRA CRUZ BRAGA   200 - PARQUE INTERLAGOS   \n",
       "2       AGUDOS                      R. JOÃO PESSOA      2 - PROFESSOR SIMÕES   \n",
       "3  ALTINÓPOLIS                          R. ALAGOAS          248 - VILA MARIA   \n",
       "4     ALUMÍNIO  AV. SENADOR JOSÉ ERMÍRIO DE MORAES     798 - VILA INDUSTRIAL   \n",
       "\n",
       "         CEP NUMERO             BAIRRO       CIDADE   VAGAS  \n",
       "0  17800-000    864             CENTRO   ADAMANTINA      10  \n",
       "1  13860-000    200  PARQUE INTERLAGOS        AGUAÍ      10  \n",
       "2  17120-000      2   PROFESSOR SIMÕES       AGUDOS      10  \n",
       "3  14350-000    248         VILA MARIA  ALTINÓPOLIS      10  \n",
       "4  18125-000    798    VILA INDUSTRIAL     ALUMÍNIO      10  "
      ]
     },
     "execution_count": 5,
     "metadata": {},
     "output_type": "execute_result"
    }
   ],
   "source": [
    "polos = pd.merge(cep, vagas, left_on='POLO', right_on='POLO')\n",
    "polos.head()"
   ]
  },
  {
   "cell_type": "code",
   "execution_count": 9,
   "metadata": {
    "ExecuteTime": {
     "end_time": "2019-12-08T22:20:18.884830Z",
     "start_time": "2019-12-08T22:20:18.867730Z"
    }
   },
   "outputs": [
    {
     "data": {
      "text/plain": [
       "Index(['POLO', 'CIDADE', 'ENDEREÇO', 'NUMERO', 'BAIRRO', 'CEP', 'VAGAS'], dtype='object')"
      ]
     },
     "execution_count": 9,
     "metadata": {},
     "output_type": "execute_result"
    }
   ],
   "source": [
    "polos = polos[['POLO', 'CIDADE', 'ENDEREÇO', 'NUMERO', 'BAIRRO', 'CEP', ' VAGAS']]\n",
    "polos.rename(columns={' VAGAS':'VAGAS'}, inplace=True)\n",
    "polos.columns"
   ]
  },
  {
   "cell_type": "code",
   "execution_count": 10,
   "metadata": {
    "ExecuteTime": {
     "end_time": "2019-12-08T22:20:53.674809Z",
     "start_time": "2019-12-08T22:20:53.661587Z"
    }
   },
   "outputs": [],
   "source": [
    "polos.to_csv('polos.csv')"
   ]
  },
  {
   "cell_type": "code",
   "execution_count": null,
   "metadata": {},
   "outputs": [],
   "source": []
  }
 ],
 "metadata": {
  "kernelspec": {
   "display_name": "Python 3",
   "language": "python",
   "name": "python3"
  },
  "language_info": {
   "codemirror_mode": {
    "name": "ipython",
    "version": 3
   },
   "file_extension": ".py",
   "mimetype": "text/x-python",
   "name": "python",
   "nbconvert_exporter": "python",
   "pygments_lexer": "ipython3",
   "version": "3.6.4"
  },
  "toc": {
   "base_numbering": 1,
   "nav_menu": {},
   "number_sections": true,
   "sideBar": true,
   "skip_h1_title": false,
   "title_cell": "Table of Contents",
   "title_sidebar": "Contents",
   "toc_cell": false,
   "toc_position": {},
   "toc_section_display": true,
   "toc_window_display": false
  },
  "varInspector": {
   "cols": {
    "lenName": 16,
    "lenType": 16,
    "lenVar": 40
   },
   "kernels_config": {
    "python": {
     "delete_cmd_postfix": "",
     "delete_cmd_prefix": "del ",
     "library": "var_list.py",
     "varRefreshCmd": "print(var_dic_list())"
    },
    "r": {
     "delete_cmd_postfix": ") ",
     "delete_cmd_prefix": "rm(",
     "library": "var_list.r",
     "varRefreshCmd": "cat(var_dic_list()) "
    }
   },
   "types_to_exclude": [
    "module",
    "function",
    "builtin_function_or_method",
    "instance",
    "_Feature"
   ],
   "window_display": false
  }
 },
 "nbformat": 4,
 "nbformat_minor": 2
}
